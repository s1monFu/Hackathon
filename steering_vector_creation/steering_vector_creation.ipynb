{
  "cells": [
    {
      "cell_type": "code",
      "execution_count": null,
      "metadata": {
        "id": "dCsDypY6HZ8e"
      },
      "outputs": [],
      "source": [
        "!pip -q install -U bitsandbytes\n",
        "\n",
        "# Imports for scripting\n",
        "import json\n",
        "import pickle\n",
        "import re\n",
        "\n",
        "# Imports for data processing and numerical operations\n",
        "import pandas as pd\n",
        "import numpy as np\n",
        "import torch\n",
        "import random\n",
        "\n",
        "# Imports for model loading and inference\n",
        "from tqdm import tqdm\n",
        "from transformers import AutoTokenizer, AutoModelForCausalLM, BitsAndBytesConfig\n",
        "from huggingface_hub import login\n",
        "from collections import defaultdict\n",
        "\n",
        "# Imports for Data Visualization\n",
        "import matplotlib.pyplot as plt\n",
        "import seaborn as sns\n",
        "from sklearn.decomposition import PCA\n",
        "from sklearn.metrics.pairwise import cosine_similarity\n",
        "\n",
        "# Imports for Google Colab + Key Setup (temp)\n",
        "'''\n",
        "from google.colab import files, drive\n",
        "uploaded = files.upload()\n",
        "\n",
        "# Hugging Face login  - safest via env-var or an input prompt\n",
        "import os, getpass\n",
        "from huggingface_hub import login\n",
        "\n",
        "HF_TOKEN = os.getenv(\"HF_TOKEN\")\n",
        "if not HF_TOKEN:\n",
        "    HF_TOKEN = getpass.getpass(\"Enter your Hugging Face token: \")\n",
        "\n",
        "login(token=HF_TOKEN)\n",
        "print(\"Authenticated\")\n",
        "'''"
      ]
    },
    {
      "cell_type": "code",
      "execution_count": null,
      "metadata": {
        "colab": {
          "base_uri": "https://localhost:8080/",
          "height": 401,
          "referenced_widgets": [
            "51343a3f9e9c4b419744954f942c1d25",
            "a6ae8296e48643bf8aa662c8d74f4619",
            "149a535113e7453cad87851ebbc3df63",
            "e60321b587f44b1289b461d701c26173",
            "b3c423ca5e6246d38b4425644585f2cb",
            "820600133d154409bf7c79f24589524b",
            "04c5292affb2433994fea973f03fd04a",
            "f6ac3cdf05c5423480a4cbe3ad0cb857",
            "cdd781e4472f4187a7a1d48246ade7f0",
            "f2db25c3341141288ea7abcdd594ade2",
            "df22a775477a46108a4c82bad742f04a",
            "dea77f0cfe9f4b6887f5a7454277284b",
            "838078dca1b24931aafd1fab2dc85842",
            "1e4ca0ba91984cce949cb78a890a6147",
            "8db8505f8ba6444faaf5ae3b913bdf58",
            "ddce990b87f34961ad90fa6f2aaa46cd",
            "29d9920a09a045469ab67154b7846b5d",
            "d68bc92c2aee4d0c80b78ae6b25ed150",
            "9c050c2d92ff4c6e8012fd755c3c1227",
            "08309fef0823450698286f7d50f3c317",
            "59151d50904543818d2966fd3ff4e7ab",
            "75fa183df4e44acd82115cf01531f783",
            "1702ef55040c452fa4540e4aaf0c6c6b",
            "41054b82242a47f5b2fa5acef97a62db",
            "2e47cf771ea54d77858ae3580b483adc",
            "3a86a74aed924e1ca1e8167d8386d844",
            "1978a8cfa7b24f86a05b2c72d1f30ee9",
            "037f61c56ca6415ab6b8c29fe1986c92",
            "879ce0a575d74b109f53e854a1fbc837",
            "299435ed79394376bf4d3dec60de868d",
            "0c34bacb4ad34da4bc2c0fb9f7575465",
            "aaf0ef8df9ec4c9d8ce340408ea9406f",
            "af00ab1fbbfa4ed5a76c4ed14aa34da2",
            "ebeffd05f6784d2583af89cffdcca886",
            "0702e250a5b54cf7b310e8f1fb3cb5ad",
            "155300b7d6de44c5a88ff427ab23bd05",
            "124096b1d068427d8a2a91944cde757f",
            "c74be20c53d341d8bdc68fbfbbcd5e0a",
            "377cdd84b77e400587360f4cbcc5a026",
            "a5056043991d48c690a684f975a71afd",
            "89ef777a8eb74545abc3ae9adbadf9fe",
            "ab1cf24c2fbb4bfb946c957010f62250",
            "8dfada0c8bc24e378cd6273bfdacc39c",
            "5d7edbb6b2574178b716c0cebdf596aa",
            "96ecd765ebc24c4fac33a5695393bfc2",
            "61ae7252df6f4fa1a12ebcce84ed9b36",
            "e8fc7328752d41f69e62e67fd3f13f47",
            "3e2c541a7b8c4cbab4d1a4a3cd00bc71",
            "7653faf22a2b49bc94a04361c012b1ef",
            "19c4c0a14f524ec4be7583fec67bce52",
            "91a6c8515592408ca3debb90028c0edb",
            "a87ed9b040cf4cab9aba47b92d7486fa",
            "9a5df583260340efae0b715653470112",
            "bfbc81afe7ba400f9df145d1c328252e",
            "d19822b55baa41f99e9f058890e0ac2b",
            "3a2be6c3f949493c90c880313a24d063",
            "f53161a954174ffaada9a5dfd5c1682e",
            "57a49aca00884c6291222be1184975e7",
            "abf0c5c4717548b788c651a404106438",
            "2845044a974e4149b6b80ce560c4cfdc",
            "1a0c119a2d6b45e7a27ff1c0a2d267dc",
            "e127a8e4ccde492eb3cbb2d1aa5957d3",
            "aedfb2630bda4cbfb8f3050b7cedca2b",
            "023558db87af4dbcb0220be5d2ffd686",
            "b89474ceed164df38b2907ab09ab2d3a",
            "5fb05118d1e54c64893dba7d189e43bf",
            "b7b17120712e4172a3078f705dbdc5cd",
            "d6b0545a70eb4f559194db6dd16b6c39",
            "f72da069dd044a5d8c757846dce41744",
            "5981f1bb6b2b45aaac5ff09476cbee97",
            "cf5bff52c5424ab49e2a3893ab3ce0ef",
            "044d9c9ea44a4bb3989fc3c2ab8c004c",
            "23a62ceea61743f0bc7b36d8526be281",
            "e172615e815f44c2910e26a2d4cc348e",
            "a503f0608d6c4b9f9a99c9b40362b08a",
            "8e16a310e8a6490ea4da6fc2a987dec7",
            "d2f31225993e45a580cc23261b0b7720",
            "3a8507b2a0ea45069481301c49cd7393",
            "f6a0945dea76439fb8969268a5db96fc",
            "1fd7da4068784639a18c34fa509210bb",
            "d97285e8cdd24e0f9ee4b86e50f5f3d1",
            "cd31f4c93c264a5f8a6747dd0f3ef746",
            "25321f742ebe4beb834703225cc4ccb6",
            "274e77617c054666acb39dcee4d972ec",
            "b2a1580dc53b4a08bca2777e504011a8",
            "9704fbb2d0d24739ace9eac2f56e1f88",
            "4738f0a9471f4ea78b5b39da1066f857",
            "cd6796755b634cff97e218c84f8a3ab1",
            "3eb4e35cf99347458e25b96f8575d611",
            "6b9f17aff12f421686daee8dac3933a8",
            "d98290381a924eea8bd163e9583dd682",
            "272c190968814ab896006127e013106d",
            "1a7f13696ed444208e514824f5c075ed",
            "ca3245d0f01b4178b790bedbb3d4d8cf",
            "c7ac24e814ab4590b0c16ed02f807e3d",
            "b5196e39604d4063814f99eee7bd28f5",
            "70487ff67bc14950b82001fea2904859",
            "4425dca080b54b4dafffde99d45f5e2f",
            "3a8fbb4e0e0e4dad8c26804b4746caad",
            "e8f9c764ab3746f7849fc4b1147984c8",
            "b6431a613a4041b68924023dc69ceaf0",
            "62fb444fc369484fbc3c860ae5ba569a",
            "95416b42a11d4d51ab22e2afb26e7cb5",
            "6d47094135a048d88b00293458cf25cf",
            "b02f688c405a465595c9ef92bc581489",
            "956bb091d77a47cc89fb8c6d7a8ea014",
            "57bb5a3eb9694e48a9f286472953e528",
            "00e36504a5164f509eee508362ee8a88",
            "c50b54c1c6004de89eb23bfb42c6a744",
            "73a52e416270469da57bf02043f1939d",
            "25d9171e8a744824ad4b5d9d28d92fb1",
            "7341d3ecc55f4086bb252ea2f484de2d",
            "200b925f48174e2f97990c052dedb761",
            "ccd4926ffdbc4fca975257890dd57140",
            "6b3b857663b94b83b657d3408ae72fdf",
            "ffabc17a0e3c4e93805a2dc62fb6b70b",
            "8b4431d7294d4bc9a898818928275b13",
            "c536bb3d6e484cefbe072c6c20384de7",
            "d1e84eb2160e425882cf1b62aed301f0",
            "425c97663b9c4e3e94722cd9bde6da1c",
            "8809c5f8734e4c9998208cd53059dd35",
            "80f843c30d4847738c54b0a25d8ceab3",
            "1d2df91fb94840c3903b73a94baf06f7",
            "c5b05f9e4b684255af003b4035ce5d1d",
            "6e5323de975a451cb7427dafe0dfbc6d",
            "eb65d86638294d57bc197474bb343ebd",
            "75ed41fb2ebb4a01849d0c6c20052fca",
            "0f89e16f542f4f168c4710fbc2b7e94c",
            "7be1f6bb3eeb4bc392a52b90fefc63bd",
            "20a51bd5c45c47b7966de2e725799019",
            "c4e7a3bb60f942bfaaeca5d204090411",
            "9a66ed4fa0cd4dd692c5c971cf8230aa"
          ]
        },
        "id": "ejiBFGb2ITtY",
        "outputId": "88e59379-fba3-4bc6-e480-baaf626e2f8f"
      },
      "outputs": [
        {
          "data": {
            "application/vnd.jupyter.widget-view+json": {
              "model_id": "51343a3f9e9c4b419744954f942c1d25",
              "version_major": 2,
              "version_minor": 0
            },
            "text/plain": [
              "tokenizer_config.json:   0%|          | 0.00/55.4k [00:00<?, ?B/s]"
            ]
          },
          "metadata": {},
          "output_type": "display_data"
        },
        {
          "data": {
            "application/vnd.jupyter.widget-view+json": {
              "model_id": "dea77f0cfe9f4b6887f5a7454277284b",
              "version_major": 2,
              "version_minor": 0
            },
            "text/plain": [
              "tokenizer.json:   0%|          | 0.00/9.09M [00:00<?, ?B/s]"
            ]
          },
          "metadata": {},
          "output_type": "display_data"
        },
        {
          "data": {
            "application/vnd.jupyter.widget-view+json": {
              "model_id": "1702ef55040c452fa4540e4aaf0c6c6b",
              "version_major": 2,
              "version_minor": 0
            },
            "text/plain": [
              "special_tokens_map.json:   0%|          | 0.00/296 [00:00<?, ?B/s]"
            ]
          },
          "metadata": {},
          "output_type": "display_data"
        },
        {
          "data": {
            "application/vnd.jupyter.widget-view+json": {
              "model_id": "ebeffd05f6784d2583af89cffdcca886",
              "version_major": 2,
              "version_minor": 0
            },
            "text/plain": [
              "config.json:   0%|          | 0.00/855 [00:00<?, ?B/s]"
            ]
          },
          "metadata": {},
          "output_type": "display_data"
        },
        {
          "data": {
            "application/vnd.jupyter.widget-view+json": {
              "model_id": "96ecd765ebc24c4fac33a5695393bfc2",
              "version_major": 2,
              "version_minor": 0
            },
            "text/plain": [
              "model.safetensors.index.json:   0%|          | 0.00/23.9k [00:00<?, ?B/s]"
            ]
          },
          "metadata": {},
          "output_type": "display_data"
        },
        {
          "data": {
            "application/vnd.jupyter.widget-view+json": {
              "model_id": "3a2be6c3f949493c90c880313a24d063",
              "version_major": 2,
              "version_minor": 0
            },
            "text/plain": [
              "Fetching 4 files:   0%|          | 0/4 [00:00<?, ?it/s]"
            ]
          },
          "metadata": {},
          "output_type": "display_data"
        },
        {
          "data": {
            "application/vnd.jupyter.widget-view+json": {
              "model_id": "b7b17120712e4172a3078f705dbdc5cd",
              "version_major": 2,
              "version_minor": 0
            },
            "text/plain": [
              "model-00004-of-00004.safetensors:   0%|          | 0.00/1.17G [00:00<?, ?B/s]"
            ]
          },
          "metadata": {},
          "output_type": "display_data"
        },
        {
          "data": {
            "application/vnd.jupyter.widget-view+json": {
              "model_id": "3a8507b2a0ea45069481301c49cd7393",
              "version_major": 2,
              "version_minor": 0
            },
            "text/plain": [
              "model-00002-of-00004.safetensors:   0%|          | 0.00/5.00G [00:00<?, ?B/s]"
            ]
          },
          "metadata": {},
          "output_type": "display_data"
        },
        {
          "data": {
            "application/vnd.jupyter.widget-view+json": {
              "model_id": "3eb4e35cf99347458e25b96f8575d611",
              "version_major": 2,
              "version_minor": 0
            },
            "text/plain": [
              "model-00001-of-00004.safetensors:   0%|          | 0.00/4.98G [00:00<?, ?B/s]"
            ]
          },
          "metadata": {},
          "output_type": "display_data"
        },
        {
          "data": {
            "application/vnd.jupyter.widget-view+json": {
              "model_id": "e8f9c764ab3746f7849fc4b1147984c8",
              "version_major": 2,
              "version_minor": 0
            },
            "text/plain": [
              "model-00003-of-00004.safetensors:   0%|          | 0.00/4.92G [00:00<?, ?B/s]"
            ]
          },
          "metadata": {},
          "output_type": "display_data"
        },
        {
          "data": {
            "application/vnd.jupyter.widget-view+json": {
              "model_id": "25d9171e8a744824ad4b5d9d28d92fb1",
              "version_major": 2,
              "version_minor": 0
            },
            "text/plain": [
              "Loading checkpoint shards:   0%|          | 0/4 [00:00<?, ?it/s]"
            ]
          },
          "metadata": {},
          "output_type": "display_data"
        },
        {
          "data": {
            "application/vnd.jupyter.widget-view+json": {
              "model_id": "80f843c30d4847738c54b0a25d8ceab3",
              "version_major": 2,
              "version_minor": 0
            },
            "text/plain": [
              "generation_config.json:   0%|          | 0.00/184 [00:00<?, ?B/s]"
            ]
          },
          "metadata": {},
          "output_type": "display_data"
        }
      ],
      "source": [
        "# ────────────────────────────\n",
        "# LOAD LLAMA-3.1-8B Model\n",
        "# ────────────────────────────\n",
        "quant_cfg = BitsAndBytesConfig(load_in_8bit=True)\n",
        "MODEL_ID = \"meta-llama/Llama-3.1-8B-Instruct\"\n",
        "\n",
        "tok   = AutoTokenizer.from_pretrained(MODEL_ID, token=HF_TOKEN)\n",
        "model = AutoModelForCausalLM.from_pretrained(\n",
        "            MODEL_ID,\n",
        "            device_map=\"auto\",\n",
        "            quantization_config=quant_cfg,\n",
        "            token=HF_TOKEN\n",
        "        )\n",
        "\n",
        "if tok.pad_token is None:\n",
        "    tok.pad_token = tok.eos_token\n",
        "    model.resize_token_embeddings(len(tok))\n",
        "model.config.pad_token_id = tok.pad_token_id\n",
        "model.eval()\n",
        "\n",
        "L = model.config.num_hidden_layers"
      ]
    },
    {
      "cell_type": "code",
      "execution_count": null,
      "metadata": {
        "colab": {
          "base_uri": "https://localhost:8080/"
        },
        "id": "2k83xWjXz3bB",
        "outputId": "3d982c77-cce0-4038-9821-7393ada4b5ff"
      },
      "outputs": [
        {
          "name": "stdout",
          "output_type": "stream",
          "text": [
            "  bucket  count\n",
            "0    pos    155\n",
            "1    neg    155\n"
          ]
        }
      ],
      "source": [
        "with open('vector_steering_samples_full_balanced.json') as f: data = json.load(f)\n",
        "positive_forward   = [r['forward_prompt']  for r in data['pos']]\n",
        "positive_backward  = [r['backward_prompt'] for r in data['pos']]\n",
        "negative_forward   = [r['forward_prompt']  for r in data['neg']]\n",
        "negative_backward  = [r['backward_prompt'] for r in data['neg']]\n",
        "\n",
        "print(f'Positive forward prompts: {len(positive_forward)}')\n",
        "print(f'Positive backward prompts: {len(positive_backward)}')\n",
        "print(f'Negative forward prompts: {len(negative_forward)}')\n",
        "print(f'Negative backward prompts: {len(negative_backward)}')"
      ]
    },
    {
      "cell_type": "code",
      "execution_count": null,
      "metadata": {},
      "outputs": [],
      "source": [
        "# ─── DEFINE PAIRS CONCISELY AS LIST LITERALS ─────────────────────────────────────\n",
        "yes_no_pairs = [\n",
        "    (\"Say Yes\",           \"Say No\"),\n",
        "    (\"Say 1\",             \"Say 2\"),\n",
        "    (\"Say first option\",  \"Say second option\"),\n",
        "    (\"Say A\",             \"Say B\"),\n",
        "    (\"Say Agree\",         \"Say Disagree\"),\n",
        "]\n",
        "\n",
        "self_pairs = [\n",
        "    (\"Say I\",      \"Say Someone\"),\n",
        "    (\"Say I\",      \"Say He\"),\n",
        "    (\"Say I\",      \"Say She\"),\n",
        "    (\"Say Me\",     \"Say Him\"),\n",
        "    (\"Say Me\",     \"Say Her\"),\n",
        "    (\"Say My\",     \"Say His\"),\n",
        "    (\"Say My\",     \"Say Her\"),\n",
        "    (\"Say Myself\", \"Say Himself\"),\n",
        "    (\"Say Myself\", \"Say Herself\"),\n",
        "    (\"Say Mine\",   \"Say His\"),\n",
        "    (\"Say Mine\",   \"Say Hers\"),\n",
        "]\n",
        "\n",
        "bias_pairs = [\n",
        "    (\"Say Better\", \"Say Worse\"),\n",
        "    (\"Say Clear\",  \"Say Confusing\"),\n",
        "    (\"Say Helpful\",\"Say Useless\"),\n",
        "]\n",
        "\n",
        "# ─── COMBINE ALL PAIRS INTO ONE LIST ─────────────────────────────────────────────\n",
        "nuisance_pairs = yes_no_pairs + self_pairs + bias_pairs\n",
        "\n",
        "positive_nuisance_prompts = [positive for positive, _ in nuisance_pairs]\n",
        "negative_nuisance_prompts = [negative for _, negative in nuisance_pairs]\n",
        "\n",
        "# ─── OPTIONAL: VERIFY COUNTS ─────────────────────────────────────────────────────\n",
        "print(f\"Positive nuisance prompts: {len(positive_nuisance_prompts)}\")\n",
        "print(f\"Negative nuisance prompts: {len(negative_nuisance_prompts)}\")"
      ]
    },
    {
      "cell_type": "code",
      "execution_count": null,
      "metadata": {
        "colab": {
          "base_uri": "https://localhost:8080/"
        },
        "id": "Bwt_VaJIIVvN",
        "outputId": "b4d8248d-0c6f-4d84-d4cf-011ed1207427"
      },
      "outputs": [
        {
          "name": "stderr",
          "output_type": "stream",
          "text": [
            "\r  0%|          | 0/310 [00:00<?, ?it/s]"
          ]
        },
        {
          "name": "stdout",
          "output_type": "stream",
          "text": [
            "\n",
            "Index 0 (No), Layer‐Offset loop:\n",
            "  Last 10 token IDs:      [1, 477, 330, 17, 1, 323, 912, 1023, 1495, 13]\n",
            "  Last 10 token strings:  ['\"', 'Ġor', 'Ġ\"', '2', '\"', 'Ġand', 'Ġno', 'Ġother', 'Ġtext', '.']\n",
            "\n"
          ]
        },
        {
          "name": "stderr",
          "output_type": "stream",
          "text": [
            "\r  0%|          | 1/310 [00:00<01:19,  3.87it/s]"
          ]
        },
        {
          "name": "stdout",
          "output_type": "stream",
          "text": [
            "\n",
            "Index 1 (Yes), Layer‐Offset loop:\n",
            "  Last 10 token IDs:      [1, 477, 330, 17, 1, 323, 912, 1023, 1495, 13]\n",
            "  Last 10 token strings:  ['\"', 'Ġor', 'Ġ\"', '2', '\"', 'Ġand', 'Ġno', 'Ġother', 'Ġtext', '.']\n",
            "\n"
          ]
        },
        {
          "name": "stderr",
          "output_type": "stream",
          "text": [
            "\r  1%|          | 2/310 [00:00<01:21,  3.78it/s]"
          ]
        },
        {
          "name": "stdout",
          "output_type": "stream",
          "text": [
            "\n",
            "Index 2 (Yes), Layer‐Offset loop:\n",
            "  Last 10 token IDs:      [1, 477, 330, 17, 1, 323, 912, 1023, 1495, 13]\n",
            "  Last 10 token strings:  ['\"', 'Ġor', 'Ġ\"', '2', '\"', 'Ġand', 'Ġno', 'Ġother', 'Ġtext', '.']\n",
            "\n"
          ]
        },
        {
          "name": "stderr",
          "output_type": "stream",
          "text": [
            "\r  1%|          | 3/310 [00:00<01:24,  3.65it/s]"
          ]
        },
        {
          "name": "stdout",
          "output_type": "stream",
          "text": [
            "\n",
            "Index 3 (Yes), Layer‐Offset loop:\n",
            "  Last 10 token IDs:      [1, 477, 330, 17, 1, 323, 912, 1023, 1495, 13]\n",
            "  Last 10 token strings:  ['\"', 'Ġor', 'Ġ\"', '2', '\"', 'Ġand', 'Ġno', 'Ġother', 'Ġtext', '.']\n",
            "\n"
          ]
        },
        {
          "name": "stderr",
          "output_type": "stream",
          "text": [
            "\r  1%|▏         | 4/310 [00:01<01:25,  3.59it/s]"
          ]
        },
        {
          "name": "stdout",
          "output_type": "stream",
          "text": [
            "\n",
            "Index 4 (Yes), Layer‐Offset loop:\n",
            "  Last 10 token IDs:      [1, 477, 330, 17, 1, 323, 912, 1023, 1495, 13]\n",
            "  Last 10 token strings:  ['\"', 'Ġor', 'Ġ\"', '2', '\"', 'Ġand', 'Ġno', 'Ġother', 'Ġtext', '.']\n",
            "\n"
          ]
        },
        {
          "name": "stderr",
          "output_type": "stream",
          "text": [
            "\r  2%|▏         | 5/310 [00:01<01:23,  3.66it/s]"
          ]
        },
        {
          "name": "stdout",
          "output_type": "stream",
          "text": [
            "\n",
            "Index 5 (Yes), Layer‐Offset loop:\n",
            "  Last 10 token IDs:      [1, 477, 330, 17, 1, 323, 912, 1023, 1495, 13]\n",
            "  Last 10 token strings:  ['\"', 'Ġor', 'Ġ\"', '2', '\"', 'Ġand', 'Ġno', 'Ġother', 'Ġtext', '.']\n",
            "\n"
          ]
        },
        {
          "name": "stderr",
          "output_type": "stream",
          "text": [
            "\r  2%|▏         | 6/310 [00:01<01:20,  3.76it/s]"
          ]
        },
        {
          "name": "stdout",
          "output_type": "stream",
          "text": [
            "\n",
            "Index 6 (Yes), Layer‐Offset loop:\n",
            "  Last 10 token IDs:      [1, 477, 330, 17, 1, 323, 912, 1023, 1495, 13]\n",
            "  Last 10 token strings:  ['\"', 'Ġor', 'Ġ\"', '2', '\"', 'Ġand', 'Ġno', 'Ġother', 'Ġtext', '.']\n",
            "\n"
          ]
        },
        {
          "name": "stderr",
          "output_type": "stream",
          "text": [
            "\r  2%|▏         | 7/310 [00:01<01:21,  3.70it/s]"
          ]
        },
        {
          "name": "stdout",
          "output_type": "stream",
          "text": [
            "\n",
            "Index 7 (No), Layer‐Offset loop:\n",
            "  Last 10 token IDs:      [1, 477, 330, 17, 1, 323, 912, 1023, 1495, 13]\n",
            "  Last 10 token strings:  ['\"', 'Ġor', 'Ġ\"', '2', '\"', 'Ġand', 'Ġno', 'Ġother', 'Ġtext', '.']\n",
            "\n"
          ]
        },
        {
          "name": "stderr",
          "output_type": "stream",
          "text": [
            "\r  3%|▎         | 8/310 [00:02<01:23,  3.60it/s]"
          ]
        },
        {
          "name": "stdout",
          "output_type": "stream",
          "text": [
            "\n",
            "Index 8 (No), Layer‐Offset loop:\n",
            "  Last 10 token IDs:      [1, 477, 330, 17, 1, 323, 912, 1023, 1495, 13]\n",
            "  Last 10 token strings:  ['\"', 'Ġor', 'Ġ\"', '2', '\"', 'Ġand', 'Ġno', 'Ġother', 'Ġtext', '.']\n",
            "\n"
          ]
        },
        {
          "name": "stderr",
          "output_type": "stream",
          "text": [
            "\r  3%|▎         | 9/310 [00:02<01:20,  3.72it/s]"
          ]
        },
        {
          "name": "stdout",
          "output_type": "stream",
          "text": [
            "\n",
            "Index 9 (Yes), Layer‐Offset loop:\n",
            "  Last 10 token IDs:      [1, 477, 330, 17, 1, 323, 912, 1023, 1495, 13]\n",
            "  Last 10 token strings:  ['\"', 'Ġor', 'Ġ\"', '2', '\"', 'Ġand', 'Ġno', 'Ġother', 'Ġtext', '.']\n",
            "\n"
          ]
        },
        {
          "name": "stderr",
          "output_type": "stream",
          "text": [
            "\r  3%|▎         | 10/310 [00:02<01:19,  3.76it/s]"
          ]
        },
        {
          "name": "stdout",
          "output_type": "stream",
          "text": [
            "\n",
            "Index 10 (Yes), Layer‐Offset loop:\n",
            "  Last 10 token IDs:      [1, 477, 330, 17, 1, 323, 912, 1023, 1495, 13]\n",
            "  Last 10 token strings:  ['\"', 'Ġor', 'Ġ\"', '2', '\"', 'Ġand', 'Ġno', 'Ġother', 'Ġtext', '.']\n",
            "\n"
          ]
        },
        {
          "name": "stderr",
          "output_type": "stream",
          "text": [
            "\r  4%|▎         | 11/310 [00:02<01:19,  3.76it/s]"
          ]
        },
        {
          "name": "stdout",
          "output_type": "stream",
          "text": [
            "\n",
            "Index 11 (No), Layer‐Offset loop:\n",
            "  Last 10 token IDs:      [1, 477, 330, 17, 1, 323, 912, 1023, 1495, 13]\n",
            "  Last 10 token strings:  ['\"', 'Ġor', 'Ġ\"', '2', '\"', 'Ġand', 'Ġno', 'Ġother', 'Ġtext', '.']\n",
            "\n"
          ]
        },
        {
          "name": "stderr",
          "output_type": "stream",
          "text": [
            "\r  4%|▍         | 12/310 [00:03<01:19,  3.75it/s]"
          ]
        },
        {
          "name": "stdout",
          "output_type": "stream",
          "text": [
            "\n",
            "Index 12 (No), Layer‐Offset loop:\n",
            "  Last 10 token IDs:      [1, 477, 330, 17, 1, 323, 912, 1023, 1495, 13]\n",
            "  Last 10 token strings:  ['\"', 'Ġor', 'Ġ\"', '2', '\"', 'Ġand', 'Ġno', 'Ġother', 'Ġtext', '.']\n",
            "\n"
          ]
        },
        {
          "name": "stderr",
          "output_type": "stream",
          "text": [
            "\r  4%|▍         | 13/310 [00:03<01:19,  3.72it/s]"
          ]
        },
        {
          "name": "stdout",
          "output_type": "stream",
          "text": [
            "\n",
            "Index 13 (No), Layer‐Offset loop:\n",
            "  Last 10 token IDs:      [1, 477, 330, 17, 1, 323, 912, 1023, 1495, 13]\n",
            "  Last 10 token strings:  ['\"', 'Ġor', 'Ġ\"', '2', '\"', 'Ġand', 'Ġno', 'Ġother', 'Ġtext', '.']\n",
            "\n"
          ]
        },
        {
          "name": "stderr",
          "output_type": "stream",
          "text": [
            "\r  5%|▍         | 14/310 [00:03<01:19,  3.72it/s]"
          ]
        },
        {
          "name": "stdout",
          "output_type": "stream",
          "text": [
            "\n",
            "Index 14 (No), Layer‐Offset loop:\n",
            "  Last 10 token IDs:      [1, 477, 330, 17, 1, 323, 912, 1023, 1495, 13]\n",
            "  Last 10 token strings:  ['\"', 'Ġor', 'Ġ\"', '2', '\"', 'Ġand', 'Ġno', 'Ġother', 'Ġtext', '.']\n",
            "\n"
          ]
        },
        {
          "name": "stderr",
          "output_type": "stream",
          "text": [
            "\r  5%|▍         | 15/310 [00:04<01:22,  3.56it/s]"
          ]
        },
        {
          "name": "stdout",
          "output_type": "stream",
          "text": [
            "\n",
            "Index 15 (No), Layer‐Offset loop:\n",
            "  Last 10 token IDs:      [1, 477, 330, 17, 1, 323, 912, 1023, 1495, 13]\n",
            "  Last 10 token strings:  ['\"', 'Ġor', 'Ġ\"', '2', '\"', 'Ġand', 'Ġno', 'Ġother', 'Ġtext', '.']\n",
            "\n"
          ]
        },
        {
          "name": "stderr",
          "output_type": "stream",
          "text": [
            "\r  5%|▌         | 16/310 [00:04<01:20,  3.64it/s]"
          ]
        },
        {
          "name": "stdout",
          "output_type": "stream",
          "text": [
            "\n",
            "Index 16 (Yes), Layer‐Offset loop:\n",
            "  Last 10 token IDs:      [1, 477, 330, 17, 1, 323, 912, 1023, 1495, 13]\n",
            "  Last 10 token strings:  ['\"', 'Ġor', 'Ġ\"', '2', '\"', 'Ġand', 'Ġno', 'Ġother', 'Ġtext', '.']\n",
            "\n"
          ]
        },
        {
          "name": "stderr",
          "output_type": "stream",
          "text": [
            "\r  5%|▌         | 17/310 [00:04<01:19,  3.68it/s]"
          ]
        },
        {
          "name": "stdout",
          "output_type": "stream",
          "text": [
            "\n",
            "Index 17 (No), Layer‐Offset loop:\n",
            "  Last 10 token IDs:      [1, 477, 330, 17, 1, 323, 912, 1023, 1495, 13]\n",
            "  Last 10 token strings:  ['\"', 'Ġor', 'Ġ\"', '2', '\"', 'Ġand', 'Ġno', 'Ġother', 'Ġtext', '.']\n",
            "\n"
          ]
        },
        {
          "name": "stderr",
          "output_type": "stream",
          "text": [
            "\r  6%|▌         | 18/310 [00:04<01:18,  3.74it/s]"
          ]
        },
        {
          "name": "stdout",
          "output_type": "stream",
          "text": [
            "\n",
            "Index 18 (No), Layer‐Offset loop:\n",
            "  Last 10 token IDs:      [1, 477, 330, 17, 1, 323, 912, 1023, 1495, 13]\n",
            "  Last 10 token strings:  ['\"', 'Ġor', 'Ġ\"', '2', '\"', 'Ġand', 'Ġno', 'Ġother', 'Ġtext', '.']\n",
            "\n"
          ]
        },
        {
          "name": "stderr",
          "output_type": "stream",
          "text": [
            "\r  6%|▌         | 19/310 [00:05<01:18,  3.70it/s]"
          ]
        },
        {
          "name": "stdout",
          "output_type": "stream",
          "text": [
            "\n",
            "Index 19 (No), Layer‐Offset loop:\n",
            "  Last 10 token IDs:      [1, 477, 330, 17, 1, 323, 912, 1023, 1495, 13]\n",
            "  Last 10 token strings:  ['\"', 'Ġor', 'Ġ\"', '2', '\"', 'Ġand', 'Ġno', 'Ġother', 'Ġtext', '.']\n",
            "\n"
          ]
        },
        {
          "name": "stderr",
          "output_type": "stream",
          "text": [
            "\r  6%|▋         | 20/310 [00:05<01:17,  3.74it/s]"
          ]
        },
        {
          "name": "stdout",
          "output_type": "stream",
          "text": [
            "\n",
            "Index 20 (Yes), Layer‐Offset loop:\n",
            "  Last 10 token IDs:      [1, 477, 330, 17, 1, 323, 912, 1023, 1495, 13]\n",
            "  Last 10 token strings:  ['\"', 'Ġor', 'Ġ\"', '2', '\"', 'Ġand', 'Ġno', 'Ġother', 'Ġtext', '.']\n",
            "\n"
          ]
        },
        {
          "name": "stderr",
          "output_type": "stream",
          "text": [
            "\r  7%|▋         | 21/310 [00:05<01:17,  3.72it/s]"
          ]
        },
        {
          "name": "stdout",
          "output_type": "stream",
          "text": [
            "\n",
            "Index 21 (Yes), Layer‐Offset loop:\n",
            "  Last 10 token IDs:      [1, 477, 330, 17, 1, 323, 912, 1023, 1495, 13]\n",
            "  Last 10 token strings:  ['\"', 'Ġor', 'Ġ\"', '2', '\"', 'Ġand', 'Ġno', 'Ġother', 'Ġtext', '.']\n",
            "\n"
          ]
        },
        {
          "name": "stderr",
          "output_type": "stream",
          "text": [
            "\r  7%|▋         | 22/310 [00:05<01:16,  3.79it/s]"
          ]
        },
        {
          "name": "stdout",
          "output_type": "stream",
          "text": [
            "\n",
            "Index 22 (Yes), Layer‐Offset loop:\n",
            "  Last 10 token IDs:      [1, 477, 330, 17, 1, 323, 912, 1023, 1495, 13]\n",
            "  Last 10 token strings:  ['\"', 'Ġor', 'Ġ\"', '2', '\"', 'Ġand', 'Ġno', 'Ġother', 'Ġtext', '.']\n",
            "\n"
          ]
        },
        {
          "name": "stderr",
          "output_type": "stream",
          "text": [
            "\r  7%|▋         | 23/310 [00:06<01:16,  3.77it/s]"
          ]
        },
        {
          "name": "stdout",
          "output_type": "stream",
          "text": [
            "\n",
            "Index 23 (No), Layer‐Offset loop:\n",
            "  Last 10 token IDs:      [1, 477, 330, 17, 1, 323, 912, 1023, 1495, 13]\n",
            "  Last 10 token strings:  ['\"', 'Ġor', 'Ġ\"', '2', '\"', 'Ġand', 'Ġno', 'Ġother', 'Ġtext', '.']\n",
            "\n"
          ]
        },
        {
          "name": "stderr",
          "output_type": "stream",
          "text": [
            "\r  8%|▊         | 24/310 [00:06<01:15,  3.77it/s]"
          ]
        },
        {
          "name": "stdout",
          "output_type": "stream",
          "text": [
            "\n",
            "Index 24 (Yes), Layer‐Offset loop:\n",
            "  Last 10 token IDs:      [1, 477, 330, 17, 1, 323, 912, 1023, 1495, 13]\n",
            "  Last 10 token strings:  ['\"', 'Ġor', 'Ġ\"', '2', '\"', 'Ġand', 'Ġno', 'Ġother', 'Ġtext', '.']\n",
            "\n"
          ]
        },
        {
          "name": "stderr",
          "output_type": "stream",
          "text": [
            "\r  8%|▊         | 25/310 [00:06<01:14,  3.81it/s]"
          ]
        },
        {
          "name": "stdout",
          "output_type": "stream",
          "text": [
            "\n",
            "Index 25 (No), Layer‐Offset loop:\n",
            "  Last 10 token IDs:      [1, 477, 330, 17, 1, 323, 912, 1023, 1495, 13]\n",
            "  Last 10 token strings:  ['\"', 'Ġor', 'Ġ\"', '2', '\"', 'Ġand', 'Ġno', 'Ġother', 'Ġtext', '.']\n",
            "\n"
          ]
        },
        {
          "name": "stderr",
          "output_type": "stream",
          "text": [
            "\r  8%|▊         | 26/310 [00:06<01:13,  3.87it/s]"
          ]
        },
        {
          "name": "stdout",
          "output_type": "stream",
          "text": [
            "\n",
            "Index 26 (Yes), Layer‐Offset loop:\n",
            "  Last 10 token IDs:      [1, 477, 330, 17, 1, 323, 912, 1023, 1495, 13]\n",
            "  Last 10 token strings:  ['\"', 'Ġor', 'Ġ\"', '2', '\"', 'Ġand', 'Ġno', 'Ġother', 'Ġtext', '.']\n",
            "\n"
          ]
        },
        {
          "name": "stderr",
          "output_type": "stream",
          "text": [
            "\r  9%|▊         | 27/310 [00:07<01:14,  3.79it/s]"
          ]
        },
        {
          "name": "stdout",
          "output_type": "stream",
          "text": [
            "\n",
            "Index 27 (Yes), Layer‐Offset loop:\n",
            "  Last 10 token IDs:      [1, 477, 330, 17, 1, 323, 912, 1023, 1495, 13]\n",
            "  Last 10 token strings:  ['\"', 'Ġor', 'Ġ\"', '2', '\"', 'Ġand', 'Ġno', 'Ġother', 'Ġtext', '.']\n",
            "\n"
          ]
        },
        {
          "name": "stderr",
          "output_type": "stream",
          "text": [
            "\r  9%|▉         | 28/310 [00:07<01:14,  3.79it/s]"
          ]
        },
        {
          "name": "stdout",
          "output_type": "stream",
          "text": [
            "\n",
            "Index 28 (No), Layer‐Offset loop:\n",
            "  Last 10 token IDs:      [1, 477, 330, 17, 1, 323, 912, 1023, 1495, 13]\n",
            "  Last 10 token strings:  ['\"', 'Ġor', 'Ġ\"', '2', '\"', 'Ġand', 'Ġno', 'Ġother', 'Ġtext', '.']\n",
            "\n"
          ]
        },
        {
          "name": "stderr",
          "output_type": "stream",
          "text": [
            "\r  9%|▉         | 29/310 [00:07<01:15,  3.72it/s]"
          ]
        },
        {
          "name": "stdout",
          "output_type": "stream",
          "text": [
            "\n",
            "Index 29 (No), Layer‐Offset loop:\n",
            "  Last 10 token IDs:      [1, 477, 330, 17, 1, 323, 912, 1023, 1495, 13]\n",
            "  Last 10 token strings:  ['\"', 'Ġor', 'Ġ\"', '2', '\"', 'Ġand', 'Ġno', 'Ġother', 'Ġtext', '.']\n",
            "\n"
          ]
        },
        {
          "name": "stderr",
          "output_type": "stream",
          "text": [
            "\r 10%|▉         | 30/310 [00:08<01:14,  3.75it/s]"
          ]
        },
        {
          "name": "stdout",
          "output_type": "stream",
          "text": [
            "\n",
            "Index 30 (Yes), Layer‐Offset loop:\n",
            "  Last 10 token IDs:      [1, 477, 330, 17, 1, 323, 912, 1023, 1495, 13]\n",
            "  Last 10 token strings:  ['\"', 'Ġor', 'Ġ\"', '2', '\"', 'Ġand', 'Ġno', 'Ġother', 'Ġtext', '.']\n",
            "\n"
          ]
        },
        {
          "name": "stderr",
          "output_type": "stream",
          "text": [
            "\r 10%|█         | 31/310 [00:08<01:13,  3.77it/s]"
          ]
        },
        {
          "name": "stdout",
          "output_type": "stream",
          "text": [
            "\n",
            "Index 31 (Yes), Layer‐Offset loop:\n",
            "  Last 10 token IDs:      [1, 477, 330, 17, 1, 323, 912, 1023, 1495, 13]\n",
            "  Last 10 token strings:  ['\"', 'Ġor', 'Ġ\"', '2', '\"', 'Ġand', 'Ġno', 'Ġother', 'Ġtext', '.']\n",
            "\n"
          ]
        },
        {
          "name": "stderr",
          "output_type": "stream",
          "text": [
            "\r 10%|█         | 32/310 [00:08<01:14,  3.75it/s]"
          ]
        },
        {
          "name": "stdout",
          "output_type": "stream",
          "text": [
            "\n",
            "Index 32 (Yes), Layer‐Offset loop:\n",
            "  Last 10 token IDs:      [1, 477, 330, 17, 1, 323, 912, 1023, 1495, 13]\n",
            "  Last 10 token strings:  ['\"', 'Ġor', 'Ġ\"', '2', '\"', 'Ġand', 'Ġno', 'Ġother', 'Ġtext', '.']\n",
            "\n"
          ]
        },
        {
          "name": "stderr",
          "output_type": "stream",
          "text": [
            "\r 11%|█         | 33/310 [00:08<01:12,  3.83it/s]"
          ]
        },
        {
          "name": "stdout",
          "output_type": "stream",
          "text": [
            "\n",
            "Index 33 (No), Layer‐Offset loop:\n",
            "  Last 10 token IDs:      [1, 477, 330, 17, 1, 323, 912, 1023, 1495, 13]\n",
            "  Last 10 token strings:  ['\"', 'Ġor', 'Ġ\"', '2', '\"', 'Ġand', 'Ġno', 'Ġother', 'Ġtext', '.']\n",
            "\n"
          ]
        },
        {
          "name": "stderr",
          "output_type": "stream",
          "text": [
            "\r 11%|█         | 34/310 [00:09<01:15,  3.66it/s]"
          ]
        },
        {
          "name": "stdout",
          "output_type": "stream",
          "text": [
            "\n",
            "Index 34 (Yes), Layer‐Offset loop:\n",
            "  Last 10 token IDs:      [1, 477, 330, 17, 1, 323, 912, 1023, 1495, 13]\n",
            "  Last 10 token strings:  ['\"', 'Ġor', 'Ġ\"', '2', '\"', 'Ġand', 'Ġno', 'Ġother', 'Ġtext', '.']\n",
            "\n"
          ]
        },
        {
          "name": "stderr",
          "output_type": "stream",
          "text": [
            "\r 11%|█▏        | 35/310 [00:09<01:16,  3.61it/s]"
          ]
        },
        {
          "name": "stdout",
          "output_type": "stream",
          "text": [
            "\n",
            "Index 35 (Yes), Layer‐Offset loop:\n",
            "  Last 10 token IDs:      [1, 477, 330, 17, 1, 323, 912, 1023, 1495, 13]\n",
            "  Last 10 token strings:  ['\"', 'Ġor', 'Ġ\"', '2', '\"', 'Ġand', 'Ġno', 'Ġother', 'Ġtext', '.']\n",
            "\n"
          ]
        },
        {
          "name": "stderr",
          "output_type": "stream",
          "text": [
            "\r 12%|█▏        | 36/310 [00:09<01:14,  3.69it/s]"
          ]
        },
        {
          "name": "stdout",
          "output_type": "stream",
          "text": [
            "\n",
            "Index 36 (Yes), Layer‐Offset loop:\n",
            "  Last 10 token IDs:      [1, 477, 330, 17, 1, 323, 912, 1023, 1495, 13]\n",
            "  Last 10 token strings:  ['\"', 'Ġor', 'Ġ\"', '2', '\"', 'Ġand', 'Ġno', 'Ġother', 'Ġtext', '.']\n",
            "\n"
          ]
        },
        {
          "name": "stderr",
          "output_type": "stream",
          "text": [
            "\r 12%|█▏        | 37/310 [00:09<01:15,  3.63it/s]"
          ]
        },
        {
          "name": "stdout",
          "output_type": "stream",
          "text": [
            "\n",
            "Index 37 (Yes), Layer‐Offset loop:\n",
            "  Last 10 token IDs:      [1, 477, 330, 17, 1, 323, 912, 1023, 1495, 13]\n",
            "  Last 10 token strings:  ['\"', 'Ġor', 'Ġ\"', '2', '\"', 'Ġand', 'Ġno', 'Ġother', 'Ġtext', '.']\n",
            "\n"
          ]
        },
        {
          "name": "stderr",
          "output_type": "stream",
          "text": [
            "\r 12%|█▏        | 38/310 [00:10<01:14,  3.65it/s]"
          ]
        },
        {
          "name": "stdout",
          "output_type": "stream",
          "text": [
            "\n",
            "Index 38 (No), Layer‐Offset loop:\n",
            "  Last 10 token IDs:      [1, 477, 330, 17, 1, 323, 912, 1023, 1495, 13]\n",
            "  Last 10 token strings:  ['\"', 'Ġor', 'Ġ\"', '2', '\"', 'Ġand', 'Ġno', 'Ġother', 'Ġtext', '.']\n",
            "\n"
          ]
        },
        {
          "name": "stderr",
          "output_type": "stream",
          "text": [
            "\r 13%|█▎        | 39/310 [00:10<01:13,  3.71it/s]"
          ]
        },
        {
          "name": "stdout",
          "output_type": "stream",
          "text": [
            "\n",
            "Index 39 (Yes), Layer‐Offset loop:\n",
            "  Last 10 token IDs:      [1, 477, 330, 17, 1, 323, 912, 1023, 1495, 13]\n",
            "  Last 10 token strings:  ['\"', 'Ġor', 'Ġ\"', '2', '\"', 'Ġand', 'Ġno', 'Ġother', 'Ġtext', '.']\n",
            "\n"
          ]
        },
        {
          "name": "stderr",
          "output_type": "stream",
          "text": [
            "\r 13%|█▎        | 40/310 [00:10<01:12,  3.74it/s]"
          ]
        },
        {
          "name": "stdout",
          "output_type": "stream",
          "text": [
            "\n",
            "Index 40 (Yes), Layer‐Offset loop:\n",
            "  Last 10 token IDs:      [1, 477, 330, 17, 1, 323, 912, 1023, 1495, 13]\n",
            "  Last 10 token strings:  ['\"', 'Ġor', 'Ġ\"', '2', '\"', 'Ġand', 'Ġno', 'Ġother', 'Ġtext', '.']\n",
            "\n"
          ]
        },
        {
          "name": "stderr",
          "output_type": "stream",
          "text": [
            "\r 13%|█▎        | 41/310 [00:11<01:13,  3.68it/s]"
          ]
        },
        {
          "name": "stdout",
          "output_type": "stream",
          "text": [
            "\n",
            "Index 41 (Yes), Layer‐Offset loop:\n",
            "  Last 10 token IDs:      [1, 477, 330, 17, 1, 323, 912, 1023, 1495, 13]\n",
            "  Last 10 token strings:  ['\"', 'Ġor', 'Ġ\"', '2', '\"', 'Ġand', 'Ġno', 'Ġother', 'Ġtext', '.']\n",
            "\n"
          ]
        },
        {
          "name": "stderr",
          "output_type": "stream",
          "text": [
            "\r 14%|█▎        | 42/310 [00:11<01:11,  3.72it/s]"
          ]
        },
        {
          "name": "stdout",
          "output_type": "stream",
          "text": [
            "\n",
            "Index 42 (No), Layer‐Offset loop:\n",
            "  Last 10 token IDs:      [1, 477, 330, 17, 1, 323, 912, 1023, 1495, 13]\n",
            "  Last 10 token strings:  ['\"', 'Ġor', 'Ġ\"', '2', '\"', 'Ġand', 'Ġno', 'Ġother', 'Ġtext', '.']\n",
            "\n"
          ]
        },
        {
          "name": "stderr",
          "output_type": "stream",
          "text": [
            "\r 14%|█▍        | 43/310 [00:11<01:11,  3.74it/s]"
          ]
        },
        {
          "name": "stdout",
          "output_type": "stream",
          "text": [
            "\n",
            "Index 43 (No), Layer‐Offset loop:\n",
            "  Last 10 token IDs:      [1, 477, 330, 17, 1, 323, 912, 1023, 1495, 13]\n",
            "  Last 10 token strings:  ['\"', 'Ġor', 'Ġ\"', '2', '\"', 'Ġand', 'Ġno', 'Ġother', 'Ġtext', '.']\n",
            "\n"
          ]
        },
        {
          "name": "stderr",
          "output_type": "stream",
          "text": [
            "\r 14%|█▍        | 44/310 [00:11<01:14,  3.57it/s]"
          ]
        },
        {
          "name": "stdout",
          "output_type": "stream",
          "text": [
            "\n",
            "Index 44 (No), Layer‐Offset loop:\n",
            "  Last 10 token IDs:      [1, 477, 330, 17, 1, 323, 912, 1023, 1495, 13]\n",
            "  Last 10 token strings:  ['\"', 'Ġor', 'Ġ\"', '2', '\"', 'Ġand', 'Ġno', 'Ġother', 'Ġtext', '.']\n",
            "\n"
          ]
        },
        {
          "name": "stderr",
          "output_type": "stream",
          "text": [
            "\r 15%|█▍        | 45/310 [00:12<01:12,  3.64it/s]"
          ]
        },
        {
          "name": "stdout",
          "output_type": "stream",
          "text": [
            "\n",
            "Index 45 (No), Layer‐Offset loop:\n",
            "  Last 10 token IDs:      [1, 477, 330, 17, 1, 323, 912, 1023, 1495, 13]\n",
            "  Last 10 token strings:  ['\"', 'Ġor', 'Ġ\"', '2', '\"', 'Ġand', 'Ġno', 'Ġother', 'Ġtext', '.']\n",
            "\n"
          ]
        },
        {
          "name": "stderr",
          "output_type": "stream",
          "text": [
            "\r 15%|█▍        | 46/310 [00:12<01:15,  3.51it/s]"
          ]
        },
        {
          "name": "stdout",
          "output_type": "stream",
          "text": [
            "\n",
            "Index 46 (No), Layer‐Offset loop:\n",
            "  Last 10 token IDs:      [1, 477, 330, 17, 1, 323, 912, 1023, 1495, 13]\n",
            "  Last 10 token strings:  ['\"', 'Ġor', 'Ġ\"', '2', '\"', 'Ġand', 'Ġno', 'Ġother', 'Ġtext', '.']\n",
            "\n"
          ]
        },
        {
          "name": "stderr",
          "output_type": "stream",
          "text": [
            "\r 15%|█▌        | 47/310 [00:12<01:12,  3.63it/s]"
          ]
        },
        {
          "name": "stdout",
          "output_type": "stream",
          "text": [
            "\n",
            "Index 47 (Yes), Layer‐Offset loop:\n",
            "  Last 10 token IDs:      [1, 477, 330, 17, 1, 323, 912, 1023, 1495, 13]\n",
            "  Last 10 token strings:  ['\"', 'Ġor', 'Ġ\"', '2', '\"', 'Ġand', 'Ġno', 'Ġother', 'Ġtext', '.']\n",
            "\n"
          ]
        },
        {
          "name": "stderr",
          "output_type": "stream",
          "text": [
            "\r 15%|█▌        | 48/310 [00:12<01:11,  3.64it/s]"
          ]
        },
        {
          "name": "stdout",
          "output_type": "stream",
          "text": [
            "\n",
            "Index 48 (No), Layer‐Offset loop:\n",
            "  Last 10 token IDs:      [1, 477, 330, 17, 1, 323, 912, 1023, 1495, 13]\n",
            "  Last 10 token strings:  ['\"', 'Ġor', 'Ġ\"', '2', '\"', 'Ġand', 'Ġno', 'Ġother', 'Ġtext', '.']\n",
            "\n"
          ]
        },
        {
          "name": "stderr",
          "output_type": "stream",
          "text": [
            "\r 16%|█▌        | 49/310 [00:13<01:10,  3.71it/s]"
          ]
        },
        {
          "name": "stdout",
          "output_type": "stream",
          "text": [
            "\n",
            "Index 49 (Yes), Layer‐Offset loop:\n",
            "  Last 10 token IDs:      [1, 477, 330, 17, 1, 323, 912, 1023, 1495, 13]\n",
            "  Last 10 token strings:  ['\"', 'Ġor', 'Ġ\"', '2', '\"', 'Ġand', 'Ġno', 'Ġother', 'Ġtext', '.']\n",
            "\n"
          ]
        },
        {
          "name": "stderr",
          "output_type": "stream",
          "text": [
            "\r 16%|█▌        | 50/310 [00:13<01:08,  3.77it/s]"
          ]
        },
        {
          "name": "stdout",
          "output_type": "stream",
          "text": [
            "\n",
            "Index 50 (Yes), Layer‐Offset loop:\n",
            "  Last 10 token IDs:      [1, 477, 330, 17, 1, 323, 912, 1023, 1495, 13]\n",
            "  Last 10 token strings:  ['\"', 'Ġor', 'Ġ\"', '2', '\"', 'Ġand', 'Ġno', 'Ġother', 'Ġtext', '.']\n",
            "\n"
          ]
        },
        {
          "name": "stderr",
          "output_type": "stream",
          "text": [
            "\r 16%|█▋        | 51/310 [00:13<01:09,  3.74it/s]"
          ]
        },
        {
          "name": "stdout",
          "output_type": "stream",
          "text": [
            "\n",
            "Index 51 (No), Layer‐Offset loop:\n",
            "  Last 10 token IDs:      [1, 477, 330, 17, 1, 323, 912, 1023, 1495, 13]\n",
            "  Last 10 token strings:  ['\"', 'Ġor', 'Ġ\"', '2', '\"', 'Ġand', 'Ġno', 'Ġother', 'Ġtext', '.']\n",
            "\n"
          ]
        },
        {
          "name": "stderr",
          "output_type": "stream",
          "text": [
            "\r 17%|█▋        | 52/310 [00:14<01:10,  3.67it/s]"
          ]
        },
        {
          "name": "stdout",
          "output_type": "stream",
          "text": [
            "\n",
            "Index 52 (Yes), Layer‐Offset loop:\n",
            "  Last 10 token IDs:      [1, 477, 330, 17, 1, 323, 912, 1023, 1495, 13]\n",
            "  Last 10 token strings:  ['\"', 'Ġor', 'Ġ\"', '2', '\"', 'Ġand', 'Ġno', 'Ġother', 'Ġtext', '.']\n",
            "\n"
          ]
        },
        {
          "name": "stderr",
          "output_type": "stream",
          "text": [
            "\r 17%|█▋        | 53/310 [00:14<01:09,  3.67it/s]"
          ]
        },
        {
          "name": "stdout",
          "output_type": "stream",
          "text": [
            "\n",
            "Index 53 (Yes), Layer‐Offset loop:\n",
            "  Last 10 token IDs:      [1, 477, 330, 17, 1, 323, 912, 1023, 1495, 13]\n",
            "  Last 10 token strings:  ['\"', 'Ġor', 'Ġ\"', '2', '\"', 'Ġand', 'Ġno', 'Ġother', 'Ġtext', '.']\n",
            "\n"
          ]
        },
        {
          "name": "stderr",
          "output_type": "stream",
          "text": [
            "\r 17%|█▋        | 54/310 [00:14<01:08,  3.74it/s]"
          ]
        },
        {
          "name": "stdout",
          "output_type": "stream",
          "text": [
            "\n",
            "Index 54 (No), Layer‐Offset loop:\n",
            "  Last 10 token IDs:      [1, 477, 330, 17, 1, 323, 912, 1023, 1495, 13]\n",
            "  Last 10 token strings:  ['\"', 'Ġor', 'Ġ\"', '2', '\"', 'Ġand', 'Ġno', 'Ġother', 'Ġtext', '.']\n",
            "\n"
          ]
        },
        {
          "name": "stderr",
          "output_type": "stream",
          "text": [
            "\r 18%|█▊        | 55/310 [00:14<01:12,  3.51it/s]"
          ]
        },
        {
          "name": "stdout",
          "output_type": "stream",
          "text": [
            "\n",
            "Index 55 (No), Layer‐Offset loop:\n",
            "  Last 10 token IDs:      [1, 477, 330, 17, 1, 323, 912, 1023, 1495, 13]\n",
            "  Last 10 token strings:  ['\"', 'Ġor', 'Ġ\"', '2', '\"', 'Ġand', 'Ġno', 'Ġother', 'Ġtext', '.']\n",
            "\n"
          ]
        },
        {
          "name": "stderr",
          "output_type": "stream",
          "text": [
            "\r 18%|█▊        | 56/310 [00:15<01:11,  3.54it/s]"
          ]
        },
        {
          "name": "stdout",
          "output_type": "stream",
          "text": [
            "\n",
            "Index 56 (No), Layer‐Offset loop:\n",
            "  Last 10 token IDs:      [1, 477, 330, 17, 1, 323, 912, 1023, 1495, 13]\n",
            "  Last 10 token strings:  ['\"', 'Ġor', 'Ġ\"', '2', '\"', 'Ġand', 'Ġno', 'Ġother', 'Ġtext', '.']\n",
            "\n"
          ]
        },
        {
          "name": "stderr",
          "output_type": "stream",
          "text": [
            "\r 18%|█▊        | 57/310 [00:15<01:11,  3.56it/s]"
          ]
        },
        {
          "name": "stdout",
          "output_type": "stream",
          "text": [
            "\n",
            "Index 57 (No), Layer‐Offset loop:\n",
            "  Last 10 token IDs:      [1, 477, 330, 17, 1, 323, 912, 1023, 1495, 13]\n",
            "  Last 10 token strings:  ['\"', 'Ġor', 'Ġ\"', '2', '\"', 'Ġand', 'Ġno', 'Ġother', 'Ġtext', '.']\n",
            "\n"
          ]
        },
        {
          "name": "stderr",
          "output_type": "stream",
          "text": [
            "\r 19%|█▊        | 58/310 [00:15<01:12,  3.46it/s]"
          ]
        },
        {
          "name": "stdout",
          "output_type": "stream",
          "text": [
            "\n",
            "Index 58 (No), Layer‐Offset loop:\n",
            "  Last 10 token IDs:      [1, 477, 330, 17, 1, 323, 912, 1023, 1495, 13]\n",
            "  Last 10 token strings:  ['\"', 'Ġor', 'Ġ\"', '2', '\"', 'Ġand', 'Ġno', 'Ġother', 'Ġtext', '.']\n",
            "\n"
          ]
        },
        {
          "name": "stderr",
          "output_type": "stream",
          "text": [
            "\r 19%|█▉        | 59/310 [00:16<01:09,  3.59it/s]"
          ]
        },
        {
          "name": "stdout",
          "output_type": "stream",
          "text": [
            "\n",
            "Index 59 (No), Layer‐Offset loop:\n",
            "  Last 10 token IDs:      [1, 477, 330, 17, 1, 323, 912, 1023, 1495, 13]\n",
            "  Last 10 token strings:  ['\"', 'Ġor', 'Ġ\"', '2', '\"', 'Ġand', 'Ġno', 'Ġother', 'Ġtext', '.']\n",
            "\n"
          ]
        },
        {
          "name": "stderr",
          "output_type": "stream",
          "text": [
            "\r 19%|█▉        | 60/310 [00:16<01:10,  3.53it/s]"
          ]
        },
        {
          "name": "stdout",
          "output_type": "stream",
          "text": [
            "\n",
            "Index 60 (No), Layer‐Offset loop:\n",
            "  Last 10 token IDs:      [1, 477, 330, 17, 1, 323, 912, 1023, 1495, 13]\n",
            "  Last 10 token strings:  ['\"', 'Ġor', 'Ġ\"', '2', '\"', 'Ġand', 'Ġno', 'Ġother', 'Ġtext', '.']\n",
            "\n"
          ]
        },
        {
          "name": "stderr",
          "output_type": "stream",
          "text": [
            "\r 20%|█▉        | 61/310 [00:16<01:09,  3.59it/s]"
          ]
        },
        {
          "name": "stdout",
          "output_type": "stream",
          "text": [
            "\n",
            "Index 61 (No), Layer‐Offset loop:\n",
            "  Last 10 token IDs:      [1, 477, 330, 17, 1, 323, 912, 1023, 1495, 13]\n",
            "  Last 10 token strings:  ['\"', 'Ġor', 'Ġ\"', '2', '\"', 'Ġand', 'Ġno', 'Ġother', 'Ġtext', '.']\n",
            "\n"
          ]
        },
        {
          "name": "stderr",
          "output_type": "stream",
          "text": [
            "\r 20%|██        | 62/310 [00:16<01:08,  3.60it/s]"
          ]
        },
        {
          "name": "stdout",
          "output_type": "stream",
          "text": [
            "\n",
            "Index 62 (Yes), Layer‐Offset loop:\n",
            "  Last 10 token IDs:      [1, 477, 330, 17, 1, 323, 912, 1023, 1495, 13]\n",
            "  Last 10 token strings:  ['\"', 'Ġor', 'Ġ\"', '2', '\"', 'Ġand', 'Ġno', 'Ġother', 'Ġtext', '.']\n",
            "\n"
          ]
        },
        {
          "name": "stderr",
          "output_type": "stream",
          "text": [
            "\r 20%|██        | 63/310 [00:17<01:07,  3.65it/s]"
          ]
        },
        {
          "name": "stdout",
          "output_type": "stream",
          "text": [
            "\n",
            "Index 63 (Yes), Layer‐Offset loop:\n",
            "  Last 10 token IDs:      [1, 477, 330, 17, 1, 323, 912, 1023, 1495, 13]\n",
            "  Last 10 token strings:  ['\"', 'Ġor', 'Ġ\"', '2', '\"', 'Ġand', 'Ġno', 'Ġother', 'Ġtext', '.']\n",
            "\n"
          ]
        },
        {
          "name": "stderr",
          "output_type": "stream",
          "text": [
            "\r 21%|██        | 64/310 [00:17<01:07,  3.62it/s]"
          ]
        },
        {
          "name": "stdout",
          "output_type": "stream",
          "text": [
            "\n",
            "Index 64 (No), Layer‐Offset loop:\n",
            "  Last 10 token IDs:      [1, 477, 330, 17, 1, 323, 912, 1023, 1495, 13]\n",
            "  Last 10 token strings:  ['\"', 'Ġor', 'Ġ\"', '2', '\"', 'Ġand', 'Ġno', 'Ġother', 'Ġtext', '.']\n",
            "\n"
          ]
        },
        {
          "name": "stderr",
          "output_type": "stream",
          "text": [
            "\r 21%|██        | 65/310 [00:17<01:07,  3.64it/s]"
          ]
        },
        {
          "name": "stdout",
          "output_type": "stream",
          "text": [
            "\n",
            "Index 65 (No), Layer‐Offset loop:\n",
            "  Last 10 token IDs:      [1, 477, 330, 17, 1, 323, 912, 1023, 1495, 13]\n",
            "  Last 10 token strings:  ['\"', 'Ġor', 'Ġ\"', '2', '\"', 'Ġand', 'Ġno', 'Ġother', 'Ġtext', '.']\n",
            "\n"
          ]
        },
        {
          "name": "stderr",
          "output_type": "stream",
          "text": [
            "\r 21%|██▏       | 66/310 [00:17<01:08,  3.54it/s]"
          ]
        },
        {
          "name": "stdout",
          "output_type": "stream",
          "text": [
            "\n",
            "Index 66 (No), Layer‐Offset loop:\n",
            "  Last 10 token IDs:      [1, 477, 330, 17, 1, 323, 912, 1023, 1495, 13]\n",
            "  Last 10 token strings:  ['\"', 'Ġor', 'Ġ\"', '2', '\"', 'Ġand', 'Ġno', 'Ġother', 'Ġtext', '.']\n",
            "\n"
          ]
        },
        {
          "name": "stderr",
          "output_type": "stream",
          "text": [
            "\r 22%|██▏       | 67/310 [00:18<01:06,  3.65it/s]"
          ]
        },
        {
          "name": "stdout",
          "output_type": "stream",
          "text": [
            "\n",
            "Index 67 (Yes), Layer‐Offset loop:\n",
            "  Last 10 token IDs:      [1, 477, 330, 17, 1, 323, 912, 1023, 1495, 13]\n",
            "  Last 10 token strings:  ['\"', 'Ġor', 'Ġ\"', '2', '\"', 'Ġand', 'Ġno', 'Ġother', 'Ġtext', '.']\n",
            "\n"
          ]
        },
        {
          "name": "stderr",
          "output_type": "stream",
          "text": [
            "\r 22%|██▏       | 68/310 [00:18<01:06,  3.65it/s]"
          ]
        },
        {
          "name": "stdout",
          "output_type": "stream",
          "text": [
            "\n",
            "Index 68 (Yes), Layer‐Offset loop:\n",
            "  Last 10 token IDs:      [1, 477, 330, 17, 1, 323, 912, 1023, 1495, 13]\n",
            "  Last 10 token strings:  ['\"', 'Ġor', 'Ġ\"', '2', '\"', 'Ġand', 'Ġno', 'Ġother', 'Ġtext', '.']\n",
            "\n"
          ]
        },
        {
          "name": "stderr",
          "output_type": "stream",
          "text": [
            "\r 22%|██▏       | 69/310 [00:18<01:06,  3.62it/s]"
          ]
        },
        {
          "name": "stdout",
          "output_type": "stream",
          "text": [
            "\n",
            "Index 69 (Yes), Layer‐Offset loop:\n",
            "  Last 10 token IDs:      [1, 477, 330, 17, 1, 323, 912, 1023, 1495, 13]\n",
            "  Last 10 token strings:  ['\"', 'Ġor', 'Ġ\"', '2', '\"', 'Ġand', 'Ġno', 'Ġother', 'Ġtext', '.']\n",
            "\n"
          ]
        },
        {
          "name": "stderr",
          "output_type": "stream",
          "text": [
            "\r 23%|██▎       | 70/310 [00:19<01:06,  3.63it/s]"
          ]
        },
        {
          "name": "stdout",
          "output_type": "stream",
          "text": [
            "\n",
            "Index 70 (Yes), Layer‐Offset loop:\n",
            "  Last 10 token IDs:      [1, 477, 330, 17, 1, 323, 912, 1023, 1495, 13]\n",
            "  Last 10 token strings:  ['\"', 'Ġor', 'Ġ\"', '2', '\"', 'Ġand', 'Ġno', 'Ġother', 'Ġtext', '.']\n",
            "\n"
          ]
        },
        {
          "name": "stderr",
          "output_type": "stream",
          "text": [
            "\r 23%|██▎       | 71/310 [00:19<01:07,  3.57it/s]"
          ]
        },
        {
          "name": "stdout",
          "output_type": "stream",
          "text": [
            "\n",
            "Index 71 (Yes), Layer‐Offset loop:\n",
            "  Last 10 token IDs:      [1, 477, 330, 17, 1, 323, 912, 1023, 1495, 13]\n",
            "  Last 10 token strings:  ['\"', 'Ġor', 'Ġ\"', '2', '\"', 'Ġand', 'Ġno', 'Ġother', 'Ġtext', '.']\n",
            "\n"
          ]
        },
        {
          "name": "stderr",
          "output_type": "stream",
          "text": [
            "\r 23%|██▎       | 72/310 [00:19<01:07,  3.53it/s]"
          ]
        },
        {
          "name": "stdout",
          "output_type": "stream",
          "text": [
            "\n",
            "Index 72 (No), Layer‐Offset loop:\n",
            "  Last 10 token IDs:      [1, 477, 330, 17, 1, 323, 912, 1023, 1495, 13]\n",
            "  Last 10 token strings:  ['\"', 'Ġor', 'Ġ\"', '2', '\"', 'Ġand', 'Ġno', 'Ġother', 'Ġtext', '.']\n",
            "\n"
          ]
        },
        {
          "name": "stderr",
          "output_type": "stream",
          "text": [
            "\r 24%|██▎       | 73/310 [00:19<01:04,  3.65it/s]"
          ]
        },
        {
          "name": "stdout",
          "output_type": "stream",
          "text": [
            "\n",
            "Index 73 (Yes), Layer‐Offset loop:\n",
            "  Last 10 token IDs:      [1, 477, 330, 17, 1, 323, 912, 1023, 1495, 13]\n",
            "  Last 10 token strings:  ['\"', 'Ġor', 'Ġ\"', '2', '\"', 'Ġand', 'Ġno', 'Ġother', 'Ġtext', '.']\n",
            "\n"
          ]
        },
        {
          "name": "stderr",
          "output_type": "stream",
          "text": [
            "\r 24%|██▍       | 74/310 [00:20<01:03,  3.72it/s]"
          ]
        },
        {
          "name": "stdout",
          "output_type": "stream",
          "text": [
            "\n",
            "Index 74 (Yes), Layer‐Offset loop:\n",
            "  Last 10 token IDs:      [1, 477, 330, 17, 1, 323, 912, 1023, 1495, 13]\n",
            "  Last 10 token strings:  ['\"', 'Ġor', 'Ġ\"', '2', '\"', 'Ġand', 'Ġno', 'Ġother', 'Ġtext', '.']\n",
            "\n"
          ]
        },
        {
          "name": "stderr",
          "output_type": "stream",
          "text": [
            "\r 24%|██▍       | 75/310 [00:20<01:04,  3.66it/s]"
          ]
        },
        {
          "name": "stdout",
          "output_type": "stream",
          "text": [
            "\n",
            "Index 75 (No), Layer‐Offset loop:\n",
            "  Last 10 token IDs:      [1, 477, 330, 17, 1, 323, 912, 1023, 1495, 13]\n",
            "  Last 10 token strings:  ['\"', 'Ġor', 'Ġ\"', '2', '\"', 'Ġand', 'Ġno', 'Ġother', 'Ġtext', '.']\n",
            "\n"
          ]
        },
        {
          "name": "stderr",
          "output_type": "stream",
          "text": [
            "\r 25%|██▍       | 76/310 [00:20<01:03,  3.66it/s]"
          ]
        },
        {
          "name": "stdout",
          "output_type": "stream",
          "text": [
            "\n",
            "Index 76 (Yes), Layer‐Offset loop:\n",
            "  Last 10 token IDs:      [1, 477, 330, 17, 1, 323, 912, 1023, 1495, 13]\n",
            "  Last 10 token strings:  ['\"', 'Ġor', 'Ġ\"', '2', '\"', 'Ġand', 'Ġno', 'Ġother', 'Ġtext', '.']\n",
            "\n"
          ]
        },
        {
          "name": "stderr",
          "output_type": "stream",
          "text": [
            "\r 25%|██▍       | 77/310 [00:20<01:03,  3.65it/s]"
          ]
        },
        {
          "name": "stdout",
          "output_type": "stream",
          "text": [
            "\n",
            "Index 77 (Yes), Layer‐Offset loop:\n",
            "  Last 10 token IDs:      [1, 477, 330, 17, 1, 323, 912, 1023, 1495, 13]\n",
            "  Last 10 token strings:  ['\"', 'Ġor', 'Ġ\"', '2', '\"', 'Ġand', 'Ġno', 'Ġother', 'Ġtext', '.']\n",
            "\n"
          ]
        },
        {
          "name": "stderr",
          "output_type": "stream",
          "text": [
            "\r 25%|██▌       | 78/310 [00:21<01:04,  3.59it/s]"
          ]
        },
        {
          "name": "stdout",
          "output_type": "stream",
          "text": [
            "\n",
            "Index 78 (Yes), Layer‐Offset loop:\n",
            "  Last 10 token IDs:      [1, 477, 330, 17, 1, 323, 912, 1023, 1495, 13]\n",
            "  Last 10 token strings:  ['\"', 'Ġor', 'Ġ\"', '2', '\"', 'Ġand', 'Ġno', 'Ġother', 'Ġtext', '.']\n",
            "\n"
          ]
        },
        {
          "name": "stderr",
          "output_type": "stream",
          "text": [
            "\r 25%|██▌       | 79/310 [00:21<01:05,  3.54it/s]"
          ]
        },
        {
          "name": "stdout",
          "output_type": "stream",
          "text": [
            "\n",
            "Index 79 (No), Layer‐Offset loop:\n",
            "  Last 10 token IDs:      [1, 477, 330, 17, 1, 323, 912, 1023, 1495, 13]\n",
            "  Last 10 token strings:  ['\"', 'Ġor', 'Ġ\"', '2', '\"', 'Ġand', 'Ġno', 'Ġother', 'Ġtext', '.']\n",
            "\n"
          ]
        },
        {
          "name": "stderr",
          "output_type": "stream",
          "text": [
            "\r 26%|██▌       | 80/310 [00:21<01:03,  3.62it/s]"
          ]
        },
        {
          "name": "stdout",
          "output_type": "stream",
          "text": [
            "\n",
            "Index 80 (No), Layer‐Offset loop:\n",
            "  Last 10 token IDs:      [1, 477, 330, 17, 1, 323, 912, 1023, 1495, 13]\n",
            "  Last 10 token strings:  ['\"', 'Ġor', 'Ġ\"', '2', '\"', 'Ġand', 'Ġno', 'Ġother', 'Ġtext', '.']\n",
            "\n"
          ]
        },
        {
          "name": "stderr",
          "output_type": "stream",
          "text": [
            "\r 26%|██▌       | 81/310 [00:22<01:03,  3.61it/s]"
          ]
        },
        {
          "name": "stdout",
          "output_type": "stream",
          "text": [
            "\n",
            "Index 81 (No), Layer‐Offset loop:\n",
            "  Last 10 token IDs:      [1, 477, 330, 17, 1, 323, 912, 1023, 1495, 13]\n",
            "  Last 10 token strings:  ['\"', 'Ġor', 'Ġ\"', '2', '\"', 'Ġand', 'Ġno', 'Ġother', 'Ġtext', '.']\n",
            "\n"
          ]
        },
        {
          "name": "stderr",
          "output_type": "stream",
          "text": [
            "\r 26%|██▋       | 82/310 [00:22<01:01,  3.70it/s]"
          ]
        },
        {
          "name": "stdout",
          "output_type": "stream",
          "text": [
            "\n",
            "Index 82 (Yes), Layer‐Offset loop:\n",
            "  Last 10 token IDs:      [1, 477, 330, 17, 1, 323, 912, 1023, 1495, 13]\n",
            "  Last 10 token strings:  ['\"', 'Ġor', 'Ġ\"', '2', '\"', 'Ġand', 'Ġno', 'Ġother', 'Ġtext', '.']\n",
            "\n"
          ]
        },
        {
          "name": "stderr",
          "output_type": "stream",
          "text": [
            "\r 27%|██▋       | 83/310 [00:22<01:02,  3.64it/s]"
          ]
        },
        {
          "name": "stdout",
          "output_type": "stream",
          "text": [
            "\n",
            "Index 83 (No), Layer‐Offset loop:\n",
            "  Last 10 token IDs:      [1, 477, 330, 17, 1, 323, 912, 1023, 1495, 13]\n",
            "  Last 10 token strings:  ['\"', 'Ġor', 'Ġ\"', '2', '\"', 'Ġand', 'Ġno', 'Ġother', 'Ġtext', '.']\n",
            "\n"
          ]
        },
        {
          "name": "stderr",
          "output_type": "stream",
          "text": [
            "\r 27%|██▋       | 84/310 [00:22<01:01,  3.65it/s]"
          ]
        },
        {
          "name": "stdout",
          "output_type": "stream",
          "text": [
            "\n",
            "Index 84 (Yes), Layer‐Offset loop:\n",
            "  Last 10 token IDs:      [1, 477, 330, 17, 1, 323, 912, 1023, 1495, 13]\n",
            "  Last 10 token strings:  ['\"', 'Ġor', 'Ġ\"', '2', '\"', 'Ġand', 'Ġno', 'Ġother', 'Ġtext', '.']\n",
            "\n"
          ]
        },
        {
          "name": "stderr",
          "output_type": "stream",
          "text": [
            "\r 27%|██▋       | 85/310 [00:23<01:00,  3.72it/s]"
          ]
        },
        {
          "name": "stdout",
          "output_type": "stream",
          "text": [
            "\n",
            "Index 85 (No), Layer‐Offset loop:\n",
            "  Last 10 token IDs:      [1, 477, 330, 17, 1, 323, 912, 1023, 1495, 13]\n",
            "  Last 10 token strings:  ['\"', 'Ġor', 'Ġ\"', '2', '\"', 'Ġand', 'Ġno', 'Ġother', 'Ġtext', '.']\n",
            "\n"
          ]
        },
        {
          "name": "stderr",
          "output_type": "stream",
          "text": [
            "\r 28%|██▊       | 86/310 [00:23<01:03,  3.52it/s]"
          ]
        },
        {
          "name": "stdout",
          "output_type": "stream",
          "text": [
            "\n",
            "Index 86 (Yes), Layer‐Offset loop:\n",
            "  Last 10 token IDs:      [1, 477, 330, 17, 1, 323, 912, 1023, 1495, 13]\n",
            "  Last 10 token strings:  ['\"', 'Ġor', 'Ġ\"', '2', '\"', 'Ġand', 'Ġno', 'Ġother', 'Ġtext', '.']\n",
            "\n"
          ]
        },
        {
          "name": "stderr",
          "output_type": "stream",
          "text": [
            "\r 28%|██▊       | 87/310 [00:23<01:02,  3.59it/s]"
          ]
        },
        {
          "name": "stdout",
          "output_type": "stream",
          "text": [
            "\n",
            "Index 87 (Yes), Layer‐Offset loop:\n",
            "  Last 10 token IDs:      [1, 477, 330, 17, 1, 323, 912, 1023, 1495, 13]\n",
            "  Last 10 token strings:  ['\"', 'Ġor', 'Ġ\"', '2', '\"', 'Ġand', 'Ġno', 'Ġother', 'Ġtext', '.']\n",
            "\n"
          ]
        },
        {
          "name": "stderr",
          "output_type": "stream",
          "text": [
            "\r 28%|██▊       | 88/310 [00:24<01:00,  3.66it/s]"
          ]
        },
        {
          "name": "stdout",
          "output_type": "stream",
          "text": [
            "\n",
            "Index 88 (No), Layer‐Offset loop:\n",
            "  Last 10 token IDs:      [1, 477, 330, 17, 1, 323, 912, 1023, 1495, 13]\n",
            "  Last 10 token strings:  ['\"', 'Ġor', 'Ġ\"', '2', '\"', 'Ġand', 'Ġno', 'Ġother', 'Ġtext', '.']\n",
            "\n"
          ]
        },
        {
          "name": "stderr",
          "output_type": "stream",
          "text": [
            "\r 29%|██▊       | 89/310 [00:24<01:00,  3.64it/s]"
          ]
        },
        {
          "name": "stdout",
          "output_type": "stream",
          "text": [
            "\n",
            "Index 89 (No), Layer‐Offset loop:\n",
            "  Last 10 token IDs:      [1, 477, 330, 17, 1, 323, 912, 1023, 1495, 13]\n",
            "  Last 10 token strings:  ['\"', 'Ġor', 'Ġ\"', '2', '\"', 'Ġand', 'Ġno', 'Ġother', 'Ġtext', '.']\n",
            "\n"
          ]
        },
        {
          "name": "stderr",
          "output_type": "stream",
          "text": [
            "\r 29%|██▉       | 90/310 [00:24<01:03,  3.49it/s]"
          ]
        },
        {
          "name": "stdout",
          "output_type": "stream",
          "text": [
            "\n",
            "Index 90 (Yes), Layer‐Offset loop:\n",
            "  Last 10 token IDs:      [1, 477, 330, 17, 1, 323, 912, 1023, 1495, 13]\n",
            "  Last 10 token strings:  ['\"', 'Ġor', 'Ġ\"', '2', '\"', 'Ġand', 'Ġno', 'Ġother', 'Ġtext', '.']\n",
            "\n"
          ]
        },
        {
          "name": "stderr",
          "output_type": "stream",
          "text": [
            "\r 29%|██▉       | 91/310 [00:24<01:00,  3.62it/s]"
          ]
        },
        {
          "name": "stdout",
          "output_type": "stream",
          "text": [
            "\n",
            "Index 91 (Yes), Layer‐Offset loop:\n",
            "  Last 10 token IDs:      [1, 477, 330, 17, 1, 323, 912, 1023, 1495, 13]\n",
            "  Last 10 token strings:  ['\"', 'Ġor', 'Ġ\"', '2', '\"', 'Ġand', 'Ġno', 'Ġother', 'Ġtext', '.']\n",
            "\n"
          ]
        },
        {
          "name": "stderr",
          "output_type": "stream",
          "text": [
            "\r 30%|██▉       | 92/310 [00:25<00:59,  3.67it/s]"
          ]
        },
        {
          "name": "stdout",
          "output_type": "stream",
          "text": [
            "\n",
            "Index 92 (Yes), Layer‐Offset loop:\n",
            "  Last 10 token IDs:      [1, 477, 330, 17, 1, 323, 912, 1023, 1495, 13]\n",
            "  Last 10 token strings:  ['\"', 'Ġor', 'Ġ\"', '2', '\"', 'Ġand', 'Ġno', 'Ġother', 'Ġtext', '.']\n",
            "\n"
          ]
        },
        {
          "name": "stderr",
          "output_type": "stream",
          "text": [
            "\r 30%|███       | 93/310 [00:25<00:59,  3.67it/s]"
          ]
        },
        {
          "name": "stdout",
          "output_type": "stream",
          "text": [
            "\n",
            "Index 93 (No), Layer‐Offset loop:\n",
            "  Last 10 token IDs:      [1, 477, 330, 17, 1, 323, 912, 1023, 1495, 13]\n",
            "  Last 10 token strings:  ['\"', 'Ġor', 'Ġ\"', '2', '\"', 'Ġand', 'Ġno', 'Ġother', 'Ġtext', '.']\n",
            "\n"
          ]
        },
        {
          "name": "stderr",
          "output_type": "stream",
          "text": [
            "\r 30%|███       | 94/310 [00:25<00:59,  3.63it/s]"
          ]
        },
        {
          "name": "stdout",
          "output_type": "stream",
          "text": [
            "\n",
            "Index 94 (No), Layer‐Offset loop:\n",
            "  Last 10 token IDs:      [1, 477, 330, 17, 1, 323, 912, 1023, 1495, 13]\n",
            "  Last 10 token strings:  ['\"', 'Ġor', 'Ġ\"', '2', '\"', 'Ġand', 'Ġno', 'Ġother', 'Ġtext', '.']\n",
            "\n"
          ]
        },
        {
          "name": "stderr",
          "output_type": "stream",
          "text": [
            "\r 31%|███       | 95/310 [00:25<00:58,  3.65it/s]"
          ]
        },
        {
          "name": "stdout",
          "output_type": "stream",
          "text": [
            "\n",
            "Index 95 (Yes), Layer‐Offset loop:\n",
            "  Last 10 token IDs:      [1, 477, 330, 17, 1, 323, 912, 1023, 1495, 13]\n",
            "  Last 10 token strings:  ['\"', 'Ġor', 'Ġ\"', '2', '\"', 'Ġand', 'Ġno', 'Ġother', 'Ġtext', '.']\n",
            "\n"
          ]
        },
        {
          "name": "stderr",
          "output_type": "stream",
          "text": [
            "\r 31%|███       | 96/310 [00:26<00:58,  3.64it/s]"
          ]
        },
        {
          "name": "stdout",
          "output_type": "stream",
          "text": [
            "\n",
            "Index 96 (Yes), Layer‐Offset loop:\n",
            "  Last 10 token IDs:      [1, 477, 330, 17, 1, 323, 912, 1023, 1495, 13]\n",
            "  Last 10 token strings:  ['\"', 'Ġor', 'Ġ\"', '2', '\"', 'Ġand', 'Ġno', 'Ġother', 'Ġtext', '.']\n",
            "\n"
          ]
        },
        {
          "name": "stderr",
          "output_type": "stream",
          "text": [
            "\r 31%|███▏      | 97/310 [00:26<00:58,  3.66it/s]"
          ]
        },
        {
          "name": "stdout",
          "output_type": "stream",
          "text": [
            "\n",
            "Index 97 (Yes), Layer‐Offset loop:\n",
            "  Last 10 token IDs:      [1, 477, 330, 17, 1, 323, 912, 1023, 1495, 13]\n",
            "  Last 10 token strings:  ['\"', 'Ġor', 'Ġ\"', '2', '\"', 'Ġand', 'Ġno', 'Ġother', 'Ġtext', '.']\n",
            "\n"
          ]
        },
        {
          "name": "stderr",
          "output_type": "stream",
          "text": [
            "\r 32%|███▏      | 98/310 [00:26<00:57,  3.72it/s]"
          ]
        },
        {
          "name": "stdout",
          "output_type": "stream",
          "text": [
            "\n",
            "Index 98 (No), Layer‐Offset loop:\n",
            "  Last 10 token IDs:      [1, 477, 330, 17, 1, 323, 912, 1023, 1495, 13]\n",
            "  Last 10 token strings:  ['\"', 'Ġor', 'Ġ\"', '2', '\"', 'Ġand', 'Ġno', 'Ġother', 'Ġtext', '.']\n",
            "\n"
          ]
        },
        {
          "name": "stderr",
          "output_type": "stream",
          "text": [
            "\r 32%|███▏      | 99/310 [00:27<01:00,  3.51it/s]"
          ]
        },
        {
          "name": "stdout",
          "output_type": "stream",
          "text": [
            "\n",
            "Index 99 (No), Layer‐Offset loop:\n",
            "  Last 10 token IDs:      [1, 477, 330, 17, 1, 323, 912, 1023, 1495, 13]\n",
            "  Last 10 token strings:  ['\"', 'Ġor', 'Ġ\"', '2', '\"', 'Ġand', 'Ġno', 'Ġother', 'Ġtext', '.']\n",
            "\n"
          ]
        },
        {
          "name": "stderr",
          "output_type": "stream",
          "text": [
            "\r 32%|███▏      | 100/310 [00:27<00:58,  3.58it/s]"
          ]
        },
        {
          "name": "stdout",
          "output_type": "stream",
          "text": [
            "\n",
            "Index 100 (Yes), Layer‐Offset loop:\n",
            "  Last 10 token IDs:      [1, 477, 330, 17, 1, 323, 912, 1023, 1495, 13]\n",
            "  Last 10 token strings:  ['\"', 'Ġor', 'Ġ\"', '2', '\"', 'Ġand', 'Ġno', 'Ġother', 'Ġtext', '.']\n",
            "\n"
          ]
        },
        {
          "name": "stderr",
          "output_type": "stream",
          "text": [
            "\r 33%|███▎      | 101/310 [00:27<00:58,  3.56it/s]"
          ]
        },
        {
          "name": "stdout",
          "output_type": "stream",
          "text": [
            "\n",
            "Index 101 (Yes), Layer‐Offset loop:\n",
            "  Last 10 token IDs:      [1, 477, 330, 17, 1, 323, 912, 1023, 1495, 13]\n",
            "  Last 10 token strings:  ['\"', 'Ġor', 'Ġ\"', '2', '\"', 'Ġand', 'Ġno', 'Ġother', 'Ġtext', '.']\n",
            "\n"
          ]
        },
        {
          "name": "stderr",
          "output_type": "stream",
          "text": [
            "\r 33%|███▎      | 102/310 [00:27<00:57,  3.62it/s]"
          ]
        },
        {
          "name": "stdout",
          "output_type": "stream",
          "text": [
            "\n",
            "Index 102 (No), Layer‐Offset loop:\n",
            "  Last 10 token IDs:      [1, 477, 330, 17, 1, 323, 912, 1023, 1495, 13]\n",
            "  Last 10 token strings:  ['\"', 'Ġor', 'Ġ\"', '2', '\"', 'Ġand', 'Ġno', 'Ġother', 'Ġtext', '.']\n",
            "\n"
          ]
        },
        {
          "name": "stderr",
          "output_type": "stream",
          "text": [
            "\r 33%|███▎      | 103/310 [00:28<00:56,  3.65it/s]"
          ]
        },
        {
          "name": "stdout",
          "output_type": "stream",
          "text": [
            "\n",
            "Index 103 (Yes), Layer‐Offset loop:\n",
            "  Last 10 token IDs:      [1, 477, 330, 17, 1, 323, 912, 1023, 1495, 13]\n",
            "  Last 10 token strings:  ['\"', 'Ġor', 'Ġ\"', '2', '\"', 'Ġand', 'Ġno', 'Ġother', 'Ġtext', '.']\n",
            "\n"
          ]
        },
        {
          "name": "stderr",
          "output_type": "stream",
          "text": [
            "\r 34%|███▎      | 104/310 [00:28<00:56,  3.65it/s]"
          ]
        },
        {
          "name": "stdout",
          "output_type": "stream",
          "text": [
            "\n",
            "Index 104 (Yes), Layer‐Offset loop:\n",
            "  Last 10 token IDs:      [1, 477, 330, 17, 1, 323, 912, 1023, 1495, 13]\n",
            "  Last 10 token strings:  ['\"', 'Ġor', 'Ġ\"', '2', '\"', 'Ġand', 'Ġno', 'Ġother', 'Ġtext', '.']\n",
            "\n"
          ]
        },
        {
          "name": "stderr",
          "output_type": "stream",
          "text": [
            "\r 34%|███▍      | 105/310 [00:28<00:54,  3.73it/s]"
          ]
        },
        {
          "name": "stdout",
          "output_type": "stream",
          "text": [
            "\n",
            "Index 105 (Yes), Layer‐Offset loop:\n",
            "  Last 10 token IDs:      [1, 477, 330, 17, 1, 323, 912, 1023, 1495, 13]\n",
            "  Last 10 token strings:  ['\"', 'Ġor', 'Ġ\"', '2', '\"', 'Ġand', 'Ġno', 'Ġother', 'Ġtext', '.']\n",
            "\n"
          ]
        },
        {
          "name": "stderr",
          "output_type": "stream",
          "text": [
            "\r 34%|███▍      | 106/310 [00:28<00:55,  3.69it/s]"
          ]
        },
        {
          "name": "stdout",
          "output_type": "stream",
          "text": [
            "\n",
            "Index 106 (Yes), Layer‐Offset loop:\n",
            "  Last 10 token IDs:      [1, 477, 330, 17, 1, 323, 912, 1023, 1495, 13]\n",
            "  Last 10 token strings:  ['\"', 'Ġor', 'Ġ\"', '2', '\"', 'Ġand', 'Ġno', 'Ġother', 'Ġtext', '.']\n",
            "\n"
          ]
        },
        {
          "name": "stderr",
          "output_type": "stream",
          "text": [
            "\r 35%|███▍      | 107/310 [00:29<00:55,  3.63it/s]"
          ]
        },
        {
          "name": "stdout",
          "output_type": "stream",
          "text": [
            "\n",
            "Index 107 (No), Layer‐Offset loop:\n",
            "  Last 10 token IDs:      [1, 477, 330, 17, 1, 323, 912, 1023, 1495, 13]\n",
            "  Last 10 token strings:  ['\"', 'Ġor', 'Ġ\"', '2', '\"', 'Ġand', 'Ġno', 'Ġother', 'Ġtext', '.']\n",
            "\n"
          ]
        },
        {
          "name": "stderr",
          "output_type": "stream",
          "text": [
            "\r 35%|███▍      | 108/310 [00:29<00:54,  3.68it/s]"
          ]
        },
        {
          "name": "stdout",
          "output_type": "stream",
          "text": [
            "\n",
            "Index 108 (Yes), Layer‐Offset loop:\n",
            "  Last 10 token IDs:      [1, 477, 330, 17, 1, 323, 912, 1023, 1495, 13]\n",
            "  Last 10 token strings:  ['\"', 'Ġor', 'Ġ\"', '2', '\"', 'Ġand', 'Ġno', 'Ġother', 'Ġtext', '.']\n",
            "\n"
          ]
        },
        {
          "name": "stderr",
          "output_type": "stream",
          "text": [
            "\r 35%|███▌      | 109/310 [00:29<00:55,  3.60it/s]"
          ]
        },
        {
          "name": "stdout",
          "output_type": "stream",
          "text": [
            "\n",
            "Index 109 (Yes), Layer‐Offset loop:\n",
            "  Last 10 token IDs:      [1, 477, 330, 17, 1, 323, 912, 1023, 1495, 13]\n",
            "  Last 10 token strings:  ['\"', 'Ġor', 'Ġ\"', '2', '\"', 'Ġand', 'Ġno', 'Ġother', 'Ġtext', '.']\n",
            "\n"
          ]
        },
        {
          "name": "stderr",
          "output_type": "stream",
          "text": [
            "\r 35%|███▌      | 110/310 [00:30<00:54,  3.69it/s]"
          ]
        },
        {
          "name": "stdout",
          "output_type": "stream",
          "text": [
            "\n",
            "Index 110 (Yes), Layer‐Offset loop:\n",
            "  Last 10 token IDs:      [1, 477, 330, 17, 1, 323, 912, 1023, 1495, 13]\n",
            "  Last 10 token strings:  ['\"', 'Ġor', 'Ġ\"', '2', '\"', 'Ġand', 'Ġno', 'Ġother', 'Ġtext', '.']\n",
            "\n"
          ]
        },
        {
          "name": "stderr",
          "output_type": "stream",
          "text": [
            "\r 36%|███▌      | 111/310 [00:30<00:53,  3.75it/s]"
          ]
        },
        {
          "name": "stdout",
          "output_type": "stream",
          "text": [
            "\n",
            "Index 111 (Yes), Layer‐Offset loop:\n",
            "  Last 10 token IDs:      [1, 477, 330, 17, 1, 323, 912, 1023, 1495, 13]\n",
            "  Last 10 token strings:  ['\"', 'Ġor', 'Ġ\"', '2', '\"', 'Ġand', 'Ġno', 'Ġother', 'Ġtext', '.']\n",
            "\n"
          ]
        },
        {
          "name": "stderr",
          "output_type": "stream",
          "text": [
            "\r 36%|███▌      | 112/310 [00:30<00:52,  3.81it/s]"
          ]
        },
        {
          "name": "stdout",
          "output_type": "stream",
          "text": [
            "\n",
            "Index 112 (No), Layer‐Offset loop:\n",
            "  Last 10 token IDs:      [1, 477, 330, 17, 1, 323, 912, 1023, 1495, 13]\n",
            "  Last 10 token strings:  ['\"', 'Ġor', 'Ġ\"', '2', '\"', 'Ġand', 'Ġno', 'Ġother', 'Ġtext', '.']\n",
            "\n"
          ]
        },
        {
          "name": "stderr",
          "output_type": "stream",
          "text": [
            "\r 36%|███▋      | 113/310 [00:30<00:51,  3.80it/s]"
          ]
        },
        {
          "name": "stdout",
          "output_type": "stream",
          "text": [
            "\n",
            "Index 113 (No), Layer‐Offset loop:\n",
            "  Last 10 token IDs:      [1, 477, 330, 17, 1, 323, 912, 1023, 1495, 13]\n",
            "  Last 10 token strings:  ['\"', 'Ġor', 'Ġ\"', '2', '\"', 'Ġand', 'Ġno', 'Ġother', 'Ġtext', '.']\n",
            "\n"
          ]
        },
        {
          "name": "stderr",
          "output_type": "stream",
          "text": [
            "\r 37%|███▋      | 114/310 [00:31<00:51,  3.79it/s]"
          ]
        },
        {
          "name": "stdout",
          "output_type": "stream",
          "text": [
            "\n",
            "Index 114 (No), Layer‐Offset loop:\n",
            "  Last 10 token IDs:      [1, 477, 330, 17, 1, 323, 912, 1023, 1495, 13]\n",
            "  Last 10 token strings:  ['\"', 'Ġor', 'Ġ\"', '2', '\"', 'Ġand', 'Ġno', 'Ġother', 'Ġtext', '.']\n",
            "\n"
          ]
        },
        {
          "name": "stderr",
          "output_type": "stream",
          "text": [
            "\r 37%|███▋      | 115/310 [00:31<00:51,  3.82it/s]"
          ]
        },
        {
          "name": "stdout",
          "output_type": "stream",
          "text": [
            "\n",
            "Index 115 (Yes), Layer‐Offset loop:\n",
            "  Last 10 token IDs:      [1, 477, 330, 17, 1, 323, 912, 1023, 1495, 13]\n",
            "  Last 10 token strings:  ['\"', 'Ġor', 'Ġ\"', '2', '\"', 'Ġand', 'Ġno', 'Ġother', 'Ġtext', '.']\n",
            "\n"
          ]
        },
        {
          "name": "stderr",
          "output_type": "stream",
          "text": [
            "\r 37%|███▋      | 116/310 [00:31<00:51,  3.80it/s]"
          ]
        },
        {
          "name": "stdout",
          "output_type": "stream",
          "text": [
            "\n",
            "Index 116 (Yes), Layer‐Offset loop:\n",
            "  Last 10 token IDs:      [1, 477, 330, 17, 1, 323, 912, 1023, 1495, 13]\n",
            "  Last 10 token strings:  ['\"', 'Ġor', 'Ġ\"', '2', '\"', 'Ġand', 'Ġno', 'Ġother', 'Ġtext', '.']\n",
            "\n"
          ]
        },
        {
          "name": "stderr",
          "output_type": "stream",
          "text": [
            "\r 38%|███▊      | 117/310 [00:31<00:50,  3.82it/s]"
          ]
        },
        {
          "name": "stdout",
          "output_type": "stream",
          "text": [
            "\n",
            "Index 117 (No), Layer‐Offset loop:\n",
            "  Last 10 token IDs:      [1, 477, 330, 17, 1, 323, 912, 1023, 1495, 13]\n",
            "  Last 10 token strings:  ['\"', 'Ġor', 'Ġ\"', '2', '\"', 'Ġand', 'Ġno', 'Ġother', 'Ġtext', '.']\n",
            "\n"
          ]
        },
        {
          "name": "stderr",
          "output_type": "stream",
          "text": [
            "\r 38%|███▊      | 118/310 [00:32<00:53,  3.58it/s]"
          ]
        },
        {
          "name": "stdout",
          "output_type": "stream",
          "text": [
            "\n",
            "Index 118 (Yes), Layer‐Offset loop:\n",
            "  Last 10 token IDs:      [1, 477, 330, 17, 1, 323, 912, 1023, 1495, 13]\n",
            "  Last 10 token strings:  ['\"', 'Ġor', 'Ġ\"', '2', '\"', 'Ġand', 'Ġno', 'Ġother', 'Ġtext', '.']\n",
            "\n"
          ]
        },
        {
          "name": "stderr",
          "output_type": "stream",
          "text": [
            "\r 38%|███▊      | 119/310 [00:32<00:52,  3.64it/s]"
          ]
        },
        {
          "name": "stdout",
          "output_type": "stream",
          "text": [
            "\n",
            "Index 119 (Yes), Layer‐Offset loop:\n",
            "  Last 10 token IDs:      [1, 477, 330, 17, 1, 323, 912, 1023, 1495, 13]\n",
            "  Last 10 token strings:  ['\"', 'Ġor', 'Ġ\"', '2', '\"', 'Ġand', 'Ġno', 'Ġother', 'Ġtext', '.']\n",
            "\n"
          ]
        },
        {
          "name": "stderr",
          "output_type": "stream",
          "text": [
            "\r 39%|███▊      | 120/310 [00:32<00:54,  3.50it/s]"
          ]
        },
        {
          "name": "stdout",
          "output_type": "stream",
          "text": [
            "\n",
            "Index 120 (Yes), Layer‐Offset loop:\n",
            "  Last 10 token IDs:      [1, 477, 330, 17, 1, 323, 912, 1023, 1495, 13]\n",
            "  Last 10 token strings:  ['\"', 'Ġor', 'Ġ\"', '2', '\"', 'Ġand', 'Ġno', 'Ġother', 'Ġtext', '.']\n",
            "\n"
          ]
        },
        {
          "name": "stderr",
          "output_type": "stream",
          "text": [
            "\r 39%|███▉      | 121/310 [00:33<00:52,  3.60it/s]"
          ]
        },
        {
          "name": "stdout",
          "output_type": "stream",
          "text": [
            "\n",
            "Index 121 (Yes), Layer‐Offset loop:\n",
            "  Last 10 token IDs:      [1, 477, 330, 17, 1, 323, 912, 1023, 1495, 13]\n",
            "  Last 10 token strings:  ['\"', 'Ġor', 'Ġ\"', '2', '\"', 'Ġand', 'Ġno', 'Ġother', 'Ġtext', '.']\n",
            "\n"
          ]
        },
        {
          "name": "stderr",
          "output_type": "stream",
          "text": [
            "\r 39%|███▉      | 122/310 [00:33<00:51,  3.63it/s]"
          ]
        },
        {
          "name": "stdout",
          "output_type": "stream",
          "text": [
            "\n",
            "Index 122 (No), Layer‐Offset loop:\n",
            "  Last 10 token IDs:      [1, 477, 330, 17, 1, 323, 912, 1023, 1495, 13]\n",
            "  Last 10 token strings:  ['\"', 'Ġor', 'Ġ\"', '2', '\"', 'Ġand', 'Ġno', 'Ġother', 'Ġtext', '.']\n",
            "\n"
          ]
        },
        {
          "name": "stderr",
          "output_type": "stream",
          "text": [
            "\r 40%|███▉      | 123/310 [00:33<00:51,  3.62it/s]"
          ]
        },
        {
          "name": "stdout",
          "output_type": "stream",
          "text": [
            "\n",
            "Index 123 (Yes), Layer‐Offset loop:\n",
            "  Last 10 token IDs:      [1, 477, 330, 17, 1, 323, 912, 1023, 1495, 13]\n",
            "  Last 10 token strings:  ['\"', 'Ġor', 'Ġ\"', '2', '\"', 'Ġand', 'Ġno', 'Ġother', 'Ġtext', '.']\n",
            "\n"
          ]
        },
        {
          "name": "stderr",
          "output_type": "stream",
          "text": [
            "\r 40%|████      | 124/310 [00:33<00:50,  3.70it/s]"
          ]
        },
        {
          "name": "stdout",
          "output_type": "stream",
          "text": [
            "\n",
            "Index 124 (Yes), Layer‐Offset loop:\n",
            "  Last 10 token IDs:      [1, 477, 330, 17, 1, 323, 912, 1023, 1495, 13]\n",
            "  Last 10 token strings:  ['\"', 'Ġor', 'Ġ\"', '2', '\"', 'Ġand', 'Ġno', 'Ġother', 'Ġtext', '.']\n",
            "\n"
          ]
        },
        {
          "name": "stderr",
          "output_type": "stream",
          "text": [
            "\r 40%|████      | 125/310 [00:34<00:50,  3.69it/s]"
          ]
        },
        {
          "name": "stdout",
          "output_type": "stream",
          "text": [
            "\n",
            "Index 125 (No), Layer‐Offset loop:\n",
            "  Last 10 token IDs:      [1, 477, 330, 17, 1, 323, 912, 1023, 1495, 13]\n",
            "  Last 10 token strings:  ['\"', 'Ġor', 'Ġ\"', '2', '\"', 'Ġand', 'Ġno', 'Ġother', 'Ġtext', '.']\n",
            "\n"
          ]
        },
        {
          "name": "stderr",
          "output_type": "stream",
          "text": [
            "\r 41%|████      | 126/310 [00:34<00:49,  3.73it/s]"
          ]
        },
        {
          "name": "stdout",
          "output_type": "stream",
          "text": [
            "\n",
            "Index 126 (No), Layer‐Offset loop:\n",
            "  Last 10 token IDs:      [1, 477, 330, 17, 1, 323, 912, 1023, 1495, 13]\n",
            "  Last 10 token strings:  ['\"', 'Ġor', 'Ġ\"', '2', '\"', 'Ġand', 'Ġno', 'Ġother', 'Ġtext', '.']\n",
            "\n"
          ]
        },
        {
          "name": "stderr",
          "output_type": "stream",
          "text": [
            "\r 41%|████      | 127/310 [00:34<00:48,  3.78it/s]"
          ]
        },
        {
          "name": "stdout",
          "output_type": "stream",
          "text": [
            "\n",
            "Index 127 (No), Layer‐Offset loop:\n",
            "  Last 10 token IDs:      [1, 477, 330, 17, 1, 323, 912, 1023, 1495, 13]\n",
            "  Last 10 token strings:  ['\"', 'Ġor', 'Ġ\"', '2', '\"', 'Ġand', 'Ġno', 'Ġother', 'Ġtext', '.']\n",
            "\n"
          ]
        },
        {
          "name": "stderr",
          "output_type": "stream",
          "text": [
            "\r 41%|████▏     | 128/310 [00:34<00:47,  3.85it/s]"
          ]
        },
        {
          "name": "stdout",
          "output_type": "stream",
          "text": [
            "\n",
            "Index 128 (No), Layer‐Offset loop:\n",
            "  Last 10 token IDs:      [1, 477, 330, 17, 1, 323, 912, 1023, 1495, 13]\n",
            "  Last 10 token strings:  ['\"', 'Ġor', 'Ġ\"', '2', '\"', 'Ġand', 'Ġno', 'Ġother', 'Ġtext', '.']\n",
            "\n"
          ]
        },
        {
          "name": "stderr",
          "output_type": "stream",
          "text": [
            "\r 42%|████▏     | 129/310 [00:35<00:47,  3.79it/s]"
          ]
        },
        {
          "name": "stdout",
          "output_type": "stream",
          "text": [
            "\n",
            "Index 129 (No), Layer‐Offset loop:\n",
            "  Last 10 token IDs:      [1, 477, 330, 17, 1, 323, 912, 1023, 1495, 13]\n",
            "  Last 10 token strings:  ['\"', 'Ġor', 'Ġ\"', '2', '\"', 'Ġand', 'Ġno', 'Ġother', 'Ġtext', '.']\n",
            "\n"
          ]
        },
        {
          "name": "stderr",
          "output_type": "stream",
          "text": [
            "\r 42%|████▏     | 130/310 [00:35<00:47,  3.78it/s]"
          ]
        },
        {
          "name": "stdout",
          "output_type": "stream",
          "text": [
            "\n",
            "Index 130 (No), Layer‐Offset loop:\n",
            "  Last 10 token IDs:      [1, 477, 330, 17, 1, 323, 912, 1023, 1495, 13]\n",
            "  Last 10 token strings:  ['\"', 'Ġor', 'Ġ\"', '2', '\"', 'Ġand', 'Ġno', 'Ġother', 'Ġtext', '.']\n",
            "\n"
          ]
        },
        {
          "name": "stderr",
          "output_type": "stream",
          "text": [
            "\r 42%|████▏     | 131/310 [00:35<00:47,  3.78it/s]"
          ]
        },
        {
          "name": "stdout",
          "output_type": "stream",
          "text": [
            "\n",
            "Index 131 (No), Layer‐Offset loop:\n",
            "  Last 10 token IDs:      [1, 477, 330, 17, 1, 323, 912, 1023, 1495, 13]\n",
            "  Last 10 token strings:  ['\"', 'Ġor', 'Ġ\"', '2', '\"', 'Ġand', 'Ġno', 'Ġother', 'Ġtext', '.']\n",
            "\n"
          ]
        },
        {
          "name": "stderr",
          "output_type": "stream",
          "text": [
            "\r 43%|████▎     | 132/310 [00:35<00:46,  3.83it/s]"
          ]
        },
        {
          "name": "stdout",
          "output_type": "stream",
          "text": [
            "\n",
            "Index 132 (No), Layer‐Offset loop:\n",
            "  Last 10 token IDs:      [1, 477, 330, 17, 1, 323, 912, 1023, 1495, 13]\n",
            "  Last 10 token strings:  ['\"', 'Ġor', 'Ġ\"', '2', '\"', 'Ġand', 'Ġno', 'Ġother', 'Ġtext', '.']\n",
            "\n"
          ]
        },
        {
          "name": "stderr",
          "output_type": "stream",
          "text": [
            "\r 43%|████▎     | 133/310 [00:36<00:46,  3.84it/s]"
          ]
        },
        {
          "name": "stdout",
          "output_type": "stream",
          "text": [
            "\n",
            "Index 133 (Yes), Layer‐Offset loop:\n",
            "  Last 10 token IDs:      [1, 477, 330, 17, 1, 323, 912, 1023, 1495, 13]\n",
            "  Last 10 token strings:  ['\"', 'Ġor', 'Ġ\"', '2', '\"', 'Ġand', 'Ġno', 'Ġother', 'Ġtext', '.']\n",
            "\n"
          ]
        },
        {
          "name": "stderr",
          "output_type": "stream",
          "text": [
            "\r 43%|████▎     | 134/310 [00:36<00:45,  3.89it/s]"
          ]
        },
        {
          "name": "stdout",
          "output_type": "stream",
          "text": [
            "\n",
            "Index 134 (Yes), Layer‐Offset loop:\n",
            "  Last 10 token IDs:      [1, 477, 330, 17, 1, 323, 912, 1023, 1495, 13]\n",
            "  Last 10 token strings:  ['\"', 'Ġor', 'Ġ\"', '2', '\"', 'Ġand', 'Ġno', 'Ġother', 'Ġtext', '.']\n",
            "\n"
          ]
        },
        {
          "name": "stderr",
          "output_type": "stream",
          "text": [
            "\r 44%|████▎     | 135/310 [00:36<00:49,  3.56it/s]"
          ]
        },
        {
          "name": "stdout",
          "output_type": "stream",
          "text": [
            "\n",
            "Index 135 (No), Layer‐Offset loop:\n",
            "  Last 10 token IDs:      [1, 477, 330, 17, 1, 323, 912, 1023, 1495, 13]\n",
            "  Last 10 token strings:  ['\"', 'Ġor', 'Ġ\"', '2', '\"', 'Ġand', 'Ġno', 'Ġother', 'Ġtext', '.']\n",
            "\n"
          ]
        },
        {
          "name": "stderr",
          "output_type": "stream",
          "text": [
            "\r 44%|████▍     | 136/310 [00:37<00:49,  3.51it/s]"
          ]
        },
        {
          "name": "stdout",
          "output_type": "stream",
          "text": [
            "\n",
            "Index 136 (No), Layer‐Offset loop:\n",
            "  Last 10 token IDs:      [1, 477, 330, 17, 1, 323, 912, 1023, 1495, 13]\n",
            "  Last 10 token strings:  ['\"', 'Ġor', 'Ġ\"', '2', '\"', 'Ġand', 'Ġno', 'Ġother', 'Ġtext', '.']\n",
            "\n"
          ]
        },
        {
          "name": "stderr",
          "output_type": "stream",
          "text": [
            "\r 44%|████▍     | 137/310 [00:37<00:47,  3.62it/s]"
          ]
        },
        {
          "name": "stdout",
          "output_type": "stream",
          "text": [
            "\n",
            "Index 137 (Yes), Layer‐Offset loop:\n",
            "  Last 10 token IDs:      [1, 477, 330, 17, 1, 323, 912, 1023, 1495, 13]\n",
            "  Last 10 token strings:  ['\"', 'Ġor', 'Ġ\"', '2', '\"', 'Ġand', 'Ġno', 'Ġother', 'Ġtext', '.']\n",
            "\n"
          ]
        },
        {
          "name": "stderr",
          "output_type": "stream",
          "text": [
            "\r 45%|████▍     | 138/310 [00:37<00:47,  3.64it/s]"
          ]
        },
        {
          "name": "stdout",
          "output_type": "stream",
          "text": [
            "\n",
            "Index 138 (Yes), Layer‐Offset loop:\n",
            "  Last 10 token IDs:      [1, 477, 330, 17, 1, 323, 912, 1023, 1495, 13]\n",
            "  Last 10 token strings:  ['\"', 'Ġor', 'Ġ\"', '2', '\"', 'Ġand', 'Ġno', 'Ġother', 'Ġtext', '.']\n",
            "\n"
          ]
        },
        {
          "name": "stderr",
          "output_type": "stream",
          "text": [
            "\r 45%|████▍     | 139/310 [00:37<00:47,  3.61it/s]"
          ]
        },
        {
          "name": "stdout",
          "output_type": "stream",
          "text": [
            "\n",
            "Index 139 (No), Layer‐Offset loop:\n",
            "  Last 10 token IDs:      [1, 477, 330, 17, 1, 323, 912, 1023, 1495, 13]\n",
            "  Last 10 token strings:  ['\"', 'Ġor', 'Ġ\"', '2', '\"', 'Ġand', 'Ġno', 'Ġother', 'Ġtext', '.']\n",
            "\n"
          ]
        },
        {
          "name": "stderr",
          "output_type": "stream",
          "text": [
            "\r 45%|████▌     | 140/310 [00:38<00:46,  3.69it/s]"
          ]
        },
        {
          "name": "stdout",
          "output_type": "stream",
          "text": [
            "\n",
            "Index 140 (Yes), Layer‐Offset loop:\n",
            "  Last 10 token IDs:      [1, 477, 330, 17, 1, 323, 912, 1023, 1495, 13]\n",
            "  Last 10 token strings:  ['\"', 'Ġor', 'Ġ\"', '2', '\"', 'Ġand', 'Ġno', 'Ġother', 'Ġtext', '.']\n",
            "\n"
          ]
        },
        {
          "name": "stderr",
          "output_type": "stream",
          "text": [
            "\r 45%|████▌     | 141/310 [00:38<00:45,  3.71it/s]"
          ]
        },
        {
          "name": "stdout",
          "output_type": "stream",
          "text": [
            "\n",
            "Index 141 (No), Layer‐Offset loop:\n",
            "  Last 10 token IDs:      [1, 477, 330, 17, 1, 323, 912, 1023, 1495, 13]\n",
            "  Last 10 token strings:  ['\"', 'Ġor', 'Ġ\"', '2', '\"', 'Ġand', 'Ġno', 'Ġother', 'Ġtext', '.']\n",
            "\n"
          ]
        },
        {
          "name": "stderr",
          "output_type": "stream",
          "text": [
            "\r 46%|████▌     | 142/310 [00:38<00:46,  3.61it/s]"
          ]
        },
        {
          "name": "stdout",
          "output_type": "stream",
          "text": [
            "\n",
            "Index 142 (No), Layer‐Offset loop:\n",
            "  Last 10 token IDs:      [1, 477, 330, 17, 1, 323, 912, 1023, 1495, 13]\n",
            "  Last 10 token strings:  ['\"', 'Ġor', 'Ġ\"', '2', '\"', 'Ġand', 'Ġno', 'Ġother', 'Ġtext', '.']\n",
            "\n"
          ]
        },
        {
          "name": "stderr",
          "output_type": "stream",
          "text": [
            "\r 46%|████▌     | 143/310 [00:38<00:45,  3.68it/s]"
          ]
        },
        {
          "name": "stdout",
          "output_type": "stream",
          "text": [
            "\n",
            "Index 143 (No), Layer‐Offset loop:\n",
            "  Last 10 token IDs:      [1, 477, 330, 17, 1, 323, 912, 1023, 1495, 13]\n",
            "  Last 10 token strings:  ['\"', 'Ġor', 'Ġ\"', '2', '\"', 'Ġand', 'Ġno', 'Ġother', 'Ġtext', '.']\n",
            "\n"
          ]
        },
        {
          "name": "stderr",
          "output_type": "stream",
          "text": [
            "\r 46%|████▋     | 144/310 [00:39<00:46,  3.60it/s]"
          ]
        },
        {
          "name": "stdout",
          "output_type": "stream",
          "text": [
            "\n",
            "Index 144 (No), Layer‐Offset loop:\n",
            "  Last 10 token IDs:      [1, 477, 330, 17, 1, 323, 912, 1023, 1495, 13]\n",
            "  Last 10 token strings:  ['\"', 'Ġor', 'Ġ\"', '2', '\"', 'Ġand', 'Ġno', 'Ġother', 'Ġtext', '.']\n",
            "\n"
          ]
        },
        {
          "name": "stderr",
          "output_type": "stream",
          "text": [
            "\r 47%|████▋     | 145/310 [00:39<00:46,  3.56it/s]"
          ]
        },
        {
          "name": "stdout",
          "output_type": "stream",
          "text": [
            "\n",
            "Index 145 (No), Layer‐Offset loop:\n",
            "  Last 10 token IDs:      [1, 477, 330, 17, 1, 323, 912, 1023, 1495, 13]\n",
            "  Last 10 token strings:  ['\"', 'Ġor', 'Ġ\"', '2', '\"', 'Ġand', 'Ġno', 'Ġother', 'Ġtext', '.']\n",
            "\n"
          ]
        },
        {
          "name": "stderr",
          "output_type": "stream",
          "text": [
            "\r 47%|████▋     | 146/310 [00:39<00:48,  3.40it/s]"
          ]
        },
        {
          "name": "stdout",
          "output_type": "stream",
          "text": [
            "\n",
            "Index 146 (Yes), Layer‐Offset loop:\n",
            "  Last 10 token IDs:      [1, 477, 330, 17, 1, 323, 912, 1023, 1495, 13]\n",
            "  Last 10 token strings:  ['\"', 'Ġor', 'Ġ\"', '2', '\"', 'Ġand', 'Ġno', 'Ġother', 'Ġtext', '.']\n",
            "\n"
          ]
        },
        {
          "name": "stderr",
          "output_type": "stream",
          "text": [
            "\r 47%|████▋     | 147/310 [00:40<00:46,  3.52it/s]"
          ]
        },
        {
          "name": "stdout",
          "output_type": "stream",
          "text": [
            "\n",
            "Index 147 (Yes), Layer‐Offset loop:\n",
            "  Last 10 token IDs:      [1, 477, 330, 17, 1, 323, 912, 1023, 1495, 13]\n",
            "  Last 10 token strings:  ['\"', 'Ġor', 'Ġ\"', '2', '\"', 'Ġand', 'Ġno', 'Ġother', 'Ġtext', '.']\n",
            "\n"
          ]
        },
        {
          "name": "stderr",
          "output_type": "stream",
          "text": [
            "\r 48%|████▊     | 148/310 [00:40<00:46,  3.52it/s]"
          ]
        },
        {
          "name": "stdout",
          "output_type": "stream",
          "text": [
            "\n",
            "Index 148 (No), Layer‐Offset loop:\n",
            "  Last 10 token IDs:      [1, 477, 330, 17, 1, 323, 912, 1023, 1495, 13]\n",
            "  Last 10 token strings:  ['\"', 'Ġor', 'Ġ\"', '2', '\"', 'Ġand', 'Ġno', 'Ġother', 'Ġtext', '.']\n",
            "\n"
          ]
        },
        {
          "name": "stderr",
          "output_type": "stream",
          "text": [
            "\r 48%|████▊     | 149/310 [00:40<00:44,  3.59it/s]"
          ]
        },
        {
          "name": "stdout",
          "output_type": "stream",
          "text": [
            "\n",
            "Index 149 (No), Layer‐Offset loop:\n",
            "  Last 10 token IDs:      [1, 477, 330, 17, 1, 323, 912, 1023, 1495, 13]\n",
            "  Last 10 token strings:  ['\"', 'Ġor', 'Ġ\"', '2', '\"', 'Ġand', 'Ġno', 'Ġother', 'Ġtext', '.']\n",
            "\n"
          ]
        },
        {
          "name": "stderr",
          "output_type": "stream",
          "text": [
            "\r 48%|████▊     | 150/310 [00:40<00:45,  3.49it/s]"
          ]
        },
        {
          "name": "stdout",
          "output_type": "stream",
          "text": [
            "\n",
            "Index 150 (Yes), Layer‐Offset loop:\n",
            "  Last 10 token IDs:      [1, 477, 330, 17, 1, 323, 912, 1023, 1495, 13]\n",
            "  Last 10 token strings:  ['\"', 'Ġor', 'Ġ\"', '2', '\"', 'Ġand', 'Ġno', 'Ġother', 'Ġtext', '.']\n",
            "\n"
          ]
        },
        {
          "name": "stderr",
          "output_type": "stream",
          "text": [
            "\r 49%|████▊     | 151/310 [00:41<00:44,  3.56it/s]"
          ]
        },
        {
          "name": "stdout",
          "output_type": "stream",
          "text": [
            "\n",
            "Index 151 (No), Layer‐Offset loop:\n",
            "  Last 10 token IDs:      [1, 477, 330, 17, 1, 323, 912, 1023, 1495, 13]\n",
            "  Last 10 token strings:  ['\"', 'Ġor', 'Ġ\"', '2', '\"', 'Ġand', 'Ġno', 'Ġother', 'Ġtext', '.']\n",
            "\n"
          ]
        },
        {
          "name": "stderr",
          "output_type": "stream",
          "text": [
            "\r 49%|████▉     | 152/310 [00:41<00:44,  3.56it/s]"
          ]
        },
        {
          "name": "stdout",
          "output_type": "stream",
          "text": [
            "\n",
            "Index 152 (No), Layer‐Offset loop:\n",
            "  Last 10 token IDs:      [1, 477, 330, 17, 1, 323, 912, 1023, 1495, 13]\n",
            "  Last 10 token strings:  ['\"', 'Ġor', 'Ġ\"', '2', '\"', 'Ġand', 'Ġno', 'Ġother', 'Ġtext', '.']\n",
            "\n"
          ]
        },
        {
          "name": "stderr",
          "output_type": "stream",
          "text": [
            "\r 49%|████▉     | 153/310 [00:41<00:42,  3.67it/s]"
          ]
        },
        {
          "name": "stdout",
          "output_type": "stream",
          "text": [
            "\n",
            "Index 153 (Yes), Layer‐Offset loop:\n",
            "  Last 10 token IDs:      [1, 477, 330, 17, 1, 323, 912, 1023, 1495, 13]\n",
            "  Last 10 token strings:  ['\"', 'Ġor', 'Ġ\"', '2', '\"', 'Ġand', 'Ġno', 'Ġother', 'Ġtext', '.']\n",
            "\n"
          ]
        },
        {
          "name": "stderr",
          "output_type": "stream",
          "text": [
            "\r 50%|████▉     | 154/310 [00:42<00:42,  3.69it/s]"
          ]
        },
        {
          "name": "stdout",
          "output_type": "stream",
          "text": [
            "\n",
            "Index 154 (Yes), Layer‐Offset loop:\n",
            "  Last 10 token IDs:      [1, 477, 330, 17, 1, 323, 912, 1023, 1495, 13]\n",
            "  Last 10 token strings:  ['\"', 'Ġor', 'Ġ\"', '2', '\"', 'Ġand', 'Ġno', 'Ġother', 'Ġtext', '.']\n",
            "\n"
          ]
        },
        {
          "name": "stderr",
          "output_type": "stream",
          "text": [
            "\r 50%|█████     | 155/310 [00:42<00:44,  3.46it/s]"
          ]
        },
        {
          "name": "stdout",
          "output_type": "stream",
          "text": [
            "\n",
            "Index 155 (Yes), Layer‐Offset loop:\n",
            "  Last 10 token IDs:      [1, 477, 330, 17, 1, 323, 912, 1023, 1495, 13]\n",
            "  Last 10 token strings:  ['\"', 'Ġor', 'Ġ\"', '2', '\"', 'Ġand', 'Ġno', 'Ġother', 'Ġtext', '.']\n",
            "\n"
          ]
        },
        {
          "name": "stderr",
          "output_type": "stream",
          "text": [
            "\r 50%|█████     | 156/310 [00:42<00:42,  3.59it/s]"
          ]
        },
        {
          "name": "stdout",
          "output_type": "stream",
          "text": [
            "\n",
            "Index 156 (Yes), Layer‐Offset loop:\n",
            "  Last 10 token IDs:      [1, 477, 330, 17, 1, 323, 912, 1023, 1495, 13]\n",
            "  Last 10 token strings:  ['\"', 'Ġor', 'Ġ\"', '2', '\"', 'Ġand', 'Ġno', 'Ġother', 'Ġtext', '.']\n",
            "\n"
          ]
        },
        {
          "name": "stderr",
          "output_type": "stream",
          "text": [
            "\r 51%|█████     | 157/310 [00:42<00:43,  3.53it/s]"
          ]
        },
        {
          "name": "stdout",
          "output_type": "stream",
          "text": [
            "\n",
            "Index 157 (No), Layer‐Offset loop:\n",
            "  Last 10 token IDs:      [1, 477, 330, 17, 1, 323, 912, 1023, 1495, 13]\n",
            "  Last 10 token strings:  ['\"', 'Ġor', 'Ġ\"', '2', '\"', 'Ġand', 'Ġno', 'Ġother', 'Ġtext', '.']\n",
            "\n"
          ]
        },
        {
          "name": "stderr",
          "output_type": "stream",
          "text": [
            "\r 51%|█████     | 158/310 [00:43<00:41,  3.64it/s]"
          ]
        },
        {
          "name": "stdout",
          "output_type": "stream",
          "text": [
            "\n",
            "Index 158 (Yes), Layer‐Offset loop:\n",
            "  Last 10 token IDs:      [1, 477, 330, 17, 1, 323, 912, 1023, 1495, 13]\n",
            "  Last 10 token strings:  ['\"', 'Ġor', 'Ġ\"', '2', '\"', 'Ġand', 'Ġno', 'Ġother', 'Ġtext', '.']\n",
            "\n"
          ]
        },
        {
          "name": "stderr",
          "output_type": "stream",
          "text": [
            "\r 51%|█████▏    | 159/310 [00:43<00:40,  3.72it/s]"
          ]
        },
        {
          "name": "stdout",
          "output_type": "stream",
          "text": [
            "\n",
            "Index 159 (No), Layer‐Offset loop:\n",
            "  Last 10 token IDs:      [1, 477, 330, 17, 1, 323, 912, 1023, 1495, 13]\n",
            "  Last 10 token strings:  ['\"', 'Ġor', 'Ġ\"', '2', '\"', 'Ġand', 'Ġno', 'Ġother', 'Ġtext', '.']\n",
            "\n"
          ]
        },
        {
          "name": "stderr",
          "output_type": "stream",
          "text": [
            "\r 52%|█████▏    | 160/310 [00:43<00:39,  3.78it/s]"
          ]
        },
        {
          "name": "stdout",
          "output_type": "stream",
          "text": [
            "\n",
            "Index 160 (No), Layer‐Offset loop:\n",
            "  Last 10 token IDs:      [1, 477, 330, 17, 1, 323, 912, 1023, 1495, 13]\n",
            "  Last 10 token strings:  ['\"', 'Ġor', 'Ġ\"', '2', '\"', 'Ġand', 'Ġno', 'Ġother', 'Ġtext', '.']\n",
            "\n"
          ]
        },
        {
          "name": "stderr",
          "output_type": "stream",
          "text": [
            "\r 52%|█████▏    | 161/310 [00:43<00:39,  3.78it/s]"
          ]
        },
        {
          "name": "stdout",
          "output_type": "stream",
          "text": [
            "\n",
            "Index 161 (Yes), Layer‐Offset loop:\n",
            "  Last 10 token IDs:      [1, 477, 330, 17, 1, 323, 912, 1023, 1495, 13]\n",
            "  Last 10 token strings:  ['\"', 'Ġor', 'Ġ\"', '2', '\"', 'Ġand', 'Ġno', 'Ġother', 'Ġtext', '.']\n",
            "\n"
          ]
        },
        {
          "name": "stderr",
          "output_type": "stream",
          "text": [
            "\r 52%|█████▏    | 162/310 [00:44<00:39,  3.77it/s]"
          ]
        },
        {
          "name": "stdout",
          "output_type": "stream",
          "text": [
            "\n",
            "Index 162 (No), Layer‐Offset loop:\n",
            "  Last 10 token IDs:      [1, 477, 330, 17, 1, 323, 912, 1023, 1495, 13]\n",
            "  Last 10 token strings:  ['\"', 'Ġor', 'Ġ\"', '2', '\"', 'Ġand', 'Ġno', 'Ġother', 'Ġtext', '.']\n",
            "\n"
          ]
        },
        {
          "name": "stderr",
          "output_type": "stream",
          "text": [
            "\r 53%|█████▎    | 163/310 [00:44<00:39,  3.76it/s]"
          ]
        },
        {
          "name": "stdout",
          "output_type": "stream",
          "text": [
            "\n",
            "Index 163 (No), Layer‐Offset loop:\n",
            "  Last 10 token IDs:      [1, 477, 330, 17, 1, 323, 912, 1023, 1495, 13]\n",
            "  Last 10 token strings:  ['\"', 'Ġor', 'Ġ\"', '2', '\"', 'Ġand', 'Ġno', 'Ġother', 'Ġtext', '.']\n",
            "\n"
          ]
        },
        {
          "name": "stderr",
          "output_type": "stream",
          "text": [
            "\r 53%|█████▎    | 164/310 [00:44<00:41,  3.52it/s]"
          ]
        },
        {
          "name": "stdout",
          "output_type": "stream",
          "text": [
            "\n",
            "Index 164 (Yes), Layer‐Offset loop:\n",
            "  Last 10 token IDs:      [1, 477, 330, 17, 1, 323, 912, 1023, 1495, 13]\n",
            "  Last 10 token strings:  ['\"', 'Ġor', 'Ġ\"', '2', '\"', 'Ġand', 'Ġno', 'Ġother', 'Ġtext', '.']\n",
            "\n"
          ]
        },
        {
          "name": "stderr",
          "output_type": "stream",
          "text": [
            "\r 53%|█████▎    | 165/310 [00:45<00:40,  3.54it/s]"
          ]
        },
        {
          "name": "stdout",
          "output_type": "stream",
          "text": [
            "\n",
            "Index 165 (No), Layer‐Offset loop:\n",
            "  Last 10 token IDs:      [1, 477, 330, 17, 1, 323, 912, 1023, 1495, 13]\n",
            "  Last 10 token strings:  ['\"', 'Ġor', 'Ġ\"', '2', '\"', 'Ġand', 'Ġno', 'Ġother', 'Ġtext', '.']\n",
            "\n"
          ]
        },
        {
          "name": "stderr",
          "output_type": "stream",
          "text": [
            "\r 54%|█████▎    | 166/310 [00:45<00:40,  3.58it/s]"
          ]
        },
        {
          "name": "stdout",
          "output_type": "stream",
          "text": [
            "\n",
            "Index 166 (Yes), Layer‐Offset loop:\n",
            "  Last 10 token IDs:      [1, 477, 330, 17, 1, 323, 912, 1023, 1495, 13]\n",
            "  Last 10 token strings:  ['\"', 'Ġor', 'Ġ\"', '2', '\"', 'Ġand', 'Ġno', 'Ġother', 'Ġtext', '.']\n",
            "\n"
          ]
        },
        {
          "name": "stderr",
          "output_type": "stream",
          "text": [
            "\r 54%|█████▍    | 167/310 [00:45<00:38,  3.71it/s]"
          ]
        },
        {
          "name": "stdout",
          "output_type": "stream",
          "text": [
            "\n",
            "Index 167 (No), Layer‐Offset loop:\n",
            "  Last 10 token IDs:      [1, 477, 330, 17, 1, 323, 912, 1023, 1495, 13]\n",
            "  Last 10 token strings:  ['\"', 'Ġor', 'Ġ\"', '2', '\"', 'Ġand', 'Ġno', 'Ġother', 'Ġtext', '.']\n",
            "\n"
          ]
        },
        {
          "name": "stderr",
          "output_type": "stream",
          "text": [
            "\r 54%|█████▍    | 168/310 [00:45<00:37,  3.76it/s]"
          ]
        },
        {
          "name": "stdout",
          "output_type": "stream",
          "text": [
            "\n",
            "Index 168 (No), Layer‐Offset loop:\n",
            "  Last 10 token IDs:      [1, 477, 330, 17, 1, 323, 912, 1023, 1495, 13]\n",
            "  Last 10 token strings:  ['\"', 'Ġor', 'Ġ\"', '2', '\"', 'Ġand', 'Ġno', 'Ġother', 'Ġtext', '.']\n",
            "\n"
          ]
        },
        {
          "name": "stderr",
          "output_type": "stream",
          "text": [
            "\r 55%|█████▍    | 169/310 [00:46<00:38,  3.71it/s]"
          ]
        },
        {
          "name": "stdout",
          "output_type": "stream",
          "text": [
            "\n",
            "Index 169 (Yes), Layer‐Offset loop:\n",
            "  Last 10 token IDs:      [1, 477, 330, 17, 1, 323, 912, 1023, 1495, 13]\n",
            "  Last 10 token strings:  ['\"', 'Ġor', 'Ġ\"', '2', '\"', 'Ġand', 'Ġno', 'Ġother', 'Ġtext', '.']\n",
            "\n"
          ]
        },
        {
          "name": "stderr",
          "output_type": "stream",
          "text": [
            "\r 55%|█████▍    | 170/310 [00:46<00:37,  3.78it/s]"
          ]
        },
        {
          "name": "stdout",
          "output_type": "stream",
          "text": [
            "\n",
            "Index 170 (Yes), Layer‐Offset loop:\n",
            "  Last 10 token IDs:      [1, 477, 330, 17, 1, 323, 912, 1023, 1495, 13]\n",
            "  Last 10 token strings:  ['\"', 'Ġor', 'Ġ\"', '2', '\"', 'Ġand', 'Ġno', 'Ġother', 'Ġtext', '.']\n",
            "\n"
          ]
        },
        {
          "name": "stderr",
          "output_type": "stream",
          "text": [
            "\r 55%|█████▌    | 171/310 [00:46<00:36,  3.83it/s]"
          ]
        },
        {
          "name": "stdout",
          "output_type": "stream",
          "text": [
            "\n",
            "Index 171 (Yes), Layer‐Offset loop:\n",
            "  Last 10 token IDs:      [1, 477, 330, 17, 1, 323, 912, 1023, 1495, 13]\n",
            "  Last 10 token strings:  ['\"', 'Ġor', 'Ġ\"', '2', '\"', 'Ġand', 'Ġno', 'Ġother', 'Ġtext', '.']\n",
            "\n"
          ]
        },
        {
          "name": "stderr",
          "output_type": "stream",
          "text": [
            "\r 55%|█████▌    | 172/310 [00:46<00:36,  3.79it/s]"
          ]
        },
        {
          "name": "stdout",
          "output_type": "stream",
          "text": [
            "\n",
            "Index 172 (No), Layer‐Offset loop:\n",
            "  Last 10 token IDs:      [1, 477, 330, 17, 1, 323, 912, 1023, 1495, 13]\n",
            "  Last 10 token strings:  ['\"', 'Ġor', 'Ġ\"', '2', '\"', 'Ġand', 'Ġno', 'Ġother', 'Ġtext', '.']\n",
            "\n"
          ]
        },
        {
          "name": "stderr",
          "output_type": "stream",
          "text": [
            "\r 56%|█████▌    | 173/310 [00:47<00:37,  3.70it/s]"
          ]
        },
        {
          "name": "stdout",
          "output_type": "stream",
          "text": [
            "\n",
            "Index 173 (Yes), Layer‐Offset loop:\n",
            "  Last 10 token IDs:      [1, 477, 330, 17, 1, 323, 912, 1023, 1495, 13]\n",
            "  Last 10 token strings:  ['\"', 'Ġor', 'Ġ\"', '2', '\"', 'Ġand', 'Ġno', 'Ġother', 'Ġtext', '.']\n",
            "\n"
          ]
        },
        {
          "name": "stderr",
          "output_type": "stream",
          "text": [
            "\r 56%|█████▌    | 174/310 [00:47<00:36,  3.73it/s]"
          ]
        },
        {
          "name": "stdout",
          "output_type": "stream",
          "text": [
            "\n",
            "Index 174 (No), Layer‐Offset loop:\n",
            "  Last 10 token IDs:      [1, 477, 330, 17, 1, 323, 912, 1023, 1495, 13]\n",
            "  Last 10 token strings:  ['\"', 'Ġor', 'Ġ\"', '2', '\"', 'Ġand', 'Ġno', 'Ġother', 'Ġtext', '.']\n",
            "\n"
          ]
        },
        {
          "name": "stderr",
          "output_type": "stream",
          "text": [
            "\r 56%|█████▋    | 175/310 [00:47<00:37,  3.57it/s]"
          ]
        },
        {
          "name": "stdout",
          "output_type": "stream",
          "text": [
            "\n",
            "Index 175 (Yes), Layer‐Offset loop:\n",
            "  Last 10 token IDs:      [1, 477, 330, 17, 1, 323, 912, 1023, 1495, 13]\n",
            "  Last 10 token strings:  ['\"', 'Ġor', 'Ġ\"', '2', '\"', 'Ġand', 'Ġno', 'Ġother', 'Ġtext', '.']\n",
            "\n"
          ]
        },
        {
          "name": "stderr",
          "output_type": "stream",
          "text": [
            "\r 57%|█████▋    | 176/310 [00:48<00:36,  3.64it/s]"
          ]
        },
        {
          "name": "stdout",
          "output_type": "stream",
          "text": [
            "\n",
            "Index 176 (No), Layer‐Offset loop:\n",
            "  Last 10 token IDs:      [1, 477, 330, 17, 1, 323, 912, 1023, 1495, 13]\n",
            "  Last 10 token strings:  ['\"', 'Ġor', 'Ġ\"', '2', '\"', 'Ġand', 'Ġno', 'Ġother', 'Ġtext', '.']\n",
            "\n"
          ]
        },
        {
          "name": "stderr",
          "output_type": "stream",
          "text": [
            "\r 57%|█████▋    | 177/310 [00:48<00:36,  3.66it/s]"
          ]
        },
        {
          "name": "stdout",
          "output_type": "stream",
          "text": [
            "\n",
            "Index 177 (Yes), Layer‐Offset loop:\n",
            "  Last 10 token IDs:      [1, 477, 330, 17, 1, 323, 912, 1023, 1495, 13]\n",
            "  Last 10 token strings:  ['\"', 'Ġor', 'Ġ\"', '2', '\"', 'Ġand', 'Ġno', 'Ġother', 'Ġtext', '.']\n",
            "\n"
          ]
        },
        {
          "name": "stderr",
          "output_type": "stream",
          "text": [
            "\r 57%|█████▋    | 178/310 [00:48<00:36,  3.62it/s]"
          ]
        },
        {
          "name": "stdout",
          "output_type": "stream",
          "text": [
            "\n",
            "Index 178 (Yes), Layer‐Offset loop:\n",
            "  Last 10 token IDs:      [1, 477, 330, 17, 1, 323, 912, 1023, 1495, 13]\n",
            "  Last 10 token strings:  ['\"', 'Ġor', 'Ġ\"', '2', '\"', 'Ġand', 'Ġno', 'Ġother', 'Ġtext', '.']\n",
            "\n"
          ]
        },
        {
          "name": "stderr",
          "output_type": "stream",
          "text": [
            "\r 58%|█████▊    | 179/310 [00:48<00:36,  3.61it/s]"
          ]
        },
        {
          "name": "stdout",
          "output_type": "stream",
          "text": [
            "\n",
            "Index 179 (No), Layer‐Offset loop:\n",
            "  Last 10 token IDs:      [1, 477, 330, 17, 1, 323, 912, 1023, 1495, 13]\n",
            "  Last 10 token strings:  ['\"', 'Ġor', 'Ġ\"', '2', '\"', 'Ġand', 'Ġno', 'Ġother', 'Ġtext', '.']\n",
            "\n"
          ]
        },
        {
          "name": "stderr",
          "output_type": "stream",
          "text": [
            "\r 58%|█████▊    | 180/310 [00:49<00:34,  3.72it/s]"
          ]
        },
        {
          "name": "stdout",
          "output_type": "stream",
          "text": [
            "\n",
            "Index 180 (No), Layer‐Offset loop:\n",
            "  Last 10 token IDs:      [1, 477, 330, 17, 1, 323, 912, 1023, 1495, 13]\n",
            "  Last 10 token strings:  ['\"', 'Ġor', 'Ġ\"', '2', '\"', 'Ġand', 'Ġno', 'Ġother', 'Ġtext', '.']\n",
            "\n"
          ]
        },
        {
          "name": "stderr",
          "output_type": "stream",
          "text": [
            "\r 58%|█████▊    | 181/310 [00:49<00:33,  3.81it/s]"
          ]
        },
        {
          "name": "stdout",
          "output_type": "stream",
          "text": [
            "\n",
            "Index 181 (No), Layer‐Offset loop:\n",
            "  Last 10 token IDs:      [1, 477, 330, 17, 1, 323, 912, 1023, 1495, 13]\n",
            "  Last 10 token strings:  ['\"', 'Ġor', 'Ġ\"', '2', '\"', 'Ġand', 'Ġno', 'Ġother', 'Ġtext', '.']\n",
            "\n"
          ]
        },
        {
          "name": "stderr",
          "output_type": "stream",
          "text": [
            "\r 59%|█████▊    | 182/310 [00:49<00:33,  3.86it/s]"
          ]
        },
        {
          "name": "stdout",
          "output_type": "stream",
          "text": [
            "\n",
            "Index 182 (Yes), Layer‐Offset loop:\n",
            "  Last 10 token IDs:      [1, 477, 330, 17, 1, 323, 912, 1023, 1495, 13]\n",
            "  Last 10 token strings:  ['\"', 'Ġor', 'Ġ\"', '2', '\"', 'Ġand', 'Ġno', 'Ġother', 'Ġtext', '.']\n",
            "\n"
          ]
        },
        {
          "name": "stderr",
          "output_type": "stream",
          "text": [
            "\r 59%|█████▉    | 183/310 [00:49<00:34,  3.66it/s]"
          ]
        },
        {
          "name": "stdout",
          "output_type": "stream",
          "text": [
            "\n",
            "Index 183 (Yes), Layer‐Offset loop:\n",
            "  Last 10 token IDs:      [1, 477, 330, 17, 1, 323, 912, 1023, 1495, 13]\n",
            "  Last 10 token strings:  ['\"', 'Ġor', 'Ġ\"', '2', '\"', 'Ġand', 'Ġno', 'Ġother', 'Ġtext', '.']\n",
            "\n"
          ]
        },
        {
          "name": "stderr",
          "output_type": "stream",
          "text": [
            "\r 59%|█████▉    | 184/310 [00:50<00:34,  3.68it/s]"
          ]
        },
        {
          "name": "stdout",
          "output_type": "stream",
          "text": [
            "\n",
            "Index 184 (No), Layer‐Offset loop:\n",
            "  Last 10 token IDs:      [1, 477, 330, 17, 1, 323, 912, 1023, 1495, 13]\n",
            "  Last 10 token strings:  ['\"', 'Ġor', 'Ġ\"', '2', '\"', 'Ġand', 'Ġno', 'Ġother', 'Ġtext', '.']\n",
            "\n"
          ]
        },
        {
          "name": "stderr",
          "output_type": "stream",
          "text": [
            "\r 60%|█████▉    | 185/310 [00:50<00:35,  3.52it/s]"
          ]
        },
        {
          "name": "stdout",
          "output_type": "stream",
          "text": [
            "\n",
            "Index 185 (Yes), Layer‐Offset loop:\n",
            "  Last 10 token IDs:      [1, 477, 330, 17, 1, 323, 912, 1023, 1495, 13]\n",
            "  Last 10 token strings:  ['\"', 'Ġor', 'Ġ\"', '2', '\"', 'Ġand', 'Ġno', 'Ġother', 'Ġtext', '.']\n",
            "\n"
          ]
        },
        {
          "name": "stderr",
          "output_type": "stream",
          "text": [
            "\r 60%|██████    | 186/310 [00:50<00:34,  3.62it/s]"
          ]
        },
        {
          "name": "stdout",
          "output_type": "stream",
          "text": [
            "\n",
            "Index 186 (Yes), Layer‐Offset loop:\n",
            "  Last 10 token IDs:      [1, 477, 330, 17, 1, 323, 912, 1023, 1495, 13]\n",
            "  Last 10 token strings:  ['\"', 'Ġor', 'Ġ\"', '2', '\"', 'Ġand', 'Ġno', 'Ġother', 'Ġtext', '.']\n",
            "\n"
          ]
        },
        {
          "name": "stderr",
          "output_type": "stream",
          "text": [
            "\r 60%|██████    | 187/310 [00:51<00:33,  3.63it/s]"
          ]
        },
        {
          "name": "stdout",
          "output_type": "stream",
          "text": [
            "\n",
            "Index 187 (No), Layer‐Offset loop:\n",
            "  Last 10 token IDs:      [1, 477, 330, 17, 1, 323, 912, 1023, 1495, 13]\n",
            "  Last 10 token strings:  ['\"', 'Ġor', 'Ġ\"', '2', '\"', 'Ġand', 'Ġno', 'Ġother', 'Ġtext', '.']\n",
            "\n"
          ]
        },
        {
          "name": "stderr",
          "output_type": "stream",
          "text": [
            "\r 61%|██████    | 188/310 [00:51<00:33,  3.67it/s]"
          ]
        },
        {
          "name": "stdout",
          "output_type": "stream",
          "text": [
            "\n",
            "Index 188 (Yes), Layer‐Offset loop:\n",
            "  Last 10 token IDs:      [1, 477, 330, 17, 1, 323, 912, 1023, 1495, 13]\n",
            "  Last 10 token strings:  ['\"', 'Ġor', 'Ġ\"', '2', '\"', 'Ġand', 'Ġno', 'Ġother', 'Ġtext', '.']\n",
            "\n"
          ]
        },
        {
          "name": "stderr",
          "output_type": "stream",
          "text": [
            "\r 61%|██████    | 189/310 [00:51<00:32,  3.71it/s]"
          ]
        },
        {
          "name": "stdout",
          "output_type": "stream",
          "text": [
            "\n",
            "Index 189 (No), Layer‐Offset loop:\n",
            "  Last 10 token IDs:      [1, 477, 330, 17, 1, 323, 912, 1023, 1495, 13]\n",
            "  Last 10 token strings:  ['\"', 'Ġor', 'Ġ\"', '2', '\"', 'Ġand', 'Ġno', 'Ġother', 'Ġtext', '.']\n",
            "\n"
          ]
        },
        {
          "name": "stderr",
          "output_type": "stream",
          "text": [
            "\r 61%|██████▏   | 190/310 [00:51<00:32,  3.70it/s]"
          ]
        },
        {
          "name": "stdout",
          "output_type": "stream",
          "text": [
            "\n",
            "Index 190 (Yes), Layer‐Offset loop:\n",
            "  Last 10 token IDs:      [1, 477, 330, 17, 1, 323, 912, 1023, 1495, 13]\n",
            "  Last 10 token strings:  ['\"', 'Ġor', 'Ġ\"', '2', '\"', 'Ġand', 'Ġno', 'Ġother', 'Ġtext', '.']\n",
            "\n"
          ]
        },
        {
          "name": "stderr",
          "output_type": "stream",
          "text": [
            "\r 62%|██████▏   | 191/310 [00:52<00:31,  3.77it/s]"
          ]
        },
        {
          "name": "stdout",
          "output_type": "stream",
          "text": [
            "\n",
            "Index 191 (No), Layer‐Offset loop:\n",
            "  Last 10 token IDs:      [1, 477, 330, 17, 1, 323, 912, 1023, 1495, 13]\n",
            "  Last 10 token strings:  ['\"', 'Ġor', 'Ġ\"', '2', '\"', 'Ġand', 'Ġno', 'Ġother', 'Ġtext', '.']\n",
            "\n"
          ]
        },
        {
          "name": "stderr",
          "output_type": "stream",
          "text": [
            "\r 62%|██████▏   | 192/310 [00:52<00:31,  3.76it/s]"
          ]
        },
        {
          "name": "stdout",
          "output_type": "stream",
          "text": [
            "\n",
            "Index 192 (No), Layer‐Offset loop:\n",
            "  Last 10 token IDs:      [1, 477, 330, 17, 1, 323, 912, 1023, 1495, 13]\n",
            "  Last 10 token strings:  ['\"', 'Ġor', 'Ġ\"', '2', '\"', 'Ġand', 'Ġno', 'Ġother', 'Ġtext', '.']\n",
            "\n"
          ]
        },
        {
          "name": "stderr",
          "output_type": "stream",
          "text": [
            "\r 62%|██████▏   | 193/310 [00:52<00:31,  3.74it/s]"
          ]
        },
        {
          "name": "stdout",
          "output_type": "stream",
          "text": [
            "\n",
            "Index 193 (Yes), Layer‐Offset loop:\n",
            "  Last 10 token IDs:      [1, 477, 330, 17, 1, 323, 912, 1023, 1495, 13]\n",
            "  Last 10 token strings:  ['\"', 'Ġor', 'Ġ\"', '2', '\"', 'Ġand', 'Ġno', 'Ġother', 'Ġtext', '.']\n",
            "\n"
          ]
        },
        {
          "name": "stderr",
          "output_type": "stream",
          "text": [
            "\r 63%|██████▎   | 194/310 [00:52<00:31,  3.73it/s]"
          ]
        },
        {
          "name": "stdout",
          "output_type": "stream",
          "text": [
            "\n",
            "Index 194 (No), Layer‐Offset loop:\n",
            "  Last 10 token IDs:      [1, 477, 330, 17, 1, 323, 912, 1023, 1495, 13]\n",
            "  Last 10 token strings:  ['\"', 'Ġor', 'Ġ\"', '2', '\"', 'Ġand', 'Ġno', 'Ġother', 'Ġtext', '.']\n",
            "\n"
          ]
        },
        {
          "name": "stderr",
          "output_type": "stream",
          "text": [
            "\r 63%|██████▎   | 195/310 [00:53<00:30,  3.72it/s]"
          ]
        },
        {
          "name": "stdout",
          "output_type": "stream",
          "text": [
            "\n",
            "Index 195 (No), Layer‐Offset loop:\n",
            "  Last 10 token IDs:      [1, 477, 330, 17, 1, 323, 912, 1023, 1495, 13]\n",
            "  Last 10 token strings:  ['\"', 'Ġor', 'Ġ\"', '2', '\"', 'Ġand', 'Ġno', 'Ġother', 'Ġtext', '.']\n",
            "\n"
          ]
        },
        {
          "name": "stderr",
          "output_type": "stream",
          "text": [
            "\r 63%|██████▎   | 196/310 [00:53<00:31,  3.63it/s]"
          ]
        },
        {
          "name": "stdout",
          "output_type": "stream",
          "text": [
            "\n",
            "Index 196 (Yes), Layer‐Offset loop:\n",
            "  Last 10 token IDs:      [1, 477, 330, 17, 1, 323, 912, 1023, 1495, 13]\n",
            "  Last 10 token strings:  ['\"', 'Ġor', 'Ġ\"', '2', '\"', 'Ġand', 'Ġno', 'Ġother', 'Ġtext', '.']\n",
            "\n"
          ]
        },
        {
          "name": "stderr",
          "output_type": "stream",
          "text": [
            "\r 64%|██████▎   | 197/310 [00:53<00:30,  3.69it/s]"
          ]
        },
        {
          "name": "stdout",
          "output_type": "stream",
          "text": [
            "\n",
            "Index 197 (No), Layer‐Offset loop:\n",
            "  Last 10 token IDs:      [1, 477, 330, 17, 1, 323, 912, 1023, 1495, 13]\n",
            "  Last 10 token strings:  ['\"', 'Ġor', 'Ġ\"', '2', '\"', 'Ġand', 'Ġno', 'Ġother', 'Ġtext', '.']\n",
            "\n"
          ]
        },
        {
          "name": "stderr",
          "output_type": "stream",
          "text": [
            "\r 64%|██████▍   | 198/310 [00:53<00:30,  3.72it/s]"
          ]
        },
        {
          "name": "stdout",
          "output_type": "stream",
          "text": [
            "\n",
            "Index 198 (Yes), Layer‐Offset loop:\n",
            "  Last 10 token IDs:      [1, 477, 330, 17, 1, 323, 912, 1023, 1495, 13]\n",
            "  Last 10 token strings:  ['\"', 'Ġor', 'Ġ\"', '2', '\"', 'Ġand', 'Ġno', 'Ġother', 'Ġtext', '.']\n",
            "\n"
          ]
        },
        {
          "name": "stderr",
          "output_type": "stream",
          "text": [
            "\r 64%|██████▍   | 199/310 [00:54<00:29,  3.76it/s]"
          ]
        },
        {
          "name": "stdout",
          "output_type": "stream",
          "text": [
            "\n",
            "Index 199 (Yes), Layer‐Offset loop:\n",
            "  Last 10 token IDs:      [1, 477, 330, 17, 1, 323, 912, 1023, 1495, 13]\n",
            "  Last 10 token strings:  ['\"', 'Ġor', 'Ġ\"', '2', '\"', 'Ġand', 'Ġno', 'Ġother', 'Ġtext', '.']\n",
            "\n"
          ]
        },
        {
          "name": "stderr",
          "output_type": "stream",
          "text": [
            "\r 65%|██████▍   | 200/310 [00:54<00:29,  3.71it/s]"
          ]
        },
        {
          "name": "stdout",
          "output_type": "stream",
          "text": [
            "\n",
            "Index 200 (Yes), Layer‐Offset loop:\n",
            "  Last 10 token IDs:      [1, 477, 330, 17, 1, 323, 912, 1023, 1495, 13]\n",
            "  Last 10 token strings:  ['\"', 'Ġor', 'Ġ\"', '2', '\"', 'Ġand', 'Ġno', 'Ġother', 'Ġtext', '.']\n",
            "\n"
          ]
        },
        {
          "name": "stderr",
          "output_type": "stream",
          "text": [
            "\r 65%|██████▍   | 201/310 [00:54<00:29,  3.68it/s]"
          ]
        },
        {
          "name": "stdout",
          "output_type": "stream",
          "text": [
            "\n",
            "Index 201 (Yes), Layer‐Offset loop:\n",
            "  Last 10 token IDs:      [1, 477, 330, 17, 1, 323, 912, 1023, 1495, 13]\n",
            "  Last 10 token strings:  ['\"', 'Ġor', 'Ġ\"', '2', '\"', 'Ġand', 'Ġno', 'Ġother', 'Ġtext', '.']\n",
            "\n"
          ]
        },
        {
          "name": "stderr",
          "output_type": "stream",
          "text": [
            "\r 65%|██████▌   | 202/310 [00:55<00:30,  3.57it/s]"
          ]
        },
        {
          "name": "stdout",
          "output_type": "stream",
          "text": [
            "\n",
            "Index 202 (No), Layer‐Offset loop:\n",
            "  Last 10 token IDs:      [1, 477, 330, 17, 1, 323, 912, 1023, 1495, 13]\n",
            "  Last 10 token strings:  ['\"', 'Ġor', 'Ġ\"', '2', '\"', 'Ġand', 'Ġno', 'Ġother', 'Ġtext', '.']\n",
            "\n"
          ]
        },
        {
          "name": "stderr",
          "output_type": "stream",
          "text": [
            "\r 65%|██████▌   | 203/310 [00:55<00:29,  3.67it/s]"
          ]
        },
        {
          "name": "stdout",
          "output_type": "stream",
          "text": [
            "\n",
            "Index 203 (No), Layer‐Offset loop:\n",
            "  Last 10 token IDs:      [1, 477, 330, 17, 1, 323, 912, 1023, 1495, 13]\n",
            "  Last 10 token strings:  ['\"', 'Ġor', 'Ġ\"', '2', '\"', 'Ġand', 'Ġno', 'Ġother', 'Ġtext', '.']\n",
            "\n"
          ]
        },
        {
          "name": "stderr",
          "output_type": "stream",
          "text": [
            "\r 66%|██████▌   | 204/310 [00:55<00:29,  3.64it/s]"
          ]
        },
        {
          "name": "stdout",
          "output_type": "stream",
          "text": [
            "\n",
            "Index 204 (No), Layer‐Offset loop:\n",
            "  Last 10 token IDs:      [1, 477, 330, 17, 1, 323, 912, 1023, 1495, 13]\n",
            "  Last 10 token strings:  ['\"', 'Ġor', 'Ġ\"', '2', '\"', 'Ġand', 'Ġno', 'Ġother', 'Ġtext', '.']\n",
            "\n"
          ]
        },
        {
          "name": "stderr",
          "output_type": "stream",
          "text": [
            "\r 66%|██████▌   | 205/310 [00:55<00:29,  3.52it/s]"
          ]
        },
        {
          "name": "stdout",
          "output_type": "stream",
          "text": [
            "\n",
            "Index 205 (Yes), Layer‐Offset loop:\n",
            "  Last 10 token IDs:      [1, 477, 330, 17, 1, 323, 912, 1023, 1495, 13]\n",
            "  Last 10 token strings:  ['\"', 'Ġor', 'Ġ\"', '2', '\"', 'Ġand', 'Ġno', 'Ġother', 'Ġtext', '.']\n",
            "\n"
          ]
        },
        {
          "name": "stderr",
          "output_type": "stream",
          "text": [
            "\r 66%|██████▋   | 206/310 [00:56<00:28,  3.60it/s]"
          ]
        },
        {
          "name": "stdout",
          "output_type": "stream",
          "text": [
            "\n",
            "Index 206 (No), Layer‐Offset loop:\n",
            "  Last 10 token IDs:      [1, 477, 330, 17, 1, 323, 912, 1023, 1495, 13]\n",
            "  Last 10 token strings:  ['\"', 'Ġor', 'Ġ\"', '2', '\"', 'Ġand', 'Ġno', 'Ġother', 'Ġtext', '.']\n",
            "\n"
          ]
        },
        {
          "name": "stderr",
          "output_type": "stream",
          "text": [
            "\r 67%|██████▋   | 207/310 [00:56<00:27,  3.69it/s]"
          ]
        },
        {
          "name": "stdout",
          "output_type": "stream",
          "text": [
            "\n",
            "Index 207 (No), Layer‐Offset loop:\n",
            "  Last 10 token IDs:      [1, 477, 330, 17, 1, 323, 912, 1023, 1495, 13]\n",
            "  Last 10 token strings:  ['\"', 'Ġor', 'Ġ\"', '2', '\"', 'Ġand', 'Ġno', 'Ġother', 'Ġtext', '.']\n",
            "\n"
          ]
        },
        {
          "name": "stderr",
          "output_type": "stream",
          "text": [
            "\r 67%|██████▋   | 208/310 [00:56<00:27,  3.73it/s]"
          ]
        },
        {
          "name": "stdout",
          "output_type": "stream",
          "text": [
            "\n",
            "Index 208 (No), Layer‐Offset loop:\n",
            "  Last 10 token IDs:      [1, 477, 330, 17, 1, 323, 912, 1023, 1495, 13]\n",
            "  Last 10 token strings:  ['\"', 'Ġor', 'Ġ\"', '2', '\"', 'Ġand', 'Ġno', 'Ġother', 'Ġtext', '.']\n",
            "\n"
          ]
        },
        {
          "name": "stderr",
          "output_type": "stream",
          "text": [
            "\r 67%|██████▋   | 209/310 [00:57<00:27,  3.64it/s]"
          ]
        },
        {
          "name": "stdout",
          "output_type": "stream",
          "text": [
            "\n",
            "Index 209 (Yes), Layer‐Offset loop:\n",
            "  Last 10 token IDs:      [1, 477, 330, 17, 1, 323, 912, 1023, 1495, 13]\n",
            "  Last 10 token strings:  ['\"', 'Ġor', 'Ġ\"', '2', '\"', 'Ġand', 'Ġno', 'Ġother', 'Ġtext', '.']\n",
            "\n"
          ]
        },
        {
          "name": "stderr",
          "output_type": "stream",
          "text": [
            "\r 68%|██████▊   | 210/310 [00:57<00:27,  3.70it/s]"
          ]
        },
        {
          "name": "stdout",
          "output_type": "stream",
          "text": [
            "\n",
            "Index 210 (No), Layer‐Offset loop:\n",
            "  Last 10 token IDs:      [1, 477, 330, 17, 1, 323, 912, 1023, 1495, 13]\n",
            "  Last 10 token strings:  ['\"', 'Ġor', 'Ġ\"', '2', '\"', 'Ġand', 'Ġno', 'Ġother', 'Ġtext', '.']\n",
            "\n"
          ]
        },
        {
          "name": "stderr",
          "output_type": "stream",
          "text": [
            "\r 68%|██████▊   | 211/310 [00:57<00:28,  3.53it/s]"
          ]
        },
        {
          "name": "stdout",
          "output_type": "stream",
          "text": [
            "\n",
            "Index 211 (Yes), Layer‐Offset loop:\n",
            "  Last 10 token IDs:      [1, 477, 330, 17, 1, 323, 912, 1023, 1495, 13]\n",
            "  Last 10 token strings:  ['\"', 'Ġor', 'Ġ\"', '2', '\"', 'Ġand', 'Ġno', 'Ġother', 'Ġtext', '.']\n",
            "\n"
          ]
        },
        {
          "name": "stderr",
          "output_type": "stream",
          "text": [
            "\r 68%|██████▊   | 212/310 [00:57<00:27,  3.56it/s]"
          ]
        },
        {
          "name": "stdout",
          "output_type": "stream",
          "text": [
            "\n",
            "Index 212 (Yes), Layer‐Offset loop:\n",
            "  Last 10 token IDs:      [1, 477, 330, 17, 1, 323, 912, 1023, 1495, 13]\n",
            "  Last 10 token strings:  ['\"', 'Ġor', 'Ġ\"', '2', '\"', 'Ġand', 'Ġno', 'Ġother', 'Ġtext', '.']\n",
            "\n"
          ]
        },
        {
          "name": "stderr",
          "output_type": "stream",
          "text": [
            "\r 69%|██████▊   | 213/310 [00:58<00:26,  3.68it/s]"
          ]
        },
        {
          "name": "stdout",
          "output_type": "stream",
          "text": [
            "\n",
            "Index 213 (Yes), Layer‐Offset loop:\n",
            "  Last 10 token IDs:      [1, 477, 330, 17, 1, 323, 912, 1023, 1495, 13]\n",
            "  Last 10 token strings:  ['\"', 'Ġor', 'Ġ\"', '2', '\"', 'Ġand', 'Ġno', 'Ġother', 'Ġtext', '.']\n",
            "\n"
          ]
        },
        {
          "name": "stderr",
          "output_type": "stream",
          "text": [
            "\r 69%|██████▉   | 214/310 [00:58<00:26,  3.64it/s]"
          ]
        },
        {
          "name": "stdout",
          "output_type": "stream",
          "text": [
            "\n",
            "Index 214 (No), Layer‐Offset loop:\n",
            "  Last 10 token IDs:      [1, 477, 330, 17, 1, 323, 912, 1023, 1495, 13]\n",
            "  Last 10 token strings:  ['\"', 'Ġor', 'Ġ\"', '2', '\"', 'Ġand', 'Ġno', 'Ġother', 'Ġtext', '.']\n",
            "\n"
          ]
        },
        {
          "name": "stderr",
          "output_type": "stream",
          "text": [
            "\r 69%|██████▉   | 215/310 [00:58<00:25,  3.69it/s]"
          ]
        },
        {
          "name": "stdout",
          "output_type": "stream",
          "text": [
            "\n",
            "Index 215 (No), Layer‐Offset loop:\n",
            "  Last 10 token IDs:      [1, 477, 330, 17, 1, 323, 912, 1023, 1495, 13]\n",
            "  Last 10 token strings:  ['\"', 'Ġor', 'Ġ\"', '2', '\"', 'Ġand', 'Ġno', 'Ġother', 'Ġtext', '.']\n",
            "\n"
          ]
        },
        {
          "name": "stderr",
          "output_type": "stream",
          "text": [
            "\r 70%|██████▉   | 216/310 [00:58<00:25,  3.64it/s]"
          ]
        },
        {
          "name": "stdout",
          "output_type": "stream",
          "text": [
            "\n",
            "Index 216 (No), Layer‐Offset loop:\n",
            "  Last 10 token IDs:      [1, 477, 330, 17, 1, 323, 912, 1023, 1495, 13]\n",
            "  Last 10 token strings:  ['\"', 'Ġor', 'Ġ\"', '2', '\"', 'Ġand', 'Ġno', 'Ġother', 'Ġtext', '.']\n",
            "\n"
          ]
        },
        {
          "name": "stderr",
          "output_type": "stream",
          "text": [
            "\r 70%|███████   | 217/310 [00:59<00:25,  3.66it/s]"
          ]
        },
        {
          "name": "stdout",
          "output_type": "stream",
          "text": [
            "\n",
            "Index 217 (No), Layer‐Offset loop:\n",
            "  Last 10 token IDs:      [1, 477, 330, 17, 1, 323, 912, 1023, 1495, 13]\n",
            "  Last 10 token strings:  ['\"', 'Ġor', 'Ġ\"', '2', '\"', 'Ġand', 'Ġno', 'Ġother', 'Ġtext', '.']\n",
            "\n"
          ]
        },
        {
          "name": "stderr",
          "output_type": "stream",
          "text": [
            "\r 70%|███████   | 218/310 [00:59<00:27,  3.34it/s]"
          ]
        },
        {
          "name": "stdout",
          "output_type": "stream",
          "text": [
            "\n",
            "Index 218 (Yes), Layer‐Offset loop:\n",
            "  Last 10 token IDs:      [1, 477, 330, 17, 1, 323, 912, 1023, 1495, 13]\n",
            "  Last 10 token strings:  ['\"', 'Ġor', 'Ġ\"', '2', '\"', 'Ġand', 'Ġno', 'Ġother', 'Ġtext', '.']\n",
            "\n"
          ]
        },
        {
          "name": "stderr",
          "output_type": "stream",
          "text": [
            "\r 71%|███████   | 219/310 [00:59<00:26,  3.48it/s]"
          ]
        },
        {
          "name": "stdout",
          "output_type": "stream",
          "text": [
            "\n",
            "Index 219 (Yes), Layer‐Offset loop:\n",
            "  Last 10 token IDs:      [1, 477, 330, 17, 1, 323, 912, 1023, 1495, 13]\n",
            "  Last 10 token strings:  ['\"', 'Ġor', 'Ġ\"', '2', '\"', 'Ġand', 'Ġno', 'Ġother', 'Ġtext', '.']\n",
            "\n"
          ]
        },
        {
          "name": "stderr",
          "output_type": "stream",
          "text": [
            "\r 71%|███████   | 220/310 [01:00<00:26,  3.40it/s]"
          ]
        },
        {
          "name": "stdout",
          "output_type": "stream",
          "text": [
            "\n",
            "Index 220 (No), Layer‐Offset loop:\n",
            "  Last 10 token IDs:      [1, 477, 330, 17, 1, 323, 912, 1023, 1495, 13]\n",
            "  Last 10 token strings:  ['\"', 'Ġor', 'Ġ\"', '2', '\"', 'Ġand', 'Ġno', 'Ġother', 'Ġtext', '.']\n",
            "\n"
          ]
        },
        {
          "name": "stderr",
          "output_type": "stream",
          "text": [
            "\r 71%|███████▏  | 221/310 [01:00<00:25,  3.55it/s]"
          ]
        },
        {
          "name": "stdout",
          "output_type": "stream",
          "text": [
            "\n",
            "Index 221 (Yes), Layer‐Offset loop:\n",
            "  Last 10 token IDs:      [1, 477, 330, 17, 1, 323, 912, 1023, 1495, 13]\n",
            "  Last 10 token strings:  ['\"', 'Ġor', 'Ġ\"', '2', '\"', 'Ġand', 'Ġno', 'Ġother', 'Ġtext', '.']\n",
            "\n"
          ]
        },
        {
          "name": "stderr",
          "output_type": "stream",
          "text": [
            "\r 72%|███████▏  | 222/310 [01:00<00:24,  3.58it/s]"
          ]
        },
        {
          "name": "stdout",
          "output_type": "stream",
          "text": [
            "\n",
            "Index 222 (Yes), Layer‐Offset loop:\n",
            "  Last 10 token IDs:      [1, 477, 330, 17, 1, 323, 912, 1023, 1495, 13]\n",
            "  Last 10 token strings:  ['\"', 'Ġor', 'Ġ\"', '2', '\"', 'Ġand', 'Ġno', 'Ġother', 'Ġtext', '.']\n",
            "\n"
          ]
        },
        {
          "name": "stderr",
          "output_type": "stream",
          "text": [
            "\r 72%|███████▏  | 223/310 [01:00<00:23,  3.69it/s]"
          ]
        },
        {
          "name": "stdout",
          "output_type": "stream",
          "text": [
            "\n",
            "Index 223 (No), Layer‐Offset loop:\n",
            "  Last 10 token IDs:      [1, 477, 330, 17, 1, 323, 912, 1023, 1495, 13]\n",
            "  Last 10 token strings:  ['\"', 'Ġor', 'Ġ\"', '2', '\"', 'Ġand', 'Ġno', 'Ġother', 'Ġtext', '.']\n",
            "\n"
          ]
        },
        {
          "name": "stderr",
          "output_type": "stream",
          "text": [
            "\r 72%|███████▏  | 224/310 [01:01<00:24,  3.53it/s]"
          ]
        },
        {
          "name": "stdout",
          "output_type": "stream",
          "text": [
            "\n",
            "Index 224 (Yes), Layer‐Offset loop:\n",
            "  Last 10 token IDs:      [1, 477, 330, 17, 1, 323, 912, 1023, 1495, 13]\n",
            "  Last 10 token strings:  ['\"', 'Ġor', 'Ġ\"', '2', '\"', 'Ġand', 'Ġno', 'Ġother', 'Ġtext', '.']\n",
            "\n"
          ]
        },
        {
          "name": "stderr",
          "output_type": "stream",
          "text": [
            "\r 73%|███████▎  | 225/310 [01:01<00:23,  3.58it/s]"
          ]
        },
        {
          "name": "stdout",
          "output_type": "stream",
          "text": [
            "\n",
            "Index 225 (Yes), Layer‐Offset loop:\n",
            "  Last 10 token IDs:      [1, 477, 330, 17, 1, 323, 912, 1023, 1495, 13]\n",
            "  Last 10 token strings:  ['\"', 'Ġor', 'Ġ\"', '2', '\"', 'Ġand', 'Ġno', 'Ġother', 'Ġtext', '.']\n",
            "\n"
          ]
        },
        {
          "name": "stderr",
          "output_type": "stream",
          "text": [
            "\r 73%|███████▎  | 226/310 [01:01<00:22,  3.66it/s]"
          ]
        },
        {
          "name": "stdout",
          "output_type": "stream",
          "text": [
            "\n",
            "Index 226 (No), Layer‐Offset loop:\n",
            "  Last 10 token IDs:      [1, 477, 330, 17, 1, 323, 912, 1023, 1495, 13]\n",
            "  Last 10 token strings:  ['\"', 'Ġor', 'Ġ\"', '2', '\"', 'Ġand', 'Ġno', 'Ġother', 'Ġtext', '.']\n",
            "\n"
          ]
        },
        {
          "name": "stderr",
          "output_type": "stream",
          "text": [
            "\r 73%|███████▎  | 227/310 [01:02<00:23,  3.48it/s]"
          ]
        },
        {
          "name": "stdout",
          "output_type": "stream",
          "text": [
            "\n",
            "Index 227 (Yes), Layer‐Offset loop:\n",
            "  Last 10 token IDs:      [1, 477, 330, 17, 1, 323, 912, 1023, 1495, 13]\n",
            "  Last 10 token strings:  ['\"', 'Ġor', 'Ġ\"', '2', '\"', 'Ġand', 'Ġno', 'Ġother', 'Ġtext', '.']\n",
            "\n"
          ]
        },
        {
          "name": "stderr",
          "output_type": "stream",
          "text": [
            "\r 74%|███████▎  | 228/310 [01:02<00:23,  3.54it/s]"
          ]
        },
        {
          "name": "stdout",
          "output_type": "stream",
          "text": [
            "\n",
            "Index 228 (Yes), Layer‐Offset loop:\n",
            "  Last 10 token IDs:      [1, 477, 330, 17, 1, 323, 912, 1023, 1495, 13]\n",
            "  Last 10 token strings:  ['\"', 'Ġor', 'Ġ\"', '2', '\"', 'Ġand', 'Ġno', 'Ġother', 'Ġtext', '.']\n",
            "\n"
          ]
        },
        {
          "name": "stderr",
          "output_type": "stream",
          "text": [
            "\r 74%|███████▍  | 229/310 [01:02<00:22,  3.65it/s]"
          ]
        },
        {
          "name": "stdout",
          "output_type": "stream",
          "text": [
            "\n",
            "Index 229 (No), Layer‐Offset loop:\n",
            "  Last 10 token IDs:      [1, 477, 330, 17, 1, 323, 912, 1023, 1495, 13]\n",
            "  Last 10 token strings:  ['\"', 'Ġor', 'Ġ\"', '2', '\"', 'Ġand', 'Ġno', 'Ġother', 'Ġtext', '.']\n",
            "\n"
          ]
        },
        {
          "name": "stderr",
          "output_type": "stream",
          "text": [
            "\r 74%|███████▍  | 230/310 [01:02<00:22,  3.63it/s]"
          ]
        },
        {
          "name": "stdout",
          "output_type": "stream",
          "text": [
            "\n",
            "Index 230 (No), Layer‐Offset loop:\n",
            "  Last 10 token IDs:      [1, 477, 330, 17, 1, 323, 912, 1023, 1495, 13]\n",
            "  Last 10 token strings:  ['\"', 'Ġor', 'Ġ\"', '2', '\"', 'Ġand', 'Ġno', 'Ġother', 'Ġtext', '.']\n",
            "\n"
          ]
        },
        {
          "name": "stderr",
          "output_type": "stream",
          "text": [
            "\r 75%|███████▍  | 231/310 [01:03<00:22,  3.56it/s]"
          ]
        },
        {
          "name": "stdout",
          "output_type": "stream",
          "text": [
            "\n",
            "Index 231 (Yes), Layer‐Offset loop:\n",
            "  Last 10 token IDs:      [1, 477, 330, 17, 1, 323, 912, 1023, 1495, 13]\n",
            "  Last 10 token strings:  ['\"', 'Ġor', 'Ġ\"', '2', '\"', 'Ġand', 'Ġno', 'Ġother', 'Ġtext', '.']\n",
            "\n"
          ]
        },
        {
          "name": "stderr",
          "output_type": "stream",
          "text": [
            "\r 75%|███████▍  | 232/310 [01:03<00:21,  3.68it/s]"
          ]
        },
        {
          "name": "stdout",
          "output_type": "stream",
          "text": [
            "\n",
            "Index 232 (Yes), Layer‐Offset loop:\n",
            "  Last 10 token IDs:      [1, 477, 330, 17, 1, 323, 912, 1023, 1495, 13]\n",
            "  Last 10 token strings:  ['\"', 'Ġor', 'Ġ\"', '2', '\"', 'Ġand', 'Ġno', 'Ġother', 'Ġtext', '.']\n",
            "\n"
          ]
        },
        {
          "name": "stderr",
          "output_type": "stream",
          "text": [
            "\r 75%|███████▌  | 233/310 [01:03<00:20,  3.79it/s]"
          ]
        },
        {
          "name": "stdout",
          "output_type": "stream",
          "text": [
            "\n",
            "Index 233 (No), Layer‐Offset loop:\n",
            "  Last 10 token IDs:      [1, 477, 330, 17, 1, 323, 912, 1023, 1495, 13]\n",
            "  Last 10 token strings:  ['\"', 'Ġor', 'Ġ\"', '2', '\"', 'Ġand', 'Ġno', 'Ġother', 'Ġtext', '.']\n",
            "\n"
          ]
        },
        {
          "name": "stderr",
          "output_type": "stream",
          "text": [
            "\r 75%|███████▌  | 234/310 [01:03<00:20,  3.76it/s]"
          ]
        },
        {
          "name": "stdout",
          "output_type": "stream",
          "text": [
            "\n",
            "Index 234 (No), Layer‐Offset loop:\n",
            "  Last 10 token IDs:      [1, 477, 330, 17, 1, 323, 912, 1023, 1495, 13]\n",
            "  Last 10 token strings:  ['\"', 'Ġor', 'Ġ\"', '2', '\"', 'Ġand', 'Ġno', 'Ġother', 'Ġtext', '.']\n",
            "\n"
          ]
        },
        {
          "name": "stderr",
          "output_type": "stream",
          "text": [
            "\r 76%|███████▌  | 235/310 [01:04<00:19,  3.84it/s]"
          ]
        },
        {
          "name": "stdout",
          "output_type": "stream",
          "text": [
            "\n",
            "Index 235 (Yes), Layer‐Offset loop:\n",
            "  Last 10 token IDs:      [1, 477, 330, 17, 1, 323, 912, 1023, 1495, 13]\n",
            "  Last 10 token strings:  ['\"', 'Ġor', 'Ġ\"', '2', '\"', 'Ġand', 'Ġno', 'Ġother', 'Ġtext', '.']\n",
            "\n"
          ]
        },
        {
          "name": "stderr",
          "output_type": "stream",
          "text": [
            "\r 76%|███████▌  | 236/310 [01:04<00:19,  3.86it/s]"
          ]
        },
        {
          "name": "stdout",
          "output_type": "stream",
          "text": [
            "\n",
            "Index 236 (Yes), Layer‐Offset loop:\n",
            "  Last 10 token IDs:      [1, 477, 330, 17, 1, 323, 912, 1023, 1495, 13]\n",
            "  Last 10 token strings:  ['\"', 'Ġor', 'Ġ\"', '2', '\"', 'Ġand', 'Ġno', 'Ġother', 'Ġtext', '.']\n",
            "\n"
          ]
        },
        {
          "name": "stderr",
          "output_type": "stream",
          "text": [
            "\r 76%|███████▋  | 237/310 [01:04<00:19,  3.80it/s]"
          ]
        },
        {
          "name": "stdout",
          "output_type": "stream",
          "text": [
            "\n",
            "Index 237 (No), Layer‐Offset loop:\n",
            "  Last 10 token IDs:      [1, 477, 330, 17, 1, 323, 912, 1023, 1495, 13]\n",
            "  Last 10 token strings:  ['\"', 'Ġor', 'Ġ\"', '2', '\"', 'Ġand', 'Ġno', 'Ġother', 'Ġtext', '.']\n",
            "\n"
          ]
        },
        {
          "name": "stderr",
          "output_type": "stream",
          "text": [
            "\r 77%|███████▋  | 238/310 [01:05<00:19,  3.70it/s]"
          ]
        },
        {
          "name": "stdout",
          "output_type": "stream",
          "text": [
            "\n",
            "Index 238 (Yes), Layer‐Offset loop:\n",
            "  Last 10 token IDs:      [1, 477, 330, 17, 1, 323, 912, 1023, 1495, 13]\n",
            "  Last 10 token strings:  ['\"', 'Ġor', 'Ġ\"', '2', '\"', 'Ġand', 'Ġno', 'Ġother', 'Ġtext', '.']\n",
            "\n"
          ]
        },
        {
          "name": "stderr",
          "output_type": "stream",
          "text": [
            "\r 77%|███████▋  | 239/310 [01:05<00:19,  3.73it/s]"
          ]
        },
        {
          "name": "stdout",
          "output_type": "stream",
          "text": [
            "\n",
            "Index 239 (Yes), Layer‐Offset loop:\n",
            "  Last 10 token IDs:      [1, 477, 330, 17, 1, 323, 912, 1023, 1495, 13]\n",
            "  Last 10 token strings:  ['\"', 'Ġor', 'Ġ\"', '2', '\"', 'Ġand', 'Ġno', 'Ġother', 'Ġtext', '.']\n",
            "\n"
          ]
        },
        {
          "name": "stderr",
          "output_type": "stream",
          "text": [
            "\r 77%|███████▋  | 240/310 [01:05<00:18,  3.70it/s]"
          ]
        },
        {
          "name": "stdout",
          "output_type": "stream",
          "text": [
            "\n",
            "Index 240 (No), Layer‐Offset loop:\n",
            "  Last 10 token IDs:      [1, 477, 330, 17, 1, 323, 912, 1023, 1495, 13]\n",
            "  Last 10 token strings:  ['\"', 'Ġor', 'Ġ\"', '2', '\"', 'Ġand', 'Ġno', 'Ġother', 'Ġtext', '.']\n",
            "\n"
          ]
        },
        {
          "name": "stderr",
          "output_type": "stream",
          "text": [
            "\r 78%|███████▊  | 241/310 [01:05<00:18,  3.67it/s]"
          ]
        },
        {
          "name": "stdout",
          "output_type": "stream",
          "text": [
            "\n",
            "Index 241 (No), Layer‐Offset loop:\n",
            "  Last 10 token IDs:      [1, 477, 330, 17, 1, 323, 912, 1023, 1495, 13]\n",
            "  Last 10 token strings:  ['\"', 'Ġor', 'Ġ\"', '2', '\"', 'Ġand', 'Ġno', 'Ġother', 'Ġtext', '.']\n",
            "\n"
          ]
        },
        {
          "name": "stderr",
          "output_type": "stream",
          "text": [
            "\r 78%|███████▊  | 242/310 [01:06<00:18,  3.70it/s]"
          ]
        },
        {
          "name": "stdout",
          "output_type": "stream",
          "text": [
            "\n",
            "Index 242 (No), Layer‐Offset loop:\n",
            "  Last 10 token IDs:      [1, 477, 330, 17, 1, 323, 912, 1023, 1495, 13]\n",
            "  Last 10 token strings:  ['\"', 'Ġor', 'Ġ\"', '2', '\"', 'Ġand', 'Ġno', 'Ġother', 'Ġtext', '.']\n",
            "\n"
          ]
        },
        {
          "name": "stderr",
          "output_type": "stream",
          "text": [
            "\r 78%|███████▊  | 243/310 [01:06<00:18,  3.72it/s]"
          ]
        },
        {
          "name": "stdout",
          "output_type": "stream",
          "text": [
            "\n",
            "Index 243 (Yes), Layer‐Offset loop:\n",
            "  Last 10 token IDs:      [1, 477, 330, 17, 1, 323, 912, 1023, 1495, 13]\n",
            "  Last 10 token strings:  ['\"', 'Ġor', 'Ġ\"', '2', '\"', 'Ġand', 'Ġno', 'Ġother', 'Ġtext', '.']\n",
            "\n"
          ]
        },
        {
          "name": "stderr",
          "output_type": "stream",
          "text": [
            "\r 79%|███████▊  | 244/310 [01:06<00:17,  3.76it/s]"
          ]
        },
        {
          "name": "stdout",
          "output_type": "stream",
          "text": [
            "\n",
            "Index 244 (No), Layer‐Offset loop:\n",
            "  Last 10 token IDs:      [1, 477, 330, 17, 1, 323, 912, 1023, 1495, 13]\n",
            "  Last 10 token strings:  ['\"', 'Ġor', 'Ġ\"', '2', '\"', 'Ġand', 'Ġno', 'Ġother', 'Ġtext', '.']\n",
            "\n"
          ]
        },
        {
          "name": "stderr",
          "output_type": "stream",
          "text": [
            "\r 79%|███████▉  | 245/310 [01:06<00:17,  3.73it/s]"
          ]
        },
        {
          "name": "stdout",
          "output_type": "stream",
          "text": [
            "\n",
            "Index 245 (No), Layer‐Offset loop:\n",
            "  Last 10 token IDs:      [1, 477, 330, 17, 1, 323, 912, 1023, 1495, 13]\n",
            "  Last 10 token strings:  ['\"', 'Ġor', 'Ġ\"', '2', '\"', 'Ġand', 'Ġno', 'Ġother', 'Ġtext', '.']\n",
            "\n"
          ]
        },
        {
          "name": "stderr",
          "output_type": "stream",
          "text": [
            "\r 79%|███████▉  | 246/310 [01:07<00:17,  3.76it/s]"
          ]
        },
        {
          "name": "stdout",
          "output_type": "stream",
          "text": [
            "\n",
            "Index 246 (No), Layer‐Offset loop:\n",
            "  Last 10 token IDs:      [1, 477, 330, 17, 1, 323, 912, 1023, 1495, 13]\n",
            "  Last 10 token strings:  ['\"', 'Ġor', 'Ġ\"', '2', '\"', 'Ġand', 'Ġno', 'Ġother', 'Ġtext', '.']\n",
            "\n"
          ]
        },
        {
          "name": "stderr",
          "output_type": "stream",
          "text": [
            "\r 80%|███████▉  | 247/310 [01:07<00:17,  3.65it/s]"
          ]
        },
        {
          "name": "stdout",
          "output_type": "stream",
          "text": [
            "\n",
            "Index 247 (No), Layer‐Offset loop:\n",
            "  Last 10 token IDs:      [1, 477, 330, 17, 1, 323, 912, 1023, 1495, 13]\n",
            "  Last 10 token strings:  ['\"', 'Ġor', 'Ġ\"', '2', '\"', 'Ġand', 'Ġno', 'Ġother', 'Ġtext', '.']\n",
            "\n"
          ]
        },
        {
          "name": "stderr",
          "output_type": "stream",
          "text": [
            "\r 80%|████████  | 248/310 [01:07<00:17,  3.64it/s]"
          ]
        },
        {
          "name": "stdout",
          "output_type": "stream",
          "text": [
            "\n",
            "Index 248 (Yes), Layer‐Offset loop:\n",
            "  Last 10 token IDs:      [1, 477, 330, 17, 1, 323, 912, 1023, 1495, 13]\n",
            "  Last 10 token strings:  ['\"', 'Ġor', 'Ġ\"', '2', '\"', 'Ġand', 'Ġno', 'Ġother', 'Ġtext', '.']\n",
            "\n"
          ]
        },
        {
          "name": "stderr",
          "output_type": "stream",
          "text": [
            "\r 80%|████████  | 249/310 [01:07<00:16,  3.62it/s]"
          ]
        },
        {
          "name": "stdout",
          "output_type": "stream",
          "text": [
            "\n",
            "Index 249 (Yes), Layer‐Offset loop:\n",
            "  Last 10 token IDs:      [1, 477, 330, 17, 1, 323, 912, 1023, 1495, 13]\n",
            "  Last 10 token strings:  ['\"', 'Ġor', 'Ġ\"', '2', '\"', 'Ġand', 'Ġno', 'Ġother', 'Ġtext', '.']\n",
            "\n"
          ]
        },
        {
          "name": "stderr",
          "output_type": "stream",
          "text": [
            "\r 81%|████████  | 250/310 [01:08<00:16,  3.68it/s]"
          ]
        },
        {
          "name": "stdout",
          "output_type": "stream",
          "text": [
            "\n",
            "Index 250 (Yes), Layer‐Offset loop:\n",
            "  Last 10 token IDs:      [1, 477, 330, 17, 1, 323, 912, 1023, 1495, 13]\n",
            "  Last 10 token strings:  ['\"', 'Ġor', 'Ġ\"', '2', '\"', 'Ġand', 'Ġno', 'Ġother', 'Ġtext', '.']\n",
            "\n"
          ]
        },
        {
          "name": "stderr",
          "output_type": "stream",
          "text": [
            "\r 81%|████████  | 251/310 [01:08<00:16,  3.59it/s]"
          ]
        },
        {
          "name": "stdout",
          "output_type": "stream",
          "text": [
            "\n",
            "Index 251 (No), Layer‐Offset loop:\n",
            "  Last 10 token IDs:      [1, 477, 330, 17, 1, 323, 912, 1023, 1495, 13]\n",
            "  Last 10 token strings:  ['\"', 'Ġor', 'Ġ\"', '2', '\"', 'Ġand', 'Ġno', 'Ġother', 'Ġtext', '.']\n",
            "\n"
          ]
        },
        {
          "name": "stderr",
          "output_type": "stream",
          "text": [
            "\r 81%|████████▏ | 252/310 [01:08<00:16,  3.56it/s]"
          ]
        },
        {
          "name": "stdout",
          "output_type": "stream",
          "text": [
            "\n",
            "Index 252 (No), Layer‐Offset loop:\n",
            "  Last 10 token IDs:      [1, 477, 330, 17, 1, 323, 912, 1023, 1495, 13]\n",
            "  Last 10 token strings:  ['\"', 'Ġor', 'Ġ\"', '2', '\"', 'Ġand', 'Ġno', 'Ġother', 'Ġtext', '.']\n",
            "\n"
          ]
        },
        {
          "name": "stderr",
          "output_type": "stream",
          "text": [
            "\r 82%|████████▏ | 253/310 [01:09<00:15,  3.66it/s]"
          ]
        },
        {
          "name": "stdout",
          "output_type": "stream",
          "text": [
            "\n",
            "Index 253 (No), Layer‐Offset loop:\n",
            "  Last 10 token IDs:      [1, 477, 330, 17, 1, 323, 912, 1023, 1495, 13]\n",
            "  Last 10 token strings:  ['\"', 'Ġor', 'Ġ\"', '2', '\"', 'Ġand', 'Ġno', 'Ġother', 'Ġtext', '.']\n",
            "\n"
          ]
        },
        {
          "name": "stderr",
          "output_type": "stream",
          "text": [
            "\r 82%|████████▏ | 254/310 [01:09<00:15,  3.64it/s]"
          ]
        },
        {
          "name": "stdout",
          "output_type": "stream",
          "text": [
            "\n",
            "Index 254 (No), Layer‐Offset loop:\n",
            "  Last 10 token IDs:      [1, 477, 330, 17, 1, 323, 912, 1023, 1495, 13]\n",
            "  Last 10 token strings:  ['\"', 'Ġor', 'Ġ\"', '2', '\"', 'Ġand', 'Ġno', 'Ġother', 'Ġtext', '.']\n",
            "\n"
          ]
        },
        {
          "name": "stderr",
          "output_type": "stream",
          "text": [
            "\r 82%|████████▏ | 255/310 [01:09<00:14,  3.69it/s]"
          ]
        },
        {
          "name": "stdout",
          "output_type": "stream",
          "text": [
            "\n",
            "Index 255 (No), Layer‐Offset loop:\n",
            "  Last 10 token IDs:      [1, 477, 330, 17, 1, 323, 912, 1023, 1495, 13]\n",
            "  Last 10 token strings:  ['\"', 'Ġor', 'Ġ\"', '2', '\"', 'Ġand', 'Ġno', 'Ġother', 'Ġtext', '.']\n",
            "\n"
          ]
        },
        {
          "name": "stderr",
          "output_type": "stream",
          "text": [
            "\r 83%|████████▎ | 256/310 [01:09<00:15,  3.42it/s]"
          ]
        },
        {
          "name": "stdout",
          "output_type": "stream",
          "text": [
            "\n",
            "Index 256 (Yes), Layer‐Offset loop:\n",
            "  Last 10 token IDs:      [1, 477, 330, 17, 1, 323, 912, 1023, 1495, 13]\n",
            "  Last 10 token strings:  ['\"', 'Ġor', 'Ġ\"', '2', '\"', 'Ġand', 'Ġno', 'Ġother', 'Ġtext', '.']\n",
            "\n"
          ]
        },
        {
          "name": "stderr",
          "output_type": "stream",
          "text": [
            "\r 83%|████████▎ | 257/310 [01:10<00:16,  3.23it/s]"
          ]
        },
        {
          "name": "stdout",
          "output_type": "stream",
          "text": [
            "\n",
            "Index 257 (No), Layer‐Offset loop:\n",
            "  Last 10 token IDs:      [1, 477, 330, 17, 1, 323, 912, 1023, 1495, 13]\n",
            "  Last 10 token strings:  ['\"', 'Ġor', 'Ġ\"', '2', '\"', 'Ġand', 'Ġno', 'Ġother', 'Ġtext', '.']\n",
            "\n"
          ]
        },
        {
          "name": "stderr",
          "output_type": "stream",
          "text": [
            "\r 83%|████████▎ | 258/310 [01:10<00:15,  3.42it/s]"
          ]
        },
        {
          "name": "stdout",
          "output_type": "stream",
          "text": [
            "\n",
            "Index 258 (No), Layer‐Offset loop:\n",
            "  Last 10 token IDs:      [1, 477, 330, 17, 1, 323, 912, 1023, 1495, 13]\n",
            "  Last 10 token strings:  ['\"', 'Ġor', 'Ġ\"', '2', '\"', 'Ġand', 'Ġno', 'Ġother', 'Ġtext', '.']\n",
            "\n"
          ]
        },
        {
          "name": "stderr",
          "output_type": "stream",
          "text": [
            "\r 84%|████████▎ | 259/310 [01:10<00:14,  3.55it/s]"
          ]
        },
        {
          "name": "stdout",
          "output_type": "stream",
          "text": [
            "\n",
            "Index 259 (Yes), Layer‐Offset loop:\n",
            "  Last 10 token IDs:      [1, 477, 330, 17, 1, 323, 912, 1023, 1495, 13]\n",
            "  Last 10 token strings:  ['\"', 'Ġor', 'Ġ\"', '2', '\"', 'Ġand', 'Ġno', 'Ġother', 'Ġtext', '.']\n",
            "\n"
          ]
        },
        {
          "name": "stderr",
          "output_type": "stream",
          "text": [
            "\r 84%|████████▍ | 260/310 [01:11<00:13,  3.64it/s]"
          ]
        },
        {
          "name": "stdout",
          "output_type": "stream",
          "text": [
            "\n",
            "Index 260 (Yes), Layer‐Offset loop:\n",
            "  Last 10 token IDs:      [1, 477, 330, 17, 1, 323, 912, 1023, 1495, 13]\n",
            "  Last 10 token strings:  ['\"', 'Ġor', 'Ġ\"', '2', '\"', 'Ġand', 'Ġno', 'Ġother', 'Ġtext', '.']\n",
            "\n"
          ]
        },
        {
          "name": "stderr",
          "output_type": "stream",
          "text": [
            "\r 84%|████████▍ | 261/310 [01:11<00:13,  3.69it/s]"
          ]
        },
        {
          "name": "stdout",
          "output_type": "stream",
          "text": [
            "\n",
            "Index 261 (Yes), Layer‐Offset loop:\n",
            "  Last 10 token IDs:      [1, 477, 330, 17, 1, 323, 912, 1023, 1495, 13]\n",
            "  Last 10 token strings:  ['\"', 'Ġor', 'Ġ\"', '2', '\"', 'Ġand', 'Ġno', 'Ġother', 'Ġtext', '.']\n",
            "\n"
          ]
        },
        {
          "name": "stderr",
          "output_type": "stream",
          "text": [
            "\r 85%|████████▍ | 262/310 [01:11<00:12,  3.69it/s]"
          ]
        },
        {
          "name": "stdout",
          "output_type": "stream",
          "text": [
            "\n",
            "Index 262 (Yes), Layer‐Offset loop:\n",
            "  Last 10 token IDs:      [1, 477, 330, 17, 1, 323, 912, 1023, 1495, 13]\n",
            "  Last 10 token strings:  ['\"', 'Ġor', 'Ġ\"', '2', '\"', 'Ġand', 'Ġno', 'Ġother', 'Ġtext', '.']\n",
            "\n"
          ]
        },
        {
          "name": "stderr",
          "output_type": "stream",
          "text": [
            "\r 85%|████████▍ | 263/310 [01:11<00:12,  3.70it/s]"
          ]
        },
        {
          "name": "stdout",
          "output_type": "stream",
          "text": [
            "\n",
            "Index 263 (Yes), Layer‐Offset loop:\n",
            "  Last 10 token IDs:      [1, 477, 330, 17, 1, 323, 912, 1023, 1495, 13]\n",
            "  Last 10 token strings:  ['\"', 'Ġor', 'Ġ\"', '2', '\"', 'Ġand', 'Ġno', 'Ġother', 'Ġtext', '.']\n",
            "\n"
          ]
        },
        {
          "name": "stderr",
          "output_type": "stream",
          "text": [
            "\r 85%|████████▌ | 264/310 [01:12<00:12,  3.76it/s]"
          ]
        },
        {
          "name": "stdout",
          "output_type": "stream",
          "text": [
            "\n",
            "Index 264 (No), Layer‐Offset loop:\n",
            "  Last 10 token IDs:      [1, 477, 330, 17, 1, 323, 912, 1023, 1495, 13]\n",
            "  Last 10 token strings:  ['\"', 'Ġor', 'Ġ\"', '2', '\"', 'Ġand', 'Ġno', 'Ġother', 'Ġtext', '.']\n",
            "\n"
          ]
        },
        {
          "name": "stderr",
          "output_type": "stream",
          "text": [
            "\r 85%|████████▌ | 265/310 [01:12<00:12,  3.74it/s]"
          ]
        },
        {
          "name": "stdout",
          "output_type": "stream",
          "text": [
            "\n",
            "Index 265 (Yes), Layer‐Offset loop:\n",
            "  Last 10 token IDs:      [1, 477, 330, 17, 1, 323, 912, 1023, 1495, 13]\n",
            "  Last 10 token strings:  ['\"', 'Ġor', 'Ġ\"', '2', '\"', 'Ġand', 'Ġno', 'Ġother', 'Ġtext', '.']\n",
            "\n"
          ]
        },
        {
          "name": "stderr",
          "output_type": "stream",
          "text": [
            "\r 86%|████████▌ | 266/310 [01:12<00:11,  3.78it/s]"
          ]
        },
        {
          "name": "stdout",
          "output_type": "stream",
          "text": [
            "\n",
            "Index 266 (No), Layer‐Offset loop:\n",
            "  Last 10 token IDs:      [1, 477, 330, 17, 1, 323, 912, 1023, 1495, 13]\n",
            "  Last 10 token strings:  ['\"', 'Ġor', 'Ġ\"', '2', '\"', 'Ġand', 'Ġno', 'Ġother', 'Ġtext', '.']\n",
            "\n"
          ]
        },
        {
          "name": "stderr",
          "output_type": "stream",
          "text": [
            "\r 86%|████████▌ | 267/310 [01:12<00:11,  3.70it/s]"
          ]
        },
        {
          "name": "stdout",
          "output_type": "stream",
          "text": [
            "\n",
            "Index 267 (Yes), Layer‐Offset loop:\n",
            "  Last 10 token IDs:      [1, 477, 330, 17, 1, 323, 912, 1023, 1495, 13]\n",
            "  Last 10 token strings:  ['\"', 'Ġor', 'Ġ\"', '2', '\"', 'Ġand', 'Ġno', 'Ġother', 'Ġtext', '.']\n",
            "\n"
          ]
        },
        {
          "name": "stderr",
          "output_type": "stream",
          "text": [
            "\r 86%|████████▋ | 268/310 [01:13<00:11,  3.69it/s]"
          ]
        },
        {
          "name": "stdout",
          "output_type": "stream",
          "text": [
            "\n",
            "Index 268 (Yes), Layer‐Offset loop:\n",
            "  Last 10 token IDs:      [1, 477, 330, 17, 1, 323, 912, 1023, 1495, 13]\n",
            "  Last 10 token strings:  ['\"', 'Ġor', 'Ġ\"', '2', '\"', 'Ġand', 'Ġno', 'Ġother', 'Ġtext', '.']\n",
            "\n"
          ]
        },
        {
          "name": "stderr",
          "output_type": "stream",
          "text": [
            "\r 87%|████████▋ | 269/310 [01:13<00:10,  3.74it/s]"
          ]
        },
        {
          "name": "stdout",
          "output_type": "stream",
          "text": [
            "\n",
            "Index 269 (No), Layer‐Offset loop:\n",
            "  Last 10 token IDs:      [1, 477, 330, 17, 1, 323, 912, 1023, 1495, 13]\n",
            "  Last 10 token strings:  ['\"', 'Ġor', 'Ġ\"', '2', '\"', 'Ġand', 'Ġno', 'Ġother', 'Ġtext', '.']\n",
            "\n"
          ]
        },
        {
          "name": "stderr",
          "output_type": "stream",
          "text": [
            "\r 87%|████████▋ | 270/310 [01:13<00:10,  3.75it/s]"
          ]
        },
        {
          "name": "stdout",
          "output_type": "stream",
          "text": [
            "\n",
            "Index 270 (No), Layer‐Offset loop:\n",
            "  Last 10 token IDs:      [1, 477, 330, 17, 1, 323, 912, 1023, 1495, 13]\n",
            "  Last 10 token strings:  ['\"', 'Ġor', 'Ġ\"', '2', '\"', 'Ġand', 'Ġno', 'Ġother', 'Ġtext', '.']\n",
            "\n"
          ]
        },
        {
          "name": "stderr",
          "output_type": "stream",
          "text": [
            "\r 87%|████████▋ | 271/310 [01:14<00:10,  3.82it/s]"
          ]
        },
        {
          "name": "stdout",
          "output_type": "stream",
          "text": [
            "\n",
            "Index 271 (Yes), Layer‐Offset loop:\n",
            "  Last 10 token IDs:      [1, 477, 330, 17, 1, 323, 912, 1023, 1495, 13]\n",
            "  Last 10 token strings:  ['\"', 'Ġor', 'Ġ\"', '2', '\"', 'Ġand', 'Ġno', 'Ġother', 'Ġtext', '.']\n",
            "\n"
          ]
        },
        {
          "name": "stderr",
          "output_type": "stream",
          "text": [
            "\r 88%|████████▊ | 272/310 [01:14<00:09,  3.86it/s]"
          ]
        },
        {
          "name": "stdout",
          "output_type": "stream",
          "text": [
            "\n",
            "Index 272 (Yes), Layer‐Offset loop:\n",
            "  Last 10 token IDs:      [1, 477, 330, 17, 1, 323, 912, 1023, 1495, 13]\n",
            "  Last 10 token strings:  ['\"', 'Ġor', 'Ġ\"', '2', '\"', 'Ġand', 'Ġno', 'Ġother', 'Ġtext', '.']\n",
            "\n"
          ]
        },
        {
          "name": "stderr",
          "output_type": "stream",
          "text": [
            "\r 88%|████████▊ | 273/310 [01:14<00:09,  3.70it/s]"
          ]
        },
        {
          "name": "stdout",
          "output_type": "stream",
          "text": [
            "\n",
            "Index 273 (No), Layer‐Offset loop:\n",
            "  Last 10 token IDs:      [1, 477, 330, 17, 1, 323, 912, 1023, 1495, 13]\n",
            "  Last 10 token strings:  ['\"', 'Ġor', 'Ġ\"', '2', '\"', 'Ġand', 'Ġno', 'Ġother', 'Ġtext', '.']\n",
            "\n"
          ]
        },
        {
          "name": "stderr",
          "output_type": "stream",
          "text": [
            "\r 88%|████████▊ | 274/310 [01:14<00:09,  3.68it/s]"
          ]
        },
        {
          "name": "stdout",
          "output_type": "stream",
          "text": [
            "\n",
            "Index 274 (No), Layer‐Offset loop:\n",
            "  Last 10 token IDs:      [1, 477, 330, 17, 1, 323, 912, 1023, 1495, 13]\n",
            "  Last 10 token strings:  ['\"', 'Ġor', 'Ġ\"', '2', '\"', 'Ġand', 'Ġno', 'Ġother', 'Ġtext', '.']\n",
            "\n"
          ]
        },
        {
          "name": "stderr",
          "output_type": "stream",
          "text": [
            "\r 89%|████████▊ | 275/310 [01:15<00:09,  3.76it/s]"
          ]
        },
        {
          "name": "stdout",
          "output_type": "stream",
          "text": [
            "\n",
            "Index 275 (No), Layer‐Offset loop:\n",
            "  Last 10 token IDs:      [1, 477, 330, 17, 1, 323, 912, 1023, 1495, 13]\n",
            "  Last 10 token strings:  ['\"', 'Ġor', 'Ġ\"', '2', '\"', 'Ġand', 'Ġno', 'Ġother', 'Ġtext', '.']\n",
            "\n"
          ]
        },
        {
          "name": "stderr",
          "output_type": "stream",
          "text": [
            "\r 89%|████████▉ | 276/310 [01:15<00:08,  3.79it/s]"
          ]
        },
        {
          "name": "stdout",
          "output_type": "stream",
          "text": [
            "\n",
            "Index 276 (Yes), Layer‐Offset loop:\n",
            "  Last 10 token IDs:      [1, 477, 330, 17, 1, 323, 912, 1023, 1495, 13]\n",
            "  Last 10 token strings:  ['\"', 'Ġor', 'Ġ\"', '2', '\"', 'Ġand', 'Ġno', 'Ġother', 'Ġtext', '.']\n",
            "\n"
          ]
        },
        {
          "name": "stderr",
          "output_type": "stream",
          "text": [
            "\r 89%|████████▉ | 277/310 [01:15<00:08,  3.81it/s]"
          ]
        },
        {
          "name": "stdout",
          "output_type": "stream",
          "text": [
            "\n",
            "Index 277 (No), Layer‐Offset loop:\n",
            "  Last 10 token IDs:      [1, 477, 330, 17, 1, 323, 912, 1023, 1495, 13]\n",
            "  Last 10 token strings:  ['\"', 'Ġor', 'Ġ\"', '2', '\"', 'Ġand', 'Ġno', 'Ġother', 'Ġtext', '.']\n",
            "\n"
          ]
        },
        {
          "name": "stderr",
          "output_type": "stream",
          "text": [
            "\r 90%|████████▉ | 278/310 [01:15<00:08,  3.83it/s]"
          ]
        },
        {
          "name": "stdout",
          "output_type": "stream",
          "text": [
            "\n",
            "Index 278 (No), Layer‐Offset loop:\n",
            "  Last 10 token IDs:      [1, 477, 330, 17, 1, 323, 912, 1023, 1495, 13]\n",
            "  Last 10 token strings:  ['\"', 'Ġor', 'Ġ\"', '2', '\"', 'Ġand', 'Ġno', 'Ġother', 'Ġtext', '.']\n",
            "\n"
          ]
        },
        {
          "name": "stderr",
          "output_type": "stream",
          "text": [
            "\r 90%|█████████ | 279/310 [01:16<00:08,  3.72it/s]"
          ]
        },
        {
          "name": "stdout",
          "output_type": "stream",
          "text": [
            "\n",
            "Index 279 (Yes), Layer‐Offset loop:\n",
            "  Last 10 token IDs:      [1, 477, 330, 17, 1, 323, 912, 1023, 1495, 13]\n",
            "  Last 10 token strings:  ['\"', 'Ġor', 'Ġ\"', '2', '\"', 'Ġand', 'Ġno', 'Ġother', 'Ġtext', '.']\n",
            "\n"
          ]
        },
        {
          "name": "stderr",
          "output_type": "stream",
          "text": [
            "\r 90%|█████████ | 280/310 [01:16<00:08,  3.70it/s]"
          ]
        },
        {
          "name": "stdout",
          "output_type": "stream",
          "text": [
            "\n",
            "Index 280 (Yes), Layer‐Offset loop:\n",
            "  Last 10 token IDs:      [1, 477, 330, 17, 1, 323, 912, 1023, 1495, 13]\n",
            "  Last 10 token strings:  ['\"', 'Ġor', 'Ġ\"', '2', '\"', 'Ġand', 'Ġno', 'Ġother', 'Ġtext', '.']\n",
            "\n"
          ]
        },
        {
          "name": "stderr",
          "output_type": "stream",
          "text": [
            "\r 91%|█████████ | 281/310 [01:16<00:07,  3.74it/s]"
          ]
        },
        {
          "name": "stdout",
          "output_type": "stream",
          "text": [
            "\n",
            "Index 281 (No), Layer‐Offset loop:\n",
            "  Last 10 token IDs:      [1, 477, 330, 17, 1, 323, 912, 1023, 1495, 13]\n",
            "  Last 10 token strings:  ['\"', 'Ġor', 'Ġ\"', '2', '\"', 'Ġand', 'Ġno', 'Ġother', 'Ġtext', '.']\n",
            "\n"
          ]
        },
        {
          "name": "stderr",
          "output_type": "stream",
          "text": [
            "\r 91%|█████████ | 282/310 [01:16<00:07,  3.81it/s]"
          ]
        },
        {
          "name": "stdout",
          "output_type": "stream",
          "text": [
            "\n",
            "Index 282 (No), Layer‐Offset loop:\n",
            "  Last 10 token IDs:      [1, 477, 330, 17, 1, 323, 912, 1023, 1495, 13]\n",
            "  Last 10 token strings:  ['\"', 'Ġor', 'Ġ\"', '2', '\"', 'Ġand', 'Ġno', 'Ġother', 'Ġtext', '.']\n",
            "\n"
          ]
        },
        {
          "name": "stderr",
          "output_type": "stream",
          "text": [
            "\r 91%|█████████▏| 283/310 [01:17<00:07,  3.57it/s]"
          ]
        },
        {
          "name": "stdout",
          "output_type": "stream",
          "text": [
            "\n",
            "Index 283 (No), Layer‐Offset loop:\n",
            "  Last 10 token IDs:      [1, 477, 330, 17, 1, 323, 912, 1023, 1495, 13]\n",
            "  Last 10 token strings:  ['\"', 'Ġor', 'Ġ\"', '2', '\"', 'Ġand', 'Ġno', 'Ġother', 'Ġtext', '.']\n",
            "\n"
          ]
        },
        {
          "name": "stderr",
          "output_type": "stream",
          "text": [
            "\r 92%|█████████▏| 284/310 [01:17<00:07,  3.49it/s]"
          ]
        },
        {
          "name": "stdout",
          "output_type": "stream",
          "text": [
            "\n",
            "Index 284 (No), Layer‐Offset loop:\n",
            "  Last 10 token IDs:      [1, 477, 330, 17, 1, 323, 912, 1023, 1495, 13]\n",
            "  Last 10 token strings:  ['\"', 'Ġor', 'Ġ\"', '2', '\"', 'Ġand', 'Ġno', 'Ġother', 'Ġtext', '.']\n",
            "\n"
          ]
        },
        {
          "name": "stderr",
          "output_type": "stream",
          "text": [
            "\r 92%|█████████▏| 285/310 [01:17<00:07,  3.40it/s]"
          ]
        },
        {
          "name": "stdout",
          "output_type": "stream",
          "text": [
            "\n",
            "Index 285 (No), Layer‐Offset loop:\n",
            "  Last 10 token IDs:      [1, 477, 330, 17, 1, 323, 912, 1023, 1495, 13]\n",
            "  Last 10 token strings:  ['\"', 'Ġor', 'Ġ\"', '2', '\"', 'Ġand', 'Ġno', 'Ġother', 'Ġtext', '.']\n",
            "\n"
          ]
        },
        {
          "name": "stderr",
          "output_type": "stream",
          "text": [
            "\r 92%|█████████▏| 286/310 [01:18<00:06,  3.45it/s]"
          ]
        },
        {
          "name": "stdout",
          "output_type": "stream",
          "text": [
            "\n",
            "Index 286 (Yes), Layer‐Offset loop:\n",
            "  Last 10 token IDs:      [1, 477, 330, 17, 1, 323, 912, 1023, 1495, 13]\n",
            "  Last 10 token strings:  ['\"', 'Ġor', 'Ġ\"', '2', '\"', 'Ġand', 'Ġno', 'Ġother', 'Ġtext', '.']\n",
            "\n"
          ]
        },
        {
          "name": "stderr",
          "output_type": "stream",
          "text": [
            "\r 93%|█████████▎| 287/310 [01:18<00:06,  3.49it/s]"
          ]
        },
        {
          "name": "stdout",
          "output_type": "stream",
          "text": [
            "\n",
            "Index 287 (Yes), Layer‐Offset loop:\n",
            "  Last 10 token IDs:      [1, 477, 330, 17, 1, 323, 912, 1023, 1495, 13]\n",
            "  Last 10 token strings:  ['\"', 'Ġor', 'Ġ\"', '2', '\"', 'Ġand', 'Ġno', 'Ġother', 'Ġtext', '.']\n",
            "\n"
          ]
        },
        {
          "name": "stderr",
          "output_type": "stream",
          "text": [
            "\r 93%|█████████▎| 288/310 [01:18<00:06,  3.52it/s]"
          ]
        },
        {
          "name": "stdout",
          "output_type": "stream",
          "text": [
            "\n",
            "Index 288 (No), Layer‐Offset loop:\n",
            "  Last 10 token IDs:      [1, 477, 330, 17, 1, 323, 912, 1023, 1495, 13]\n",
            "  Last 10 token strings:  ['\"', 'Ġor', 'Ġ\"', '2', '\"', 'Ġand', 'Ġno', 'Ġother', 'Ġtext', '.']\n",
            "\n"
          ]
        },
        {
          "name": "stderr",
          "output_type": "stream",
          "text": [
            "\r 93%|█████████▎| 289/310 [01:18<00:05,  3.63it/s]"
          ]
        },
        {
          "name": "stdout",
          "output_type": "stream",
          "text": [
            "\n",
            "Index 289 (No), Layer‐Offset loop:\n",
            "  Last 10 token IDs:      [1, 477, 330, 17, 1, 323, 912, 1023, 1495, 13]\n",
            "  Last 10 token strings:  ['\"', 'Ġor', 'Ġ\"', '2', '\"', 'Ġand', 'Ġno', 'Ġother', 'Ġtext', '.']\n",
            "\n"
          ]
        },
        {
          "name": "stderr",
          "output_type": "stream",
          "text": [
            "\r 94%|█████████▎| 290/310 [01:19<00:05,  3.71it/s]"
          ]
        },
        {
          "name": "stdout",
          "output_type": "stream",
          "text": [
            "\n",
            "Index 290 (Yes), Layer‐Offset loop:\n",
            "  Last 10 token IDs:      [1, 477, 330, 17, 1, 323, 912, 1023, 1495, 13]\n",
            "  Last 10 token strings:  ['\"', 'Ġor', 'Ġ\"', '2', '\"', 'Ġand', 'Ġno', 'Ġother', 'Ġtext', '.']\n",
            "\n"
          ]
        },
        {
          "name": "stderr",
          "output_type": "stream",
          "text": [
            "\r 94%|█████████▍| 291/310 [01:19<00:05,  3.73it/s]"
          ]
        },
        {
          "name": "stdout",
          "output_type": "stream",
          "text": [
            "\n",
            "Index 291 (No), Layer‐Offset loop:\n",
            "  Last 10 token IDs:      [1, 477, 330, 17, 1, 323, 912, 1023, 1495, 13]\n",
            "  Last 10 token strings:  ['\"', 'Ġor', 'Ġ\"', '2', '\"', 'Ġand', 'Ġno', 'Ġother', 'Ġtext', '.']\n",
            "\n"
          ]
        },
        {
          "name": "stderr",
          "output_type": "stream",
          "text": [
            "\r 94%|█████████▍| 292/310 [01:19<00:04,  3.81it/s]"
          ]
        },
        {
          "name": "stdout",
          "output_type": "stream",
          "text": [
            "\n",
            "Index 292 (No), Layer‐Offset loop:\n",
            "  Last 10 token IDs:      [1, 477, 330, 17, 1, 323, 912, 1023, 1495, 13]\n",
            "  Last 10 token strings:  ['\"', 'Ġor', 'Ġ\"', '2', '\"', 'Ġand', 'Ġno', 'Ġother', 'Ġtext', '.']\n",
            "\n"
          ]
        },
        {
          "name": "stderr",
          "output_type": "stream",
          "text": [
            "\r 95%|█████████▍| 293/310 [01:19<00:04,  3.86it/s]"
          ]
        },
        {
          "name": "stdout",
          "output_type": "stream",
          "text": [
            "\n",
            "Index 293 (No), Layer‐Offset loop:\n",
            "  Last 10 token IDs:      [1, 477, 330, 17, 1, 323, 912, 1023, 1495, 13]\n",
            "  Last 10 token strings:  ['\"', 'Ġor', 'Ġ\"', '2', '\"', 'Ġand', 'Ġno', 'Ġother', 'Ġtext', '.']\n",
            "\n"
          ]
        },
        {
          "name": "stderr",
          "output_type": "stream",
          "text": [
            "\r 95%|█████████▍| 294/310 [01:20<00:04,  3.89it/s]"
          ]
        },
        {
          "name": "stdout",
          "output_type": "stream",
          "text": [
            "\n",
            "Index 294 (No), Layer‐Offset loop:\n",
            "  Last 10 token IDs:      [1, 477, 330, 17, 1, 323, 912, 1023, 1495, 13]\n",
            "  Last 10 token strings:  ['\"', 'Ġor', 'Ġ\"', '2', '\"', 'Ġand', 'Ġno', 'Ġother', 'Ġtext', '.']\n",
            "\n"
          ]
        },
        {
          "name": "stderr",
          "output_type": "stream",
          "text": [
            "\r 95%|█████████▌| 295/310 [01:20<00:03,  3.80it/s]"
          ]
        },
        {
          "name": "stdout",
          "output_type": "stream",
          "text": [
            "\n",
            "Index 295 (No), Layer‐Offset loop:\n",
            "  Last 10 token IDs:      [1, 477, 330, 17, 1, 323, 912, 1023, 1495, 13]\n",
            "  Last 10 token strings:  ['\"', 'Ġor', 'Ġ\"', '2', '\"', 'Ġand', 'Ġno', 'Ġother', 'Ġtext', '.']\n",
            "\n"
          ]
        },
        {
          "name": "stderr",
          "output_type": "stream",
          "text": [
            "\r 95%|█████████▌| 296/310 [01:20<00:03,  3.77it/s]"
          ]
        },
        {
          "name": "stdout",
          "output_type": "stream",
          "text": [
            "\n",
            "Index 296 (Yes), Layer‐Offset loop:\n",
            "  Last 10 token IDs:      [1, 477, 330, 17, 1, 323, 912, 1023, 1495, 13]\n",
            "  Last 10 token strings:  ['\"', 'Ġor', 'Ġ\"', '2', '\"', 'Ġand', 'Ġno', 'Ġother', 'Ġtext', '.']\n",
            "\n"
          ]
        },
        {
          "name": "stderr",
          "output_type": "stream",
          "text": [
            "\r 96%|█████████▌| 297/310 [01:21<00:03,  3.74it/s]"
          ]
        },
        {
          "name": "stdout",
          "output_type": "stream",
          "text": [
            "\n",
            "Index 297 (Yes), Layer‐Offset loop:\n",
            "  Last 10 token IDs:      [1, 477, 330, 17, 1, 323, 912, 1023, 1495, 13]\n",
            "  Last 10 token strings:  ['\"', 'Ġor', 'Ġ\"', '2', '\"', 'Ġand', 'Ġno', 'Ġother', 'Ġtext', '.']\n",
            "\n"
          ]
        },
        {
          "name": "stderr",
          "output_type": "stream",
          "text": [
            "\r 96%|█████████▌| 298/310 [01:21<00:03,  3.75it/s]"
          ]
        },
        {
          "name": "stdout",
          "output_type": "stream",
          "text": [
            "\n",
            "Index 298 (Yes), Layer‐Offset loop:\n",
            "  Last 10 token IDs:      [1, 477, 330, 17, 1, 323, 912, 1023, 1495, 13]\n",
            "  Last 10 token strings:  ['\"', 'Ġor', 'Ġ\"', '2', '\"', 'Ġand', 'Ġno', 'Ġother', 'Ġtext', '.']\n",
            "\n"
          ]
        },
        {
          "name": "stderr",
          "output_type": "stream",
          "text": [
            "\r 96%|█████████▋| 299/310 [01:21<00:02,  3.79it/s]"
          ]
        },
        {
          "name": "stdout",
          "output_type": "stream",
          "text": [
            "\n",
            "Index 299 (Yes), Layer‐Offset loop:\n",
            "  Last 10 token IDs:      [1, 477, 330, 17, 1, 323, 912, 1023, 1495, 13]\n",
            "  Last 10 token strings:  ['\"', 'Ġor', 'Ġ\"', '2', '\"', 'Ġand', 'Ġno', 'Ġother', 'Ġtext', '.']\n",
            "\n"
          ]
        },
        {
          "name": "stderr",
          "output_type": "stream",
          "text": [
            "\r 97%|█████████▋| 300/310 [01:21<00:02,  3.72it/s]"
          ]
        },
        {
          "name": "stdout",
          "output_type": "stream",
          "text": [
            "\n",
            "Index 300 (Yes), Layer‐Offset loop:\n",
            "  Last 10 token IDs:      [1, 477, 330, 17, 1, 323, 912, 1023, 1495, 13]\n",
            "  Last 10 token strings:  ['\"', 'Ġor', 'Ġ\"', '2', '\"', 'Ġand', 'Ġno', 'Ġother', 'Ġtext', '.']\n",
            "\n"
          ]
        },
        {
          "name": "stderr",
          "output_type": "stream",
          "text": [
            "\r 97%|█████████▋| 301/310 [01:22<00:02,  3.76it/s]"
          ]
        },
        {
          "name": "stdout",
          "output_type": "stream",
          "text": [
            "\n",
            "Index 301 (No), Layer‐Offset loop:\n",
            "  Last 10 token IDs:      [1, 477, 330, 17, 1, 323, 912, 1023, 1495, 13]\n",
            "  Last 10 token strings:  ['\"', 'Ġor', 'Ġ\"', '2', '\"', 'Ġand', 'Ġno', 'Ġother', 'Ġtext', '.']\n",
            "\n"
          ]
        },
        {
          "name": "stderr",
          "output_type": "stream",
          "text": [
            "\r 97%|█████████▋| 302/310 [01:22<00:02,  3.70it/s]"
          ]
        },
        {
          "name": "stdout",
          "output_type": "stream",
          "text": [
            "\n",
            "Index 302 (Yes), Layer‐Offset loop:\n",
            "  Last 10 token IDs:      [1, 477, 330, 17, 1, 323, 912, 1023, 1495, 13]\n",
            "  Last 10 token strings:  ['\"', 'Ġor', 'Ġ\"', '2', '\"', 'Ġand', 'Ġno', 'Ġother', 'Ġtext', '.']\n",
            "\n"
          ]
        },
        {
          "name": "stderr",
          "output_type": "stream",
          "text": [
            "\r 98%|█████████▊| 303/310 [01:22<00:01,  3.70it/s]"
          ]
        },
        {
          "name": "stdout",
          "output_type": "stream",
          "text": [
            "\n",
            "Index 303 (No), Layer‐Offset loop:\n",
            "  Last 10 token IDs:      [1, 477, 330, 17, 1, 323, 912, 1023, 1495, 13]\n",
            "  Last 10 token strings:  ['\"', 'Ġor', 'Ġ\"', '2', '\"', 'Ġand', 'Ġno', 'Ġother', 'Ġtext', '.']\n",
            "\n"
          ]
        },
        {
          "name": "stderr",
          "output_type": "stream",
          "text": [
            "\r 98%|█████████▊| 304/310 [01:22<00:01,  3.76it/s]"
          ]
        },
        {
          "name": "stdout",
          "output_type": "stream",
          "text": [
            "\n",
            "Index 304 (Yes), Layer‐Offset loop:\n",
            "  Last 10 token IDs:      [1, 477, 330, 17, 1, 323, 912, 1023, 1495, 13]\n",
            "  Last 10 token strings:  ['\"', 'Ġor', 'Ġ\"', '2', '\"', 'Ġand', 'Ġno', 'Ġother', 'Ġtext', '.']\n",
            "\n"
          ]
        },
        {
          "name": "stderr",
          "output_type": "stream",
          "text": [
            "\r 98%|█████████▊| 305/310 [01:23<00:01,  3.75it/s]"
          ]
        },
        {
          "name": "stdout",
          "output_type": "stream",
          "text": [
            "\n",
            "Index 305 (No), Layer‐Offset loop:\n",
            "  Last 10 token IDs:      [1, 477, 330, 17, 1, 323, 912, 1023, 1495, 13]\n",
            "  Last 10 token strings:  ['\"', 'Ġor', 'Ġ\"', '2', '\"', 'Ġand', 'Ġno', 'Ġother', 'Ġtext', '.']\n",
            "\n"
          ]
        },
        {
          "name": "stderr",
          "output_type": "stream",
          "text": [
            "\r 99%|█████████▊| 306/310 [01:23<00:01,  3.74it/s]"
          ]
        },
        {
          "name": "stdout",
          "output_type": "stream",
          "text": [
            "\n",
            "Index 306 (Yes), Layer‐Offset loop:\n",
            "  Last 10 token IDs:      [1, 477, 330, 17, 1, 323, 912, 1023, 1495, 13]\n",
            "  Last 10 token strings:  ['\"', 'Ġor', 'Ġ\"', '2', '\"', 'Ġand', 'Ġno', 'Ġother', 'Ġtext', '.']\n",
            "\n"
          ]
        },
        {
          "name": "stderr",
          "output_type": "stream",
          "text": [
            "\r 99%|█████████▉| 307/310 [01:23<00:00,  3.78it/s]"
          ]
        },
        {
          "name": "stdout",
          "output_type": "stream",
          "text": [
            "\n",
            "Index 307 (Yes), Layer‐Offset loop:\n",
            "  Last 10 token IDs:      [1, 477, 330, 17, 1, 323, 912, 1023, 1495, 13]\n",
            "  Last 10 token strings:  ['\"', 'Ġor', 'Ġ\"', '2', '\"', 'Ġand', 'Ġno', 'Ġother', 'Ġtext', '.']\n",
            "\n"
          ]
        },
        {
          "name": "stderr",
          "output_type": "stream",
          "text": [
            "\r 99%|█████████▉| 308/310 [01:24<00:00,  3.59it/s]"
          ]
        },
        {
          "name": "stdout",
          "output_type": "stream",
          "text": [
            "\n",
            "Index 308 (No), Layer‐Offset loop:\n",
            "  Last 10 token IDs:      [1, 477, 330, 17, 1, 323, 912, 1023, 1495, 13]\n",
            "  Last 10 token strings:  ['\"', 'Ġor', 'Ġ\"', '2', '\"', 'Ġand', 'Ġno', 'Ġother', 'Ġtext', '.']\n",
            "\n"
          ]
        },
        {
          "name": "stderr",
          "output_type": "stream",
          "text": [
            "\r100%|█████████▉| 309/310 [01:24<00:00,  3.67it/s]"
          ]
        },
        {
          "name": "stdout",
          "output_type": "stream",
          "text": [
            "\n",
            "Index 309 (Yes), Layer‐Offset loop:\n",
            "  Last 10 token IDs:      [1, 477, 330, 17, 1, 323, 912, 1023, 1495, 13]\n",
            "  Last 10 token strings:  ['\"', 'Ġor', 'Ġ\"', '2', '\"', 'Ġand', 'Ġno', 'Ġother', 'Ġtext', '.']\n",
            "\n"
          ]
        },
        {
          "name": "stderr",
          "output_type": "stream",
          "text": [
            "100%|██████████| 310/310 [01:24<00:00,  3.67it/s]"
          ]
        },
        {
          "name": "stdout",
          "output_type": "stream",
          "text": [
            "✓ Created 320 steering vectors (32 layers × up to 10 offsets each)\n"
          ]
        },
        {
          "name": "stderr",
          "output_type": "stream",
          "text": [
            "\n"
          ]
        }
      ],
      "source": [
        "def accumulate_activations(prompts, sum_accumulators, num_layers, max_tokens):\n",
        "    for prompt in tqdm(prompts, desc=\"Accumulating activations\"):\n",
        "        token_ids = tok(prompt, add_special_tokens=True)[\"input_ids\"]\n",
        "        tokens_to_process = min(max_tokens, len(token_ids))\n",
        "        with torch.no_grad():\n",
        "            outputs = model(\n",
        "                **tok(prompt, return_tensors=\"pt\").to(model.device),\n",
        "                output_hidden_states=True\n",
        "            )\n",
        "            hidden_states = outputs.hidden_states\n",
        "        for offset in range(tokens_to_process):\n",
        "            for layer_idx in range(num_layers):\n",
        "                vec = hidden_states[layer_idx + 1][0, -(offset + 1), :].cpu()\n",
        "                sum_accumulators[layer_idx][offset] += vec\n"
      ]
    },
    {
      "cell_type": "code",
      "execution_count": null,
      "metadata": {},
      "outputs": [],
      "source": [
        "# ─── COMPUTE LAYER‐MEAN‐DIFFERENCE VECTORS ─────────────────────────────────────────\n",
        "# Accumulate positive vs. negative hidden states for up to max_token_positions\n",
        "accumulate_activations(positive_forward,   positive_sums_by_layer, num_layers, max_token_positions)\n",
        "accumulate_activations(positive_backward,  positive_sums_by_layer, num_layers, max_token_positions)\n",
        "accumulate_activations(negative_forward,   negative_sums_by_layer, num_layers, max_token_positions)\n",
        "accumulate_activations(negative_backward,  negative_sums_by_layer, num_layers, max_token_positions)\n",
        "\n",
        "# Now average & normalize per layer/token‐offset\n",
        "from collections import defaultdict\n",
        "\n",
        "layer_mean_diff_vectors = defaultdict(list)\n",
        "for layer_idx in range(num_layers):\n",
        "    for offset in range(max_token_positions):\n",
        "        avg_pos = positive_sums_by_layer[layer_idx][offset] / num_positive\n",
        "        avg_neg = negative_sums_by_layer[layer_idx][offset] / num_negative\n",
        "        diff    = avg_pos - avg_neg\n",
        "        normalized = diff / diff.norm()\n",
        "        layer_mean_diff_vectors[layer_idx].append(normalized)\n"
      ]
    },
    {
      "cell_type": "code",
      "execution_count": null,
      "metadata": {},
      "outputs": [],
      "source": [
        "# ─── COMPUTE ONE “NUISANCE” VECTOR PER LAYER ───────────────────────────────────────\n",
        "# Use the same accumulate_activations but only for the last token (max_tokens=1)\n",
        "accumulate_activations(positive_nuisance_prompts, nuisance_positive_sums, num_layers, max_tokens=1)\n",
        "accumulate_activations(negative_nuisance_prompts, nuisance_negative_sums, num_layers, max_tokens=1)\n",
        "\n",
        "# Average & normalize per layer\n",
        "pairwise_nuisance = {}\n",
        "for layer_idx in range(num_layers):\n",
        "    mean_pos = nuisance_positive_sums[layer_idx][0] / num_nuisance_pairs\n",
        "    mean_neg = nuisance_negative_sums[layer_idx][0] / num_nuisance_pairs\n",
        "    diff     = mean_pos - mean_neg\n",
        "    pairwise_nuisance[layer_idx] = diff / diff.norm()\n",
        "\n",
        "print(f\"✓ built and normalized {num_layers} nuisance vectors (one per layer)\")\n"
      ]
    },
    {
      "cell_type": "code",
      "execution_count": null,
      "metadata": {},
      "outputs": [],
      "source": [
        "projected_vectors_by_layer = defaultdict(list)\n",
        "\n",
        "for layer_idx, mean_diff_list in layer_mean_diff_vectors.items():\n",
        "    nuisance_vec = pairwise_nuisance[layer_idx]\n",
        "    nuisance_unit = nuisance_vec / nuisance_vec.norm()\n",
        "    \n",
        "    for mean_diff in mean_diff_list:\n",
        "        residual = mean_diff.clone()\n",
        "        proj_coef = (residual @ nuisance_unit) / (nuisance_unit.norm() ** 2)\n",
        "        residual = residual - proj_coef * nuisance_unit\n",
        "        residual = residual / residual.norm()\n",
        "        projected_vectors_by_layer[layer_idx].append(residual)\n",
        "\n",
        "total_projected = sum(len(v) for v in projected_vectors_by_layer.values())\n",
        "total_original  = sum(len(v) for v in layer_mean_diff_vectors.values())\n",
        "print(f\"✓ projected {total_projected} vectors out of {total_original} mean-diff vectors\")"
      ]
    },
    {
      "cell_type": "code",
      "execution_count": 107,
      "metadata": {
        "colab": {
          "base_uri": "https://localhost:8080/"
        },
        "id": "F4tzdRyX7R01",
        "outputId": "47e13c52-d819-4038-d9f3-d1404482e34a"
      },
      "outputs": [
        {
          "name": "stdout",
          "output_type": "stream",
          "text": [
            "✓ Saved projected_vectors_by_layer as steering_vector_signs_for_self_preference.pkl\n"
          ]
        }
      ],
      "source": [
        "with open(\"steering_vector_normalized_meandiff_normalized_nuisance_normalized_steering.pkl\", \"wb\") as f:\n",
        "    pickle.dump(projected_vectors_by_layer, f)\n",
        "\n",
        "print(\"✓ Saved projected_vectors_by_layer as steering_vector_signs_for_self_preference.pkl\")"
      ]
    }
  ],
  "metadata": {
    "accelerator": "GPU",
    "colab": {
      "gpuType": "A100",
      "machine_shape": "hm",
      "provenance": []
    },
    "kernelspec": {
      "display_name": "Python 3",
      "name": "python3"
    },
    "language_info": {
      "name": "python"
    },
    "widgets": {
      "application/vnd.jupyter.widget-state+json": {
        "00e36504a5164f509eee508362ee8a88": {
          "model_module": "@jupyter-widgets/controls",
          "model_module_version": "1.5.0",
          "model_name": "ProgressStyleModel",
          "state": {
            "_model_module": "@jupyter-widgets/controls",
            "_model_module_version": "1.5.0",
            "_model_name": "ProgressStyleModel",
            "_view_count": null,
            "_view_module": "@jupyter-widgets/base",
            "_view_module_version": "1.2.0",
            "_view_name": "StyleView",
            "bar_color": null,
            "description_width": ""
          }
        },
        "023558db87af4dbcb0220be5d2ffd686": {
          "model_module": "@jupyter-widgets/controls",
          "model_module_version": "1.5.0",
          "model_name": "ProgressStyleModel",
          "state": {
            "_model_module": "@jupyter-widgets/controls",
            "_model_module_version": "1.5.0",
            "_model_name": "ProgressStyleModel",
            "_view_count": null,
            "_view_module": "@jupyter-widgets/base",
            "_view_module_version": "1.2.0",
            "_view_name": "StyleView",
            "bar_color": null,
            "description_width": ""
          }
        },
        "037f61c56ca6415ab6b8c29fe1986c92": {
          "model_module": "@jupyter-widgets/base",
          "model_module_version": "1.2.0",
          "model_name": "LayoutModel",
          "state": {
            "_model_module": "@jupyter-widgets/base",
            "_model_module_version": "1.2.0",
            "_model_name": "LayoutModel",
            "_view_count": null,
            "_view_module": "@jupyter-widgets/base",
            "_view_module_version": "1.2.0",
            "_view_name": "LayoutView",
            "align_content": null,
            "align_items": null,
            "align_self": null,
            "border": null,
            "bottom": null,
            "display": null,
            "flex": null,
            "flex_flow": null,
            "grid_area": null,
            "grid_auto_columns": null,
            "grid_auto_flow": null,
            "grid_auto_rows": null,
            "grid_column": null,
            "grid_gap": null,
            "grid_row": null,
            "grid_template_areas": null,
            "grid_template_columns": null,
            "grid_template_rows": null,
            "height": null,
            "justify_content": null,
            "justify_items": null,
            "left": null,
            "margin": null,
            "max_height": null,
            "max_width": null,
            "min_height": null,
            "min_width": null,
            "object_fit": null,
            "object_position": null,
            "order": null,
            "overflow": null,
            "overflow_x": null,
            "overflow_y": null,
            "padding": null,
            "right": null,
            "top": null,
            "visibility": null,
            "width": null
          }
        },
        "044d9c9ea44a4bb3989fc3c2ab8c004c": {
          "model_module": "@jupyter-widgets/base",
          "model_module_version": "1.2.0",
          "model_name": "LayoutModel",
          "state": {
            "_model_module": "@jupyter-widgets/base",
            "_model_module_version": "1.2.0",
            "_model_name": "LayoutModel",
            "_view_count": null,
            "_view_module": "@jupyter-widgets/base",
            "_view_module_version": "1.2.0",
            "_view_name": "LayoutView",
            "align_content": null,
            "align_items": null,
            "align_self": null,
            "border": null,
            "bottom": null,
            "display": null,
            "flex": null,
            "flex_flow": null,
            "grid_area": null,
            "grid_auto_columns": null,
            "grid_auto_flow": null,
            "grid_auto_rows": null,
            "grid_column": null,
            "grid_gap": null,
            "grid_row": null,
            "grid_template_areas": null,
            "grid_template_columns": null,
            "grid_template_rows": null,
            "height": null,
            "justify_content": null,
            "justify_items": null,
            "left": null,
            "margin": null,
            "max_height": null,
            "max_width": null,
            "min_height": null,
            "min_width": null,
            "object_fit": null,
            "object_position": null,
            "order": null,
            "overflow": null,
            "overflow_x": null,
            "overflow_y": null,
            "padding": null,
            "right": null,
            "top": null,
            "visibility": null,
            "width": null
          }
        },
        "04c5292affb2433994fea973f03fd04a": {
          "model_module": "@jupyter-widgets/controls",
          "model_module_version": "1.5.0",
          "model_name": "DescriptionStyleModel",
          "state": {
            "_model_module": "@jupyter-widgets/controls",
            "_model_module_version": "1.5.0",
            "_model_name": "DescriptionStyleModel",
            "_view_count": null,
            "_view_module": "@jupyter-widgets/base",
            "_view_module_version": "1.2.0",
            "_view_name": "StyleView",
            "description_width": ""
          }
        },
        "0702e250a5b54cf7b310e8f1fb3cb5ad": {
          "model_module": "@jupyter-widgets/controls",
          "model_module_version": "1.5.0",
          "model_name": "HTMLModel",
          "state": {
            "_dom_classes": [],
            "_model_module": "@jupyter-widgets/controls",
            "_model_module_version": "1.5.0",
            "_model_name": "HTMLModel",
            "_view_count": null,
            "_view_module": "@jupyter-widgets/controls",
            "_view_module_version": "1.5.0",
            "_view_name": "HTMLView",
            "description": "",
            "description_tooltip": null,
            "layout": "IPY_MODEL_377cdd84b77e400587360f4cbcc5a026",
            "placeholder": "​",
            "style": "IPY_MODEL_a5056043991d48c690a684f975a71afd",
            "value": "config.json: 100%"
          }
        },
        "08309fef0823450698286f7d50f3c317": {
          "model_module": "@jupyter-widgets/controls",
          "model_module_version": "1.5.0",
          "model_name": "ProgressStyleModel",
          "state": {
            "_model_module": "@jupyter-widgets/controls",
            "_model_module_version": "1.5.0",
            "_model_name": "ProgressStyleModel",
            "_view_count": null,
            "_view_module": "@jupyter-widgets/base",
            "_view_module_version": "1.2.0",
            "_view_name": "StyleView",
            "bar_color": null,
            "description_width": ""
          }
        },
        "0c34bacb4ad34da4bc2c0fb9f7575465": {
          "model_module": "@jupyter-widgets/controls",
          "model_module_version": "1.5.0",
          "model_name": "ProgressStyleModel",
          "state": {
            "_model_module": "@jupyter-widgets/controls",
            "_model_module_version": "1.5.0",
            "_model_name": "ProgressStyleModel",
            "_view_count": null,
            "_view_module": "@jupyter-widgets/base",
            "_view_module_version": "1.2.0",
            "_view_name": "StyleView",
            "bar_color": null,
            "description_width": ""
          }
        },
        "0f89e16f542f4f168c4710fbc2b7e94c": {
          "model_module": "@jupyter-widgets/controls",
          "model_module_version": "1.5.0",
          "model_name": "DescriptionStyleModel",
          "state": {
            "_model_module": "@jupyter-widgets/controls",
            "_model_module_version": "1.5.0",
            "_model_name": "DescriptionStyleModel",
            "_view_count": null,
            "_view_module": "@jupyter-widgets/base",
            "_view_module_version": "1.2.0",
            "_view_name": "StyleView",
            "description_width": ""
          }
        },
        "124096b1d068427d8a2a91944cde757f": {
          "model_module": "@jupyter-widgets/controls",
          "model_module_version": "1.5.0",
          "model_name": "HTMLModel",
          "state": {
            "_dom_classes": [],
            "_model_module": "@jupyter-widgets/controls",
            "_model_module_version": "1.5.0",
            "_model_name": "HTMLModel",
            "_view_count": null,
            "_view_module": "@jupyter-widgets/controls",
            "_view_module_version": "1.5.0",
            "_view_name": "HTMLView",
            "description": "",
            "description_tooltip": null,
            "layout": "IPY_MODEL_8dfada0c8bc24e378cd6273bfdacc39c",
            "placeholder": "​",
            "style": "IPY_MODEL_5d7edbb6b2574178b716c0cebdf596aa",
            "value": " 855/855 [00:00&lt;00:00, 115kB/s]"
          }
        },
        "149a535113e7453cad87851ebbc3df63": {
          "model_module": "@jupyter-widgets/controls",
          "model_module_version": "1.5.0",
          "model_name": "FloatProgressModel",
          "state": {
            "_dom_classes": [],
            "_model_module": "@jupyter-widgets/controls",
            "_model_module_version": "1.5.0",
            "_model_name": "FloatProgressModel",
            "_view_count": null,
            "_view_module": "@jupyter-widgets/controls",
            "_view_module_version": "1.5.0",
            "_view_name": "ProgressView",
            "bar_style": "success",
            "description": "",
            "description_tooltip": null,
            "layout": "IPY_MODEL_f6ac3cdf05c5423480a4cbe3ad0cb857",
            "max": 55351,
            "min": 0,
            "orientation": "horizontal",
            "style": "IPY_MODEL_cdd781e4472f4187a7a1d48246ade7f0",
            "value": 55351
          }
        },
        "155300b7d6de44c5a88ff427ab23bd05": {
          "model_module": "@jupyter-widgets/controls",
          "model_module_version": "1.5.0",
          "model_name": "FloatProgressModel",
          "state": {
            "_dom_classes": [],
            "_model_module": "@jupyter-widgets/controls",
            "_model_module_version": "1.5.0",
            "_model_name": "FloatProgressModel",
            "_view_count": null,
            "_view_module": "@jupyter-widgets/controls",
            "_view_module_version": "1.5.0",
            "_view_name": "ProgressView",
            "bar_style": "success",
            "description": "",
            "description_tooltip": null,
            "layout": "IPY_MODEL_89ef777a8eb74545abc3ae9adbadf9fe",
            "max": 855,
            "min": 0,
            "orientation": "horizontal",
            "style": "IPY_MODEL_ab1cf24c2fbb4bfb946c957010f62250",
            "value": 855
          }
        },
        "1702ef55040c452fa4540e4aaf0c6c6b": {
          "model_module": "@jupyter-widgets/controls",
          "model_module_version": "1.5.0",
          "model_name": "HBoxModel",
          "state": {
            "_dom_classes": [],
            "_model_module": "@jupyter-widgets/controls",
            "_model_module_version": "1.5.0",
            "_model_name": "HBoxModel",
            "_view_count": null,
            "_view_module": "@jupyter-widgets/controls",
            "_view_module_version": "1.5.0",
            "_view_name": "HBoxView",
            "box_style": "",
            "children": [
              "IPY_MODEL_41054b82242a47f5b2fa5acef97a62db",
              "IPY_MODEL_2e47cf771ea54d77858ae3580b483adc",
              "IPY_MODEL_3a86a74aed924e1ca1e8167d8386d844"
            ],
            "layout": "IPY_MODEL_1978a8cfa7b24f86a05b2c72d1f30ee9"
          }
        },
        "1978a8cfa7b24f86a05b2c72d1f30ee9": {
          "model_module": "@jupyter-widgets/base",
          "model_module_version": "1.2.0",
          "model_name": "LayoutModel",
          "state": {
            "_model_module": "@jupyter-widgets/base",
            "_model_module_version": "1.2.0",
            "_model_name": "LayoutModel",
            "_view_count": null,
            "_view_module": "@jupyter-widgets/base",
            "_view_module_version": "1.2.0",
            "_view_name": "LayoutView",
            "align_content": null,
            "align_items": null,
            "align_self": null,
            "border": null,
            "bottom": null,
            "display": null,
            "flex": null,
            "flex_flow": null,
            "grid_area": null,
            "grid_auto_columns": null,
            "grid_auto_flow": null,
            "grid_auto_rows": null,
            "grid_column": null,
            "grid_gap": null,
            "grid_row": null,
            "grid_template_areas": null,
            "grid_template_columns": null,
            "grid_template_rows": null,
            "height": null,
            "justify_content": null,
            "justify_items": null,
            "left": null,
            "margin": null,
            "max_height": null,
            "max_width": null,
            "min_height": null,
            "min_width": null,
            "object_fit": null,
            "object_position": null,
            "order": null,
            "overflow": null,
            "overflow_x": null,
            "overflow_y": null,
            "padding": null,
            "right": null,
            "top": null,
            "visibility": null,
            "width": null
          }
        },
        "19c4c0a14f524ec4be7583fec67bce52": {
          "model_module": "@jupyter-widgets/base",
          "model_module_version": "1.2.0",
          "model_name": "LayoutModel",
          "state": {
            "_model_module": "@jupyter-widgets/base",
            "_model_module_version": "1.2.0",
            "_model_name": "LayoutModel",
            "_view_count": null,
            "_view_module": "@jupyter-widgets/base",
            "_view_module_version": "1.2.0",
            "_view_name": "LayoutView",
            "align_content": null,
            "align_items": null,
            "align_self": null,
            "border": null,
            "bottom": null,
            "display": null,
            "flex": null,
            "flex_flow": null,
            "grid_area": null,
            "grid_auto_columns": null,
            "grid_auto_flow": null,
            "grid_auto_rows": null,
            "grid_column": null,
            "grid_gap": null,
            "grid_row": null,
            "grid_template_areas": null,
            "grid_template_columns": null,
            "grid_template_rows": null,
            "height": null,
            "justify_content": null,
            "justify_items": null,
            "left": null,
            "margin": null,
            "max_height": null,
            "max_width": null,
            "min_height": null,
            "min_width": null,
            "object_fit": null,
            "object_position": null,
            "order": null,
            "overflow": null,
            "overflow_x": null,
            "overflow_y": null,
            "padding": null,
            "right": null,
            "top": null,
            "visibility": null,
            "width": null
          }
        },
        "1a0c119a2d6b45e7a27ff1c0a2d267dc": {
          "model_module": "@jupyter-widgets/base",
          "model_module_version": "1.2.0",
          "model_name": "LayoutModel",
          "state": {
            "_model_module": "@jupyter-widgets/base",
            "_model_module_version": "1.2.0",
            "_model_name": "LayoutModel",
            "_view_count": null,
            "_view_module": "@jupyter-widgets/base",
            "_view_module_version": "1.2.0",
            "_view_name": "LayoutView",
            "align_content": null,
            "align_items": null,
            "align_self": null,
            "border": null,
            "bottom": null,
            "display": null,
            "flex": null,
            "flex_flow": null,
            "grid_area": null,
            "grid_auto_columns": null,
            "grid_auto_flow": null,
            "grid_auto_rows": null,
            "grid_column": null,
            "grid_gap": null,
            "grid_row": null,
            "grid_template_areas": null,
            "grid_template_columns": null,
            "grid_template_rows": null,
            "height": null,
            "justify_content": null,
            "justify_items": null,
            "left": null,
            "margin": null,
            "max_height": null,
            "max_width": null,
            "min_height": null,
            "min_width": null,
            "object_fit": null,
            "object_position": null,
            "order": null,
            "overflow": null,
            "overflow_x": null,
            "overflow_y": null,
            "padding": null,
            "right": null,
            "top": null,
            "visibility": null,
            "width": null
          }
        },
        "1a7f13696ed444208e514824f5c075ed": {
          "model_module": "@jupyter-widgets/base",
          "model_module_version": "1.2.0",
          "model_name": "LayoutModel",
          "state": {
            "_model_module": "@jupyter-widgets/base",
            "_model_module_version": "1.2.0",
            "_model_name": "LayoutModel",
            "_view_count": null,
            "_view_module": "@jupyter-widgets/base",
            "_view_module_version": "1.2.0",
            "_view_name": "LayoutView",
            "align_content": null,
            "align_items": null,
            "align_self": null,
            "border": null,
            "bottom": null,
            "display": null,
            "flex": null,
            "flex_flow": null,
            "grid_area": null,
            "grid_auto_columns": null,
            "grid_auto_flow": null,
            "grid_auto_rows": null,
            "grid_column": null,
            "grid_gap": null,
            "grid_row": null,
            "grid_template_areas": null,
            "grid_template_columns": null,
            "grid_template_rows": null,
            "height": null,
            "justify_content": null,
            "justify_items": null,
            "left": null,
            "margin": null,
            "max_height": null,
            "max_width": null,
            "min_height": null,
            "min_width": null,
            "object_fit": null,
            "object_position": null,
            "order": null,
            "overflow": null,
            "overflow_x": null,
            "overflow_y": null,
            "padding": null,
            "right": null,
            "top": null,
            "visibility": null,
            "width": null
          }
        },
        "1d2df91fb94840c3903b73a94baf06f7": {
          "model_module": "@jupyter-widgets/controls",
          "model_module_version": "1.5.0",
          "model_name": "HTMLModel",
          "state": {
            "_dom_classes": [],
            "_model_module": "@jupyter-widgets/controls",
            "_model_module_version": "1.5.0",
            "_model_name": "HTMLModel",
            "_view_count": null,
            "_view_module": "@jupyter-widgets/controls",
            "_view_module_version": "1.5.0",
            "_view_name": "HTMLView",
            "description": "",
            "description_tooltip": null,
            "layout": "IPY_MODEL_75ed41fb2ebb4a01849d0c6c20052fca",
            "placeholder": "​",
            "style": "IPY_MODEL_0f89e16f542f4f168c4710fbc2b7e94c",
            "value": "generation_config.json: 100%"
          }
        },
        "1e4ca0ba91984cce949cb78a890a6147": {
          "model_module": "@jupyter-widgets/controls",
          "model_module_version": "1.5.0",
          "model_name": "FloatProgressModel",
          "state": {
            "_dom_classes": [],
            "_model_module": "@jupyter-widgets/controls",
            "_model_module_version": "1.5.0",
            "_model_name": "FloatProgressModel",
            "_view_count": null,
            "_view_module": "@jupyter-widgets/controls",
            "_view_module_version": "1.5.0",
            "_view_name": "ProgressView",
            "bar_style": "success",
            "description": "",
            "description_tooltip": null,
            "layout": "IPY_MODEL_9c050c2d92ff4c6e8012fd755c3c1227",
            "max": 9085657,
            "min": 0,
            "orientation": "horizontal",
            "style": "IPY_MODEL_08309fef0823450698286f7d50f3c317",
            "value": 9085657
          }
        },
        "1fd7da4068784639a18c34fa509210bb": {
          "model_module": "@jupyter-widgets/controls",
          "model_module_version": "1.5.0",
          "model_name": "FloatProgressModel",
          "state": {
            "_dom_classes": [],
            "_model_module": "@jupyter-widgets/controls",
            "_model_module_version": "1.5.0",
            "_model_name": "FloatProgressModel",
            "_view_count": null,
            "_view_module": "@jupyter-widgets/controls",
            "_view_module_version": "1.5.0",
            "_view_name": "ProgressView",
            "bar_style": "success",
            "description": "",
            "description_tooltip": null,
            "layout": "IPY_MODEL_b2a1580dc53b4a08bca2777e504011a8",
            "max": 4999802720,
            "min": 0,
            "orientation": "horizontal",
            "style": "IPY_MODEL_9704fbb2d0d24739ace9eac2f56e1f88",
            "value": 4999802720
          }
        },
        "200b925f48174e2f97990c052dedb761": {
          "model_module": "@jupyter-widgets/controls",
          "model_module_version": "1.5.0",
          "model_name": "FloatProgressModel",
          "state": {
            "_dom_classes": [],
            "_model_module": "@jupyter-widgets/controls",
            "_model_module_version": "1.5.0",
            "_model_name": "FloatProgressModel",
            "_view_count": null,
            "_view_module": "@jupyter-widgets/controls",
            "_view_module_version": "1.5.0",
            "_view_name": "ProgressView",
            "bar_style": "success",
            "description": "",
            "description_tooltip": null,
            "layout": "IPY_MODEL_c536bb3d6e484cefbe072c6c20384de7",
            "max": 4,
            "min": 0,
            "orientation": "horizontal",
            "style": "IPY_MODEL_d1e84eb2160e425882cf1b62aed301f0",
            "value": 4
          }
        },
        "20a51bd5c45c47b7966de2e725799019": {
          "model_module": "@jupyter-widgets/controls",
          "model_module_version": "1.5.0",
          "model_name": "ProgressStyleModel",
          "state": {
            "_model_module": "@jupyter-widgets/controls",
            "_model_module_version": "1.5.0",
            "_model_name": "ProgressStyleModel",
            "_view_count": null,
            "_view_module": "@jupyter-widgets/base",
            "_view_module_version": "1.2.0",
            "_view_name": "StyleView",
            "bar_color": null,
            "description_width": ""
          }
        },
        "23a62ceea61743f0bc7b36d8526be281": {
          "model_module": "@jupyter-widgets/controls",
          "model_module_version": "1.5.0",
          "model_name": "DescriptionStyleModel",
          "state": {
            "_model_module": "@jupyter-widgets/controls",
            "_model_module_version": "1.5.0",
            "_model_name": "DescriptionStyleModel",
            "_view_count": null,
            "_view_module": "@jupyter-widgets/base",
            "_view_module_version": "1.2.0",
            "_view_name": "StyleView",
            "description_width": ""
          }
        },
        "25321f742ebe4beb834703225cc4ccb6": {
          "model_module": "@jupyter-widgets/base",
          "model_module_version": "1.2.0",
          "model_name": "LayoutModel",
          "state": {
            "_model_module": "@jupyter-widgets/base",
            "_model_module_version": "1.2.0",
            "_model_name": "LayoutModel",
            "_view_count": null,
            "_view_module": "@jupyter-widgets/base",
            "_view_module_version": "1.2.0",
            "_view_name": "LayoutView",
            "align_content": null,
            "align_items": null,
            "align_self": null,
            "border": null,
            "bottom": null,
            "display": null,
            "flex": null,
            "flex_flow": null,
            "grid_area": null,
            "grid_auto_columns": null,
            "grid_auto_flow": null,
            "grid_auto_rows": null,
            "grid_column": null,
            "grid_gap": null,
            "grid_row": null,
            "grid_template_areas": null,
            "grid_template_columns": null,
            "grid_template_rows": null,
            "height": null,
            "justify_content": null,
            "justify_items": null,
            "left": null,
            "margin": null,
            "max_height": null,
            "max_width": null,
            "min_height": null,
            "min_width": null,
            "object_fit": null,
            "object_position": null,
            "order": null,
            "overflow": null,
            "overflow_x": null,
            "overflow_y": null,
            "padding": null,
            "right": null,
            "top": null,
            "visibility": null,
            "width": null
          }
        },
        "25d9171e8a744824ad4b5d9d28d92fb1": {
          "model_module": "@jupyter-widgets/controls",
          "model_module_version": "1.5.0",
          "model_name": "HBoxModel",
          "state": {
            "_dom_classes": [],
            "_model_module": "@jupyter-widgets/controls",
            "_model_module_version": "1.5.0",
            "_model_name": "HBoxModel",
            "_view_count": null,
            "_view_module": "@jupyter-widgets/controls",
            "_view_module_version": "1.5.0",
            "_view_name": "HBoxView",
            "box_style": "",
            "children": [
              "IPY_MODEL_7341d3ecc55f4086bb252ea2f484de2d",
              "IPY_MODEL_200b925f48174e2f97990c052dedb761",
              "IPY_MODEL_ccd4926ffdbc4fca975257890dd57140"
            ],
            "layout": "IPY_MODEL_6b3b857663b94b83b657d3408ae72fdf"
          }
        },
        "272c190968814ab896006127e013106d": {
          "model_module": "@jupyter-widgets/controls",
          "model_module_version": "1.5.0",
          "model_name": "HTMLModel",
          "state": {
            "_dom_classes": [],
            "_model_module": "@jupyter-widgets/controls",
            "_model_module_version": "1.5.0",
            "_model_name": "HTMLModel",
            "_view_count": null,
            "_view_module": "@jupyter-widgets/controls",
            "_view_module_version": "1.5.0",
            "_view_name": "HTMLView",
            "description": "",
            "description_tooltip": null,
            "layout": "IPY_MODEL_4425dca080b54b4dafffde99d45f5e2f",
            "placeholder": "​",
            "style": "IPY_MODEL_3a8fbb4e0e0e4dad8c26804b4746caad",
            "value": " 4.98G/4.98G [01:22&lt;00:00, 43.7MB/s]"
          }
        },
        "274e77617c054666acb39dcee4d972ec": {
          "model_module": "@jupyter-widgets/controls",
          "model_module_version": "1.5.0",
          "model_name": "DescriptionStyleModel",
          "state": {
            "_model_module": "@jupyter-widgets/controls",
            "_model_module_version": "1.5.0",
            "_model_name": "DescriptionStyleModel",
            "_view_count": null,
            "_view_module": "@jupyter-widgets/base",
            "_view_module_version": "1.2.0",
            "_view_name": "StyleView",
            "description_width": ""
          }
        },
        "2845044a974e4149b6b80ce560c4cfdc": {
          "model_module": "@jupyter-widgets/base",
          "model_module_version": "1.2.0",
          "model_name": "LayoutModel",
          "state": {
            "_model_module": "@jupyter-widgets/base",
            "_model_module_version": "1.2.0",
            "_model_name": "LayoutModel",
            "_view_count": null,
            "_view_module": "@jupyter-widgets/base",
            "_view_module_version": "1.2.0",
            "_view_name": "LayoutView",
            "align_content": null,
            "align_items": null,
            "align_self": null,
            "border": null,
            "bottom": null,
            "display": null,
            "flex": null,
            "flex_flow": null,
            "grid_area": null,
            "grid_auto_columns": null,
            "grid_auto_flow": null,
            "grid_auto_rows": null,
            "grid_column": null,
            "grid_gap": null,
            "grid_row": null,
            "grid_template_areas": null,
            "grid_template_columns": null,
            "grid_template_rows": null,
            "height": null,
            "justify_content": null,
            "justify_items": null,
            "left": null,
            "margin": null,
            "max_height": null,
            "max_width": null,
            "min_height": null,
            "min_width": null,
            "object_fit": null,
            "object_position": null,
            "order": null,
            "overflow": null,
            "overflow_x": null,
            "overflow_y": null,
            "padding": null,
            "right": null,
            "top": null,
            "visibility": null,
            "width": null
          }
        },
        "299435ed79394376bf4d3dec60de868d": {
          "model_module": "@jupyter-widgets/base",
          "model_module_version": "1.2.0",
          "model_name": "LayoutModel",
          "state": {
            "_model_module": "@jupyter-widgets/base",
            "_model_module_version": "1.2.0",
            "_model_name": "LayoutModel",
            "_view_count": null,
            "_view_module": "@jupyter-widgets/base",
            "_view_module_version": "1.2.0",
            "_view_name": "LayoutView",
            "align_content": null,
            "align_items": null,
            "align_self": null,
            "border": null,
            "bottom": null,
            "display": null,
            "flex": null,
            "flex_flow": null,
            "grid_area": null,
            "grid_auto_columns": null,
            "grid_auto_flow": null,
            "grid_auto_rows": null,
            "grid_column": null,
            "grid_gap": null,
            "grid_row": null,
            "grid_template_areas": null,
            "grid_template_columns": null,
            "grid_template_rows": null,
            "height": null,
            "justify_content": null,
            "justify_items": null,
            "left": null,
            "margin": null,
            "max_height": null,
            "max_width": null,
            "min_height": null,
            "min_width": null,
            "object_fit": null,
            "object_position": null,
            "order": null,
            "overflow": null,
            "overflow_x": null,
            "overflow_y": null,
            "padding": null,
            "right": null,
            "top": null,
            "visibility": null,
            "width": null
          }
        },
        "29d9920a09a045469ab67154b7846b5d": {
          "model_module": "@jupyter-widgets/base",
          "model_module_version": "1.2.0",
          "model_name": "LayoutModel",
          "state": {
            "_model_module": "@jupyter-widgets/base",
            "_model_module_version": "1.2.0",
            "_model_name": "LayoutModel",
            "_view_count": null,
            "_view_module": "@jupyter-widgets/base",
            "_view_module_version": "1.2.0",
            "_view_name": "LayoutView",
            "align_content": null,
            "align_items": null,
            "align_self": null,
            "border": null,
            "bottom": null,
            "display": null,
            "flex": null,
            "flex_flow": null,
            "grid_area": null,
            "grid_auto_columns": null,
            "grid_auto_flow": null,
            "grid_auto_rows": null,
            "grid_column": null,
            "grid_gap": null,
            "grid_row": null,
            "grid_template_areas": null,
            "grid_template_columns": null,
            "grid_template_rows": null,
            "height": null,
            "justify_content": null,
            "justify_items": null,
            "left": null,
            "margin": null,
            "max_height": null,
            "max_width": null,
            "min_height": null,
            "min_width": null,
            "object_fit": null,
            "object_position": null,
            "order": null,
            "overflow": null,
            "overflow_x": null,
            "overflow_y": null,
            "padding": null,
            "right": null,
            "top": null,
            "visibility": null,
            "width": null
          }
        },
        "2e47cf771ea54d77858ae3580b483adc": {
          "model_module": "@jupyter-widgets/controls",
          "model_module_version": "1.5.0",
          "model_name": "FloatProgressModel",
          "state": {
            "_dom_classes": [],
            "_model_module": "@jupyter-widgets/controls",
            "_model_module_version": "1.5.0",
            "_model_name": "FloatProgressModel",
            "_view_count": null,
            "_view_module": "@jupyter-widgets/controls",
            "_view_module_version": "1.5.0",
            "_view_name": "ProgressView",
            "bar_style": "success",
            "description": "",
            "description_tooltip": null,
            "layout": "IPY_MODEL_299435ed79394376bf4d3dec60de868d",
            "max": 296,
            "min": 0,
            "orientation": "horizontal",
            "style": "IPY_MODEL_0c34bacb4ad34da4bc2c0fb9f7575465",
            "value": 296
          }
        },
        "377cdd84b77e400587360f4cbcc5a026": {
          "model_module": "@jupyter-widgets/base",
          "model_module_version": "1.2.0",
          "model_name": "LayoutModel",
          "state": {
            "_model_module": "@jupyter-widgets/base",
            "_model_module_version": "1.2.0",
            "_model_name": "LayoutModel",
            "_view_count": null,
            "_view_module": "@jupyter-widgets/base",
            "_view_module_version": "1.2.0",
            "_view_name": "LayoutView",
            "align_content": null,
            "align_items": null,
            "align_self": null,
            "border": null,
            "bottom": null,
            "display": null,
            "flex": null,
            "flex_flow": null,
            "grid_area": null,
            "grid_auto_columns": null,
            "grid_auto_flow": null,
            "grid_auto_rows": null,
            "grid_column": null,
            "grid_gap": null,
            "grid_row": null,
            "grid_template_areas": null,
            "grid_template_columns": null,
            "grid_template_rows": null,
            "height": null,
            "justify_content": null,
            "justify_items": null,
            "left": null,
            "margin": null,
            "max_height": null,
            "max_width": null,
            "min_height": null,
            "min_width": null,
            "object_fit": null,
            "object_position": null,
            "order": null,
            "overflow": null,
            "overflow_x": null,
            "overflow_y": null,
            "padding": null,
            "right": null,
            "top": null,
            "visibility": null,
            "width": null
          }
        },
        "3a2be6c3f949493c90c880313a24d063": {
          "model_module": "@jupyter-widgets/controls",
          "model_module_version": "1.5.0",
          "model_name": "HBoxModel",
          "state": {
            "_dom_classes": [],
            "_model_module": "@jupyter-widgets/controls",
            "_model_module_version": "1.5.0",
            "_model_name": "HBoxModel",
            "_view_count": null,
            "_view_module": "@jupyter-widgets/controls",
            "_view_module_version": "1.5.0",
            "_view_name": "HBoxView",
            "box_style": "",
            "children": [
              "IPY_MODEL_f53161a954174ffaada9a5dfd5c1682e",
              "IPY_MODEL_57a49aca00884c6291222be1184975e7",
              "IPY_MODEL_abf0c5c4717548b788c651a404106438"
            ],
            "layout": "IPY_MODEL_2845044a974e4149b6b80ce560c4cfdc"
          }
        },
        "3a8507b2a0ea45069481301c49cd7393": {
          "model_module": "@jupyter-widgets/controls",
          "model_module_version": "1.5.0",
          "model_name": "HBoxModel",
          "state": {
            "_dom_classes": [],
            "_model_module": "@jupyter-widgets/controls",
            "_model_module_version": "1.5.0",
            "_model_name": "HBoxModel",
            "_view_count": null,
            "_view_module": "@jupyter-widgets/controls",
            "_view_module_version": "1.5.0",
            "_view_name": "HBoxView",
            "box_style": "",
            "children": [
              "IPY_MODEL_f6a0945dea76439fb8969268a5db96fc",
              "IPY_MODEL_1fd7da4068784639a18c34fa509210bb",
              "IPY_MODEL_d97285e8cdd24e0f9ee4b86e50f5f3d1"
            ],
            "layout": "IPY_MODEL_cd31f4c93c264a5f8a6747dd0f3ef746"
          }
        },
        "3a86a74aed924e1ca1e8167d8386d844": {
          "model_module": "@jupyter-widgets/controls",
          "model_module_version": "1.5.0",
          "model_name": "HTMLModel",
          "state": {
            "_dom_classes": [],
            "_model_module": "@jupyter-widgets/controls",
            "_model_module_version": "1.5.0",
            "_model_name": "HTMLModel",
            "_view_count": null,
            "_view_module": "@jupyter-widgets/controls",
            "_view_module_version": "1.5.0",
            "_view_name": "HTMLView",
            "description": "",
            "description_tooltip": null,
            "layout": "IPY_MODEL_aaf0ef8df9ec4c9d8ce340408ea9406f",
            "placeholder": "​",
            "style": "IPY_MODEL_af00ab1fbbfa4ed5a76c4ed14aa34da2",
            "value": " 296/296 [00:00&lt;00:00, 34.8kB/s]"
          }
        },
        "3a8fbb4e0e0e4dad8c26804b4746caad": {
          "model_module": "@jupyter-widgets/controls",
          "model_module_version": "1.5.0",
          "model_name": "DescriptionStyleModel",
          "state": {
            "_model_module": "@jupyter-widgets/controls",
            "_model_module_version": "1.5.0",
            "_model_name": "DescriptionStyleModel",
            "_view_count": null,
            "_view_module": "@jupyter-widgets/base",
            "_view_module_version": "1.2.0",
            "_view_name": "StyleView",
            "description_width": ""
          }
        },
        "3e2c541a7b8c4cbab4d1a4a3cd00bc71": {
          "model_module": "@jupyter-widgets/controls",
          "model_module_version": "1.5.0",
          "model_name": "HTMLModel",
          "state": {
            "_dom_classes": [],
            "_model_module": "@jupyter-widgets/controls",
            "_model_module_version": "1.5.0",
            "_model_name": "HTMLModel",
            "_view_count": null,
            "_view_module": "@jupyter-widgets/controls",
            "_view_module_version": "1.5.0",
            "_view_name": "HTMLView",
            "description": "",
            "description_tooltip": null,
            "layout": "IPY_MODEL_bfbc81afe7ba400f9df145d1c328252e",
            "placeholder": "​",
            "style": "IPY_MODEL_d19822b55baa41f99e9f058890e0ac2b",
            "value": " 23.9k/23.9k [00:00&lt;00:00, 2.69MB/s]"
          }
        },
        "3eb4e35cf99347458e25b96f8575d611": {
          "model_module": "@jupyter-widgets/controls",
          "model_module_version": "1.5.0",
          "model_name": "HBoxModel",
          "state": {
            "_dom_classes": [],
            "_model_module": "@jupyter-widgets/controls",
            "_model_module_version": "1.5.0",
            "_model_name": "HBoxModel",
            "_view_count": null,
            "_view_module": "@jupyter-widgets/controls",
            "_view_module_version": "1.5.0",
            "_view_name": "HBoxView",
            "box_style": "",
            "children": [
              "IPY_MODEL_6b9f17aff12f421686daee8dac3933a8",
              "IPY_MODEL_d98290381a924eea8bd163e9583dd682",
              "IPY_MODEL_272c190968814ab896006127e013106d"
            ],
            "layout": "IPY_MODEL_1a7f13696ed444208e514824f5c075ed"
          }
        },
        "41054b82242a47f5b2fa5acef97a62db": {
          "model_module": "@jupyter-widgets/controls",
          "model_module_version": "1.5.0",
          "model_name": "HTMLModel",
          "state": {
            "_dom_classes": [],
            "_model_module": "@jupyter-widgets/controls",
            "_model_module_version": "1.5.0",
            "_model_name": "HTMLModel",
            "_view_count": null,
            "_view_module": "@jupyter-widgets/controls",
            "_view_module_version": "1.5.0",
            "_view_name": "HTMLView",
            "description": "",
            "description_tooltip": null,
            "layout": "IPY_MODEL_037f61c56ca6415ab6b8c29fe1986c92",
            "placeholder": "​",
            "style": "IPY_MODEL_879ce0a575d74b109f53e854a1fbc837",
            "value": "special_tokens_map.json: 100%"
          }
        },
        "425c97663b9c4e3e94722cd9bde6da1c": {
          "model_module": "@jupyter-widgets/base",
          "model_module_version": "1.2.0",
          "model_name": "LayoutModel",
          "state": {
            "_model_module": "@jupyter-widgets/base",
            "_model_module_version": "1.2.0",
            "_model_name": "LayoutModel",
            "_view_count": null,
            "_view_module": "@jupyter-widgets/base",
            "_view_module_version": "1.2.0",
            "_view_name": "LayoutView",
            "align_content": null,
            "align_items": null,
            "align_self": null,
            "border": null,
            "bottom": null,
            "display": null,
            "flex": null,
            "flex_flow": null,
            "grid_area": null,
            "grid_auto_columns": null,
            "grid_auto_flow": null,
            "grid_auto_rows": null,
            "grid_column": null,
            "grid_gap": null,
            "grid_row": null,
            "grid_template_areas": null,
            "grid_template_columns": null,
            "grid_template_rows": null,
            "height": null,
            "justify_content": null,
            "justify_items": null,
            "left": null,
            "margin": null,
            "max_height": null,
            "max_width": null,
            "min_height": null,
            "min_width": null,
            "object_fit": null,
            "object_position": null,
            "order": null,
            "overflow": null,
            "overflow_x": null,
            "overflow_y": null,
            "padding": null,
            "right": null,
            "top": null,
            "visibility": null,
            "width": null
          }
        },
        "4425dca080b54b4dafffde99d45f5e2f": {
          "model_module": "@jupyter-widgets/base",
          "model_module_version": "1.2.0",
          "model_name": "LayoutModel",
          "state": {
            "_model_module": "@jupyter-widgets/base",
            "_model_module_version": "1.2.0",
            "_model_name": "LayoutModel",
            "_view_count": null,
            "_view_module": "@jupyter-widgets/base",
            "_view_module_version": "1.2.0",
            "_view_name": "LayoutView",
            "align_content": null,
            "align_items": null,
            "align_self": null,
            "border": null,
            "bottom": null,
            "display": null,
            "flex": null,
            "flex_flow": null,
            "grid_area": null,
            "grid_auto_columns": null,
            "grid_auto_flow": null,
            "grid_auto_rows": null,
            "grid_column": null,
            "grid_gap": null,
            "grid_row": null,
            "grid_template_areas": null,
            "grid_template_columns": null,
            "grid_template_rows": null,
            "height": null,
            "justify_content": null,
            "justify_items": null,
            "left": null,
            "margin": null,
            "max_height": null,
            "max_width": null,
            "min_height": null,
            "min_width": null,
            "object_fit": null,
            "object_position": null,
            "order": null,
            "overflow": null,
            "overflow_x": null,
            "overflow_y": null,
            "padding": null,
            "right": null,
            "top": null,
            "visibility": null,
            "width": null
          }
        },
        "4738f0a9471f4ea78b5b39da1066f857": {
          "model_module": "@jupyter-widgets/base",
          "model_module_version": "1.2.0",
          "model_name": "LayoutModel",
          "state": {
            "_model_module": "@jupyter-widgets/base",
            "_model_module_version": "1.2.0",
            "_model_name": "LayoutModel",
            "_view_count": null,
            "_view_module": "@jupyter-widgets/base",
            "_view_module_version": "1.2.0",
            "_view_name": "LayoutView",
            "align_content": null,
            "align_items": null,
            "align_self": null,
            "border": null,
            "bottom": null,
            "display": null,
            "flex": null,
            "flex_flow": null,
            "grid_area": null,
            "grid_auto_columns": null,
            "grid_auto_flow": null,
            "grid_auto_rows": null,
            "grid_column": null,
            "grid_gap": null,
            "grid_row": null,
            "grid_template_areas": null,
            "grid_template_columns": null,
            "grid_template_rows": null,
            "height": null,
            "justify_content": null,
            "justify_items": null,
            "left": null,
            "margin": null,
            "max_height": null,
            "max_width": null,
            "min_height": null,
            "min_width": null,
            "object_fit": null,
            "object_position": null,
            "order": null,
            "overflow": null,
            "overflow_x": null,
            "overflow_y": null,
            "padding": null,
            "right": null,
            "top": null,
            "visibility": null,
            "width": null
          }
        },
        "51343a3f9e9c4b419744954f942c1d25": {
          "model_module": "@jupyter-widgets/controls",
          "model_module_version": "1.5.0",
          "model_name": "HBoxModel",
          "state": {
            "_dom_classes": [],
            "_model_module": "@jupyter-widgets/controls",
            "_model_module_version": "1.5.0",
            "_model_name": "HBoxModel",
            "_view_count": null,
            "_view_module": "@jupyter-widgets/controls",
            "_view_module_version": "1.5.0",
            "_view_name": "HBoxView",
            "box_style": "",
            "children": [
              "IPY_MODEL_a6ae8296e48643bf8aa662c8d74f4619",
              "IPY_MODEL_149a535113e7453cad87851ebbc3df63",
              "IPY_MODEL_e60321b587f44b1289b461d701c26173"
            ],
            "layout": "IPY_MODEL_b3c423ca5e6246d38b4425644585f2cb"
          }
        },
        "57a49aca00884c6291222be1184975e7": {
          "model_module": "@jupyter-widgets/controls",
          "model_module_version": "1.5.0",
          "model_name": "FloatProgressModel",
          "state": {
            "_dom_classes": [],
            "_model_module": "@jupyter-widgets/controls",
            "_model_module_version": "1.5.0",
            "_model_name": "FloatProgressModel",
            "_view_count": null,
            "_view_module": "@jupyter-widgets/controls",
            "_view_module_version": "1.5.0",
            "_view_name": "ProgressView",
            "bar_style": "success",
            "description": "",
            "description_tooltip": null,
            "layout": "IPY_MODEL_aedfb2630bda4cbfb8f3050b7cedca2b",
            "max": 4,
            "min": 0,
            "orientation": "horizontal",
            "style": "IPY_MODEL_023558db87af4dbcb0220be5d2ffd686",
            "value": 4
          }
        },
        "57bb5a3eb9694e48a9f286472953e528": {
          "model_module": "@jupyter-widgets/base",
          "model_module_version": "1.2.0",
          "model_name": "LayoutModel",
          "state": {
            "_model_module": "@jupyter-widgets/base",
            "_model_module_version": "1.2.0",
            "_model_name": "LayoutModel",
            "_view_count": null,
            "_view_module": "@jupyter-widgets/base",
            "_view_module_version": "1.2.0",
            "_view_name": "LayoutView",
            "align_content": null,
            "align_items": null,
            "align_self": null,
            "border": null,
            "bottom": null,
            "display": null,
            "flex": null,
            "flex_flow": null,
            "grid_area": null,
            "grid_auto_columns": null,
            "grid_auto_flow": null,
            "grid_auto_rows": null,
            "grid_column": null,
            "grid_gap": null,
            "grid_row": null,
            "grid_template_areas": null,
            "grid_template_columns": null,
            "grid_template_rows": null,
            "height": null,
            "justify_content": null,
            "justify_items": null,
            "left": null,
            "margin": null,
            "max_height": null,
            "max_width": null,
            "min_height": null,
            "min_width": null,
            "object_fit": null,
            "object_position": null,
            "order": null,
            "overflow": null,
            "overflow_x": null,
            "overflow_y": null,
            "padding": null,
            "right": null,
            "top": null,
            "visibility": null,
            "width": null
          }
        },
        "59151d50904543818d2966fd3ff4e7ab": {
          "model_module": "@jupyter-widgets/base",
          "model_module_version": "1.2.0",
          "model_name": "LayoutModel",
          "state": {
            "_model_module": "@jupyter-widgets/base",
            "_model_module_version": "1.2.0",
            "_model_name": "LayoutModel",
            "_view_count": null,
            "_view_module": "@jupyter-widgets/base",
            "_view_module_version": "1.2.0",
            "_view_name": "LayoutView",
            "align_content": null,
            "align_items": null,
            "align_self": null,
            "border": null,
            "bottom": null,
            "display": null,
            "flex": null,
            "flex_flow": null,
            "grid_area": null,
            "grid_auto_columns": null,
            "grid_auto_flow": null,
            "grid_auto_rows": null,
            "grid_column": null,
            "grid_gap": null,
            "grid_row": null,
            "grid_template_areas": null,
            "grid_template_columns": null,
            "grid_template_rows": null,
            "height": null,
            "justify_content": null,
            "justify_items": null,
            "left": null,
            "margin": null,
            "max_height": null,
            "max_width": null,
            "min_height": null,
            "min_width": null,
            "object_fit": null,
            "object_position": null,
            "order": null,
            "overflow": null,
            "overflow_x": null,
            "overflow_y": null,
            "padding": null,
            "right": null,
            "top": null,
            "visibility": null,
            "width": null
          }
        },
        "5981f1bb6b2b45aaac5ff09476cbee97": {
          "model_module": "@jupyter-widgets/controls",
          "model_module_version": "1.5.0",
          "model_name": "HTMLModel",
          "state": {
            "_dom_classes": [],
            "_model_module": "@jupyter-widgets/controls",
            "_model_module_version": "1.5.0",
            "_model_name": "HTMLModel",
            "_view_count": null,
            "_view_module": "@jupyter-widgets/controls",
            "_view_module_version": "1.5.0",
            "_view_name": "HTMLView",
            "description": "",
            "description_tooltip": null,
            "layout": "IPY_MODEL_8e16a310e8a6490ea4da6fc2a987dec7",
            "placeholder": "​",
            "style": "IPY_MODEL_d2f31225993e45a580cc23261b0b7720",
            "value": " 1.17G/1.17G [00:29&lt;00:00, 44.9MB/s]"
          }
        },
        "5d7edbb6b2574178b716c0cebdf596aa": {
          "model_module": "@jupyter-widgets/controls",
          "model_module_version": "1.5.0",
          "model_name": "DescriptionStyleModel",
          "state": {
            "_model_module": "@jupyter-widgets/controls",
            "_model_module_version": "1.5.0",
            "_model_name": "DescriptionStyleModel",
            "_view_count": null,
            "_view_module": "@jupyter-widgets/base",
            "_view_module_version": "1.2.0",
            "_view_name": "StyleView",
            "description_width": ""
          }
        },
        "5fb05118d1e54c64893dba7d189e43bf": {
          "model_module": "@jupyter-widgets/controls",
          "model_module_version": "1.5.0",
          "model_name": "DescriptionStyleModel",
          "state": {
            "_model_module": "@jupyter-widgets/controls",
            "_model_module_version": "1.5.0",
            "_model_name": "DescriptionStyleModel",
            "_view_count": null,
            "_view_module": "@jupyter-widgets/base",
            "_view_module_version": "1.2.0",
            "_view_name": "StyleView",
            "description_width": ""
          }
        },
        "61ae7252df6f4fa1a12ebcce84ed9b36": {
          "model_module": "@jupyter-widgets/controls",
          "model_module_version": "1.5.0",
          "model_name": "HTMLModel",
          "state": {
            "_dom_classes": [],
            "_model_module": "@jupyter-widgets/controls",
            "_model_module_version": "1.5.0",
            "_model_name": "HTMLModel",
            "_view_count": null,
            "_view_module": "@jupyter-widgets/controls",
            "_view_module_version": "1.5.0",
            "_view_name": "HTMLView",
            "description": "",
            "description_tooltip": null,
            "layout": "IPY_MODEL_19c4c0a14f524ec4be7583fec67bce52",
            "placeholder": "​",
            "style": "IPY_MODEL_91a6c8515592408ca3debb90028c0edb",
            "value": "model.safetensors.index.json: 100%"
          }
        },
        "62fb444fc369484fbc3c860ae5ba569a": {
          "model_module": "@jupyter-widgets/controls",
          "model_module_version": "1.5.0",
          "model_name": "FloatProgressModel",
          "state": {
            "_dom_classes": [],
            "_model_module": "@jupyter-widgets/controls",
            "_model_module_version": "1.5.0",
            "_model_name": "FloatProgressModel",
            "_view_count": null,
            "_view_module": "@jupyter-widgets/controls",
            "_view_module_version": "1.5.0",
            "_view_name": "ProgressView",
            "bar_style": "success",
            "description": "",
            "description_tooltip": null,
            "layout": "IPY_MODEL_57bb5a3eb9694e48a9f286472953e528",
            "max": 4915916176,
            "min": 0,
            "orientation": "horizontal",
            "style": "IPY_MODEL_00e36504a5164f509eee508362ee8a88",
            "value": 4915916176
          }
        },
        "6b3b857663b94b83b657d3408ae72fdf": {
          "model_module": "@jupyter-widgets/base",
          "model_module_version": "1.2.0",
          "model_name": "LayoutModel",
          "state": {
            "_model_module": "@jupyter-widgets/base",
            "_model_module_version": "1.2.0",
            "_model_name": "LayoutModel",
            "_view_count": null,
            "_view_module": "@jupyter-widgets/base",
            "_view_module_version": "1.2.0",
            "_view_name": "LayoutView",
            "align_content": null,
            "align_items": null,
            "align_self": null,
            "border": null,
            "bottom": null,
            "display": null,
            "flex": null,
            "flex_flow": null,
            "grid_area": null,
            "grid_auto_columns": null,
            "grid_auto_flow": null,
            "grid_auto_rows": null,
            "grid_column": null,
            "grid_gap": null,
            "grid_row": null,
            "grid_template_areas": null,
            "grid_template_columns": null,
            "grid_template_rows": null,
            "height": null,
            "justify_content": null,
            "justify_items": null,
            "left": null,
            "margin": null,
            "max_height": null,
            "max_width": null,
            "min_height": null,
            "min_width": null,
            "object_fit": null,
            "object_position": null,
            "order": null,
            "overflow": null,
            "overflow_x": null,
            "overflow_y": null,
            "padding": null,
            "right": null,
            "top": null,
            "visibility": null,
            "width": null
          }
        },
        "6b9f17aff12f421686daee8dac3933a8": {
          "model_module": "@jupyter-widgets/controls",
          "model_module_version": "1.5.0",
          "model_name": "HTMLModel",
          "state": {
            "_dom_classes": [],
            "_model_module": "@jupyter-widgets/controls",
            "_model_module_version": "1.5.0",
            "_model_name": "HTMLModel",
            "_view_count": null,
            "_view_module": "@jupyter-widgets/controls",
            "_view_module_version": "1.5.0",
            "_view_name": "HTMLView",
            "description": "",
            "description_tooltip": null,
            "layout": "IPY_MODEL_ca3245d0f01b4178b790bedbb3d4d8cf",
            "placeholder": "​",
            "style": "IPY_MODEL_c7ac24e814ab4590b0c16ed02f807e3d",
            "value": "model-00001-of-00004.safetensors: 100%"
          }
        },
        "6d47094135a048d88b00293458cf25cf": {
          "model_module": "@jupyter-widgets/base",
          "model_module_version": "1.2.0",
          "model_name": "LayoutModel",
          "state": {
            "_model_module": "@jupyter-widgets/base",
            "_model_module_version": "1.2.0",
            "_model_name": "LayoutModel",
            "_view_count": null,
            "_view_module": "@jupyter-widgets/base",
            "_view_module_version": "1.2.0",
            "_view_name": "LayoutView",
            "align_content": null,
            "align_items": null,
            "align_self": null,
            "border": null,
            "bottom": null,
            "display": null,
            "flex": null,
            "flex_flow": null,
            "grid_area": null,
            "grid_auto_columns": null,
            "grid_auto_flow": null,
            "grid_auto_rows": null,
            "grid_column": null,
            "grid_gap": null,
            "grid_row": null,
            "grid_template_areas": null,
            "grid_template_columns": null,
            "grid_template_rows": null,
            "height": null,
            "justify_content": null,
            "justify_items": null,
            "left": null,
            "margin": null,
            "max_height": null,
            "max_width": null,
            "min_height": null,
            "min_width": null,
            "object_fit": null,
            "object_position": null,
            "order": null,
            "overflow": null,
            "overflow_x": null,
            "overflow_y": null,
            "padding": null,
            "right": null,
            "top": null,
            "visibility": null,
            "width": null
          }
        },
        "6e5323de975a451cb7427dafe0dfbc6d": {
          "model_module": "@jupyter-widgets/controls",
          "model_module_version": "1.5.0",
          "model_name": "HTMLModel",
          "state": {
            "_dom_classes": [],
            "_model_module": "@jupyter-widgets/controls",
            "_model_module_version": "1.5.0",
            "_model_name": "HTMLModel",
            "_view_count": null,
            "_view_module": "@jupyter-widgets/controls",
            "_view_module_version": "1.5.0",
            "_view_name": "HTMLView",
            "description": "",
            "description_tooltip": null,
            "layout": "IPY_MODEL_c4e7a3bb60f942bfaaeca5d204090411",
            "placeholder": "​",
            "style": "IPY_MODEL_9a66ed4fa0cd4dd692c5c971cf8230aa",
            "value": " 184/184 [00:00&lt;00:00, 23.9kB/s]"
          }
        },
        "70487ff67bc14950b82001fea2904859": {
          "model_module": "@jupyter-widgets/controls",
          "model_module_version": "1.5.0",
          "model_name": "ProgressStyleModel",
          "state": {
            "_model_module": "@jupyter-widgets/controls",
            "_model_module_version": "1.5.0",
            "_model_name": "ProgressStyleModel",
            "_view_count": null,
            "_view_module": "@jupyter-widgets/base",
            "_view_module_version": "1.2.0",
            "_view_name": "StyleView",
            "bar_color": null,
            "description_width": ""
          }
        },
        "7341d3ecc55f4086bb252ea2f484de2d": {
          "model_module": "@jupyter-widgets/controls",
          "model_module_version": "1.5.0",
          "model_name": "HTMLModel",
          "state": {
            "_dom_classes": [],
            "_model_module": "@jupyter-widgets/controls",
            "_model_module_version": "1.5.0",
            "_model_name": "HTMLModel",
            "_view_count": null,
            "_view_module": "@jupyter-widgets/controls",
            "_view_module_version": "1.5.0",
            "_view_name": "HTMLView",
            "description": "",
            "description_tooltip": null,
            "layout": "IPY_MODEL_ffabc17a0e3c4e93805a2dc62fb6b70b",
            "placeholder": "​",
            "style": "IPY_MODEL_8b4431d7294d4bc9a898818928275b13",
            "value": "Loading checkpoint shards: 100%"
          }
        },
        "73a52e416270469da57bf02043f1939d": {
          "model_module": "@jupyter-widgets/controls",
          "model_module_version": "1.5.0",
          "model_name": "DescriptionStyleModel",
          "state": {
            "_model_module": "@jupyter-widgets/controls",
            "_model_module_version": "1.5.0",
            "_model_name": "DescriptionStyleModel",
            "_view_count": null,
            "_view_module": "@jupyter-widgets/base",
            "_view_module_version": "1.2.0",
            "_view_name": "StyleView",
            "description_width": ""
          }
        },
        "75ed41fb2ebb4a01849d0c6c20052fca": {
          "model_module": "@jupyter-widgets/base",
          "model_module_version": "1.2.0",
          "model_name": "LayoutModel",
          "state": {
            "_model_module": "@jupyter-widgets/base",
            "_model_module_version": "1.2.0",
            "_model_name": "LayoutModel",
            "_view_count": null,
            "_view_module": "@jupyter-widgets/base",
            "_view_module_version": "1.2.0",
            "_view_name": "LayoutView",
            "align_content": null,
            "align_items": null,
            "align_self": null,
            "border": null,
            "bottom": null,
            "display": null,
            "flex": null,
            "flex_flow": null,
            "grid_area": null,
            "grid_auto_columns": null,
            "grid_auto_flow": null,
            "grid_auto_rows": null,
            "grid_column": null,
            "grid_gap": null,
            "grid_row": null,
            "grid_template_areas": null,
            "grid_template_columns": null,
            "grid_template_rows": null,
            "height": null,
            "justify_content": null,
            "justify_items": null,
            "left": null,
            "margin": null,
            "max_height": null,
            "max_width": null,
            "min_height": null,
            "min_width": null,
            "object_fit": null,
            "object_position": null,
            "order": null,
            "overflow": null,
            "overflow_x": null,
            "overflow_y": null,
            "padding": null,
            "right": null,
            "top": null,
            "visibility": null,
            "width": null
          }
        },
        "75fa183df4e44acd82115cf01531f783": {
          "model_module": "@jupyter-widgets/controls",
          "model_module_version": "1.5.0",
          "model_name": "DescriptionStyleModel",
          "state": {
            "_model_module": "@jupyter-widgets/controls",
            "_model_module_version": "1.5.0",
            "_model_name": "DescriptionStyleModel",
            "_view_count": null,
            "_view_module": "@jupyter-widgets/base",
            "_view_module_version": "1.2.0",
            "_view_name": "StyleView",
            "description_width": ""
          }
        },
        "7653faf22a2b49bc94a04361c012b1ef": {
          "model_module": "@jupyter-widgets/base",
          "model_module_version": "1.2.0",
          "model_name": "LayoutModel",
          "state": {
            "_model_module": "@jupyter-widgets/base",
            "_model_module_version": "1.2.0",
            "_model_name": "LayoutModel",
            "_view_count": null,
            "_view_module": "@jupyter-widgets/base",
            "_view_module_version": "1.2.0",
            "_view_name": "LayoutView",
            "align_content": null,
            "align_items": null,
            "align_self": null,
            "border": null,
            "bottom": null,
            "display": null,
            "flex": null,
            "flex_flow": null,
            "grid_area": null,
            "grid_auto_columns": null,
            "grid_auto_flow": null,
            "grid_auto_rows": null,
            "grid_column": null,
            "grid_gap": null,
            "grid_row": null,
            "grid_template_areas": null,
            "grid_template_columns": null,
            "grid_template_rows": null,
            "height": null,
            "justify_content": null,
            "justify_items": null,
            "left": null,
            "margin": null,
            "max_height": null,
            "max_width": null,
            "min_height": null,
            "min_width": null,
            "object_fit": null,
            "object_position": null,
            "order": null,
            "overflow": null,
            "overflow_x": null,
            "overflow_y": null,
            "padding": null,
            "right": null,
            "top": null,
            "visibility": null,
            "width": null
          }
        },
        "7be1f6bb3eeb4bc392a52b90fefc63bd": {
          "model_module": "@jupyter-widgets/base",
          "model_module_version": "1.2.0",
          "model_name": "LayoutModel",
          "state": {
            "_model_module": "@jupyter-widgets/base",
            "_model_module_version": "1.2.0",
            "_model_name": "LayoutModel",
            "_view_count": null,
            "_view_module": "@jupyter-widgets/base",
            "_view_module_version": "1.2.0",
            "_view_name": "LayoutView",
            "align_content": null,
            "align_items": null,
            "align_self": null,
            "border": null,
            "bottom": null,
            "display": null,
            "flex": null,
            "flex_flow": null,
            "grid_area": null,
            "grid_auto_columns": null,
            "grid_auto_flow": null,
            "grid_auto_rows": null,
            "grid_column": null,
            "grid_gap": null,
            "grid_row": null,
            "grid_template_areas": null,
            "grid_template_columns": null,
            "grid_template_rows": null,
            "height": null,
            "justify_content": null,
            "justify_items": null,
            "left": null,
            "margin": null,
            "max_height": null,
            "max_width": null,
            "min_height": null,
            "min_width": null,
            "object_fit": null,
            "object_position": null,
            "order": null,
            "overflow": null,
            "overflow_x": null,
            "overflow_y": null,
            "padding": null,
            "right": null,
            "top": null,
            "visibility": null,
            "width": null
          }
        },
        "80f843c30d4847738c54b0a25d8ceab3": {
          "model_module": "@jupyter-widgets/controls",
          "model_module_version": "1.5.0",
          "model_name": "HBoxModel",
          "state": {
            "_dom_classes": [],
            "_model_module": "@jupyter-widgets/controls",
            "_model_module_version": "1.5.0",
            "_model_name": "HBoxModel",
            "_view_count": null,
            "_view_module": "@jupyter-widgets/controls",
            "_view_module_version": "1.5.0",
            "_view_name": "HBoxView",
            "box_style": "",
            "children": [
              "IPY_MODEL_1d2df91fb94840c3903b73a94baf06f7",
              "IPY_MODEL_c5b05f9e4b684255af003b4035ce5d1d",
              "IPY_MODEL_6e5323de975a451cb7427dafe0dfbc6d"
            ],
            "layout": "IPY_MODEL_eb65d86638294d57bc197474bb343ebd"
          }
        },
        "820600133d154409bf7c79f24589524b": {
          "model_module": "@jupyter-widgets/base",
          "model_module_version": "1.2.0",
          "model_name": "LayoutModel",
          "state": {
            "_model_module": "@jupyter-widgets/base",
            "_model_module_version": "1.2.0",
            "_model_name": "LayoutModel",
            "_view_count": null,
            "_view_module": "@jupyter-widgets/base",
            "_view_module_version": "1.2.0",
            "_view_name": "LayoutView",
            "align_content": null,
            "align_items": null,
            "align_self": null,
            "border": null,
            "bottom": null,
            "display": null,
            "flex": null,
            "flex_flow": null,
            "grid_area": null,
            "grid_auto_columns": null,
            "grid_auto_flow": null,
            "grid_auto_rows": null,
            "grid_column": null,
            "grid_gap": null,
            "grid_row": null,
            "grid_template_areas": null,
            "grid_template_columns": null,
            "grid_template_rows": null,
            "height": null,
            "justify_content": null,
            "justify_items": null,
            "left": null,
            "margin": null,
            "max_height": null,
            "max_width": null,
            "min_height": null,
            "min_width": null,
            "object_fit": null,
            "object_position": null,
            "order": null,
            "overflow": null,
            "overflow_x": null,
            "overflow_y": null,
            "padding": null,
            "right": null,
            "top": null,
            "visibility": null,
            "width": null
          }
        },
        "838078dca1b24931aafd1fab2dc85842": {
          "model_module": "@jupyter-widgets/controls",
          "model_module_version": "1.5.0",
          "model_name": "HTMLModel",
          "state": {
            "_dom_classes": [],
            "_model_module": "@jupyter-widgets/controls",
            "_model_module_version": "1.5.0",
            "_model_name": "HTMLModel",
            "_view_count": null,
            "_view_module": "@jupyter-widgets/controls",
            "_view_module_version": "1.5.0",
            "_view_name": "HTMLView",
            "description": "",
            "description_tooltip": null,
            "layout": "IPY_MODEL_29d9920a09a045469ab67154b7846b5d",
            "placeholder": "​",
            "style": "IPY_MODEL_d68bc92c2aee4d0c80b78ae6b25ed150",
            "value": "tokenizer.json: 100%"
          }
        },
        "879ce0a575d74b109f53e854a1fbc837": {
          "model_module": "@jupyter-widgets/controls",
          "model_module_version": "1.5.0",
          "model_name": "DescriptionStyleModel",
          "state": {
            "_model_module": "@jupyter-widgets/controls",
            "_model_module_version": "1.5.0",
            "_model_name": "DescriptionStyleModel",
            "_view_count": null,
            "_view_module": "@jupyter-widgets/base",
            "_view_module_version": "1.2.0",
            "_view_name": "StyleView",
            "description_width": ""
          }
        },
        "8809c5f8734e4c9998208cd53059dd35": {
          "model_module": "@jupyter-widgets/controls",
          "model_module_version": "1.5.0",
          "model_name": "DescriptionStyleModel",
          "state": {
            "_model_module": "@jupyter-widgets/controls",
            "_model_module_version": "1.5.0",
            "_model_name": "DescriptionStyleModel",
            "_view_count": null,
            "_view_module": "@jupyter-widgets/base",
            "_view_module_version": "1.2.0",
            "_view_name": "StyleView",
            "description_width": ""
          }
        },
        "89ef777a8eb74545abc3ae9adbadf9fe": {
          "model_module": "@jupyter-widgets/base",
          "model_module_version": "1.2.0",
          "model_name": "LayoutModel",
          "state": {
            "_model_module": "@jupyter-widgets/base",
            "_model_module_version": "1.2.0",
            "_model_name": "LayoutModel",
            "_view_count": null,
            "_view_module": "@jupyter-widgets/base",
            "_view_module_version": "1.2.0",
            "_view_name": "LayoutView",
            "align_content": null,
            "align_items": null,
            "align_self": null,
            "border": null,
            "bottom": null,
            "display": null,
            "flex": null,
            "flex_flow": null,
            "grid_area": null,
            "grid_auto_columns": null,
            "grid_auto_flow": null,
            "grid_auto_rows": null,
            "grid_column": null,
            "grid_gap": null,
            "grid_row": null,
            "grid_template_areas": null,
            "grid_template_columns": null,
            "grid_template_rows": null,
            "height": null,
            "justify_content": null,
            "justify_items": null,
            "left": null,
            "margin": null,
            "max_height": null,
            "max_width": null,
            "min_height": null,
            "min_width": null,
            "object_fit": null,
            "object_position": null,
            "order": null,
            "overflow": null,
            "overflow_x": null,
            "overflow_y": null,
            "padding": null,
            "right": null,
            "top": null,
            "visibility": null,
            "width": null
          }
        },
        "8b4431d7294d4bc9a898818928275b13": {
          "model_module": "@jupyter-widgets/controls",
          "model_module_version": "1.5.0",
          "model_name": "DescriptionStyleModel",
          "state": {
            "_model_module": "@jupyter-widgets/controls",
            "_model_module_version": "1.5.0",
            "_model_name": "DescriptionStyleModel",
            "_view_count": null,
            "_view_module": "@jupyter-widgets/base",
            "_view_module_version": "1.2.0",
            "_view_name": "StyleView",
            "description_width": ""
          }
        },
        "8db8505f8ba6444faaf5ae3b913bdf58": {
          "model_module": "@jupyter-widgets/controls",
          "model_module_version": "1.5.0",
          "model_name": "HTMLModel",
          "state": {
            "_dom_classes": [],
            "_model_module": "@jupyter-widgets/controls",
            "_model_module_version": "1.5.0",
            "_model_name": "HTMLModel",
            "_view_count": null,
            "_view_module": "@jupyter-widgets/controls",
            "_view_module_version": "1.5.0",
            "_view_name": "HTMLView",
            "description": "",
            "description_tooltip": null,
            "layout": "IPY_MODEL_59151d50904543818d2966fd3ff4e7ab",
            "placeholder": "​",
            "style": "IPY_MODEL_75fa183df4e44acd82115cf01531f783",
            "value": " 9.09M/9.09M [00:01&lt;00:00, 5.90MB/s]"
          }
        },
        "8dfada0c8bc24e378cd6273bfdacc39c": {
          "model_module": "@jupyter-widgets/base",
          "model_module_version": "1.2.0",
          "model_name": "LayoutModel",
          "state": {
            "_model_module": "@jupyter-widgets/base",
            "_model_module_version": "1.2.0",
            "_model_name": "LayoutModel",
            "_view_count": null,
            "_view_module": "@jupyter-widgets/base",
            "_view_module_version": "1.2.0",
            "_view_name": "LayoutView",
            "align_content": null,
            "align_items": null,
            "align_self": null,
            "border": null,
            "bottom": null,
            "display": null,
            "flex": null,
            "flex_flow": null,
            "grid_area": null,
            "grid_auto_columns": null,
            "grid_auto_flow": null,
            "grid_auto_rows": null,
            "grid_column": null,
            "grid_gap": null,
            "grid_row": null,
            "grid_template_areas": null,
            "grid_template_columns": null,
            "grid_template_rows": null,
            "height": null,
            "justify_content": null,
            "justify_items": null,
            "left": null,
            "margin": null,
            "max_height": null,
            "max_width": null,
            "min_height": null,
            "min_width": null,
            "object_fit": null,
            "object_position": null,
            "order": null,
            "overflow": null,
            "overflow_x": null,
            "overflow_y": null,
            "padding": null,
            "right": null,
            "top": null,
            "visibility": null,
            "width": null
          }
        },
        "8e16a310e8a6490ea4da6fc2a987dec7": {
          "model_module": "@jupyter-widgets/base",
          "model_module_version": "1.2.0",
          "model_name": "LayoutModel",
          "state": {
            "_model_module": "@jupyter-widgets/base",
            "_model_module_version": "1.2.0",
            "_model_name": "LayoutModel",
            "_view_count": null,
            "_view_module": "@jupyter-widgets/base",
            "_view_module_version": "1.2.0",
            "_view_name": "LayoutView",
            "align_content": null,
            "align_items": null,
            "align_self": null,
            "border": null,
            "bottom": null,
            "display": null,
            "flex": null,
            "flex_flow": null,
            "grid_area": null,
            "grid_auto_columns": null,
            "grid_auto_flow": null,
            "grid_auto_rows": null,
            "grid_column": null,
            "grid_gap": null,
            "grid_row": null,
            "grid_template_areas": null,
            "grid_template_columns": null,
            "grid_template_rows": null,
            "height": null,
            "justify_content": null,
            "justify_items": null,
            "left": null,
            "margin": null,
            "max_height": null,
            "max_width": null,
            "min_height": null,
            "min_width": null,
            "object_fit": null,
            "object_position": null,
            "order": null,
            "overflow": null,
            "overflow_x": null,
            "overflow_y": null,
            "padding": null,
            "right": null,
            "top": null,
            "visibility": null,
            "width": null
          }
        },
        "91a6c8515592408ca3debb90028c0edb": {
          "model_module": "@jupyter-widgets/controls",
          "model_module_version": "1.5.0",
          "model_name": "DescriptionStyleModel",
          "state": {
            "_model_module": "@jupyter-widgets/controls",
            "_model_module_version": "1.5.0",
            "_model_name": "DescriptionStyleModel",
            "_view_count": null,
            "_view_module": "@jupyter-widgets/base",
            "_view_module_version": "1.2.0",
            "_view_name": "StyleView",
            "description_width": ""
          }
        },
        "95416b42a11d4d51ab22e2afb26e7cb5": {
          "model_module": "@jupyter-widgets/controls",
          "model_module_version": "1.5.0",
          "model_name": "HTMLModel",
          "state": {
            "_dom_classes": [],
            "_model_module": "@jupyter-widgets/controls",
            "_model_module_version": "1.5.0",
            "_model_name": "HTMLModel",
            "_view_count": null,
            "_view_module": "@jupyter-widgets/controls",
            "_view_module_version": "1.5.0",
            "_view_name": "HTMLView",
            "description": "",
            "description_tooltip": null,
            "layout": "IPY_MODEL_c50b54c1c6004de89eb23bfb42c6a744",
            "placeholder": "​",
            "style": "IPY_MODEL_73a52e416270469da57bf02043f1939d",
            "value": " 4.92G/4.92G [01:23&lt;00:00, 107MB/s]"
          }
        },
        "956bb091d77a47cc89fb8c6d7a8ea014": {
          "model_module": "@jupyter-widgets/controls",
          "model_module_version": "1.5.0",
          "model_name": "DescriptionStyleModel",
          "state": {
            "_model_module": "@jupyter-widgets/controls",
            "_model_module_version": "1.5.0",
            "_model_name": "DescriptionStyleModel",
            "_view_count": null,
            "_view_module": "@jupyter-widgets/base",
            "_view_module_version": "1.2.0",
            "_view_name": "StyleView",
            "description_width": ""
          }
        },
        "96ecd765ebc24c4fac33a5695393bfc2": {
          "model_module": "@jupyter-widgets/controls",
          "model_module_version": "1.5.0",
          "model_name": "HBoxModel",
          "state": {
            "_dom_classes": [],
            "_model_module": "@jupyter-widgets/controls",
            "_model_module_version": "1.5.0",
            "_model_name": "HBoxModel",
            "_view_count": null,
            "_view_module": "@jupyter-widgets/controls",
            "_view_module_version": "1.5.0",
            "_view_name": "HBoxView",
            "box_style": "",
            "children": [
              "IPY_MODEL_61ae7252df6f4fa1a12ebcce84ed9b36",
              "IPY_MODEL_e8fc7328752d41f69e62e67fd3f13f47",
              "IPY_MODEL_3e2c541a7b8c4cbab4d1a4a3cd00bc71"
            ],
            "layout": "IPY_MODEL_7653faf22a2b49bc94a04361c012b1ef"
          }
        },
        "9704fbb2d0d24739ace9eac2f56e1f88": {
          "model_module": "@jupyter-widgets/controls",
          "model_module_version": "1.5.0",
          "model_name": "ProgressStyleModel",
          "state": {
            "_model_module": "@jupyter-widgets/controls",
            "_model_module_version": "1.5.0",
            "_model_name": "ProgressStyleModel",
            "_view_count": null,
            "_view_module": "@jupyter-widgets/base",
            "_view_module_version": "1.2.0",
            "_view_name": "StyleView",
            "bar_color": null,
            "description_width": ""
          }
        },
        "9a5df583260340efae0b715653470112": {
          "model_module": "@jupyter-widgets/controls",
          "model_module_version": "1.5.0",
          "model_name": "ProgressStyleModel",
          "state": {
            "_model_module": "@jupyter-widgets/controls",
            "_model_module_version": "1.5.0",
            "_model_name": "ProgressStyleModel",
            "_view_count": null,
            "_view_module": "@jupyter-widgets/base",
            "_view_module_version": "1.2.0",
            "_view_name": "StyleView",
            "bar_color": null,
            "description_width": ""
          }
        },
        "9a66ed4fa0cd4dd692c5c971cf8230aa": {
          "model_module": "@jupyter-widgets/controls",
          "model_module_version": "1.5.0",
          "model_name": "DescriptionStyleModel",
          "state": {
            "_model_module": "@jupyter-widgets/controls",
            "_model_module_version": "1.5.0",
            "_model_name": "DescriptionStyleModel",
            "_view_count": null,
            "_view_module": "@jupyter-widgets/base",
            "_view_module_version": "1.2.0",
            "_view_name": "StyleView",
            "description_width": ""
          }
        },
        "9c050c2d92ff4c6e8012fd755c3c1227": {
          "model_module": "@jupyter-widgets/base",
          "model_module_version": "1.2.0",
          "model_name": "LayoutModel",
          "state": {
            "_model_module": "@jupyter-widgets/base",
            "_model_module_version": "1.2.0",
            "_model_name": "LayoutModel",
            "_view_count": null,
            "_view_module": "@jupyter-widgets/base",
            "_view_module_version": "1.2.0",
            "_view_name": "LayoutView",
            "align_content": null,
            "align_items": null,
            "align_self": null,
            "border": null,
            "bottom": null,
            "display": null,
            "flex": null,
            "flex_flow": null,
            "grid_area": null,
            "grid_auto_columns": null,
            "grid_auto_flow": null,
            "grid_auto_rows": null,
            "grid_column": null,
            "grid_gap": null,
            "grid_row": null,
            "grid_template_areas": null,
            "grid_template_columns": null,
            "grid_template_rows": null,
            "height": null,
            "justify_content": null,
            "justify_items": null,
            "left": null,
            "margin": null,
            "max_height": null,
            "max_width": null,
            "min_height": null,
            "min_width": null,
            "object_fit": null,
            "object_position": null,
            "order": null,
            "overflow": null,
            "overflow_x": null,
            "overflow_y": null,
            "padding": null,
            "right": null,
            "top": null,
            "visibility": null,
            "width": null
          }
        },
        "a503f0608d6c4b9f9a99c9b40362b08a": {
          "model_module": "@jupyter-widgets/controls",
          "model_module_version": "1.5.0",
          "model_name": "ProgressStyleModel",
          "state": {
            "_model_module": "@jupyter-widgets/controls",
            "_model_module_version": "1.5.0",
            "_model_name": "ProgressStyleModel",
            "_view_count": null,
            "_view_module": "@jupyter-widgets/base",
            "_view_module_version": "1.2.0",
            "_view_name": "StyleView",
            "bar_color": null,
            "description_width": ""
          }
        },
        "a5056043991d48c690a684f975a71afd": {
          "model_module": "@jupyter-widgets/controls",
          "model_module_version": "1.5.0",
          "model_name": "DescriptionStyleModel",
          "state": {
            "_model_module": "@jupyter-widgets/controls",
            "_model_module_version": "1.5.0",
            "_model_name": "DescriptionStyleModel",
            "_view_count": null,
            "_view_module": "@jupyter-widgets/base",
            "_view_module_version": "1.2.0",
            "_view_name": "StyleView",
            "description_width": ""
          }
        },
        "a6ae8296e48643bf8aa662c8d74f4619": {
          "model_module": "@jupyter-widgets/controls",
          "model_module_version": "1.5.0",
          "model_name": "HTMLModel",
          "state": {
            "_dom_classes": [],
            "_model_module": "@jupyter-widgets/controls",
            "_model_module_version": "1.5.0",
            "_model_name": "HTMLModel",
            "_view_count": null,
            "_view_module": "@jupyter-widgets/controls",
            "_view_module_version": "1.5.0",
            "_view_name": "HTMLView",
            "description": "",
            "description_tooltip": null,
            "layout": "IPY_MODEL_820600133d154409bf7c79f24589524b",
            "placeholder": "​",
            "style": "IPY_MODEL_04c5292affb2433994fea973f03fd04a",
            "value": "tokenizer_config.json: 100%"
          }
        },
        "a87ed9b040cf4cab9aba47b92d7486fa": {
          "model_module": "@jupyter-widgets/base",
          "model_module_version": "1.2.0",
          "model_name": "LayoutModel",
          "state": {
            "_model_module": "@jupyter-widgets/base",
            "_model_module_version": "1.2.0",
            "_model_name": "LayoutModel",
            "_view_count": null,
            "_view_module": "@jupyter-widgets/base",
            "_view_module_version": "1.2.0",
            "_view_name": "LayoutView",
            "align_content": null,
            "align_items": null,
            "align_self": null,
            "border": null,
            "bottom": null,
            "display": null,
            "flex": null,
            "flex_flow": null,
            "grid_area": null,
            "grid_auto_columns": null,
            "grid_auto_flow": null,
            "grid_auto_rows": null,
            "grid_column": null,
            "grid_gap": null,
            "grid_row": null,
            "grid_template_areas": null,
            "grid_template_columns": null,
            "grid_template_rows": null,
            "height": null,
            "justify_content": null,
            "justify_items": null,
            "left": null,
            "margin": null,
            "max_height": null,
            "max_width": null,
            "min_height": null,
            "min_width": null,
            "object_fit": null,
            "object_position": null,
            "order": null,
            "overflow": null,
            "overflow_x": null,
            "overflow_y": null,
            "padding": null,
            "right": null,
            "top": null,
            "visibility": null,
            "width": null
          }
        },
        "aaf0ef8df9ec4c9d8ce340408ea9406f": {
          "model_module": "@jupyter-widgets/base",
          "model_module_version": "1.2.0",
          "model_name": "LayoutModel",
          "state": {
            "_model_module": "@jupyter-widgets/base",
            "_model_module_version": "1.2.0",
            "_model_name": "LayoutModel",
            "_view_count": null,
            "_view_module": "@jupyter-widgets/base",
            "_view_module_version": "1.2.0",
            "_view_name": "LayoutView",
            "align_content": null,
            "align_items": null,
            "align_self": null,
            "border": null,
            "bottom": null,
            "display": null,
            "flex": null,
            "flex_flow": null,
            "grid_area": null,
            "grid_auto_columns": null,
            "grid_auto_flow": null,
            "grid_auto_rows": null,
            "grid_column": null,
            "grid_gap": null,
            "grid_row": null,
            "grid_template_areas": null,
            "grid_template_columns": null,
            "grid_template_rows": null,
            "height": null,
            "justify_content": null,
            "justify_items": null,
            "left": null,
            "margin": null,
            "max_height": null,
            "max_width": null,
            "min_height": null,
            "min_width": null,
            "object_fit": null,
            "object_position": null,
            "order": null,
            "overflow": null,
            "overflow_x": null,
            "overflow_y": null,
            "padding": null,
            "right": null,
            "top": null,
            "visibility": null,
            "width": null
          }
        },
        "ab1cf24c2fbb4bfb946c957010f62250": {
          "model_module": "@jupyter-widgets/controls",
          "model_module_version": "1.5.0",
          "model_name": "ProgressStyleModel",
          "state": {
            "_model_module": "@jupyter-widgets/controls",
            "_model_module_version": "1.5.0",
            "_model_name": "ProgressStyleModel",
            "_view_count": null,
            "_view_module": "@jupyter-widgets/base",
            "_view_module_version": "1.2.0",
            "_view_name": "StyleView",
            "bar_color": null,
            "description_width": ""
          }
        },
        "abf0c5c4717548b788c651a404106438": {
          "model_module": "@jupyter-widgets/controls",
          "model_module_version": "1.5.0",
          "model_name": "HTMLModel",
          "state": {
            "_dom_classes": [],
            "_model_module": "@jupyter-widgets/controls",
            "_model_module_version": "1.5.0",
            "_model_name": "HTMLModel",
            "_view_count": null,
            "_view_module": "@jupyter-widgets/controls",
            "_view_module_version": "1.5.0",
            "_view_name": "HTMLView",
            "description": "",
            "description_tooltip": null,
            "layout": "IPY_MODEL_b89474ceed164df38b2907ab09ab2d3a",
            "placeholder": "​",
            "style": "IPY_MODEL_5fb05118d1e54c64893dba7d189e43bf",
            "value": " 4/4 [01:26&lt;00:00, 36.46s/it]"
          }
        },
        "aedfb2630bda4cbfb8f3050b7cedca2b": {
          "model_module": "@jupyter-widgets/base",
          "model_module_version": "1.2.0",
          "model_name": "LayoutModel",
          "state": {
            "_model_module": "@jupyter-widgets/base",
            "_model_module_version": "1.2.0",
            "_model_name": "LayoutModel",
            "_view_count": null,
            "_view_module": "@jupyter-widgets/base",
            "_view_module_version": "1.2.0",
            "_view_name": "LayoutView",
            "align_content": null,
            "align_items": null,
            "align_self": null,
            "border": null,
            "bottom": null,
            "display": null,
            "flex": null,
            "flex_flow": null,
            "grid_area": null,
            "grid_auto_columns": null,
            "grid_auto_flow": null,
            "grid_auto_rows": null,
            "grid_column": null,
            "grid_gap": null,
            "grid_row": null,
            "grid_template_areas": null,
            "grid_template_columns": null,
            "grid_template_rows": null,
            "height": null,
            "justify_content": null,
            "justify_items": null,
            "left": null,
            "margin": null,
            "max_height": null,
            "max_width": null,
            "min_height": null,
            "min_width": null,
            "object_fit": null,
            "object_position": null,
            "order": null,
            "overflow": null,
            "overflow_x": null,
            "overflow_y": null,
            "padding": null,
            "right": null,
            "top": null,
            "visibility": null,
            "width": null
          }
        },
        "af00ab1fbbfa4ed5a76c4ed14aa34da2": {
          "model_module": "@jupyter-widgets/controls",
          "model_module_version": "1.5.0",
          "model_name": "DescriptionStyleModel",
          "state": {
            "_model_module": "@jupyter-widgets/controls",
            "_model_module_version": "1.5.0",
            "_model_name": "DescriptionStyleModel",
            "_view_count": null,
            "_view_module": "@jupyter-widgets/base",
            "_view_module_version": "1.2.0",
            "_view_name": "StyleView",
            "description_width": ""
          }
        },
        "b02f688c405a465595c9ef92bc581489": {
          "model_module": "@jupyter-widgets/base",
          "model_module_version": "1.2.0",
          "model_name": "LayoutModel",
          "state": {
            "_model_module": "@jupyter-widgets/base",
            "_model_module_version": "1.2.0",
            "_model_name": "LayoutModel",
            "_view_count": null,
            "_view_module": "@jupyter-widgets/base",
            "_view_module_version": "1.2.0",
            "_view_name": "LayoutView",
            "align_content": null,
            "align_items": null,
            "align_self": null,
            "border": null,
            "bottom": null,
            "display": null,
            "flex": null,
            "flex_flow": null,
            "grid_area": null,
            "grid_auto_columns": null,
            "grid_auto_flow": null,
            "grid_auto_rows": null,
            "grid_column": null,
            "grid_gap": null,
            "grid_row": null,
            "grid_template_areas": null,
            "grid_template_columns": null,
            "grid_template_rows": null,
            "height": null,
            "justify_content": null,
            "justify_items": null,
            "left": null,
            "margin": null,
            "max_height": null,
            "max_width": null,
            "min_height": null,
            "min_width": null,
            "object_fit": null,
            "object_position": null,
            "order": null,
            "overflow": null,
            "overflow_x": null,
            "overflow_y": null,
            "padding": null,
            "right": null,
            "top": null,
            "visibility": null,
            "width": null
          }
        },
        "b2a1580dc53b4a08bca2777e504011a8": {
          "model_module": "@jupyter-widgets/base",
          "model_module_version": "1.2.0",
          "model_name": "LayoutModel",
          "state": {
            "_model_module": "@jupyter-widgets/base",
            "_model_module_version": "1.2.0",
            "_model_name": "LayoutModel",
            "_view_count": null,
            "_view_module": "@jupyter-widgets/base",
            "_view_module_version": "1.2.0",
            "_view_name": "LayoutView",
            "align_content": null,
            "align_items": null,
            "align_self": null,
            "border": null,
            "bottom": null,
            "display": null,
            "flex": null,
            "flex_flow": null,
            "grid_area": null,
            "grid_auto_columns": null,
            "grid_auto_flow": null,
            "grid_auto_rows": null,
            "grid_column": null,
            "grid_gap": null,
            "grid_row": null,
            "grid_template_areas": null,
            "grid_template_columns": null,
            "grid_template_rows": null,
            "height": null,
            "justify_content": null,
            "justify_items": null,
            "left": null,
            "margin": null,
            "max_height": null,
            "max_width": null,
            "min_height": null,
            "min_width": null,
            "object_fit": null,
            "object_position": null,
            "order": null,
            "overflow": null,
            "overflow_x": null,
            "overflow_y": null,
            "padding": null,
            "right": null,
            "top": null,
            "visibility": null,
            "width": null
          }
        },
        "b3c423ca5e6246d38b4425644585f2cb": {
          "model_module": "@jupyter-widgets/base",
          "model_module_version": "1.2.0",
          "model_name": "LayoutModel",
          "state": {
            "_model_module": "@jupyter-widgets/base",
            "_model_module_version": "1.2.0",
            "_model_name": "LayoutModel",
            "_view_count": null,
            "_view_module": "@jupyter-widgets/base",
            "_view_module_version": "1.2.0",
            "_view_name": "LayoutView",
            "align_content": null,
            "align_items": null,
            "align_self": null,
            "border": null,
            "bottom": null,
            "display": null,
            "flex": null,
            "flex_flow": null,
            "grid_area": null,
            "grid_auto_columns": null,
            "grid_auto_flow": null,
            "grid_auto_rows": null,
            "grid_column": null,
            "grid_gap": null,
            "grid_row": null,
            "grid_template_areas": null,
            "grid_template_columns": null,
            "grid_template_rows": null,
            "height": null,
            "justify_content": null,
            "justify_items": null,
            "left": null,
            "margin": null,
            "max_height": null,
            "max_width": null,
            "min_height": null,
            "min_width": null,
            "object_fit": null,
            "object_position": null,
            "order": null,
            "overflow": null,
            "overflow_x": null,
            "overflow_y": null,
            "padding": null,
            "right": null,
            "top": null,
            "visibility": null,
            "width": null
          }
        },
        "b5196e39604d4063814f99eee7bd28f5": {
          "model_module": "@jupyter-widgets/base",
          "model_module_version": "1.2.0",
          "model_name": "LayoutModel",
          "state": {
            "_model_module": "@jupyter-widgets/base",
            "_model_module_version": "1.2.0",
            "_model_name": "LayoutModel",
            "_view_count": null,
            "_view_module": "@jupyter-widgets/base",
            "_view_module_version": "1.2.0",
            "_view_name": "LayoutView",
            "align_content": null,
            "align_items": null,
            "align_self": null,
            "border": null,
            "bottom": null,
            "display": null,
            "flex": null,
            "flex_flow": null,
            "grid_area": null,
            "grid_auto_columns": null,
            "grid_auto_flow": null,
            "grid_auto_rows": null,
            "grid_column": null,
            "grid_gap": null,
            "grid_row": null,
            "grid_template_areas": null,
            "grid_template_columns": null,
            "grid_template_rows": null,
            "height": null,
            "justify_content": null,
            "justify_items": null,
            "left": null,
            "margin": null,
            "max_height": null,
            "max_width": null,
            "min_height": null,
            "min_width": null,
            "object_fit": null,
            "object_position": null,
            "order": null,
            "overflow": null,
            "overflow_x": null,
            "overflow_y": null,
            "padding": null,
            "right": null,
            "top": null,
            "visibility": null,
            "width": null
          }
        },
        "b6431a613a4041b68924023dc69ceaf0": {
          "model_module": "@jupyter-widgets/controls",
          "model_module_version": "1.5.0",
          "model_name": "HTMLModel",
          "state": {
            "_dom_classes": [],
            "_model_module": "@jupyter-widgets/controls",
            "_model_module_version": "1.5.0",
            "_model_name": "HTMLModel",
            "_view_count": null,
            "_view_module": "@jupyter-widgets/controls",
            "_view_module_version": "1.5.0",
            "_view_name": "HTMLView",
            "description": "",
            "description_tooltip": null,
            "layout": "IPY_MODEL_b02f688c405a465595c9ef92bc581489",
            "placeholder": "​",
            "style": "IPY_MODEL_956bb091d77a47cc89fb8c6d7a8ea014",
            "value": "model-00003-of-00004.safetensors: 100%"
          }
        },
        "b7b17120712e4172a3078f705dbdc5cd": {
          "model_module": "@jupyter-widgets/controls",
          "model_module_version": "1.5.0",
          "model_name": "HBoxModel",
          "state": {
            "_dom_classes": [],
            "_model_module": "@jupyter-widgets/controls",
            "_model_module_version": "1.5.0",
            "_model_name": "HBoxModel",
            "_view_count": null,
            "_view_module": "@jupyter-widgets/controls",
            "_view_module_version": "1.5.0",
            "_view_name": "HBoxView",
            "box_style": "",
            "children": [
              "IPY_MODEL_d6b0545a70eb4f559194db6dd16b6c39",
              "IPY_MODEL_f72da069dd044a5d8c757846dce41744",
              "IPY_MODEL_5981f1bb6b2b45aaac5ff09476cbee97"
            ],
            "layout": "IPY_MODEL_cf5bff52c5424ab49e2a3893ab3ce0ef"
          }
        },
        "b89474ceed164df38b2907ab09ab2d3a": {
          "model_module": "@jupyter-widgets/base",
          "model_module_version": "1.2.0",
          "model_name": "LayoutModel",
          "state": {
            "_model_module": "@jupyter-widgets/base",
            "_model_module_version": "1.2.0",
            "_model_name": "LayoutModel",
            "_view_count": null,
            "_view_module": "@jupyter-widgets/base",
            "_view_module_version": "1.2.0",
            "_view_name": "LayoutView",
            "align_content": null,
            "align_items": null,
            "align_self": null,
            "border": null,
            "bottom": null,
            "display": null,
            "flex": null,
            "flex_flow": null,
            "grid_area": null,
            "grid_auto_columns": null,
            "grid_auto_flow": null,
            "grid_auto_rows": null,
            "grid_column": null,
            "grid_gap": null,
            "grid_row": null,
            "grid_template_areas": null,
            "grid_template_columns": null,
            "grid_template_rows": null,
            "height": null,
            "justify_content": null,
            "justify_items": null,
            "left": null,
            "margin": null,
            "max_height": null,
            "max_width": null,
            "min_height": null,
            "min_width": null,
            "object_fit": null,
            "object_position": null,
            "order": null,
            "overflow": null,
            "overflow_x": null,
            "overflow_y": null,
            "padding": null,
            "right": null,
            "top": null,
            "visibility": null,
            "width": null
          }
        },
        "bfbc81afe7ba400f9df145d1c328252e": {
          "model_module": "@jupyter-widgets/base",
          "model_module_version": "1.2.0",
          "model_name": "LayoutModel",
          "state": {
            "_model_module": "@jupyter-widgets/base",
            "_model_module_version": "1.2.0",
            "_model_name": "LayoutModel",
            "_view_count": null,
            "_view_module": "@jupyter-widgets/base",
            "_view_module_version": "1.2.0",
            "_view_name": "LayoutView",
            "align_content": null,
            "align_items": null,
            "align_self": null,
            "border": null,
            "bottom": null,
            "display": null,
            "flex": null,
            "flex_flow": null,
            "grid_area": null,
            "grid_auto_columns": null,
            "grid_auto_flow": null,
            "grid_auto_rows": null,
            "grid_column": null,
            "grid_gap": null,
            "grid_row": null,
            "grid_template_areas": null,
            "grid_template_columns": null,
            "grid_template_rows": null,
            "height": null,
            "justify_content": null,
            "justify_items": null,
            "left": null,
            "margin": null,
            "max_height": null,
            "max_width": null,
            "min_height": null,
            "min_width": null,
            "object_fit": null,
            "object_position": null,
            "order": null,
            "overflow": null,
            "overflow_x": null,
            "overflow_y": null,
            "padding": null,
            "right": null,
            "top": null,
            "visibility": null,
            "width": null
          }
        },
        "c4e7a3bb60f942bfaaeca5d204090411": {
          "model_module": "@jupyter-widgets/base",
          "model_module_version": "1.2.0",
          "model_name": "LayoutModel",
          "state": {
            "_model_module": "@jupyter-widgets/base",
            "_model_module_version": "1.2.0",
            "_model_name": "LayoutModel",
            "_view_count": null,
            "_view_module": "@jupyter-widgets/base",
            "_view_module_version": "1.2.0",
            "_view_name": "LayoutView",
            "align_content": null,
            "align_items": null,
            "align_self": null,
            "border": null,
            "bottom": null,
            "display": null,
            "flex": null,
            "flex_flow": null,
            "grid_area": null,
            "grid_auto_columns": null,
            "grid_auto_flow": null,
            "grid_auto_rows": null,
            "grid_column": null,
            "grid_gap": null,
            "grid_row": null,
            "grid_template_areas": null,
            "grid_template_columns": null,
            "grid_template_rows": null,
            "height": null,
            "justify_content": null,
            "justify_items": null,
            "left": null,
            "margin": null,
            "max_height": null,
            "max_width": null,
            "min_height": null,
            "min_width": null,
            "object_fit": null,
            "object_position": null,
            "order": null,
            "overflow": null,
            "overflow_x": null,
            "overflow_y": null,
            "padding": null,
            "right": null,
            "top": null,
            "visibility": null,
            "width": null
          }
        },
        "c50b54c1c6004de89eb23bfb42c6a744": {
          "model_module": "@jupyter-widgets/base",
          "model_module_version": "1.2.0",
          "model_name": "LayoutModel",
          "state": {
            "_model_module": "@jupyter-widgets/base",
            "_model_module_version": "1.2.0",
            "_model_name": "LayoutModel",
            "_view_count": null,
            "_view_module": "@jupyter-widgets/base",
            "_view_module_version": "1.2.0",
            "_view_name": "LayoutView",
            "align_content": null,
            "align_items": null,
            "align_self": null,
            "border": null,
            "bottom": null,
            "display": null,
            "flex": null,
            "flex_flow": null,
            "grid_area": null,
            "grid_auto_columns": null,
            "grid_auto_flow": null,
            "grid_auto_rows": null,
            "grid_column": null,
            "grid_gap": null,
            "grid_row": null,
            "grid_template_areas": null,
            "grid_template_columns": null,
            "grid_template_rows": null,
            "height": null,
            "justify_content": null,
            "justify_items": null,
            "left": null,
            "margin": null,
            "max_height": null,
            "max_width": null,
            "min_height": null,
            "min_width": null,
            "object_fit": null,
            "object_position": null,
            "order": null,
            "overflow": null,
            "overflow_x": null,
            "overflow_y": null,
            "padding": null,
            "right": null,
            "top": null,
            "visibility": null,
            "width": null
          }
        },
        "c536bb3d6e484cefbe072c6c20384de7": {
          "model_module": "@jupyter-widgets/base",
          "model_module_version": "1.2.0",
          "model_name": "LayoutModel",
          "state": {
            "_model_module": "@jupyter-widgets/base",
            "_model_module_version": "1.2.0",
            "_model_name": "LayoutModel",
            "_view_count": null,
            "_view_module": "@jupyter-widgets/base",
            "_view_module_version": "1.2.0",
            "_view_name": "LayoutView",
            "align_content": null,
            "align_items": null,
            "align_self": null,
            "border": null,
            "bottom": null,
            "display": null,
            "flex": null,
            "flex_flow": null,
            "grid_area": null,
            "grid_auto_columns": null,
            "grid_auto_flow": null,
            "grid_auto_rows": null,
            "grid_column": null,
            "grid_gap": null,
            "grid_row": null,
            "grid_template_areas": null,
            "grid_template_columns": null,
            "grid_template_rows": null,
            "height": null,
            "justify_content": null,
            "justify_items": null,
            "left": null,
            "margin": null,
            "max_height": null,
            "max_width": null,
            "min_height": null,
            "min_width": null,
            "object_fit": null,
            "object_position": null,
            "order": null,
            "overflow": null,
            "overflow_x": null,
            "overflow_y": null,
            "padding": null,
            "right": null,
            "top": null,
            "visibility": null,
            "width": null
          }
        },
        "c5b05f9e4b684255af003b4035ce5d1d": {
          "model_module": "@jupyter-widgets/controls",
          "model_module_version": "1.5.0",
          "model_name": "FloatProgressModel",
          "state": {
            "_dom_classes": [],
            "_model_module": "@jupyter-widgets/controls",
            "_model_module_version": "1.5.0",
            "_model_name": "FloatProgressModel",
            "_view_count": null,
            "_view_module": "@jupyter-widgets/controls",
            "_view_module_version": "1.5.0",
            "_view_name": "ProgressView",
            "bar_style": "success",
            "description": "",
            "description_tooltip": null,
            "layout": "IPY_MODEL_7be1f6bb3eeb4bc392a52b90fefc63bd",
            "max": 184,
            "min": 0,
            "orientation": "horizontal",
            "style": "IPY_MODEL_20a51bd5c45c47b7966de2e725799019",
            "value": 184
          }
        },
        "c74be20c53d341d8bdc68fbfbbcd5e0a": {
          "model_module": "@jupyter-widgets/base",
          "model_module_version": "1.2.0",
          "model_name": "LayoutModel",
          "state": {
            "_model_module": "@jupyter-widgets/base",
            "_model_module_version": "1.2.0",
            "_model_name": "LayoutModel",
            "_view_count": null,
            "_view_module": "@jupyter-widgets/base",
            "_view_module_version": "1.2.0",
            "_view_name": "LayoutView",
            "align_content": null,
            "align_items": null,
            "align_self": null,
            "border": null,
            "bottom": null,
            "display": null,
            "flex": null,
            "flex_flow": null,
            "grid_area": null,
            "grid_auto_columns": null,
            "grid_auto_flow": null,
            "grid_auto_rows": null,
            "grid_column": null,
            "grid_gap": null,
            "grid_row": null,
            "grid_template_areas": null,
            "grid_template_columns": null,
            "grid_template_rows": null,
            "height": null,
            "justify_content": null,
            "justify_items": null,
            "left": null,
            "margin": null,
            "max_height": null,
            "max_width": null,
            "min_height": null,
            "min_width": null,
            "object_fit": null,
            "object_position": null,
            "order": null,
            "overflow": null,
            "overflow_x": null,
            "overflow_y": null,
            "padding": null,
            "right": null,
            "top": null,
            "visibility": null,
            "width": null
          }
        },
        "c7ac24e814ab4590b0c16ed02f807e3d": {
          "model_module": "@jupyter-widgets/controls",
          "model_module_version": "1.5.0",
          "model_name": "DescriptionStyleModel",
          "state": {
            "_model_module": "@jupyter-widgets/controls",
            "_model_module_version": "1.5.0",
            "_model_name": "DescriptionStyleModel",
            "_view_count": null,
            "_view_module": "@jupyter-widgets/base",
            "_view_module_version": "1.2.0",
            "_view_name": "StyleView",
            "description_width": ""
          }
        },
        "ca3245d0f01b4178b790bedbb3d4d8cf": {
          "model_module": "@jupyter-widgets/base",
          "model_module_version": "1.2.0",
          "model_name": "LayoutModel",
          "state": {
            "_model_module": "@jupyter-widgets/base",
            "_model_module_version": "1.2.0",
            "_model_name": "LayoutModel",
            "_view_count": null,
            "_view_module": "@jupyter-widgets/base",
            "_view_module_version": "1.2.0",
            "_view_name": "LayoutView",
            "align_content": null,
            "align_items": null,
            "align_self": null,
            "border": null,
            "bottom": null,
            "display": null,
            "flex": null,
            "flex_flow": null,
            "grid_area": null,
            "grid_auto_columns": null,
            "grid_auto_flow": null,
            "grid_auto_rows": null,
            "grid_column": null,
            "grid_gap": null,
            "grid_row": null,
            "grid_template_areas": null,
            "grid_template_columns": null,
            "grid_template_rows": null,
            "height": null,
            "justify_content": null,
            "justify_items": null,
            "left": null,
            "margin": null,
            "max_height": null,
            "max_width": null,
            "min_height": null,
            "min_width": null,
            "object_fit": null,
            "object_position": null,
            "order": null,
            "overflow": null,
            "overflow_x": null,
            "overflow_y": null,
            "padding": null,
            "right": null,
            "top": null,
            "visibility": null,
            "width": null
          }
        },
        "ccd4926ffdbc4fca975257890dd57140": {
          "model_module": "@jupyter-widgets/controls",
          "model_module_version": "1.5.0",
          "model_name": "HTMLModel",
          "state": {
            "_dom_classes": [],
            "_model_module": "@jupyter-widgets/controls",
            "_model_module_version": "1.5.0",
            "_model_name": "HTMLModel",
            "_view_count": null,
            "_view_module": "@jupyter-widgets/controls",
            "_view_module_version": "1.5.0",
            "_view_name": "HTMLView",
            "description": "",
            "description_tooltip": null,
            "layout": "IPY_MODEL_425c97663b9c4e3e94722cd9bde6da1c",
            "placeholder": "​",
            "style": "IPY_MODEL_8809c5f8734e4c9998208cd53059dd35",
            "value": " 4/4 [00:18&lt;00:00,  3.81s/it]"
          }
        },
        "cd31f4c93c264a5f8a6747dd0f3ef746": {
          "model_module": "@jupyter-widgets/base",
          "model_module_version": "1.2.0",
          "model_name": "LayoutModel",
          "state": {
            "_model_module": "@jupyter-widgets/base",
            "_model_module_version": "1.2.0",
            "_model_name": "LayoutModel",
            "_view_count": null,
            "_view_module": "@jupyter-widgets/base",
            "_view_module_version": "1.2.0",
            "_view_name": "LayoutView",
            "align_content": null,
            "align_items": null,
            "align_self": null,
            "border": null,
            "bottom": null,
            "display": null,
            "flex": null,
            "flex_flow": null,
            "grid_area": null,
            "grid_auto_columns": null,
            "grid_auto_flow": null,
            "grid_auto_rows": null,
            "grid_column": null,
            "grid_gap": null,
            "grid_row": null,
            "grid_template_areas": null,
            "grid_template_columns": null,
            "grid_template_rows": null,
            "height": null,
            "justify_content": null,
            "justify_items": null,
            "left": null,
            "margin": null,
            "max_height": null,
            "max_width": null,
            "min_height": null,
            "min_width": null,
            "object_fit": null,
            "object_position": null,
            "order": null,
            "overflow": null,
            "overflow_x": null,
            "overflow_y": null,
            "padding": null,
            "right": null,
            "top": null,
            "visibility": null,
            "width": null
          }
        },
        "cd6796755b634cff97e218c84f8a3ab1": {
          "model_module": "@jupyter-widgets/controls",
          "model_module_version": "1.5.0",
          "model_name": "DescriptionStyleModel",
          "state": {
            "_model_module": "@jupyter-widgets/controls",
            "_model_module_version": "1.5.0",
            "_model_name": "DescriptionStyleModel",
            "_view_count": null,
            "_view_module": "@jupyter-widgets/base",
            "_view_module_version": "1.2.0",
            "_view_name": "StyleView",
            "description_width": ""
          }
        },
        "cdd781e4472f4187a7a1d48246ade7f0": {
          "model_module": "@jupyter-widgets/controls",
          "model_module_version": "1.5.0",
          "model_name": "ProgressStyleModel",
          "state": {
            "_model_module": "@jupyter-widgets/controls",
            "_model_module_version": "1.5.0",
            "_model_name": "ProgressStyleModel",
            "_view_count": null,
            "_view_module": "@jupyter-widgets/base",
            "_view_module_version": "1.2.0",
            "_view_name": "StyleView",
            "bar_color": null,
            "description_width": ""
          }
        },
        "cf5bff52c5424ab49e2a3893ab3ce0ef": {
          "model_module": "@jupyter-widgets/base",
          "model_module_version": "1.2.0",
          "model_name": "LayoutModel",
          "state": {
            "_model_module": "@jupyter-widgets/base",
            "_model_module_version": "1.2.0",
            "_model_name": "LayoutModel",
            "_view_count": null,
            "_view_module": "@jupyter-widgets/base",
            "_view_module_version": "1.2.0",
            "_view_name": "LayoutView",
            "align_content": null,
            "align_items": null,
            "align_self": null,
            "border": null,
            "bottom": null,
            "display": null,
            "flex": null,
            "flex_flow": null,
            "grid_area": null,
            "grid_auto_columns": null,
            "grid_auto_flow": null,
            "grid_auto_rows": null,
            "grid_column": null,
            "grid_gap": null,
            "grid_row": null,
            "grid_template_areas": null,
            "grid_template_columns": null,
            "grid_template_rows": null,
            "height": null,
            "justify_content": null,
            "justify_items": null,
            "left": null,
            "margin": null,
            "max_height": null,
            "max_width": null,
            "min_height": null,
            "min_width": null,
            "object_fit": null,
            "object_position": null,
            "order": null,
            "overflow": null,
            "overflow_x": null,
            "overflow_y": null,
            "padding": null,
            "right": null,
            "top": null,
            "visibility": null,
            "width": null
          }
        },
        "d19822b55baa41f99e9f058890e0ac2b": {
          "model_module": "@jupyter-widgets/controls",
          "model_module_version": "1.5.0",
          "model_name": "DescriptionStyleModel",
          "state": {
            "_model_module": "@jupyter-widgets/controls",
            "_model_module_version": "1.5.0",
            "_model_name": "DescriptionStyleModel",
            "_view_count": null,
            "_view_module": "@jupyter-widgets/base",
            "_view_module_version": "1.2.0",
            "_view_name": "StyleView",
            "description_width": ""
          }
        },
        "d1e84eb2160e425882cf1b62aed301f0": {
          "model_module": "@jupyter-widgets/controls",
          "model_module_version": "1.5.0",
          "model_name": "ProgressStyleModel",
          "state": {
            "_model_module": "@jupyter-widgets/controls",
            "_model_module_version": "1.5.0",
            "_model_name": "ProgressStyleModel",
            "_view_count": null,
            "_view_module": "@jupyter-widgets/base",
            "_view_module_version": "1.2.0",
            "_view_name": "StyleView",
            "bar_color": null,
            "description_width": ""
          }
        },
        "d2f31225993e45a580cc23261b0b7720": {
          "model_module": "@jupyter-widgets/controls",
          "model_module_version": "1.5.0",
          "model_name": "DescriptionStyleModel",
          "state": {
            "_model_module": "@jupyter-widgets/controls",
            "_model_module_version": "1.5.0",
            "_model_name": "DescriptionStyleModel",
            "_view_count": null,
            "_view_module": "@jupyter-widgets/base",
            "_view_module_version": "1.2.0",
            "_view_name": "StyleView",
            "description_width": ""
          }
        },
        "d68bc92c2aee4d0c80b78ae6b25ed150": {
          "model_module": "@jupyter-widgets/controls",
          "model_module_version": "1.5.0",
          "model_name": "DescriptionStyleModel",
          "state": {
            "_model_module": "@jupyter-widgets/controls",
            "_model_module_version": "1.5.0",
            "_model_name": "DescriptionStyleModel",
            "_view_count": null,
            "_view_module": "@jupyter-widgets/base",
            "_view_module_version": "1.2.0",
            "_view_name": "StyleView",
            "description_width": ""
          }
        },
        "d6b0545a70eb4f559194db6dd16b6c39": {
          "model_module": "@jupyter-widgets/controls",
          "model_module_version": "1.5.0",
          "model_name": "HTMLModel",
          "state": {
            "_dom_classes": [],
            "_model_module": "@jupyter-widgets/controls",
            "_model_module_version": "1.5.0",
            "_model_name": "HTMLModel",
            "_view_count": null,
            "_view_module": "@jupyter-widgets/controls",
            "_view_module_version": "1.5.0",
            "_view_name": "HTMLView",
            "description": "",
            "description_tooltip": null,
            "layout": "IPY_MODEL_044d9c9ea44a4bb3989fc3c2ab8c004c",
            "placeholder": "​",
            "style": "IPY_MODEL_23a62ceea61743f0bc7b36d8526be281",
            "value": "model-00004-of-00004.safetensors: 100%"
          }
        },
        "d97285e8cdd24e0f9ee4b86e50f5f3d1": {
          "model_module": "@jupyter-widgets/controls",
          "model_module_version": "1.5.0",
          "model_name": "HTMLModel",
          "state": {
            "_dom_classes": [],
            "_model_module": "@jupyter-widgets/controls",
            "_model_module_version": "1.5.0",
            "_model_name": "HTMLModel",
            "_view_count": null,
            "_view_module": "@jupyter-widgets/controls",
            "_view_module_version": "1.5.0",
            "_view_name": "HTMLView",
            "description": "",
            "description_tooltip": null,
            "layout": "IPY_MODEL_4738f0a9471f4ea78b5b39da1066f857",
            "placeholder": "​",
            "style": "IPY_MODEL_cd6796755b634cff97e218c84f8a3ab1",
            "value": " 5.00G/5.00G [01:26&lt;00:00, 191MB/s]"
          }
        },
        "d98290381a924eea8bd163e9583dd682": {
          "model_module": "@jupyter-widgets/controls",
          "model_module_version": "1.5.0",
          "model_name": "FloatProgressModel",
          "state": {
            "_dom_classes": [],
            "_model_module": "@jupyter-widgets/controls",
            "_model_module_version": "1.5.0",
            "_model_name": "FloatProgressModel",
            "_view_count": null,
            "_view_module": "@jupyter-widgets/controls",
            "_view_module_version": "1.5.0",
            "_view_name": "ProgressView",
            "bar_style": "success",
            "description": "",
            "description_tooltip": null,
            "layout": "IPY_MODEL_b5196e39604d4063814f99eee7bd28f5",
            "max": 4976698672,
            "min": 0,
            "orientation": "horizontal",
            "style": "IPY_MODEL_70487ff67bc14950b82001fea2904859",
            "value": 4976698672
          }
        },
        "ddce990b87f34961ad90fa6f2aaa46cd": {
          "model_module": "@jupyter-widgets/base",
          "model_module_version": "1.2.0",
          "model_name": "LayoutModel",
          "state": {
            "_model_module": "@jupyter-widgets/base",
            "_model_module_version": "1.2.0",
            "_model_name": "LayoutModel",
            "_view_count": null,
            "_view_module": "@jupyter-widgets/base",
            "_view_module_version": "1.2.0",
            "_view_name": "LayoutView",
            "align_content": null,
            "align_items": null,
            "align_self": null,
            "border": null,
            "bottom": null,
            "display": null,
            "flex": null,
            "flex_flow": null,
            "grid_area": null,
            "grid_auto_columns": null,
            "grid_auto_flow": null,
            "grid_auto_rows": null,
            "grid_column": null,
            "grid_gap": null,
            "grid_row": null,
            "grid_template_areas": null,
            "grid_template_columns": null,
            "grid_template_rows": null,
            "height": null,
            "justify_content": null,
            "justify_items": null,
            "left": null,
            "margin": null,
            "max_height": null,
            "max_width": null,
            "min_height": null,
            "min_width": null,
            "object_fit": null,
            "object_position": null,
            "order": null,
            "overflow": null,
            "overflow_x": null,
            "overflow_y": null,
            "padding": null,
            "right": null,
            "top": null,
            "visibility": null,
            "width": null
          }
        },
        "dea77f0cfe9f4b6887f5a7454277284b": {
          "model_module": "@jupyter-widgets/controls",
          "model_module_version": "1.5.0",
          "model_name": "HBoxModel",
          "state": {
            "_dom_classes": [],
            "_model_module": "@jupyter-widgets/controls",
            "_model_module_version": "1.5.0",
            "_model_name": "HBoxModel",
            "_view_count": null,
            "_view_module": "@jupyter-widgets/controls",
            "_view_module_version": "1.5.0",
            "_view_name": "HBoxView",
            "box_style": "",
            "children": [
              "IPY_MODEL_838078dca1b24931aafd1fab2dc85842",
              "IPY_MODEL_1e4ca0ba91984cce949cb78a890a6147",
              "IPY_MODEL_8db8505f8ba6444faaf5ae3b913bdf58"
            ],
            "layout": "IPY_MODEL_ddce990b87f34961ad90fa6f2aaa46cd"
          }
        },
        "df22a775477a46108a4c82bad742f04a": {
          "model_module": "@jupyter-widgets/controls",
          "model_module_version": "1.5.0",
          "model_name": "DescriptionStyleModel",
          "state": {
            "_model_module": "@jupyter-widgets/controls",
            "_model_module_version": "1.5.0",
            "_model_name": "DescriptionStyleModel",
            "_view_count": null,
            "_view_module": "@jupyter-widgets/base",
            "_view_module_version": "1.2.0",
            "_view_name": "StyleView",
            "description_width": ""
          }
        },
        "e127a8e4ccde492eb3cbb2d1aa5957d3": {
          "model_module": "@jupyter-widgets/controls",
          "model_module_version": "1.5.0",
          "model_name": "DescriptionStyleModel",
          "state": {
            "_model_module": "@jupyter-widgets/controls",
            "_model_module_version": "1.5.0",
            "_model_name": "DescriptionStyleModel",
            "_view_count": null,
            "_view_module": "@jupyter-widgets/base",
            "_view_module_version": "1.2.0",
            "_view_name": "StyleView",
            "description_width": ""
          }
        },
        "e172615e815f44c2910e26a2d4cc348e": {
          "model_module": "@jupyter-widgets/base",
          "model_module_version": "1.2.0",
          "model_name": "LayoutModel",
          "state": {
            "_model_module": "@jupyter-widgets/base",
            "_model_module_version": "1.2.0",
            "_model_name": "LayoutModel",
            "_view_count": null,
            "_view_module": "@jupyter-widgets/base",
            "_view_module_version": "1.2.0",
            "_view_name": "LayoutView",
            "align_content": null,
            "align_items": null,
            "align_self": null,
            "border": null,
            "bottom": null,
            "display": null,
            "flex": null,
            "flex_flow": null,
            "grid_area": null,
            "grid_auto_columns": null,
            "grid_auto_flow": null,
            "grid_auto_rows": null,
            "grid_column": null,
            "grid_gap": null,
            "grid_row": null,
            "grid_template_areas": null,
            "grid_template_columns": null,
            "grid_template_rows": null,
            "height": null,
            "justify_content": null,
            "justify_items": null,
            "left": null,
            "margin": null,
            "max_height": null,
            "max_width": null,
            "min_height": null,
            "min_width": null,
            "object_fit": null,
            "object_position": null,
            "order": null,
            "overflow": null,
            "overflow_x": null,
            "overflow_y": null,
            "padding": null,
            "right": null,
            "top": null,
            "visibility": null,
            "width": null
          }
        },
        "e60321b587f44b1289b461d701c26173": {
          "model_module": "@jupyter-widgets/controls",
          "model_module_version": "1.5.0",
          "model_name": "HTMLModel",
          "state": {
            "_dom_classes": [],
            "_model_module": "@jupyter-widgets/controls",
            "_model_module_version": "1.5.0",
            "_model_name": "HTMLModel",
            "_view_count": null,
            "_view_module": "@jupyter-widgets/controls",
            "_view_module_version": "1.5.0",
            "_view_name": "HTMLView",
            "description": "",
            "description_tooltip": null,
            "layout": "IPY_MODEL_f2db25c3341141288ea7abcdd594ade2",
            "placeholder": "​",
            "style": "IPY_MODEL_df22a775477a46108a4c82bad742f04a",
            "value": " 55.4k/55.4k [00:00&lt;00:00, 6.18MB/s]"
          }
        },
        "e8f9c764ab3746f7849fc4b1147984c8": {
          "model_module": "@jupyter-widgets/controls",
          "model_module_version": "1.5.0",
          "model_name": "HBoxModel",
          "state": {
            "_dom_classes": [],
            "_model_module": "@jupyter-widgets/controls",
            "_model_module_version": "1.5.0",
            "_model_name": "HBoxModel",
            "_view_count": null,
            "_view_module": "@jupyter-widgets/controls",
            "_view_module_version": "1.5.0",
            "_view_name": "HBoxView",
            "box_style": "",
            "children": [
              "IPY_MODEL_b6431a613a4041b68924023dc69ceaf0",
              "IPY_MODEL_62fb444fc369484fbc3c860ae5ba569a",
              "IPY_MODEL_95416b42a11d4d51ab22e2afb26e7cb5"
            ],
            "layout": "IPY_MODEL_6d47094135a048d88b00293458cf25cf"
          }
        },
        "e8fc7328752d41f69e62e67fd3f13f47": {
          "model_module": "@jupyter-widgets/controls",
          "model_module_version": "1.5.0",
          "model_name": "FloatProgressModel",
          "state": {
            "_dom_classes": [],
            "_model_module": "@jupyter-widgets/controls",
            "_model_module_version": "1.5.0",
            "_model_name": "FloatProgressModel",
            "_view_count": null,
            "_view_module": "@jupyter-widgets/controls",
            "_view_module_version": "1.5.0",
            "_view_name": "ProgressView",
            "bar_style": "success",
            "description": "",
            "description_tooltip": null,
            "layout": "IPY_MODEL_a87ed9b040cf4cab9aba47b92d7486fa",
            "max": 23950,
            "min": 0,
            "orientation": "horizontal",
            "style": "IPY_MODEL_9a5df583260340efae0b715653470112",
            "value": 23950
          }
        },
        "eb65d86638294d57bc197474bb343ebd": {
          "model_module": "@jupyter-widgets/base",
          "model_module_version": "1.2.0",
          "model_name": "LayoutModel",
          "state": {
            "_model_module": "@jupyter-widgets/base",
            "_model_module_version": "1.2.0",
            "_model_name": "LayoutModel",
            "_view_count": null,
            "_view_module": "@jupyter-widgets/base",
            "_view_module_version": "1.2.0",
            "_view_name": "LayoutView",
            "align_content": null,
            "align_items": null,
            "align_self": null,
            "border": null,
            "bottom": null,
            "display": null,
            "flex": null,
            "flex_flow": null,
            "grid_area": null,
            "grid_auto_columns": null,
            "grid_auto_flow": null,
            "grid_auto_rows": null,
            "grid_column": null,
            "grid_gap": null,
            "grid_row": null,
            "grid_template_areas": null,
            "grid_template_columns": null,
            "grid_template_rows": null,
            "height": null,
            "justify_content": null,
            "justify_items": null,
            "left": null,
            "margin": null,
            "max_height": null,
            "max_width": null,
            "min_height": null,
            "min_width": null,
            "object_fit": null,
            "object_position": null,
            "order": null,
            "overflow": null,
            "overflow_x": null,
            "overflow_y": null,
            "padding": null,
            "right": null,
            "top": null,
            "visibility": null,
            "width": null
          }
        },
        "ebeffd05f6784d2583af89cffdcca886": {
          "model_module": "@jupyter-widgets/controls",
          "model_module_version": "1.5.0",
          "model_name": "HBoxModel",
          "state": {
            "_dom_classes": [],
            "_model_module": "@jupyter-widgets/controls",
            "_model_module_version": "1.5.0",
            "_model_name": "HBoxModel",
            "_view_count": null,
            "_view_module": "@jupyter-widgets/controls",
            "_view_module_version": "1.5.0",
            "_view_name": "HBoxView",
            "box_style": "",
            "children": [
              "IPY_MODEL_0702e250a5b54cf7b310e8f1fb3cb5ad",
              "IPY_MODEL_155300b7d6de44c5a88ff427ab23bd05",
              "IPY_MODEL_124096b1d068427d8a2a91944cde757f"
            ],
            "layout": "IPY_MODEL_c74be20c53d341d8bdc68fbfbbcd5e0a"
          }
        },
        "f2db25c3341141288ea7abcdd594ade2": {
          "model_module": "@jupyter-widgets/base",
          "model_module_version": "1.2.0",
          "model_name": "LayoutModel",
          "state": {
            "_model_module": "@jupyter-widgets/base",
            "_model_module_version": "1.2.0",
            "_model_name": "LayoutModel",
            "_view_count": null,
            "_view_module": "@jupyter-widgets/base",
            "_view_module_version": "1.2.0",
            "_view_name": "LayoutView",
            "align_content": null,
            "align_items": null,
            "align_self": null,
            "border": null,
            "bottom": null,
            "display": null,
            "flex": null,
            "flex_flow": null,
            "grid_area": null,
            "grid_auto_columns": null,
            "grid_auto_flow": null,
            "grid_auto_rows": null,
            "grid_column": null,
            "grid_gap": null,
            "grid_row": null,
            "grid_template_areas": null,
            "grid_template_columns": null,
            "grid_template_rows": null,
            "height": null,
            "justify_content": null,
            "justify_items": null,
            "left": null,
            "margin": null,
            "max_height": null,
            "max_width": null,
            "min_height": null,
            "min_width": null,
            "object_fit": null,
            "object_position": null,
            "order": null,
            "overflow": null,
            "overflow_x": null,
            "overflow_y": null,
            "padding": null,
            "right": null,
            "top": null,
            "visibility": null,
            "width": null
          }
        },
        "f53161a954174ffaada9a5dfd5c1682e": {
          "model_module": "@jupyter-widgets/controls",
          "model_module_version": "1.5.0",
          "model_name": "HTMLModel",
          "state": {
            "_dom_classes": [],
            "_model_module": "@jupyter-widgets/controls",
            "_model_module_version": "1.5.0",
            "_model_name": "HTMLModel",
            "_view_count": null,
            "_view_module": "@jupyter-widgets/controls",
            "_view_module_version": "1.5.0",
            "_view_name": "HTMLView",
            "description": "",
            "description_tooltip": null,
            "layout": "IPY_MODEL_1a0c119a2d6b45e7a27ff1c0a2d267dc",
            "placeholder": "​",
            "style": "IPY_MODEL_e127a8e4ccde492eb3cbb2d1aa5957d3",
            "value": "Fetching 4 files: 100%"
          }
        },
        "f6a0945dea76439fb8969268a5db96fc": {
          "model_module": "@jupyter-widgets/controls",
          "model_module_version": "1.5.0",
          "model_name": "HTMLModel",
          "state": {
            "_dom_classes": [],
            "_model_module": "@jupyter-widgets/controls",
            "_model_module_version": "1.5.0",
            "_model_name": "HTMLModel",
            "_view_count": null,
            "_view_module": "@jupyter-widgets/controls",
            "_view_module_version": "1.5.0",
            "_view_name": "HTMLView",
            "description": "",
            "description_tooltip": null,
            "layout": "IPY_MODEL_25321f742ebe4beb834703225cc4ccb6",
            "placeholder": "​",
            "style": "IPY_MODEL_274e77617c054666acb39dcee4d972ec",
            "value": "model-00002-of-00004.safetensors: 100%"
          }
        },
        "f6ac3cdf05c5423480a4cbe3ad0cb857": {
          "model_module": "@jupyter-widgets/base",
          "model_module_version": "1.2.0",
          "model_name": "LayoutModel",
          "state": {
            "_model_module": "@jupyter-widgets/base",
            "_model_module_version": "1.2.0",
            "_model_name": "LayoutModel",
            "_view_count": null,
            "_view_module": "@jupyter-widgets/base",
            "_view_module_version": "1.2.0",
            "_view_name": "LayoutView",
            "align_content": null,
            "align_items": null,
            "align_self": null,
            "border": null,
            "bottom": null,
            "display": null,
            "flex": null,
            "flex_flow": null,
            "grid_area": null,
            "grid_auto_columns": null,
            "grid_auto_flow": null,
            "grid_auto_rows": null,
            "grid_column": null,
            "grid_gap": null,
            "grid_row": null,
            "grid_template_areas": null,
            "grid_template_columns": null,
            "grid_template_rows": null,
            "height": null,
            "justify_content": null,
            "justify_items": null,
            "left": null,
            "margin": null,
            "max_height": null,
            "max_width": null,
            "min_height": null,
            "min_width": null,
            "object_fit": null,
            "object_position": null,
            "order": null,
            "overflow": null,
            "overflow_x": null,
            "overflow_y": null,
            "padding": null,
            "right": null,
            "top": null,
            "visibility": null,
            "width": null
          }
        },
        "f72da069dd044a5d8c757846dce41744": {
          "model_module": "@jupyter-widgets/controls",
          "model_module_version": "1.5.0",
          "model_name": "FloatProgressModel",
          "state": {
            "_dom_classes": [],
            "_model_module": "@jupyter-widgets/controls",
            "_model_module_version": "1.5.0",
            "_model_name": "FloatProgressModel",
            "_view_count": null,
            "_view_module": "@jupyter-widgets/controls",
            "_view_module_version": "1.5.0",
            "_view_name": "ProgressView",
            "bar_style": "success",
            "description": "",
            "description_tooltip": null,
            "layout": "IPY_MODEL_e172615e815f44c2910e26a2d4cc348e",
            "max": 1168138808,
            "min": 0,
            "orientation": "horizontal",
            "style": "IPY_MODEL_a503f0608d6c4b9f9a99c9b40362b08a",
            "value": 1168138808
          }
        },
        "ffabc17a0e3c4e93805a2dc62fb6b70b": {
          "model_module": "@jupyter-widgets/base",
          "model_module_version": "1.2.0",
          "model_name": "LayoutModel",
          "state": {
            "_model_module": "@jupyter-widgets/base",
            "_model_module_version": "1.2.0",
            "_model_name": "LayoutModel",
            "_view_count": null,
            "_view_module": "@jupyter-widgets/base",
            "_view_module_version": "1.2.0",
            "_view_name": "LayoutView",
            "align_content": null,
            "align_items": null,
            "align_self": null,
            "border": null,
            "bottom": null,
            "display": null,
            "flex": null,
            "flex_flow": null,
            "grid_area": null,
            "grid_auto_columns": null,
            "grid_auto_flow": null,
            "grid_auto_rows": null,
            "grid_column": null,
            "grid_gap": null,
            "grid_row": null,
            "grid_template_areas": null,
            "grid_template_columns": null,
            "grid_template_rows": null,
            "height": null,
            "justify_content": null,
            "justify_items": null,
            "left": null,
            "margin": null,
            "max_height": null,
            "max_width": null,
            "min_height": null,
            "min_width": null,
            "object_fit": null,
            "object_position": null,
            "order": null,
            "overflow": null,
            "overflow_x": null,
            "overflow_y": null,
            "padding": null,
            "right": null,
            "top": null,
            "visibility": null,
            "width": null
          }
        }
      }
    }
  },
  "nbformat": 4,
  "nbformat_minor": 0
}
