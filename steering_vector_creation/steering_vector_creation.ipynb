{
  "cells": [
    {
      "cell_type": "markdown",
      "metadata": {},
      "source": [
        "### Explanation of Setup\n",
        "\n",
        "These next two blocks together ensure that all necessary packages are installed, environment variables are loaded, and the LLaMA-3.1-8B model (along with its tokenizer) is initialized in an 8-bit quantized form. The first block installs `bitsandbytes` and `python-dotenv`, then imports the core libraries, `dotenv` to read our `HF_TOKEN` from a `.env` file, PyTorch for tensor operations, `tqdm` for progress bars, and the Hugging Face utilities for loading a quantized model.  \n",
        "\n",
        "The second block reads `HF_TOKEN` from the environment, configures 8-bit quantization via `BitsAndBytesConfig`, and actually downloads and prepares the LLaMA-3.1-8B tokenizer and model. Finally, it sets up padding tokens if needed, switches the model into evaluation mode, and records the number of layers and hidden-state dimension so that later code can build and manipulate steering-vector accumulators.\n"
      ]
    },
    {
      "cell_type": "code",
      "execution_count": 1,
      "metadata": {
        "colab": {
          "base_uri": "https://localhost:8080/"
        },
        "id": "dCsDypY6HZ8e",
        "outputId": "dc8066fe-08a6-438a-eddd-8090dab6056f"
      },
      "outputs": [
        {
          "name": "stdout",
          "output_type": "stream",
          "text": [
            "\u001b[2K   \u001b[90m━━━━━━━━━━━━━━━━━━━━━━━━━━━━━━━━━━━━━━━━\u001b[0m \u001b[32m67.0/67.0 MB\u001b[0m \u001b[31m34.2 MB/s\u001b[0m eta \u001b[36m0:00:00\u001b[0m\n",
            "\u001b[2K   \u001b[90m━━━━━━━━━━━━━━━━━━━━━━━━━━━━━━━━━━━━━━━━\u001b[0m \u001b[32m363.4/363.4 MB\u001b[0m \u001b[31m2.8 MB/s\u001b[0m eta \u001b[36m0:00:00\u001b[0m\n",
            "\u001b[2K   \u001b[90m━━━━━━━━━━━━━━━━━━━━━━━━━━━━━━━━━━━━━━━━\u001b[0m \u001b[32m13.8/13.8 MB\u001b[0m \u001b[31m74.6 MB/s\u001b[0m eta \u001b[36m0:00:00\u001b[0m\n",
            "\u001b[2K   \u001b[90m━━━━━━━━━━━━━━━━━━━━━━━━━━━━━━━━━━━━━━━━\u001b[0m \u001b[32m24.6/24.6 MB\u001b[0m \u001b[31m85.8 MB/s\u001b[0m eta \u001b[36m0:00:00\u001b[0m\n",
            "\u001b[2K   \u001b[90m━━━━━━━━━━━━━━━━━━━━━━━━━━━━━━━━━━━━━━━━\u001b[0m \u001b[32m883.7/883.7 kB\u001b[0m \u001b[31m46.9 MB/s\u001b[0m eta \u001b[36m0:00:00\u001b[0m\n",
            "\u001b[2K   \u001b[90m━━━━━━━━━━━━━━━━━━━━━━━━━━━━━━━━━━━━━━━━\u001b[0m \u001b[32m664.8/664.8 MB\u001b[0m \u001b[31m1.7 MB/s\u001b[0m eta \u001b[36m0:00:00\u001b[0m\n",
            "\u001b[2K   \u001b[90m━━━━━━━━━━━━━━━━━━━━━━━━━━━━━━━━━━━━━━━━\u001b[0m \u001b[32m211.5/211.5 MB\u001b[0m \u001b[31m11.5 MB/s\u001b[0m eta \u001b[36m0:00:00\u001b[0m\n",
            "\u001b[2K   \u001b[90m━━━━━━━━━━━━━━━━━━━━━━━━━━━━━━━━━━━━━━━━\u001b[0m \u001b[32m56.3/56.3 MB\u001b[0m \u001b[31m42.7 MB/s\u001b[0m eta \u001b[36m0:00:00\u001b[0m\n",
            "\u001b[2K   \u001b[90m━━━━━━━━━━━━━━━━━━━━━━━━━━━━━━━━━━━━━━━━\u001b[0m \u001b[32m127.9/127.9 MB\u001b[0m \u001b[31m19.1 MB/s\u001b[0m eta \u001b[36m0:00:00\u001b[0m\n",
            "\u001b[2K   \u001b[90m━━━━━━━━━━━━━━━━━━━━━━━━━━━━━━━━━━━━━━━━\u001b[0m \u001b[32m207.5/207.5 MB\u001b[0m \u001b[31m3.8 MB/s\u001b[0m eta \u001b[36m0:00:00\u001b[0m\n",
            "\u001b[2K   \u001b[90m━━━━━━━━━━━━━━━━━━━━━━━━━━━━━━━━━━━━━━━━\u001b[0m \u001b[32m21.1/21.1 MB\u001b[0m \u001b[31m104.3 MB/s\u001b[0m eta \u001b[36m0:00:00\u001b[0m\n",
            "\u001b[?25h"
          ]
        }
      ],
      "source": [
        "!pip -q install -U bitsandbytes python-dotenv\n",
        "\n",
        "from dotenv import load_dotenv\n",
        "import os\n",
        "import json\n",
        "import pickle\n",
        "import torch\n",
        "from tqdm import tqdm\n",
        "from transformers import AutoTokenizer, AutoModelForCausalLM, BitsAndBytesConfig\n",
        "from collections import defaultdict"
      ]
    },
    {
      "cell_type": "code",
      "execution_count": null,
      "metadata": {
        "colab": {
          "base_uri": "https://localhost:8080/",
          "height": 49,
          "referenced_widgets": [
            "0bc61ab4f952436a939dd88d6d807d67",
            "1e6789972dfc4a7c86c534c798af2c53",
            "f65593664a2045368b4222a9c7a6179c",
            "90bba208638d49dbb333f25974e90ee8",
            "c9f50348c6f94090bed18d2ed47fbd8e",
            "7be4cccb457b4a1ab23153dd76f16ee8",
            "a2db30416a3a4ccea1c80434922d50ed",
            "bc3395916738413b85bb8b2c33f848a2",
            "de13cd11430b488bbd1507957d87a0b0",
            "038ad0026e8c424e8ca29f384d5b770b",
            "37d1462b47534c969f730bd3c4c1e884"
          ]
        },
        "id": "0-YL_yw2UQmy",
        "outputId": "4c593e8f-2f68-4885-8701-b68df5904693"
      },
      "outputs": [],
      "source": [
        "load_dotenv()\n",
        "HF_TOKEN = os.getenv(\"HF_TOKEN\")\n",
        "quant_cfg = BitsAndBytesConfig(load_in_8bit=True)\n",
        "MODEL_ID = \"meta-llama/Llama-3.1-8B-Instruct\"\n",
        "\n",
        "tok   = AutoTokenizer.from_pretrained(MODEL_ID, token=HF_TOKEN)\n",
        "model = AutoModelForCausalLM.from_pretrained(\n",
        "            MODEL_ID,\n",
        "            device_map=\"auto\",\n",
        "            quantization_config=quant_cfg,\n",
        "            token=HF_TOKEN\n",
        "        )\n",
        "\n",
        "if tok.pad_token is None:\n",
        "    tok.pad_token = tok.eos_token\n",
        "    model.resize_token_embeddings(len(tok))\n",
        "model.config.pad_token_id = tok.pad_token_id\n",
        "model.eval()\n",
        "\n",
        "num_layers = model.config.num_hidden_layers\n",
        "hidden_size = model.config.hidden_size"
      ]
    },
    {
      "cell_type": "markdown",
      "metadata": {},
      "source": [
        "### Explanation of Data Loading and Prompt Buckets\n",
        "\n",
        "In the next three blocks, we load the data and create the general data for the vectors we will create later on. We also init basic variables we will use for understandability. In this section, we first open and parse a JSON file (`vector_steering_samples_full_balanced.json`) that contains two lists of records under the keys `\"pos\"` (positive examples) and `\"neg\"` (negative examples). For each record, we extract the `\"forward_prompt\"` and `\"backward_prompt\"` strings into four separate Python lists:\n",
        "\n",
        "- `positive_forward` holds all forward‐direction prompts from the positive examples.\n",
        "- `positive_backward` holds all backward‐direction prompts from the positive examples.\n",
        "- `negative_forward` holds all forward‐direction prompts from the negative examples.\n",
        "- `negative_backward` holds all backward‐direction prompts from the negative examples.\n",
        "\n",
        "Printing the lengths of these lists confirms that we have loaded the correct number of prompts for each category.\n",
        "\n",
        "Next, we define three small sets of paired strings (`yes_no_pairs`, `self_pairs`, and `bias_pairs`) that represent “nuisance” prompt pairs. Each tuple in these lists has a “positive” version and a “negative” counterpart (e.g., `(\"Say Yes\", \"Say No\")` or `(\"Say I\", \"Say Someone\")`). We then concatenate those three lists into a single `nuisance_pairs` list.\n",
        "\n",
        "From `nuisance_pairs`, we unzip into two new lists:\n",
        "\n",
        "- `positive_nuisance_prompts` contains the first element of every pair.\n",
        "- `negative_nuisance_prompts` contains the second element of every pair.\n",
        "\n",
        "Printing their lengths provides a sanity check that we have created the correct number of nuisance prompts. These four buckets (`positive_forward`, `positive_backward`, `negative_forward`, `negative_backward`) and the two nuisance lists (`positive_nuisance_prompts`, `negative_nuisance_prompts`) will be used later to accumulate hidden‐state activations for computing the mean‐difference vectors and the nuisance vectors, respectively.\n"
      ]
    },
    {
      "cell_type": "code",
      "execution_count": 6,
      "metadata": {
        "colab": {
          "base_uri": "https://localhost:8080/"
        },
        "id": "2k83xWjXz3bB",
        "outputId": "26b0fb86-b964-43cb-e5bd-51c7d0cf9bad"
      },
      "outputs": [
        {
          "name": "stdout",
          "output_type": "stream",
          "text": [
            "Positive forward prompts: 155\n",
            "Positive backward prompts: 155\n",
            "Negative forward prompts: 155\n",
            "Negative backward prompts: 155\n"
          ]
        }
      ],
      "source": [
        "with open('datasets/vector_steering_samples_full_balanced.json') as f: data = json.load(f)\n",
        "positive_forward   = [r['forward_prompt']  for r in data['pos']]\n",
        "positive_backward  = [r['backward_prompt'] for r in data['pos']]\n",
        "negative_forward   = [r['forward_prompt']  for r in data['neg']]\n",
        "negative_backward  = [r['backward_prompt'] for r in data['neg']]\n",
        "\n",
        "print(f'Positive forward prompts: {len(positive_forward)}')\n",
        "print(f'Positive backward prompts: {len(positive_backward)}')\n",
        "print(f'Negative forward prompts: {len(negative_forward)}')\n",
        "print(f'Negative backward prompts: {len(negative_backward)}')"
      ]
    },
    {
      "cell_type": "code",
      "execution_count": 7,
      "metadata": {
        "colab": {
          "base_uri": "https://localhost:8080/"
        },
        "id": "7syhHl6bUQmz",
        "outputId": "99c81798-55a3-43e9-a066-79af51e6b5bd"
      },
      "outputs": [
        {
          "name": "stdout",
          "output_type": "stream",
          "text": [
            "Positive nuisance prompts: 19\n",
            "Negative nuisance prompts: 19\n"
          ]
        }
      ],
      "source": [
        "# ─── DEFINE PAIRS CONCISELY AS LIST LITERALS ─────────────────────────────────────\n",
        "yes_no_pairs = [\n",
        "    (\"Say Yes\",           \"Say No\"),\n",
        "    (\"Say 1\",             \"Say 2\"),\n",
        "    (\"Say first option\",  \"Say second option\"),\n",
        "    (\"Say A\",             \"Say B\"),\n",
        "    (\"Say Agree\",         \"Say Disagree\"),\n",
        "]\n",
        "\n",
        "self_pairs = [\n",
        "    (\"Say I\",      \"Say Someone\"),\n",
        "    (\"Say I\",      \"Say He\"),\n",
        "    (\"Say I\",      \"Say She\"),\n",
        "    (\"Say Me\",     \"Say Him\"),\n",
        "    (\"Say Me\",     \"Say Her\"),\n",
        "    (\"Say My\",     \"Say His\"),\n",
        "    (\"Say My\",     \"Say Her\"),\n",
        "    (\"Say Myself\", \"Say Himself\"),\n",
        "    (\"Say Myself\", \"Say Herself\"),\n",
        "    (\"Say Mine\",   \"Say His\"),\n",
        "    (\"Say Mine\",   \"Say Hers\"),\n",
        "]\n",
        "\n",
        "bias_pairs = [\n",
        "    (\"Say Better\", \"Say Worse\"),\n",
        "    (\"Say Clear\",  \"Say Confusing\"),\n",
        "    (\"Say Helpful\",\"Say Useless\"),\n",
        "]\n",
        "\n",
        "nuisance_pairs = yes_no_pairs + self_pairs + bias_pairs\n",
        "\n",
        "positive_nuisance_prompts = [positive for positive, _ in nuisance_pairs]\n",
        "negative_nuisance_prompts = [negative for _, negative in nuisance_pairs]\n",
        "\n",
        "print(f\"Positive nuisance prompts: {len(positive_nuisance_prompts)}\")\n",
        "print(f\"Negative nuisance prompts: {len(negative_nuisance_prompts)}\")"
      ]
    },
    {
      "cell_type": "code",
<<<<<<< HEAD
      "execution_count": 45,
      "metadata": {
        "colab": {
          "base_uri": "https://localhost:8080/"
        },
        "id": "dw45KfjvKXIm",
        "outputId": "aec54cb3-72c8-4dfa-b4c4-ea9b1b7251da"
      },
      "outputs": [
        {
          "name": "stdout",
          "output_type": "stream",
          "text": [
            "Found 155 valid ‘Yes’ rows (non‐empty prompt).\n",
            "Found 155 valid ‘No’ rows (non‐empty prompt).\n",
            "Final balanced DataFrame shape: (310, 5)\n",
            "# Yes: 155 | # No: 155\n",
            "Wrote balanced_inspect_from_meta.csv. Open to verify no empty prompts on any row.\n"
          ]
        }
      ],
      "source": [
        "import pandas as pd\n",
        "import random\n",
        "\n",
        "# ─── Helper function to extract rows from one bucket (pos or neg) ────────────────\n",
        "def gather_rows_from_bucket(bucket_name):\n",
        "    \"\"\"\n",
        "    Inspect meta_prompts[bucket_name]. It may be:\n",
        "      - a dict mapping key → entry_dict\n",
        "      - a list of entry_dicts, each of which must have \"key\"\n",
        "    We return a list of row‐dicts with fields: key, forward_prompt, backward_prompt, label, pref.\n",
        "    \"\"\"\n",
        "    rows = []\n",
        "    bucket = meta_prompts.get(bucket_name, {})\n",
        "\n",
        "    if isinstance(bucket, dict):\n",
        "        # Case A: bucket is a dict: key → entry_dict\n",
        "        for k, entry in bucket.items():\n",
        "            # Each entry should be a dict containing forward/backward prompts\n",
        "            fwd = entry.get(\"forward_prompt\", \"\").strip()\n",
        "            bwd = entry.get(\"backward_prompt\", \"\").strip()\n",
        "            pref = float(entry.get(\"self_preference\", 0.0))\n",
        "\n",
        "            # Skip if both prompts are empty\n",
        "            if not (fwd or bwd):\n",
        "                print(k)\n",
        "                continue\n",
        "\n",
        "            rows.append({\n",
        "                \"key\":             k,\n",
        "                \"forward_prompt\":  fwd,\n",
        "                \"backward_prompt\": bwd,\n",
        "                \"label\":           \"Yes\" if bucket_name == \"pos\" else \"No\",\n",
        "                \"pref\":            pref\n",
        "            })\n",
        "\n",
        "    elif isinstance(bucket, list):\n",
        "        # Case B: bucket is a list of dicts, each with a \"key\" field\n",
        "        for entry in bucket:\n",
        "            if not isinstance(entry, dict): #ISSUE HERE\n",
        "                #print(\"a\")\n",
        "                continue\n",
        "            if \"key\" not in entry:\n",
        "                print(\"b\")\n",
        "                #continue\n",
        "\n",
        "            k   = entry[\"key\"]\n",
        "            fwd = entry.get(\"forward_prompt\", \"\").strip()\n",
        "            bwd = entry.get(\"backward_prompt\", \"\").strip()\n",
        "            pref = float(entry.get(\"self_preference\", 0.0))\n",
        "\n",
        "            if not (fwd or bwd):\n",
        "                print(k)\n",
        "                continue\n",
        "\n",
        "            rows.append({\n",
        "                \"key\":             k,\n",
        "                \"forward_prompt\":  fwd,\n",
        "                \"backward_prompt\": bwd,\n",
        "                \"label\":           \"Yes\" if bucket_name == \"pos\" else \"No\",\n",
        "                \"pref\":            pref\n",
        "            })\n",
        "\n",
        "    else:\n",
        "        # Neither dict nor list ⇒ nothing to gather\n",
        "        pass\n",
        "\n",
        "    return rows\n",
        "\n",
        "# ─── 1) Gather “Yes” rows from meta_prompts[\"pos\"] ─────────────────────────────\n",
        "yes_rows = gather_rows_from_bucket(\"pos\")\n",
        "print(f\"Found {len(yes_rows)} valid ‘Yes’ rows (non‐empty prompt).\")\n",
        "\n",
        "# ─── 2) Gather “No” rows from meta_prompts[\"neg\"] ──────────────────────────────\n",
        "no_rows = gather_rows_from_bucket(\"neg\")\n",
        "print(f\"Found {len(no_rows)} valid ‘No’ rows (non‐empty prompt).\")\n",
        "\n",
        "# ─── 3) Balance sizes by truncating the larger list to the smaller size ─────────\n",
        "n_yes = len(yes_rows)\n",
        "n_no  = len(no_rows)\n",
        "n_keep = min(n_yes, n_no)\n",
        "\n",
        "if n_yes != n_no:\n",
        "    print(f\"Warning: {n_yes} ‘Yes’ rows vs. {n_no} ‘No’ rows. Downsampling to {n_keep} each.\")\n",
        "\n",
        "random.shuffle(yes_rows)\n",
        "random.shuffle(no_rows)\n",
        "yes_rows = yes_rows[:n_keep]\n",
        "no_rows  = no_rows[:n_keep]\n",
        "\n",
        "# ─── 4) Create the DataFrame and shuffle ───────────────────────────────────────\n",
        "balanced = pd.DataFrame(yes_rows + no_rows)\n",
        "balanced = balanced.sample(frac=1, random_state=42).reset_index(drop=True)\n",
        "\n",
        "print(\"Final balanced DataFrame shape:\", balanced.shape)\n",
        "print(\"# Yes:\", (balanced.label == \"Yes\").sum(), \"| # No:\", (balanced.label == \"No\").sum())\n",
        "\n",
        "# ─── 5) (Optional) Export to CSV for inspection ─────────────────────────────────\n",
        "balanced.to_csv(\"balanced_inspect_from_meta.csv\", index=False)\n",
        "print(\"Wrote balanced_inspect_from_meta.csv. Open to verify no empty prompts on any row.\")\n"
      ]
    },
    {
      "cell_type": "code",
      "execution_count": null,
      "metadata": {
        "colab": {
          "base_uri": "https://localhost:8080/"
        },
        "id": "Bwt_VaJIIVvN",
        "outputId": "b4d8248d-0c6f-4d84-d4cf-011ed1207427"
      },
      "outputs": [
        {
          "name": "stderr",
          "output_type": "stream",
          "text": [
            "\r  0%|          | 0/310 [00:00<?, ?it/s]"
          ]
        },
        {
          "name": "stdout",
          "output_type": "stream",
          "text": [
            "\n",
            "Index 0 (No), Layer‐Offset loop:\n",
            "  Last 10 token IDs:      [1, 477, 330, 17, 1, 323, 912, 1023, 1495, 13]\n",
            "  Last 10 token strings:  ['\"', 'Ġor', 'Ġ\"', '2', '\"', 'Ġand', 'Ġno', 'Ġother', 'Ġtext', '.']\n",
            "\n"
          ]
        },
        {
          "name": "stderr",
          "output_type": "stream",
          "text": [
            "\r  0%|          | 1/310 [00:00<01:19,  3.87it/s]"
          ]
        },
        {
          "name": "stdout",
          "output_type": "stream",
          "text": [
            "\n",
            "Index 1 (Yes), Layer‐Offset loop:\n",
            "  Last 10 token IDs:      [1, 477, 330, 17, 1, 323, 912, 1023, 1495, 13]\n",
            "  Last 10 token strings:  ['\"', 'Ġor', 'Ġ\"', '2', '\"', 'Ġand', 'Ġno', 'Ġother', 'Ġtext', '.']\n",
            "\n"
          ]
        },
        {
          "name": "stderr",
          "output_type": "stream",
          "text": [
            "\r  1%|          | 2/310 [00:00<01:21,  3.78it/s]"
          ]
        },
        {
          "name": "stdout",
          "output_type": "stream",
          "text": [
            "\n",
            "Index 2 (Yes), Layer‐Offset loop:\n",
            "  Last 10 token IDs:      [1, 477, 330, 17, 1, 323, 912, 1023, 1495, 13]\n",
            "  Last 10 token strings:  ['\"', 'Ġor', 'Ġ\"', '2', '\"', 'Ġand', 'Ġno', 'Ġother', 'Ġtext', '.']\n",
            "\n"
          ]
        },
        {
          "name": "stderr",
          "output_type": "stream",
          "text": [
            "\r  1%|          | 3/310 [00:00<01:24,  3.65it/s]"
          ]
        },
        {
          "name": "stdout",
          "output_type": "stream",
          "text": [
            "\n",
            "Index 3 (Yes), Layer‐Offset loop:\n",
            "  Last 10 token IDs:      [1, 477, 330, 17, 1, 323, 912, 1023, 1495, 13]\n",
            "  Last 10 token strings:  ['\"', 'Ġor', 'Ġ\"', '2', '\"', 'Ġand', 'Ġno', 'Ġother', 'Ġtext', '.']\n",
            "\n"
          ]
        },
        {
          "name": "stderr",
          "output_type": "stream",
          "text": [
            "\r  1%|▏         | 4/310 [00:01<01:25,  3.59it/s]"
          ]
        },
        {
          "name": "stdout",
          "output_type": "stream",
          "text": [
            "\n",
            "Index 4 (Yes), Layer‐Offset loop:\n",
            "  Last 10 token IDs:      [1, 477, 330, 17, 1, 323, 912, 1023, 1495, 13]\n",
            "  Last 10 token strings:  ['\"', 'Ġor', 'Ġ\"', '2', '\"', 'Ġand', 'Ġno', 'Ġother', 'Ġtext', '.']\n",
            "\n"
          ]
        },
        {
          "name": "stderr",
          "output_type": "stream",
          "text": [
            "\r  2%|▏         | 5/310 [00:01<01:23,  3.66it/s]"
          ]
        },
        {
          "name": "stdout",
          "output_type": "stream",
          "text": [
            "\n",
            "Index 5 (Yes), Layer‐Offset loop:\n",
            "  Last 10 token IDs:      [1, 477, 330, 17, 1, 323, 912, 1023, 1495, 13]\n",
            "  Last 10 token strings:  ['\"', 'Ġor', 'Ġ\"', '2', '\"', 'Ġand', 'Ġno', 'Ġother', 'Ġtext', '.']\n",
            "\n"
          ]
        },
        {
          "name": "stderr",
          "output_type": "stream",
          "text": [
            "\r  2%|▏         | 6/310 [00:01<01:20,  3.76it/s]"
          ]
        },
        {
          "name": "stdout",
          "output_type": "stream",
          "text": [
            "\n",
            "Index 6 (Yes), Layer‐Offset loop:\n",
            "  Last 10 token IDs:      [1, 477, 330, 17, 1, 323, 912, 1023, 1495, 13]\n",
            "  Last 10 token strings:  ['\"', 'Ġor', 'Ġ\"', '2', '\"', 'Ġand', 'Ġno', 'Ġother', 'Ġtext', '.']\n",
            "\n"
          ]
        },
        {
          "name": "stderr",
          "output_type": "stream",
          "text": [
            "\r  2%|▏         | 7/310 [00:01<01:21,  3.70it/s]"
          ]
        },
        {
          "name": "stdout",
          "output_type": "stream",
          "text": [
            "\n",
            "Index 7 (No), Layer‐Offset loop:\n",
            "  Last 10 token IDs:      [1, 477, 330, 17, 1, 323, 912, 1023, 1495, 13]\n",
            "  Last 10 token strings:  ['\"', 'Ġor', 'Ġ\"', '2', '\"', 'Ġand', 'Ġno', 'Ġother', 'Ġtext', '.']\n",
            "\n"
          ]
        },
        {
          "name": "stderr",
          "output_type": "stream",
          "text": [
            "\r  3%|▎         | 8/310 [00:02<01:23,  3.60it/s]"
          ]
        },
        {
          "name": "stdout",
          "output_type": "stream",
          "text": [
            "\n",
            "Index 8 (No), Layer‐Offset loop:\n",
            "  Last 10 token IDs:      [1, 477, 330, 17, 1, 323, 912, 1023, 1495, 13]\n",
            "  Last 10 token strings:  ['\"', 'Ġor', 'Ġ\"', '2', '\"', 'Ġand', 'Ġno', 'Ġother', 'Ġtext', '.']\n",
            "\n"
          ]
        },
        {
          "name": "stderr",
          "output_type": "stream",
          "text": [
            "\r  3%|▎         | 9/310 [00:02<01:20,  3.72it/s]"
          ]
        },
        {
          "name": "stdout",
          "output_type": "stream",
          "text": [
            "\n",
            "Index 9 (Yes), Layer‐Offset loop:\n",
            "  Last 10 token IDs:      [1, 477, 330, 17, 1, 323, 912, 1023, 1495, 13]\n",
            "  Last 10 token strings:  ['\"', 'Ġor', 'Ġ\"', '2', '\"', 'Ġand', 'Ġno', 'Ġother', 'Ġtext', '.']\n",
            "\n"
          ]
        },
        {
          "name": "stderr",
          "output_type": "stream",
          "text": [
            "\r  3%|▎         | 10/310 [00:02<01:19,  3.76it/s]"
          ]
        },
        {
          "name": "stdout",
          "output_type": "stream",
          "text": [
            "\n",
            "Index 10 (Yes), Layer‐Offset loop:\n",
            "  Last 10 token IDs:      [1, 477, 330, 17, 1, 323, 912, 1023, 1495, 13]\n",
            "  Last 10 token strings:  ['\"', 'Ġor', 'Ġ\"', '2', '\"', 'Ġand', 'Ġno', 'Ġother', 'Ġtext', '.']\n",
            "\n"
          ]
        },
        {
          "name": "stderr",
          "output_type": "stream",
          "text": [
            "\r  4%|▎         | 11/310 [00:02<01:19,  3.76it/s]"
          ]
        },
        {
          "name": "stdout",
          "output_type": "stream",
          "text": [
            "\n",
            "Index 11 (No), Layer‐Offset loop:\n",
            "  Last 10 token IDs:      [1, 477, 330, 17, 1, 323, 912, 1023, 1495, 13]\n",
            "  Last 10 token strings:  ['\"', 'Ġor', 'Ġ\"', '2', '\"', 'Ġand', 'Ġno', 'Ġother', 'Ġtext', '.']\n",
            "\n"
          ]
        },
        {
          "name": "stderr",
          "output_type": "stream",
          "text": [
            "\r  4%|▍         | 12/310 [00:03<01:19,  3.75it/s]"
          ]
        },
        {
          "name": "stdout",
          "output_type": "stream",
          "text": [
            "\n",
            "Index 12 (No), Layer‐Offset loop:\n",
            "  Last 10 token IDs:      [1, 477, 330, 17, 1, 323, 912, 1023, 1495, 13]\n",
            "  Last 10 token strings:  ['\"', 'Ġor', 'Ġ\"', '2', '\"', 'Ġand', 'Ġno', 'Ġother', 'Ġtext', '.']\n",
            "\n"
          ]
        },
        {
          "name": "stderr",
          "output_type": "stream",
          "text": [
            "\r  4%|▍         | 13/310 [00:03<01:19,  3.72it/s]"
          ]
        },
        {
          "name": "stdout",
          "output_type": "stream",
          "text": [
            "\n",
            "Index 13 (No), Layer‐Offset loop:\n",
            "  Last 10 token IDs:      [1, 477, 330, 17, 1, 323, 912, 1023, 1495, 13]\n",
            "  Last 10 token strings:  ['\"', 'Ġor', 'Ġ\"', '2', '\"', 'Ġand', 'Ġno', 'Ġother', 'Ġtext', '.']\n",
            "\n"
          ]
        },
        {
          "name": "stderr",
          "output_type": "stream",
          "text": [
            "\r  5%|▍         | 14/310 [00:03<01:19,  3.72it/s]"
          ]
        },
        {
          "name": "stdout",
          "output_type": "stream",
          "text": [
            "\n",
            "Index 14 (No), Layer‐Offset loop:\n",
            "  Last 10 token IDs:      [1, 477, 330, 17, 1, 323, 912, 1023, 1495, 13]\n",
            "  Last 10 token strings:  ['\"', 'Ġor', 'Ġ\"', '2', '\"', 'Ġand', 'Ġno', 'Ġother', 'Ġtext', '.']\n",
            "\n"
          ]
        },
        {
          "name": "stderr",
          "output_type": "stream",
          "text": [
            "\r  5%|▍         | 15/310 [00:04<01:22,  3.56it/s]"
          ]
        },
        {
          "name": "stdout",
          "output_type": "stream",
          "text": [
            "\n",
            "Index 15 (No), Layer‐Offset loop:\n",
            "  Last 10 token IDs:      [1, 477, 330, 17, 1, 323, 912, 1023, 1495, 13]\n",
            "  Last 10 token strings:  ['\"', 'Ġor', 'Ġ\"', '2', '\"', 'Ġand', 'Ġno', 'Ġother', 'Ġtext', '.']\n",
            "\n"
          ]
        },
        {
          "name": "stderr",
          "output_type": "stream",
          "text": [
            "\r  5%|▌         | 16/310 [00:04<01:20,  3.64it/s]"
          ]
        },
        {
          "name": "stdout",
          "output_type": "stream",
          "text": [
            "\n",
            "Index 16 (Yes), Layer‐Offset loop:\n",
            "  Last 10 token IDs:      [1, 477, 330, 17, 1, 323, 912, 1023, 1495, 13]\n",
            "  Last 10 token strings:  ['\"', 'Ġor', 'Ġ\"', '2', '\"', 'Ġand', 'Ġno', 'Ġother', 'Ġtext', '.']\n",
            "\n"
          ]
        },
        {
          "name": "stderr",
          "output_type": "stream",
          "text": [
            "\r  5%|▌         | 17/310 [00:04<01:19,  3.68it/s]"
          ]
        },
        {
          "name": "stdout",
          "output_type": "stream",
          "text": [
            "\n",
            "Index 17 (No), Layer‐Offset loop:\n",
            "  Last 10 token IDs:      [1, 477, 330, 17, 1, 323, 912, 1023, 1495, 13]\n",
            "  Last 10 token strings:  ['\"', 'Ġor', 'Ġ\"', '2', '\"', 'Ġand', 'Ġno', 'Ġother', 'Ġtext', '.']\n",
            "\n"
          ]
        },
        {
          "name": "stderr",
          "output_type": "stream",
          "text": [
            "\r  6%|▌         | 18/310 [00:04<01:18,  3.74it/s]"
          ]
        },
        {
          "name": "stdout",
          "output_type": "stream",
          "text": [
            "\n",
            "Index 18 (No), Layer‐Offset loop:\n",
            "  Last 10 token IDs:      [1, 477, 330, 17, 1, 323, 912, 1023, 1495, 13]\n",
            "  Last 10 token strings:  ['\"', 'Ġor', 'Ġ\"', '2', '\"', 'Ġand', 'Ġno', 'Ġother', 'Ġtext', '.']\n",
            "\n"
          ]
        },
        {
          "name": "stderr",
          "output_type": "stream",
          "text": [
            "\r  6%|▌         | 19/310 [00:05<01:18,  3.70it/s]"
          ]
        },
        {
          "name": "stdout",
          "output_type": "stream",
          "text": [
            "\n",
            "Index 19 (No), Layer‐Offset loop:\n",
            "  Last 10 token IDs:      [1, 477, 330, 17, 1, 323, 912, 1023, 1495, 13]\n",
            "  Last 10 token strings:  ['\"', 'Ġor', 'Ġ\"', '2', '\"', 'Ġand', 'Ġno', 'Ġother', 'Ġtext', '.']\n",
            "\n"
          ]
        },
        {
          "name": "stderr",
          "output_type": "stream",
          "text": [
            "\r  6%|▋         | 20/310 [00:05<01:17,  3.74it/s]"
          ]
        },
        {
          "name": "stdout",
          "output_type": "stream",
          "text": [
            "\n",
            "Index 20 (Yes), Layer‐Offset loop:\n",
            "  Last 10 token IDs:      [1, 477, 330, 17, 1, 323, 912, 1023, 1495, 13]\n",
            "  Last 10 token strings:  ['\"', 'Ġor', 'Ġ\"', '2', '\"', 'Ġand', 'Ġno', 'Ġother', 'Ġtext', '.']\n",
            "\n"
          ]
        },
        {
          "name": "stderr",
          "output_type": "stream",
          "text": [
            "\r  7%|▋         | 21/310 [00:05<01:17,  3.72it/s]"
          ]
        },
        {
          "name": "stdout",
          "output_type": "stream",
          "text": [
            "\n",
            "Index 21 (Yes), Layer‐Offset loop:\n",
            "  Last 10 token IDs:      [1, 477, 330, 17, 1, 323, 912, 1023, 1495, 13]\n",
            "  Last 10 token strings:  ['\"', 'Ġor', 'Ġ\"', '2', '\"', 'Ġand', 'Ġno', 'Ġother', 'Ġtext', '.']\n",
            "\n"
          ]
        },
        {
          "name": "stderr",
          "output_type": "stream",
          "text": [
            "\r  7%|▋         | 22/310 [00:05<01:16,  3.79it/s]"
          ]
        },
        {
          "name": "stdout",
          "output_type": "stream",
          "text": [
            "\n",
            "Index 22 (Yes), Layer‐Offset loop:\n",
            "  Last 10 token IDs:      [1, 477, 330, 17, 1, 323, 912, 1023, 1495, 13]\n",
            "  Last 10 token strings:  ['\"', 'Ġor', 'Ġ\"', '2', '\"', 'Ġand', 'Ġno', 'Ġother', 'Ġtext', '.']\n",
            "\n"
          ]
        },
        {
          "name": "stderr",
          "output_type": "stream",
          "text": [
            "\r  7%|▋         | 23/310 [00:06<01:16,  3.77it/s]"
          ]
        },
        {
          "name": "stdout",
          "output_type": "stream",
          "text": [
            "\n",
            "Index 23 (No), Layer‐Offset loop:\n",
            "  Last 10 token IDs:      [1, 477, 330, 17, 1, 323, 912, 1023, 1495, 13]\n",
            "  Last 10 token strings:  ['\"', 'Ġor', 'Ġ\"', '2', '\"', 'Ġand', 'Ġno', 'Ġother', 'Ġtext', '.']\n",
            "\n"
          ]
        },
        {
          "name": "stderr",
          "output_type": "stream",
          "text": [
            "\r  8%|▊         | 24/310 [00:06<01:15,  3.77it/s]"
          ]
        },
        {
          "name": "stdout",
          "output_type": "stream",
          "text": [
            "\n",
            "Index 24 (Yes), Layer‐Offset loop:\n",
            "  Last 10 token IDs:      [1, 477, 330, 17, 1, 323, 912, 1023, 1495, 13]\n",
            "  Last 10 token strings:  ['\"', 'Ġor', 'Ġ\"', '2', '\"', 'Ġand', 'Ġno', 'Ġother', 'Ġtext', '.']\n",
            "\n"
          ]
        },
        {
          "name": "stderr",
          "output_type": "stream",
          "text": [
            "\r  8%|▊         | 25/310 [00:06<01:14,  3.81it/s]"
          ]
        },
        {
          "name": "stdout",
          "output_type": "stream",
          "text": [
            "\n",
            "Index 25 (No), Layer‐Offset loop:\n",
            "  Last 10 token IDs:      [1, 477, 330, 17, 1, 323, 912, 1023, 1495, 13]\n",
            "  Last 10 token strings:  ['\"', 'Ġor', 'Ġ\"', '2', '\"', 'Ġand', 'Ġno', 'Ġother', 'Ġtext', '.']\n",
            "\n"
          ]
        },
        {
          "name": "stderr",
          "output_type": "stream",
          "text": [
            "\r  8%|▊         | 26/310 [00:06<01:13,  3.87it/s]"
          ]
        },
        {
          "name": "stdout",
          "output_type": "stream",
          "text": [
            "\n",
            "Index 26 (Yes), Layer‐Offset loop:\n",
            "  Last 10 token IDs:      [1, 477, 330, 17, 1, 323, 912, 1023, 1495, 13]\n",
            "  Last 10 token strings:  ['\"', 'Ġor', 'Ġ\"', '2', '\"', 'Ġand', 'Ġno', 'Ġother', 'Ġtext', '.']\n",
            "\n"
          ]
        },
        {
          "name": "stderr",
          "output_type": "stream",
          "text": [
            "\r  9%|▊         | 27/310 [00:07<01:14,  3.79it/s]"
          ]
        },
        {
          "name": "stdout",
          "output_type": "stream",
          "text": [
            "\n",
            "Index 27 (Yes), Layer‐Offset loop:\n",
            "  Last 10 token IDs:      [1, 477, 330, 17, 1, 323, 912, 1023, 1495, 13]\n",
            "  Last 10 token strings:  ['\"', 'Ġor', 'Ġ\"', '2', '\"', 'Ġand', 'Ġno', 'Ġother', 'Ġtext', '.']\n",
            "\n"
          ]
        },
        {
          "name": "stderr",
          "output_type": "stream",
          "text": [
            "\r  9%|▉         | 28/310 [00:07<01:14,  3.79it/s]"
          ]
        },
        {
          "name": "stdout",
          "output_type": "stream",
          "text": [
            "\n",
            "Index 28 (No), Layer‐Offset loop:\n",
            "  Last 10 token IDs:      [1, 477, 330, 17, 1, 323, 912, 1023, 1495, 13]\n",
            "  Last 10 token strings:  ['\"', 'Ġor', 'Ġ\"', '2', '\"', 'Ġand', 'Ġno', 'Ġother', 'Ġtext', '.']\n",
            "\n"
          ]
        },
        {
          "name": "stderr",
          "output_type": "stream",
          "text": [
            "\r  9%|▉         | 29/310 [00:07<01:15,  3.72it/s]"
          ]
        },
        {
          "name": "stdout",
          "output_type": "stream",
          "text": [
            "\n",
            "Index 29 (No), Layer‐Offset loop:\n",
            "  Last 10 token IDs:      [1, 477, 330, 17, 1, 323, 912, 1023, 1495, 13]\n",
            "  Last 10 token strings:  ['\"', 'Ġor', 'Ġ\"', '2', '\"', 'Ġand', 'Ġno', 'Ġother', 'Ġtext', '.']\n",
            "\n"
          ]
        },
        {
          "name": "stderr",
          "output_type": "stream",
          "text": [
            "\r 10%|▉         | 30/310 [00:08<01:14,  3.75it/s]"
          ]
        },
        {
          "name": "stdout",
          "output_type": "stream",
          "text": [
            "\n",
            "Index 30 (Yes), Layer‐Offset loop:\n",
            "  Last 10 token IDs:      [1, 477, 330, 17, 1, 323, 912, 1023, 1495, 13]\n",
            "  Last 10 token strings:  ['\"', 'Ġor', 'Ġ\"', '2', '\"', 'Ġand', 'Ġno', 'Ġother', 'Ġtext', '.']\n",
            "\n"
          ]
        },
        {
          "name": "stderr",
          "output_type": "stream",
          "text": [
            "\r 10%|█         | 31/310 [00:08<01:13,  3.77it/s]"
          ]
        },
        {
          "name": "stdout",
          "output_type": "stream",
          "text": [
            "\n",
            "Index 31 (Yes), Layer‐Offset loop:\n",
            "  Last 10 token IDs:      [1, 477, 330, 17, 1, 323, 912, 1023, 1495, 13]\n",
            "  Last 10 token strings:  ['\"', 'Ġor', 'Ġ\"', '2', '\"', 'Ġand', 'Ġno', 'Ġother', 'Ġtext', '.']\n",
            "\n"
          ]
        },
        {
          "name": "stderr",
          "output_type": "stream",
          "text": [
            "\r 10%|█         | 32/310 [00:08<01:14,  3.75it/s]"
          ]
        },
        {
          "name": "stdout",
          "output_type": "stream",
          "text": [
            "\n",
            "Index 32 (Yes), Layer‐Offset loop:\n",
            "  Last 10 token IDs:      [1, 477, 330, 17, 1, 323, 912, 1023, 1495, 13]\n",
            "  Last 10 token strings:  ['\"', 'Ġor', 'Ġ\"', '2', '\"', 'Ġand', 'Ġno', 'Ġother', 'Ġtext', '.']\n",
            "\n"
          ]
        },
        {
          "name": "stderr",
          "output_type": "stream",
          "text": [
            "\r 11%|█         | 33/310 [00:08<01:12,  3.83it/s]"
          ]
        },
        {
          "name": "stdout",
          "output_type": "stream",
          "text": [
            "\n",
            "Index 33 (No), Layer‐Offset loop:\n",
            "  Last 10 token IDs:      [1, 477, 330, 17, 1, 323, 912, 1023, 1495, 13]\n",
            "  Last 10 token strings:  ['\"', 'Ġor', 'Ġ\"', '2', '\"', 'Ġand', 'Ġno', 'Ġother', 'Ġtext', '.']\n",
            "\n"
          ]
        },
        {
          "name": "stderr",
          "output_type": "stream",
          "text": [
            "\r 11%|█         | 34/310 [00:09<01:15,  3.66it/s]"
          ]
        },
        {
          "name": "stdout",
          "output_type": "stream",
          "text": [
            "\n",
            "Index 34 (Yes), Layer‐Offset loop:\n",
            "  Last 10 token IDs:      [1, 477, 330, 17, 1, 323, 912, 1023, 1495, 13]\n",
            "  Last 10 token strings:  ['\"', 'Ġor', 'Ġ\"', '2', '\"', 'Ġand', 'Ġno', 'Ġother', 'Ġtext', '.']\n",
            "\n"
          ]
        },
        {
          "name": "stderr",
          "output_type": "stream",
          "text": [
            "\r 11%|█▏        | 35/310 [00:09<01:16,  3.61it/s]"
          ]
        },
        {
          "name": "stdout",
          "output_type": "stream",
          "text": [
            "\n",
            "Index 35 (Yes), Layer‐Offset loop:\n",
            "  Last 10 token IDs:      [1, 477, 330, 17, 1, 323, 912, 1023, 1495, 13]\n",
            "  Last 10 token strings:  ['\"', 'Ġor', 'Ġ\"', '2', '\"', 'Ġand', 'Ġno', 'Ġother', 'Ġtext', '.']\n",
            "\n"
          ]
        },
        {
          "name": "stderr",
          "output_type": "stream",
          "text": [
            "\r 12%|█▏        | 36/310 [00:09<01:14,  3.69it/s]"
          ]
        },
        {
          "name": "stdout",
          "output_type": "stream",
          "text": [
            "\n",
            "Index 36 (Yes), Layer‐Offset loop:\n",
            "  Last 10 token IDs:      [1, 477, 330, 17, 1, 323, 912, 1023, 1495, 13]\n",
            "  Last 10 token strings:  ['\"', 'Ġor', 'Ġ\"', '2', '\"', 'Ġand', 'Ġno', 'Ġother', 'Ġtext', '.']\n",
            "\n"
          ]
        },
        {
          "name": "stderr",
          "output_type": "stream",
          "text": [
            "\r 12%|█▏        | 37/310 [00:09<01:15,  3.63it/s]"
          ]
        },
        {
          "name": "stdout",
          "output_type": "stream",
          "text": [
            "\n",
            "Index 37 (Yes), Layer‐Offset loop:\n",
            "  Last 10 token IDs:      [1, 477, 330, 17, 1, 323, 912, 1023, 1495, 13]\n",
            "  Last 10 token strings:  ['\"', 'Ġor', 'Ġ\"', '2', '\"', 'Ġand', 'Ġno', 'Ġother', 'Ġtext', '.']\n",
            "\n"
          ]
        },
        {
          "name": "stderr",
          "output_type": "stream",
          "text": [
            "\r 12%|█▏        | 38/310 [00:10<01:14,  3.65it/s]"
          ]
        },
        {
          "name": "stdout",
          "output_type": "stream",
          "text": [
            "\n",
            "Index 38 (No), Layer‐Offset loop:\n",
            "  Last 10 token IDs:      [1, 477, 330, 17, 1, 323, 912, 1023, 1495, 13]\n",
            "  Last 10 token strings:  ['\"', 'Ġor', 'Ġ\"', '2', '\"', 'Ġand', 'Ġno', 'Ġother', 'Ġtext', '.']\n",
            "\n"
          ]
        },
        {
          "name": "stderr",
          "output_type": "stream",
          "text": [
            "\r 13%|█▎        | 39/310 [00:10<01:13,  3.71it/s]"
          ]
        },
        {
          "name": "stdout",
          "output_type": "stream",
          "text": [
            "\n",
            "Index 39 (Yes), Layer‐Offset loop:\n",
            "  Last 10 token IDs:      [1, 477, 330, 17, 1, 323, 912, 1023, 1495, 13]\n",
            "  Last 10 token strings:  ['\"', 'Ġor', 'Ġ\"', '2', '\"', 'Ġand', 'Ġno', 'Ġother', 'Ġtext', '.']\n",
            "\n"
          ]
        },
        {
          "name": "stderr",
          "output_type": "stream",
          "text": [
            "\r 13%|█▎        | 40/310 [00:10<01:12,  3.74it/s]"
          ]
        },
        {
          "name": "stdout",
          "output_type": "stream",
          "text": [
            "\n",
            "Index 40 (Yes), Layer‐Offset loop:\n",
            "  Last 10 token IDs:      [1, 477, 330, 17, 1, 323, 912, 1023, 1495, 13]\n",
            "  Last 10 token strings:  ['\"', 'Ġor', 'Ġ\"', '2', '\"', 'Ġand', 'Ġno', 'Ġother', 'Ġtext', '.']\n",
            "\n"
          ]
        },
        {
          "name": "stderr",
          "output_type": "stream",
          "text": [
            "\r 13%|█▎        | 41/310 [00:11<01:13,  3.68it/s]"
          ]
        },
        {
          "name": "stdout",
          "output_type": "stream",
          "text": [
            "\n",
            "Index 41 (Yes), Layer‐Offset loop:\n",
            "  Last 10 token IDs:      [1, 477, 330, 17, 1, 323, 912, 1023, 1495, 13]\n",
            "  Last 10 token strings:  ['\"', 'Ġor', 'Ġ\"', '2', '\"', 'Ġand', 'Ġno', 'Ġother', 'Ġtext', '.']\n",
            "\n"
          ]
        },
        {
          "name": "stderr",
          "output_type": "stream",
          "text": [
            "\r 14%|█▎        | 42/310 [00:11<01:11,  3.72it/s]"
          ]
        },
        {
          "name": "stdout",
          "output_type": "stream",
          "text": [
            "\n",
            "Index 42 (No), Layer‐Offset loop:\n",
            "  Last 10 token IDs:      [1, 477, 330, 17, 1, 323, 912, 1023, 1495, 13]\n",
            "  Last 10 token strings:  ['\"', 'Ġor', 'Ġ\"', '2', '\"', 'Ġand', 'Ġno', 'Ġother', 'Ġtext', '.']\n",
            "\n"
          ]
        },
        {
          "name": "stderr",
          "output_type": "stream",
          "text": [
            "\r 14%|█▍        | 43/310 [00:11<01:11,  3.74it/s]"
          ]
        },
        {
          "name": "stdout",
          "output_type": "stream",
          "text": [
            "\n",
            "Index 43 (No), Layer‐Offset loop:\n",
            "  Last 10 token IDs:      [1, 477, 330, 17, 1, 323, 912, 1023, 1495, 13]\n",
            "  Last 10 token strings:  ['\"', 'Ġor', 'Ġ\"', '2', '\"', 'Ġand', 'Ġno', 'Ġother', 'Ġtext', '.']\n",
            "\n"
          ]
        },
        {
          "name": "stderr",
          "output_type": "stream",
          "text": [
            "\r 14%|█▍        | 44/310 [00:11<01:14,  3.57it/s]"
          ]
        },
        {
          "name": "stdout",
          "output_type": "stream",
          "text": [
            "\n",
            "Index 44 (No), Layer‐Offset loop:\n",
            "  Last 10 token IDs:      [1, 477, 330, 17, 1, 323, 912, 1023, 1495, 13]\n",
            "  Last 10 token strings:  ['\"', 'Ġor', 'Ġ\"', '2', '\"', 'Ġand', 'Ġno', 'Ġother', 'Ġtext', '.']\n",
            "\n"
          ]
        },
        {
          "name": "stderr",
          "output_type": "stream",
          "text": [
            "\r 15%|█▍        | 45/310 [00:12<01:12,  3.64it/s]"
          ]
        },
        {
          "name": "stdout",
          "output_type": "stream",
          "text": [
            "\n",
            "Index 45 (No), Layer‐Offset loop:\n",
            "  Last 10 token IDs:      [1, 477, 330, 17, 1, 323, 912, 1023, 1495, 13]\n",
            "  Last 10 token strings:  ['\"', 'Ġor', 'Ġ\"', '2', '\"', 'Ġand', 'Ġno', 'Ġother', 'Ġtext', '.']\n",
            "\n"
          ]
        },
        {
          "name": "stderr",
          "output_type": "stream",
          "text": [
            "\r 15%|█▍        | 46/310 [00:12<01:15,  3.51it/s]"
          ]
        },
        {
          "name": "stdout",
          "output_type": "stream",
          "text": [
            "\n",
            "Index 46 (No), Layer‐Offset loop:\n",
            "  Last 10 token IDs:      [1, 477, 330, 17, 1, 323, 912, 1023, 1495, 13]\n",
            "  Last 10 token strings:  ['\"', 'Ġor', 'Ġ\"', '2', '\"', 'Ġand', 'Ġno', 'Ġother', 'Ġtext', '.']\n",
            "\n"
          ]
        },
        {
          "name": "stderr",
          "output_type": "stream",
          "text": [
            "\r 15%|█▌        | 47/310 [00:12<01:12,  3.63it/s]"
          ]
        },
        {
          "name": "stdout",
          "output_type": "stream",
          "text": [
            "\n",
            "Index 47 (Yes), Layer‐Offset loop:\n",
            "  Last 10 token IDs:      [1, 477, 330, 17, 1, 323, 912, 1023, 1495, 13]\n",
            "  Last 10 token strings:  ['\"', 'Ġor', 'Ġ\"', '2', '\"', 'Ġand', 'Ġno', 'Ġother', 'Ġtext', '.']\n",
            "\n"
          ]
        },
        {
          "name": "stderr",
          "output_type": "stream",
          "text": [
            "\r 15%|█▌        | 48/310 [00:12<01:11,  3.64it/s]"
          ]
        },
        {
          "name": "stdout",
          "output_type": "stream",
          "text": [
            "\n",
            "Index 48 (No), Layer‐Offset loop:\n",
            "  Last 10 token IDs:      [1, 477, 330, 17, 1, 323, 912, 1023, 1495, 13]\n",
            "  Last 10 token strings:  ['\"', 'Ġor', 'Ġ\"', '2', '\"', 'Ġand', 'Ġno', 'Ġother', 'Ġtext', '.']\n",
            "\n"
          ]
        },
        {
          "name": "stderr",
          "output_type": "stream",
          "text": [
            "\r 16%|█▌        | 49/310 [00:13<01:10,  3.71it/s]"
          ]
        },
        {
          "name": "stdout",
          "output_type": "stream",
          "text": [
            "\n",
            "Index 49 (Yes), Layer‐Offset loop:\n",
            "  Last 10 token IDs:      [1, 477, 330, 17, 1, 323, 912, 1023, 1495, 13]\n",
            "  Last 10 token strings:  ['\"', 'Ġor', 'Ġ\"', '2', '\"', 'Ġand', 'Ġno', 'Ġother', 'Ġtext', '.']\n",
            "\n"
          ]
        },
        {
          "name": "stderr",
          "output_type": "stream",
          "text": [
            "\r 16%|█▌        | 50/310 [00:13<01:08,  3.77it/s]"
          ]
        },
        {
          "name": "stdout",
          "output_type": "stream",
          "text": [
            "\n",
            "Index 50 (Yes), Layer‐Offset loop:\n",
            "  Last 10 token IDs:      [1, 477, 330, 17, 1, 323, 912, 1023, 1495, 13]\n",
            "  Last 10 token strings:  ['\"', 'Ġor', 'Ġ\"', '2', '\"', 'Ġand', 'Ġno', 'Ġother', 'Ġtext', '.']\n",
            "\n"
          ]
        },
        {
          "name": "stderr",
          "output_type": "stream",
          "text": [
            "\r 16%|█▋        | 51/310 [00:13<01:09,  3.74it/s]"
          ]
        },
        {
          "name": "stdout",
          "output_type": "stream",
          "text": [
            "\n",
            "Index 51 (No), Layer‐Offset loop:\n",
            "  Last 10 token IDs:      [1, 477, 330, 17, 1, 323, 912, 1023, 1495, 13]\n",
            "  Last 10 token strings:  ['\"', 'Ġor', 'Ġ\"', '2', '\"', 'Ġand', 'Ġno', 'Ġother', 'Ġtext', '.']\n",
            "\n"
          ]
        },
        {
          "name": "stderr",
          "output_type": "stream",
          "text": [
            "\r 17%|█▋        | 52/310 [00:14<01:10,  3.67it/s]"
          ]
        },
        {
          "name": "stdout",
          "output_type": "stream",
          "text": [
            "\n",
            "Index 52 (Yes), Layer‐Offset loop:\n",
            "  Last 10 token IDs:      [1, 477, 330, 17, 1, 323, 912, 1023, 1495, 13]\n",
            "  Last 10 token strings:  ['\"', 'Ġor', 'Ġ\"', '2', '\"', 'Ġand', 'Ġno', 'Ġother', 'Ġtext', '.']\n",
            "\n"
          ]
        },
        {
          "name": "stderr",
          "output_type": "stream",
          "text": [
            "\r 17%|█▋        | 53/310 [00:14<01:09,  3.67it/s]"
          ]
        },
        {
          "name": "stdout",
          "output_type": "stream",
          "text": [
            "\n",
            "Index 53 (Yes), Layer‐Offset loop:\n",
            "  Last 10 token IDs:      [1, 477, 330, 17, 1, 323, 912, 1023, 1495, 13]\n",
            "  Last 10 token strings:  ['\"', 'Ġor', 'Ġ\"', '2', '\"', 'Ġand', 'Ġno', 'Ġother', 'Ġtext', '.']\n",
            "\n"
          ]
        },
        {
          "name": "stderr",
          "output_type": "stream",
          "text": [
            "\r 17%|█▋        | 54/310 [00:14<01:08,  3.74it/s]"
          ]
        },
        {
          "name": "stdout",
          "output_type": "stream",
          "text": [
            "\n",
            "Index 54 (No), Layer‐Offset loop:\n",
            "  Last 10 token IDs:      [1, 477, 330, 17, 1, 323, 912, 1023, 1495, 13]\n",
            "  Last 10 token strings:  ['\"', 'Ġor', 'Ġ\"', '2', '\"', 'Ġand', 'Ġno', 'Ġother', 'Ġtext', '.']\n",
            "\n"
          ]
        },
        {
          "name": "stderr",
          "output_type": "stream",
          "text": [
            "\r 18%|█▊        | 55/310 [00:14<01:12,  3.51it/s]"
          ]
        },
        {
          "name": "stdout",
          "output_type": "stream",
          "text": [
            "\n",
            "Index 55 (No), Layer‐Offset loop:\n",
            "  Last 10 token IDs:      [1, 477, 330, 17, 1, 323, 912, 1023, 1495, 13]\n",
            "  Last 10 token strings:  ['\"', 'Ġor', 'Ġ\"', '2', '\"', 'Ġand', 'Ġno', 'Ġother', 'Ġtext', '.']\n",
            "\n"
          ]
        },
        {
          "name": "stderr",
          "output_type": "stream",
          "text": [
            "\r 18%|█▊        | 56/310 [00:15<01:11,  3.54it/s]"
          ]
        },
        {
          "name": "stdout",
          "output_type": "stream",
          "text": [
            "\n",
            "Index 56 (No), Layer‐Offset loop:\n",
            "  Last 10 token IDs:      [1, 477, 330, 17, 1, 323, 912, 1023, 1495, 13]\n",
            "  Last 10 token strings:  ['\"', 'Ġor', 'Ġ\"', '2', '\"', 'Ġand', 'Ġno', 'Ġother', 'Ġtext', '.']\n",
            "\n"
          ]
        },
        {
          "name": "stderr",
          "output_type": "stream",
          "text": [
            "\r 18%|█▊        | 57/310 [00:15<01:11,  3.56it/s]"
          ]
        },
        {
          "name": "stdout",
          "output_type": "stream",
          "text": [
            "\n",
            "Index 57 (No), Layer‐Offset loop:\n",
            "  Last 10 token IDs:      [1, 477, 330, 17, 1, 323, 912, 1023, 1495, 13]\n",
            "  Last 10 token strings:  ['\"', 'Ġor', 'Ġ\"', '2', '\"', 'Ġand', 'Ġno', 'Ġother', 'Ġtext', '.']\n",
            "\n"
          ]
        },
        {
          "name": "stderr",
          "output_type": "stream",
          "text": [
            "\r 19%|█▊        | 58/310 [00:15<01:12,  3.46it/s]"
          ]
        },
        {
          "name": "stdout",
          "output_type": "stream",
          "text": [
            "\n",
            "Index 58 (No), Layer‐Offset loop:\n",
            "  Last 10 token IDs:      [1, 477, 330, 17, 1, 323, 912, 1023, 1495, 13]\n",
            "  Last 10 token strings:  ['\"', 'Ġor', 'Ġ\"', '2', '\"', 'Ġand', 'Ġno', 'Ġother', 'Ġtext', '.']\n",
            "\n"
          ]
        },
        {
          "name": "stderr",
          "output_type": "stream",
          "text": [
            "\r 19%|█▉        | 59/310 [00:16<01:09,  3.59it/s]"
          ]
        },
        {
          "name": "stdout",
          "output_type": "stream",
          "text": [
            "\n",
            "Index 59 (No), Layer‐Offset loop:\n",
            "  Last 10 token IDs:      [1, 477, 330, 17, 1, 323, 912, 1023, 1495, 13]\n",
            "  Last 10 token strings:  ['\"', 'Ġor', 'Ġ\"', '2', '\"', 'Ġand', 'Ġno', 'Ġother', 'Ġtext', '.']\n",
            "\n"
          ]
        },
        {
          "name": "stderr",
          "output_type": "stream",
          "text": [
            "\r 19%|█▉        | 60/310 [00:16<01:10,  3.53it/s]"
          ]
        },
        {
          "name": "stdout",
          "output_type": "stream",
          "text": [
            "\n",
            "Index 60 (No), Layer‐Offset loop:\n",
            "  Last 10 token IDs:      [1, 477, 330, 17, 1, 323, 912, 1023, 1495, 13]\n",
            "  Last 10 token strings:  ['\"', 'Ġor', 'Ġ\"', '2', '\"', 'Ġand', 'Ġno', 'Ġother', 'Ġtext', '.']\n",
            "\n"
          ]
        },
        {
          "name": "stderr",
          "output_type": "stream",
          "text": [
            "\r 20%|█▉        | 61/310 [00:16<01:09,  3.59it/s]"
          ]
        },
        {
          "name": "stdout",
          "output_type": "stream",
          "text": [
            "\n",
            "Index 61 (No), Layer‐Offset loop:\n",
            "  Last 10 token IDs:      [1, 477, 330, 17, 1, 323, 912, 1023, 1495, 13]\n",
            "  Last 10 token strings:  ['\"', 'Ġor', 'Ġ\"', '2', '\"', 'Ġand', 'Ġno', 'Ġother', 'Ġtext', '.']\n",
            "\n"
          ]
        },
        {
          "name": "stderr",
          "output_type": "stream",
          "text": [
            "\r 20%|██        | 62/310 [00:16<01:08,  3.60it/s]"
          ]
        },
        {
          "name": "stdout",
          "output_type": "stream",
          "text": [
            "\n",
            "Index 62 (Yes), Layer‐Offset loop:\n",
            "  Last 10 token IDs:      [1, 477, 330, 17, 1, 323, 912, 1023, 1495, 13]\n",
            "  Last 10 token strings:  ['\"', 'Ġor', 'Ġ\"', '2', '\"', 'Ġand', 'Ġno', 'Ġother', 'Ġtext', '.']\n",
            "\n"
          ]
        },
        {
          "name": "stderr",
          "output_type": "stream",
          "text": [
            "\r 20%|██        | 63/310 [00:17<01:07,  3.65it/s]"
          ]
        },
        {
          "name": "stdout",
          "output_type": "stream",
          "text": [
            "\n",
            "Index 63 (Yes), Layer‐Offset loop:\n",
            "  Last 10 token IDs:      [1, 477, 330, 17, 1, 323, 912, 1023, 1495, 13]\n",
            "  Last 10 token strings:  ['\"', 'Ġor', 'Ġ\"', '2', '\"', 'Ġand', 'Ġno', 'Ġother', 'Ġtext', '.']\n",
            "\n"
          ]
        },
        {
          "name": "stderr",
          "output_type": "stream",
          "text": [
            "\r 21%|██        | 64/310 [00:17<01:07,  3.62it/s]"
          ]
        },
        {
          "name": "stdout",
          "output_type": "stream",
          "text": [
            "\n",
            "Index 64 (No), Layer‐Offset loop:\n",
            "  Last 10 token IDs:      [1, 477, 330, 17, 1, 323, 912, 1023, 1495, 13]\n",
            "  Last 10 token strings:  ['\"', 'Ġor', 'Ġ\"', '2', '\"', 'Ġand', 'Ġno', 'Ġother', 'Ġtext', '.']\n",
            "\n"
          ]
        },
        {
          "name": "stderr",
          "output_type": "stream",
          "text": [
            "\r 21%|██        | 65/310 [00:17<01:07,  3.64it/s]"
          ]
        },
        {
          "name": "stdout",
          "output_type": "stream",
          "text": [
            "\n",
            "Index 65 (No), Layer‐Offset loop:\n",
            "  Last 10 token IDs:      [1, 477, 330, 17, 1, 323, 912, 1023, 1495, 13]\n",
            "  Last 10 token strings:  ['\"', 'Ġor', 'Ġ\"', '2', '\"', 'Ġand', 'Ġno', 'Ġother', 'Ġtext', '.']\n",
            "\n"
          ]
        },
        {
          "name": "stderr",
          "output_type": "stream",
          "text": [
            "\r 21%|██▏       | 66/310 [00:17<01:08,  3.54it/s]"
          ]
        },
        {
          "name": "stdout",
          "output_type": "stream",
          "text": [
            "\n",
            "Index 66 (No), Layer‐Offset loop:\n",
            "  Last 10 token IDs:      [1, 477, 330, 17, 1, 323, 912, 1023, 1495, 13]\n",
            "  Last 10 token strings:  ['\"', 'Ġor', 'Ġ\"', '2', '\"', 'Ġand', 'Ġno', 'Ġother', 'Ġtext', '.']\n",
            "\n"
          ]
        },
        {
          "name": "stderr",
          "output_type": "stream",
          "text": [
            "\r 22%|██▏       | 67/310 [00:18<01:06,  3.65it/s]"
          ]
        },
        {
          "name": "stdout",
          "output_type": "stream",
          "text": [
            "\n",
            "Index 67 (Yes), Layer‐Offset loop:\n",
            "  Last 10 token IDs:      [1, 477, 330, 17, 1, 323, 912, 1023, 1495, 13]\n",
            "  Last 10 token strings:  ['\"', 'Ġor', 'Ġ\"', '2', '\"', 'Ġand', 'Ġno', 'Ġother', 'Ġtext', '.']\n",
            "\n"
          ]
        },
        {
          "name": "stderr",
          "output_type": "stream",
          "text": [
            "\r 22%|██▏       | 68/310 [00:18<01:06,  3.65it/s]"
          ]
        },
        {
          "name": "stdout",
          "output_type": "stream",
          "text": [
            "\n",
            "Index 68 (Yes), Layer‐Offset loop:\n",
            "  Last 10 token IDs:      [1, 477, 330, 17, 1, 323, 912, 1023, 1495, 13]\n",
            "  Last 10 token strings:  ['\"', 'Ġor', 'Ġ\"', '2', '\"', 'Ġand', 'Ġno', 'Ġother', 'Ġtext', '.']\n",
            "\n"
          ]
        },
        {
          "name": "stderr",
          "output_type": "stream",
          "text": [
            "\r 22%|██▏       | 69/310 [00:18<01:06,  3.62it/s]"
          ]
        },
        {
          "name": "stdout",
          "output_type": "stream",
          "text": [
            "\n",
            "Index 69 (Yes), Layer‐Offset loop:\n",
            "  Last 10 token IDs:      [1, 477, 330, 17, 1, 323, 912, 1023, 1495, 13]\n",
            "  Last 10 token strings:  ['\"', 'Ġor', 'Ġ\"', '2', '\"', 'Ġand', 'Ġno', 'Ġother', 'Ġtext', '.']\n",
            "\n"
          ]
        },
        {
          "name": "stderr",
          "output_type": "stream",
          "text": [
            "\r 23%|██▎       | 70/310 [00:19<01:06,  3.63it/s]"
          ]
        },
        {
          "name": "stdout",
          "output_type": "stream",
          "text": [
            "\n",
            "Index 70 (Yes), Layer‐Offset loop:\n",
            "  Last 10 token IDs:      [1, 477, 330, 17, 1, 323, 912, 1023, 1495, 13]\n",
            "  Last 10 token strings:  ['\"', 'Ġor', 'Ġ\"', '2', '\"', 'Ġand', 'Ġno', 'Ġother', 'Ġtext', '.']\n",
            "\n"
          ]
        },
        {
          "name": "stderr",
          "output_type": "stream",
          "text": [
            "\r 23%|██▎       | 71/310 [00:19<01:07,  3.57it/s]"
          ]
        },
        {
          "name": "stdout",
          "output_type": "stream",
          "text": [
            "\n",
            "Index 71 (Yes), Layer‐Offset loop:\n",
            "  Last 10 token IDs:      [1, 477, 330, 17, 1, 323, 912, 1023, 1495, 13]\n",
            "  Last 10 token strings:  ['\"', 'Ġor', 'Ġ\"', '2', '\"', 'Ġand', 'Ġno', 'Ġother', 'Ġtext', '.']\n",
            "\n"
          ]
        },
        {
          "name": "stderr",
          "output_type": "stream",
          "text": [
            "\r 23%|██▎       | 72/310 [00:19<01:07,  3.53it/s]"
          ]
        },
        {
          "name": "stdout",
          "output_type": "stream",
          "text": [
            "\n",
            "Index 72 (No), Layer‐Offset loop:\n",
            "  Last 10 token IDs:      [1, 477, 330, 17, 1, 323, 912, 1023, 1495, 13]\n",
            "  Last 10 token strings:  ['\"', 'Ġor', 'Ġ\"', '2', '\"', 'Ġand', 'Ġno', 'Ġother', 'Ġtext', '.']\n",
            "\n"
          ]
        },
        {
          "name": "stderr",
          "output_type": "stream",
          "text": [
            "\r 24%|██▎       | 73/310 [00:19<01:04,  3.65it/s]"
          ]
        },
        {
          "name": "stdout",
          "output_type": "stream",
          "text": [
            "\n",
            "Index 73 (Yes), Layer‐Offset loop:\n",
            "  Last 10 token IDs:      [1, 477, 330, 17, 1, 323, 912, 1023, 1495, 13]\n",
            "  Last 10 token strings:  ['\"', 'Ġor', 'Ġ\"', '2', '\"', 'Ġand', 'Ġno', 'Ġother', 'Ġtext', '.']\n",
            "\n"
          ]
        },
        {
          "name": "stderr",
          "output_type": "stream",
          "text": [
            "\r 24%|██▍       | 74/310 [00:20<01:03,  3.72it/s]"
          ]
        },
        {
          "name": "stdout",
          "output_type": "stream",
          "text": [
            "\n",
            "Index 74 (Yes), Layer‐Offset loop:\n",
            "  Last 10 token IDs:      [1, 477, 330, 17, 1, 323, 912, 1023, 1495, 13]\n",
            "  Last 10 token strings:  ['\"', 'Ġor', 'Ġ\"', '2', '\"', 'Ġand', 'Ġno', 'Ġother', 'Ġtext', '.']\n",
            "\n"
          ]
        },
        {
          "name": "stderr",
          "output_type": "stream",
          "text": [
            "\r 24%|██▍       | 75/310 [00:20<01:04,  3.66it/s]"
          ]
        },
        {
          "name": "stdout",
          "output_type": "stream",
          "text": [
            "\n",
            "Index 75 (No), Layer‐Offset loop:\n",
            "  Last 10 token IDs:      [1, 477, 330, 17, 1, 323, 912, 1023, 1495, 13]\n",
            "  Last 10 token strings:  ['\"', 'Ġor', 'Ġ\"', '2', '\"', 'Ġand', 'Ġno', 'Ġother', 'Ġtext', '.']\n",
            "\n"
          ]
        },
        {
          "name": "stderr",
          "output_type": "stream",
          "text": [
            "\r 25%|██▍       | 76/310 [00:20<01:03,  3.66it/s]"
          ]
        },
        {
          "name": "stdout",
          "output_type": "stream",
          "text": [
            "\n",
            "Index 76 (Yes), Layer‐Offset loop:\n",
            "  Last 10 token IDs:      [1, 477, 330, 17, 1, 323, 912, 1023, 1495, 13]\n",
            "  Last 10 token strings:  ['\"', 'Ġor', 'Ġ\"', '2', '\"', 'Ġand', 'Ġno', 'Ġother', 'Ġtext', '.']\n",
            "\n"
          ]
        },
        {
          "name": "stderr",
          "output_type": "stream",
          "text": [
            "\r 25%|██▍       | 77/310 [00:20<01:03,  3.65it/s]"
          ]
        },
        {
          "name": "stdout",
          "output_type": "stream",
          "text": [
            "\n",
            "Index 77 (Yes), Layer‐Offset loop:\n",
            "  Last 10 token IDs:      [1, 477, 330, 17, 1, 323, 912, 1023, 1495, 13]\n",
            "  Last 10 token strings:  ['\"', 'Ġor', 'Ġ\"', '2', '\"', 'Ġand', 'Ġno', 'Ġother', 'Ġtext', '.']\n",
            "\n"
          ]
        },
        {
          "name": "stderr",
          "output_type": "stream",
          "text": [
            "\r 25%|██▌       | 78/310 [00:21<01:04,  3.59it/s]"
          ]
        },
        {
          "name": "stdout",
          "output_type": "stream",
          "text": [
            "\n",
            "Index 78 (Yes), Layer‐Offset loop:\n",
            "  Last 10 token IDs:      [1, 477, 330, 17, 1, 323, 912, 1023, 1495, 13]\n",
            "  Last 10 token strings:  ['\"', 'Ġor', 'Ġ\"', '2', '\"', 'Ġand', 'Ġno', 'Ġother', 'Ġtext', '.']\n",
            "\n"
          ]
        },
        {
          "name": "stderr",
          "output_type": "stream",
          "text": [
            "\r 25%|██▌       | 79/310 [00:21<01:05,  3.54it/s]"
          ]
        },
        {
          "name": "stdout",
          "output_type": "stream",
          "text": [
            "\n",
            "Index 79 (No), Layer‐Offset loop:\n",
            "  Last 10 token IDs:      [1, 477, 330, 17, 1, 323, 912, 1023, 1495, 13]\n",
            "  Last 10 token strings:  ['\"', 'Ġor', 'Ġ\"', '2', '\"', 'Ġand', 'Ġno', 'Ġother', 'Ġtext', '.']\n",
            "\n"
          ]
        },
        {
          "name": "stderr",
          "output_type": "stream",
          "text": [
            "\r 26%|██▌       | 80/310 [00:21<01:03,  3.62it/s]"
          ]
        },
        {
          "name": "stdout",
          "output_type": "stream",
          "text": [
            "\n",
            "Index 80 (No), Layer‐Offset loop:\n",
            "  Last 10 token IDs:      [1, 477, 330, 17, 1, 323, 912, 1023, 1495, 13]\n",
            "  Last 10 token strings:  ['\"', 'Ġor', 'Ġ\"', '2', '\"', 'Ġand', 'Ġno', 'Ġother', 'Ġtext', '.']\n",
            "\n"
          ]
        },
        {
          "name": "stderr",
          "output_type": "stream",
          "text": [
            "\r 26%|██▌       | 81/310 [00:22<01:03,  3.61it/s]"
          ]
        },
        {
          "name": "stdout",
          "output_type": "stream",
          "text": [
            "\n",
            "Index 81 (No), Layer‐Offset loop:\n",
            "  Last 10 token IDs:      [1, 477, 330, 17, 1, 323, 912, 1023, 1495, 13]\n",
            "  Last 10 token strings:  ['\"', 'Ġor', 'Ġ\"', '2', '\"', 'Ġand', 'Ġno', 'Ġother', 'Ġtext', '.']\n",
            "\n"
          ]
        },
        {
          "name": "stderr",
          "output_type": "stream",
          "text": [
            "\r 26%|██▋       | 82/310 [00:22<01:01,  3.70it/s]"
          ]
        },
        {
          "name": "stdout",
          "output_type": "stream",
          "text": [
            "\n",
            "Index 82 (Yes), Layer‐Offset loop:\n",
            "  Last 10 token IDs:      [1, 477, 330, 17, 1, 323, 912, 1023, 1495, 13]\n",
            "  Last 10 token strings:  ['\"', 'Ġor', 'Ġ\"', '2', '\"', 'Ġand', 'Ġno', 'Ġother', 'Ġtext', '.']\n",
            "\n"
          ]
        },
        {
          "name": "stderr",
          "output_type": "stream",
          "text": [
            "\r 27%|██▋       | 83/310 [00:22<01:02,  3.64it/s]"
          ]
        },
        {
          "name": "stdout",
          "output_type": "stream",
          "text": [
            "\n",
            "Index 83 (No), Layer‐Offset loop:\n",
            "  Last 10 token IDs:      [1, 477, 330, 17, 1, 323, 912, 1023, 1495, 13]\n",
            "  Last 10 token strings:  ['\"', 'Ġor', 'Ġ\"', '2', '\"', 'Ġand', 'Ġno', 'Ġother', 'Ġtext', '.']\n",
            "\n"
          ]
        },
        {
          "name": "stderr",
          "output_type": "stream",
          "text": [
            "\r 27%|██▋       | 84/310 [00:22<01:01,  3.65it/s]"
          ]
        },
        {
          "name": "stdout",
          "output_type": "stream",
          "text": [
            "\n",
            "Index 84 (Yes), Layer‐Offset loop:\n",
            "  Last 10 token IDs:      [1, 477, 330, 17, 1, 323, 912, 1023, 1495, 13]\n",
            "  Last 10 token strings:  ['\"', 'Ġor', 'Ġ\"', '2', '\"', 'Ġand', 'Ġno', 'Ġother', 'Ġtext', '.']\n",
            "\n"
          ]
        },
        {
          "name": "stderr",
          "output_type": "stream",
          "text": [
            "\r 27%|██▋       | 85/310 [00:23<01:00,  3.72it/s]"
          ]
        },
        {
          "name": "stdout",
          "output_type": "stream",
          "text": [
            "\n",
            "Index 85 (No), Layer‐Offset loop:\n",
            "  Last 10 token IDs:      [1, 477, 330, 17, 1, 323, 912, 1023, 1495, 13]\n",
            "  Last 10 token strings:  ['\"', 'Ġor', 'Ġ\"', '2', '\"', 'Ġand', 'Ġno', 'Ġother', 'Ġtext', '.']\n",
            "\n"
          ]
        },
        {
          "name": "stderr",
          "output_type": "stream",
          "text": [
            "\r 28%|██▊       | 86/310 [00:23<01:03,  3.52it/s]"
          ]
        },
        {
          "name": "stdout",
          "output_type": "stream",
          "text": [
            "\n",
            "Index 86 (Yes), Layer‐Offset loop:\n",
            "  Last 10 token IDs:      [1, 477, 330, 17, 1, 323, 912, 1023, 1495, 13]\n",
            "  Last 10 token strings:  ['\"', 'Ġor', 'Ġ\"', '2', '\"', 'Ġand', 'Ġno', 'Ġother', 'Ġtext', '.']\n",
            "\n"
          ]
        },
        {
          "name": "stderr",
          "output_type": "stream",
          "text": [
            "\r 28%|██▊       | 87/310 [00:23<01:02,  3.59it/s]"
          ]
        },
        {
          "name": "stdout",
          "output_type": "stream",
          "text": [
            "\n",
            "Index 87 (Yes), Layer‐Offset loop:\n",
            "  Last 10 token IDs:      [1, 477, 330, 17, 1, 323, 912, 1023, 1495, 13]\n",
            "  Last 10 token strings:  ['\"', 'Ġor', 'Ġ\"', '2', '\"', 'Ġand', 'Ġno', 'Ġother', 'Ġtext', '.']\n",
            "\n"
          ]
        },
        {
          "name": "stderr",
          "output_type": "stream",
          "text": [
            "\r 28%|██▊       | 88/310 [00:24<01:00,  3.66it/s]"
          ]
        },
        {
          "name": "stdout",
          "output_type": "stream",
          "text": [
            "\n",
            "Index 88 (No), Layer‐Offset loop:\n",
            "  Last 10 token IDs:      [1, 477, 330, 17, 1, 323, 912, 1023, 1495, 13]\n",
            "  Last 10 token strings:  ['\"', 'Ġor', 'Ġ\"', '2', '\"', 'Ġand', 'Ġno', 'Ġother', 'Ġtext', '.']\n",
            "\n"
          ]
        },
        {
          "name": "stderr",
          "output_type": "stream",
          "text": [
            "\r 29%|██▊       | 89/310 [00:24<01:00,  3.64it/s]"
          ]
        },
        {
          "name": "stdout",
          "output_type": "stream",
          "text": [
            "\n",
            "Index 89 (No), Layer‐Offset loop:\n",
            "  Last 10 token IDs:      [1, 477, 330, 17, 1, 323, 912, 1023, 1495, 13]\n",
            "  Last 10 token strings:  ['\"', 'Ġor', 'Ġ\"', '2', '\"', 'Ġand', 'Ġno', 'Ġother', 'Ġtext', '.']\n",
            "\n"
          ]
        },
        {
          "name": "stderr",
          "output_type": "stream",
          "text": [
            "\r 29%|██▉       | 90/310 [00:24<01:03,  3.49it/s]"
          ]
        },
        {
          "name": "stdout",
          "output_type": "stream",
          "text": [
            "\n",
            "Index 90 (Yes), Layer‐Offset loop:\n",
            "  Last 10 token IDs:      [1, 477, 330, 17, 1, 323, 912, 1023, 1495, 13]\n",
            "  Last 10 token strings:  ['\"', 'Ġor', 'Ġ\"', '2', '\"', 'Ġand', 'Ġno', 'Ġother', 'Ġtext', '.']\n",
            "\n"
          ]
        },
        {
          "name": "stderr",
          "output_type": "stream",
          "text": [
            "\r 29%|██▉       | 91/310 [00:24<01:00,  3.62it/s]"
          ]
        },
        {
          "name": "stdout",
          "output_type": "stream",
          "text": [
            "\n",
            "Index 91 (Yes), Layer‐Offset loop:\n",
            "  Last 10 token IDs:      [1, 477, 330, 17, 1, 323, 912, 1023, 1495, 13]\n",
            "  Last 10 token strings:  ['\"', 'Ġor', 'Ġ\"', '2', '\"', 'Ġand', 'Ġno', 'Ġother', 'Ġtext', '.']\n",
            "\n"
          ]
        },
        {
          "name": "stderr",
          "output_type": "stream",
          "text": [
            "\r 30%|██▉       | 92/310 [00:25<00:59,  3.67it/s]"
          ]
        },
        {
          "name": "stdout",
          "output_type": "stream",
          "text": [
            "\n",
            "Index 92 (Yes), Layer‐Offset loop:\n",
            "  Last 10 token IDs:      [1, 477, 330, 17, 1, 323, 912, 1023, 1495, 13]\n",
            "  Last 10 token strings:  ['\"', 'Ġor', 'Ġ\"', '2', '\"', 'Ġand', 'Ġno', 'Ġother', 'Ġtext', '.']\n",
            "\n"
          ]
        },
        {
          "name": "stderr",
          "output_type": "stream",
          "text": [
            "\r 30%|███       | 93/310 [00:25<00:59,  3.67it/s]"
          ]
        },
        {
          "name": "stdout",
          "output_type": "stream",
          "text": [
            "\n",
            "Index 93 (No), Layer‐Offset loop:\n",
            "  Last 10 token IDs:      [1, 477, 330, 17, 1, 323, 912, 1023, 1495, 13]\n",
            "  Last 10 token strings:  ['\"', 'Ġor', 'Ġ\"', '2', '\"', 'Ġand', 'Ġno', 'Ġother', 'Ġtext', '.']\n",
            "\n"
          ]
        },
        {
          "name": "stderr",
          "output_type": "stream",
          "text": [
            "\r 30%|███       | 94/310 [00:25<00:59,  3.63it/s]"
          ]
        },
        {
          "name": "stdout",
          "output_type": "stream",
          "text": [
            "\n",
            "Index 94 (No), Layer‐Offset loop:\n",
            "  Last 10 token IDs:      [1, 477, 330, 17, 1, 323, 912, 1023, 1495, 13]\n",
            "  Last 10 token strings:  ['\"', 'Ġor', 'Ġ\"', '2', '\"', 'Ġand', 'Ġno', 'Ġother', 'Ġtext', '.']\n",
            "\n"
          ]
        },
        {
          "name": "stderr",
          "output_type": "stream",
          "text": [
            "\r 31%|███       | 95/310 [00:25<00:58,  3.65it/s]"
          ]
        },
        {
          "name": "stdout",
          "output_type": "stream",
          "text": [
            "\n",
            "Index 95 (Yes), Layer‐Offset loop:\n",
            "  Last 10 token IDs:      [1, 477, 330, 17, 1, 323, 912, 1023, 1495, 13]\n",
            "  Last 10 token strings:  ['\"', 'Ġor', 'Ġ\"', '2', '\"', 'Ġand', 'Ġno', 'Ġother', 'Ġtext', '.']\n",
            "\n"
          ]
        },
        {
          "name": "stderr",
          "output_type": "stream",
          "text": [
            "\r 31%|███       | 96/310 [00:26<00:58,  3.64it/s]"
          ]
        },
        {
          "name": "stdout",
          "output_type": "stream",
          "text": [
            "\n",
            "Index 96 (Yes), Layer‐Offset loop:\n",
            "  Last 10 token IDs:      [1, 477, 330, 17, 1, 323, 912, 1023, 1495, 13]\n",
            "  Last 10 token strings:  ['\"', 'Ġor', 'Ġ\"', '2', '\"', 'Ġand', 'Ġno', 'Ġother', 'Ġtext', '.']\n",
            "\n"
          ]
        },
        {
          "name": "stderr",
          "output_type": "stream",
          "text": [
            "\r 31%|███▏      | 97/310 [00:26<00:58,  3.66it/s]"
          ]
        },
        {
          "name": "stdout",
          "output_type": "stream",
          "text": [
            "\n",
            "Index 97 (Yes), Layer‐Offset loop:\n",
            "  Last 10 token IDs:      [1, 477, 330, 17, 1, 323, 912, 1023, 1495, 13]\n",
            "  Last 10 token strings:  ['\"', 'Ġor', 'Ġ\"', '2', '\"', 'Ġand', 'Ġno', 'Ġother', 'Ġtext', '.']\n",
            "\n"
          ]
        },
        {
          "name": "stderr",
          "output_type": "stream",
          "text": [
            "\r 32%|███▏      | 98/310 [00:26<00:57,  3.72it/s]"
          ]
        },
        {
          "name": "stdout",
          "output_type": "stream",
          "text": [
            "\n",
            "Index 98 (No), Layer‐Offset loop:\n",
            "  Last 10 token IDs:      [1, 477, 330, 17, 1, 323, 912, 1023, 1495, 13]\n",
            "  Last 10 token strings:  ['\"', 'Ġor', 'Ġ\"', '2', '\"', 'Ġand', 'Ġno', 'Ġother', 'Ġtext', '.']\n",
            "\n"
          ]
        },
        {
          "name": "stderr",
          "output_type": "stream",
          "text": [
            "\r 32%|███▏      | 99/310 [00:27<01:00,  3.51it/s]"
          ]
        },
        {
          "name": "stdout",
          "output_type": "stream",
          "text": [
            "\n",
            "Index 99 (No), Layer‐Offset loop:\n",
            "  Last 10 token IDs:      [1, 477, 330, 17, 1, 323, 912, 1023, 1495, 13]\n",
            "  Last 10 token strings:  ['\"', 'Ġor', 'Ġ\"', '2', '\"', 'Ġand', 'Ġno', 'Ġother', 'Ġtext', '.']\n",
            "\n"
          ]
        },
        {
          "name": "stderr",
          "output_type": "stream",
          "text": [
            "\r 32%|███▏      | 100/310 [00:27<00:58,  3.58it/s]"
          ]
        },
        {
          "name": "stdout",
          "output_type": "stream",
          "text": [
            "\n",
            "Index 100 (Yes), Layer‐Offset loop:\n",
            "  Last 10 token IDs:      [1, 477, 330, 17, 1, 323, 912, 1023, 1495, 13]\n",
            "  Last 10 token strings:  ['\"', 'Ġor', 'Ġ\"', '2', '\"', 'Ġand', 'Ġno', 'Ġother', 'Ġtext', '.']\n",
            "\n"
          ]
        },
        {
          "name": "stderr",
          "output_type": "stream",
          "text": [
            "\r 33%|███▎      | 101/310 [00:27<00:58,  3.56it/s]"
          ]
        },
        {
          "name": "stdout",
          "output_type": "stream",
          "text": [
            "\n",
            "Index 101 (Yes), Layer‐Offset loop:\n",
            "  Last 10 token IDs:      [1, 477, 330, 17, 1, 323, 912, 1023, 1495, 13]\n",
            "  Last 10 token strings:  ['\"', 'Ġor', 'Ġ\"', '2', '\"', 'Ġand', 'Ġno', 'Ġother', 'Ġtext', '.']\n",
            "\n"
          ]
        },
        {
          "name": "stderr",
          "output_type": "stream",
          "text": [
            "\r 33%|███▎      | 102/310 [00:27<00:57,  3.62it/s]"
          ]
        },
        {
          "name": "stdout",
          "output_type": "stream",
          "text": [
            "\n",
            "Index 102 (No), Layer‐Offset loop:\n",
            "  Last 10 token IDs:      [1, 477, 330, 17, 1, 323, 912, 1023, 1495, 13]\n",
            "  Last 10 token strings:  ['\"', 'Ġor', 'Ġ\"', '2', '\"', 'Ġand', 'Ġno', 'Ġother', 'Ġtext', '.']\n",
            "\n"
          ]
        },
        {
          "name": "stderr",
          "output_type": "stream",
          "text": [
            "\r 33%|███▎      | 103/310 [00:28<00:56,  3.65it/s]"
          ]
        },
        {
          "name": "stdout",
          "output_type": "stream",
          "text": [
            "\n",
            "Index 103 (Yes), Layer‐Offset loop:\n",
            "  Last 10 token IDs:      [1, 477, 330, 17, 1, 323, 912, 1023, 1495, 13]\n",
            "  Last 10 token strings:  ['\"', 'Ġor', 'Ġ\"', '2', '\"', 'Ġand', 'Ġno', 'Ġother', 'Ġtext', '.']\n",
            "\n"
          ]
        },
        {
          "name": "stderr",
          "output_type": "stream",
          "text": [
            "\r 34%|███▎      | 104/310 [00:28<00:56,  3.65it/s]"
          ]
        },
        {
          "name": "stdout",
          "output_type": "stream",
          "text": [
            "\n",
            "Index 104 (Yes), Layer‐Offset loop:\n",
            "  Last 10 token IDs:      [1, 477, 330, 17, 1, 323, 912, 1023, 1495, 13]\n",
            "  Last 10 token strings:  ['\"', 'Ġor', 'Ġ\"', '2', '\"', 'Ġand', 'Ġno', 'Ġother', 'Ġtext', '.']\n",
            "\n"
          ]
        },
        {
          "name": "stderr",
          "output_type": "stream",
          "text": [
            "\r 34%|███▍      | 105/310 [00:28<00:54,  3.73it/s]"
          ]
        },
        {
          "name": "stdout",
          "output_type": "stream",
          "text": [
            "\n",
            "Index 105 (Yes), Layer‐Offset loop:\n",
            "  Last 10 token IDs:      [1, 477, 330, 17, 1, 323, 912, 1023, 1495, 13]\n",
            "  Last 10 token strings:  ['\"', 'Ġor', 'Ġ\"', '2', '\"', 'Ġand', 'Ġno', 'Ġother', 'Ġtext', '.']\n",
            "\n"
          ]
        },
        {
          "name": "stderr",
          "output_type": "stream",
          "text": [
            "\r 34%|███▍      | 106/310 [00:28<00:55,  3.69it/s]"
          ]
        },
        {
          "name": "stdout",
          "output_type": "stream",
          "text": [
            "\n",
            "Index 106 (Yes), Layer‐Offset loop:\n",
            "  Last 10 token IDs:      [1, 477, 330, 17, 1, 323, 912, 1023, 1495, 13]\n",
            "  Last 10 token strings:  ['\"', 'Ġor', 'Ġ\"', '2', '\"', 'Ġand', 'Ġno', 'Ġother', 'Ġtext', '.']\n",
            "\n"
          ]
        },
        {
          "name": "stderr",
          "output_type": "stream",
          "text": [
            "\r 35%|███▍      | 107/310 [00:29<00:55,  3.63it/s]"
          ]
        },
        {
          "name": "stdout",
          "output_type": "stream",
          "text": [
            "\n",
            "Index 107 (No), Layer‐Offset loop:\n",
            "  Last 10 token IDs:      [1, 477, 330, 17, 1, 323, 912, 1023, 1495, 13]\n",
            "  Last 10 token strings:  ['\"', 'Ġor', 'Ġ\"', '2', '\"', 'Ġand', 'Ġno', 'Ġother', 'Ġtext', '.']\n",
            "\n"
          ]
        },
        {
          "name": "stderr",
          "output_type": "stream",
          "text": [
            "\r 35%|███▍      | 108/310 [00:29<00:54,  3.68it/s]"
          ]
        },
        {
          "name": "stdout",
          "output_type": "stream",
          "text": [
            "\n",
            "Index 108 (Yes), Layer‐Offset loop:\n",
            "  Last 10 token IDs:      [1, 477, 330, 17, 1, 323, 912, 1023, 1495, 13]\n",
            "  Last 10 token strings:  ['\"', 'Ġor', 'Ġ\"', '2', '\"', 'Ġand', 'Ġno', 'Ġother', 'Ġtext', '.']\n",
            "\n"
          ]
        },
        {
          "name": "stderr",
          "output_type": "stream",
          "text": [
            "\r 35%|███▌      | 109/310 [00:29<00:55,  3.60it/s]"
          ]
        },
        {
          "name": "stdout",
          "output_type": "stream",
          "text": [
            "\n",
            "Index 109 (Yes), Layer‐Offset loop:\n",
            "  Last 10 token IDs:      [1, 477, 330, 17, 1, 323, 912, 1023, 1495, 13]\n",
            "  Last 10 token strings:  ['\"', 'Ġor', 'Ġ\"', '2', '\"', 'Ġand', 'Ġno', 'Ġother', 'Ġtext', '.']\n",
            "\n"
          ]
        },
        {
          "name": "stderr",
          "output_type": "stream",
          "text": [
            "\r 35%|███▌      | 110/310 [00:30<00:54,  3.69it/s]"
          ]
        },
        {
          "name": "stdout",
          "output_type": "stream",
          "text": [
            "\n",
            "Index 110 (Yes), Layer‐Offset loop:\n",
            "  Last 10 token IDs:      [1, 477, 330, 17, 1, 323, 912, 1023, 1495, 13]\n",
            "  Last 10 token strings:  ['\"', 'Ġor', 'Ġ\"', '2', '\"', 'Ġand', 'Ġno', 'Ġother', 'Ġtext', '.']\n",
            "\n"
          ]
        },
        {
          "name": "stderr",
          "output_type": "stream",
          "text": [
            "\r 36%|███▌      | 111/310 [00:30<00:53,  3.75it/s]"
          ]
        },
        {
          "name": "stdout",
          "output_type": "stream",
          "text": [
            "\n",
            "Index 111 (Yes), Layer‐Offset loop:\n",
            "  Last 10 token IDs:      [1, 477, 330, 17, 1, 323, 912, 1023, 1495, 13]\n",
            "  Last 10 token strings:  ['\"', 'Ġor', 'Ġ\"', '2', '\"', 'Ġand', 'Ġno', 'Ġother', 'Ġtext', '.']\n",
            "\n"
          ]
        },
        {
          "name": "stderr",
          "output_type": "stream",
          "text": [
            "\r 36%|███▌      | 112/310 [00:30<00:52,  3.81it/s]"
          ]
        },
        {
          "name": "stdout",
          "output_type": "stream",
          "text": [
            "\n",
            "Index 112 (No), Layer‐Offset loop:\n",
            "  Last 10 token IDs:      [1, 477, 330, 17, 1, 323, 912, 1023, 1495, 13]\n",
            "  Last 10 token strings:  ['\"', 'Ġor', 'Ġ\"', '2', '\"', 'Ġand', 'Ġno', 'Ġother', 'Ġtext', '.']\n",
            "\n"
          ]
        },
        {
          "name": "stderr",
          "output_type": "stream",
          "text": [
            "\r 36%|███▋      | 113/310 [00:30<00:51,  3.80it/s]"
          ]
        },
        {
          "name": "stdout",
          "output_type": "stream",
          "text": [
            "\n",
            "Index 113 (No), Layer‐Offset loop:\n",
            "  Last 10 token IDs:      [1, 477, 330, 17, 1, 323, 912, 1023, 1495, 13]\n",
            "  Last 10 token strings:  ['\"', 'Ġor', 'Ġ\"', '2', '\"', 'Ġand', 'Ġno', 'Ġother', 'Ġtext', '.']\n",
            "\n"
          ]
        },
        {
          "name": "stderr",
          "output_type": "stream",
          "text": [
            "\r 37%|███▋      | 114/310 [00:31<00:51,  3.79it/s]"
          ]
        },
        {
          "name": "stdout",
          "output_type": "stream",
          "text": [
            "\n",
            "Index 114 (No), Layer‐Offset loop:\n",
            "  Last 10 token IDs:      [1, 477, 330, 17, 1, 323, 912, 1023, 1495, 13]\n",
            "  Last 10 token strings:  ['\"', 'Ġor', 'Ġ\"', '2', '\"', 'Ġand', 'Ġno', 'Ġother', 'Ġtext', '.']\n",
            "\n"
          ]
        },
        {
          "name": "stderr",
          "output_type": "stream",
          "text": [
            "\r 37%|███▋      | 115/310 [00:31<00:51,  3.82it/s]"
          ]
        },
        {
          "name": "stdout",
          "output_type": "stream",
          "text": [
            "\n",
            "Index 115 (Yes), Layer‐Offset loop:\n",
            "  Last 10 token IDs:      [1, 477, 330, 17, 1, 323, 912, 1023, 1495, 13]\n",
            "  Last 10 token strings:  ['\"', 'Ġor', 'Ġ\"', '2', '\"', 'Ġand', 'Ġno', 'Ġother', 'Ġtext', '.']\n",
            "\n"
          ]
        },
        {
          "name": "stderr",
          "output_type": "stream",
          "text": [
            "\r 37%|███▋      | 116/310 [00:31<00:51,  3.80it/s]"
          ]
        },
        {
          "name": "stdout",
          "output_type": "stream",
          "text": [
            "\n",
            "Index 116 (Yes), Layer‐Offset loop:\n",
            "  Last 10 token IDs:      [1, 477, 330, 17, 1, 323, 912, 1023, 1495, 13]\n",
            "  Last 10 token strings:  ['\"', 'Ġor', 'Ġ\"', '2', '\"', 'Ġand', 'Ġno', 'Ġother', 'Ġtext', '.']\n",
            "\n"
          ]
        },
        {
          "name": "stderr",
          "output_type": "stream",
          "text": [
            "\r 38%|███▊      | 117/310 [00:31<00:50,  3.82it/s]"
          ]
        },
        {
          "name": "stdout",
          "output_type": "stream",
          "text": [
            "\n",
            "Index 117 (No), Layer‐Offset loop:\n",
            "  Last 10 token IDs:      [1, 477, 330, 17, 1, 323, 912, 1023, 1495, 13]\n",
            "  Last 10 token strings:  ['\"', 'Ġor', 'Ġ\"', '2', '\"', 'Ġand', 'Ġno', 'Ġother', 'Ġtext', '.']\n",
            "\n"
          ]
        },
        {
          "name": "stderr",
          "output_type": "stream",
          "text": [
            "\r 38%|███▊      | 118/310 [00:32<00:53,  3.58it/s]"
          ]
        },
        {
          "name": "stdout",
          "output_type": "stream",
          "text": [
            "\n",
            "Index 118 (Yes), Layer‐Offset loop:\n",
            "  Last 10 token IDs:      [1, 477, 330, 17, 1, 323, 912, 1023, 1495, 13]\n",
            "  Last 10 token strings:  ['\"', 'Ġor', 'Ġ\"', '2', '\"', 'Ġand', 'Ġno', 'Ġother', 'Ġtext', '.']\n",
            "\n"
          ]
        },
        {
          "name": "stderr",
          "output_type": "stream",
          "text": [
            "\r 38%|███▊      | 119/310 [00:32<00:52,  3.64it/s]"
          ]
        },
        {
          "name": "stdout",
          "output_type": "stream",
          "text": [
            "\n",
            "Index 119 (Yes), Layer‐Offset loop:\n",
            "  Last 10 token IDs:      [1, 477, 330, 17, 1, 323, 912, 1023, 1495, 13]\n",
            "  Last 10 token strings:  ['\"', 'Ġor', 'Ġ\"', '2', '\"', 'Ġand', 'Ġno', 'Ġother', 'Ġtext', '.']\n",
            "\n"
          ]
        },
        {
          "name": "stderr",
          "output_type": "stream",
          "text": [
            "\r 39%|███▊      | 120/310 [00:32<00:54,  3.50it/s]"
          ]
        },
        {
          "name": "stdout",
          "output_type": "stream",
          "text": [
            "\n",
            "Index 120 (Yes), Layer‐Offset loop:\n",
            "  Last 10 token IDs:      [1, 477, 330, 17, 1, 323, 912, 1023, 1495, 13]\n",
            "  Last 10 token strings:  ['\"', 'Ġor', 'Ġ\"', '2', '\"', 'Ġand', 'Ġno', 'Ġother', 'Ġtext', '.']\n",
            "\n"
          ]
        },
        {
          "name": "stderr",
          "output_type": "stream",
          "text": [
            "\r 39%|███▉      | 121/310 [00:33<00:52,  3.60it/s]"
          ]
        },
        {
          "name": "stdout",
          "output_type": "stream",
          "text": [
            "\n",
            "Index 121 (Yes), Layer‐Offset loop:\n",
            "  Last 10 token IDs:      [1, 477, 330, 17, 1, 323, 912, 1023, 1495, 13]\n",
            "  Last 10 token strings:  ['\"', 'Ġor', 'Ġ\"', '2', '\"', 'Ġand', 'Ġno', 'Ġother', 'Ġtext', '.']\n",
            "\n"
          ]
        },
        {
          "name": "stderr",
          "output_type": "stream",
          "text": [
            "\r 39%|███▉      | 122/310 [00:33<00:51,  3.63it/s]"
          ]
        },
        {
          "name": "stdout",
          "output_type": "stream",
          "text": [
            "\n",
            "Index 122 (No), Layer‐Offset loop:\n",
            "  Last 10 token IDs:      [1, 477, 330, 17, 1, 323, 912, 1023, 1495, 13]\n",
            "  Last 10 token strings:  ['\"', 'Ġor', 'Ġ\"', '2', '\"', 'Ġand', 'Ġno', 'Ġother', 'Ġtext', '.']\n",
            "\n"
          ]
        },
        {
          "name": "stderr",
          "output_type": "stream",
          "text": [
            "\r 40%|███▉      | 123/310 [00:33<00:51,  3.62it/s]"
          ]
        },
        {
          "name": "stdout",
          "output_type": "stream",
          "text": [
            "\n",
            "Index 123 (Yes), Layer‐Offset loop:\n",
            "  Last 10 token IDs:      [1, 477, 330, 17, 1, 323, 912, 1023, 1495, 13]\n",
            "  Last 10 token strings:  ['\"', 'Ġor', 'Ġ\"', '2', '\"', 'Ġand', 'Ġno', 'Ġother', 'Ġtext', '.']\n",
            "\n"
          ]
        },
        {
          "name": "stderr",
          "output_type": "stream",
          "text": [
            "\r 40%|████      | 124/310 [00:33<00:50,  3.70it/s]"
          ]
        },
        {
          "name": "stdout",
          "output_type": "stream",
          "text": [
            "\n",
            "Index 124 (Yes), Layer‐Offset loop:\n",
            "  Last 10 token IDs:      [1, 477, 330, 17, 1, 323, 912, 1023, 1495, 13]\n",
            "  Last 10 token strings:  ['\"', 'Ġor', 'Ġ\"', '2', '\"', 'Ġand', 'Ġno', 'Ġother', 'Ġtext', '.']\n",
            "\n"
          ]
        },
        {
          "name": "stderr",
          "output_type": "stream",
          "text": [
            "\r 40%|████      | 125/310 [00:34<00:50,  3.69it/s]"
          ]
        },
        {
          "name": "stdout",
          "output_type": "stream",
          "text": [
            "\n",
            "Index 125 (No), Layer‐Offset loop:\n",
            "  Last 10 token IDs:      [1, 477, 330, 17, 1, 323, 912, 1023, 1495, 13]\n",
            "  Last 10 token strings:  ['\"', 'Ġor', 'Ġ\"', '2', '\"', 'Ġand', 'Ġno', 'Ġother', 'Ġtext', '.']\n",
            "\n"
          ]
        },
        {
          "name": "stderr",
          "output_type": "stream",
          "text": [
            "\r 41%|████      | 126/310 [00:34<00:49,  3.73it/s]"
          ]
        },
        {
          "name": "stdout",
          "output_type": "stream",
          "text": [
            "\n",
            "Index 126 (No), Layer‐Offset loop:\n",
            "  Last 10 token IDs:      [1, 477, 330, 17, 1, 323, 912, 1023, 1495, 13]\n",
            "  Last 10 token strings:  ['\"', 'Ġor', 'Ġ\"', '2', '\"', 'Ġand', 'Ġno', 'Ġother', 'Ġtext', '.']\n",
            "\n"
          ]
        },
        {
          "name": "stderr",
          "output_type": "stream",
          "text": [
            "\r 41%|████      | 127/310 [00:34<00:48,  3.78it/s]"
          ]
        },
        {
          "name": "stdout",
          "output_type": "stream",
          "text": [
            "\n",
            "Index 127 (No), Layer‐Offset loop:\n",
            "  Last 10 token IDs:      [1, 477, 330, 17, 1, 323, 912, 1023, 1495, 13]\n",
            "  Last 10 token strings:  ['\"', 'Ġor', 'Ġ\"', '2', '\"', 'Ġand', 'Ġno', 'Ġother', 'Ġtext', '.']\n",
            "\n"
          ]
        },
        {
          "name": "stderr",
          "output_type": "stream",
          "text": [
            "\r 41%|████▏     | 128/310 [00:34<00:47,  3.85it/s]"
          ]
        },
        {
          "name": "stdout",
          "output_type": "stream",
          "text": [
            "\n",
            "Index 128 (No), Layer‐Offset loop:\n",
            "  Last 10 token IDs:      [1, 477, 330, 17, 1, 323, 912, 1023, 1495, 13]\n",
            "  Last 10 token strings:  ['\"', 'Ġor', 'Ġ\"', '2', '\"', 'Ġand', 'Ġno', 'Ġother', 'Ġtext', '.']\n",
            "\n"
          ]
        },
        {
          "name": "stderr",
          "output_type": "stream",
          "text": [
            "\r 42%|████▏     | 129/310 [00:35<00:47,  3.79it/s]"
          ]
        },
        {
          "name": "stdout",
          "output_type": "stream",
          "text": [
            "\n",
            "Index 129 (No), Layer‐Offset loop:\n",
            "  Last 10 token IDs:      [1, 477, 330, 17, 1, 323, 912, 1023, 1495, 13]\n",
            "  Last 10 token strings:  ['\"', 'Ġor', 'Ġ\"', '2', '\"', 'Ġand', 'Ġno', 'Ġother', 'Ġtext', '.']\n",
            "\n"
          ]
        },
        {
          "name": "stderr",
          "output_type": "stream",
          "text": [
            "\r 42%|████▏     | 130/310 [00:35<00:47,  3.78it/s]"
          ]
        },
        {
          "name": "stdout",
          "output_type": "stream",
          "text": [
            "\n",
            "Index 130 (No), Layer‐Offset loop:\n",
            "  Last 10 token IDs:      [1, 477, 330, 17, 1, 323, 912, 1023, 1495, 13]\n",
            "  Last 10 token strings:  ['\"', 'Ġor', 'Ġ\"', '2', '\"', 'Ġand', 'Ġno', 'Ġother', 'Ġtext', '.']\n",
            "\n"
          ]
        },
        {
          "name": "stderr",
          "output_type": "stream",
          "text": [
            "\r 42%|████▏     | 131/310 [00:35<00:47,  3.78it/s]"
          ]
        },
        {
          "name": "stdout",
          "output_type": "stream",
          "text": [
            "\n",
            "Index 131 (No), Layer‐Offset loop:\n",
            "  Last 10 token IDs:      [1, 477, 330, 17, 1, 323, 912, 1023, 1495, 13]\n",
            "  Last 10 token strings:  ['\"', 'Ġor', 'Ġ\"', '2', '\"', 'Ġand', 'Ġno', 'Ġother', 'Ġtext', '.']\n",
            "\n"
          ]
        },
        {
          "name": "stderr",
          "output_type": "stream",
          "text": [
            "\r 43%|████▎     | 132/310 [00:35<00:46,  3.83it/s]"
          ]
        },
        {
          "name": "stdout",
          "output_type": "stream",
          "text": [
            "\n",
            "Index 132 (No), Layer‐Offset loop:\n",
            "  Last 10 token IDs:      [1, 477, 330, 17, 1, 323, 912, 1023, 1495, 13]\n",
            "  Last 10 token strings:  ['\"', 'Ġor', 'Ġ\"', '2', '\"', 'Ġand', 'Ġno', 'Ġother', 'Ġtext', '.']\n",
            "\n"
          ]
        },
        {
          "name": "stderr",
          "output_type": "stream",
          "text": [
            "\r 43%|████▎     | 133/310 [00:36<00:46,  3.84it/s]"
          ]
        },
        {
          "name": "stdout",
          "output_type": "stream",
          "text": [
            "\n",
            "Index 133 (Yes), Layer‐Offset loop:\n",
            "  Last 10 token IDs:      [1, 477, 330, 17, 1, 323, 912, 1023, 1495, 13]\n",
            "  Last 10 token strings:  ['\"', 'Ġor', 'Ġ\"', '2', '\"', 'Ġand', 'Ġno', 'Ġother', 'Ġtext', '.']\n",
            "\n"
          ]
        },
        {
          "name": "stderr",
          "output_type": "stream",
          "text": [
            "\r 43%|████▎     | 134/310 [00:36<00:45,  3.89it/s]"
          ]
        },
        {
          "name": "stdout",
          "output_type": "stream",
          "text": [
            "\n",
            "Index 134 (Yes), Layer‐Offset loop:\n",
            "  Last 10 token IDs:      [1, 477, 330, 17, 1, 323, 912, 1023, 1495, 13]\n",
            "  Last 10 token strings:  ['\"', 'Ġor', 'Ġ\"', '2', '\"', 'Ġand', 'Ġno', 'Ġother', 'Ġtext', '.']\n",
            "\n"
          ]
        },
        {
          "name": "stderr",
          "output_type": "stream",
          "text": [
            "\r 44%|████▎     | 135/310 [00:36<00:49,  3.56it/s]"
          ]
        },
        {
          "name": "stdout",
          "output_type": "stream",
          "text": [
            "\n",
            "Index 135 (No), Layer‐Offset loop:\n",
            "  Last 10 token IDs:      [1, 477, 330, 17, 1, 323, 912, 1023, 1495, 13]\n",
            "  Last 10 token strings:  ['\"', 'Ġor', 'Ġ\"', '2', '\"', 'Ġand', 'Ġno', 'Ġother', 'Ġtext', '.']\n",
            "\n"
          ]
        },
        {
          "name": "stderr",
          "output_type": "stream",
          "text": [
            "\r 44%|████▍     | 136/310 [00:37<00:49,  3.51it/s]"
          ]
        },
        {
          "name": "stdout",
          "output_type": "stream",
          "text": [
            "\n",
            "Index 136 (No), Layer‐Offset loop:\n",
            "  Last 10 token IDs:      [1, 477, 330, 17, 1, 323, 912, 1023, 1495, 13]\n",
            "  Last 10 token strings:  ['\"', 'Ġor', 'Ġ\"', '2', '\"', 'Ġand', 'Ġno', 'Ġother', 'Ġtext', '.']\n",
            "\n"
          ]
        },
        {
          "name": "stderr",
          "output_type": "stream",
          "text": [
            "\r 44%|████▍     | 137/310 [00:37<00:47,  3.62it/s]"
          ]
        },
        {
          "name": "stdout",
          "output_type": "stream",
          "text": [
            "\n",
            "Index 137 (Yes), Layer‐Offset loop:\n",
            "  Last 10 token IDs:      [1, 477, 330, 17, 1, 323, 912, 1023, 1495, 13]\n",
            "  Last 10 token strings:  ['\"', 'Ġor', 'Ġ\"', '2', '\"', 'Ġand', 'Ġno', 'Ġother', 'Ġtext', '.']\n",
            "\n"
          ]
        },
        {
          "name": "stderr",
          "output_type": "stream",
          "text": [
            "\r 45%|████▍     | 138/310 [00:37<00:47,  3.64it/s]"
          ]
        },
        {
          "name": "stdout",
          "output_type": "stream",
          "text": [
            "\n",
            "Index 138 (Yes), Layer‐Offset loop:\n",
            "  Last 10 token IDs:      [1, 477, 330, 17, 1, 323, 912, 1023, 1495, 13]\n",
            "  Last 10 token strings:  ['\"', 'Ġor', 'Ġ\"', '2', '\"', 'Ġand', 'Ġno', 'Ġother', 'Ġtext', '.']\n",
            "\n"
          ]
        },
        {
          "name": "stderr",
          "output_type": "stream",
          "text": [
            "\r 45%|████▍     | 139/310 [00:37<00:47,  3.61it/s]"
          ]
        },
        {
          "name": "stdout",
          "output_type": "stream",
          "text": [
            "\n",
            "Index 139 (No), Layer‐Offset loop:\n",
            "  Last 10 token IDs:      [1, 477, 330, 17, 1, 323, 912, 1023, 1495, 13]\n",
            "  Last 10 token strings:  ['\"', 'Ġor', 'Ġ\"', '2', '\"', 'Ġand', 'Ġno', 'Ġother', 'Ġtext', '.']\n",
            "\n"
          ]
        },
        {
          "name": "stderr",
          "output_type": "stream",
          "text": [
            "\r 45%|████▌     | 140/310 [00:38<00:46,  3.69it/s]"
          ]
        },
        {
          "name": "stdout",
          "output_type": "stream",
          "text": [
            "\n",
            "Index 140 (Yes), Layer‐Offset loop:\n",
            "  Last 10 token IDs:      [1, 477, 330, 17, 1, 323, 912, 1023, 1495, 13]\n",
            "  Last 10 token strings:  ['\"', 'Ġor', 'Ġ\"', '2', '\"', 'Ġand', 'Ġno', 'Ġother', 'Ġtext', '.']\n",
            "\n"
          ]
        },
        {
          "name": "stderr",
          "output_type": "stream",
          "text": [
            "\r 45%|████▌     | 141/310 [00:38<00:45,  3.71it/s]"
          ]
        },
        {
          "name": "stdout",
          "output_type": "stream",
          "text": [
            "\n",
            "Index 141 (No), Layer‐Offset loop:\n",
            "  Last 10 token IDs:      [1, 477, 330, 17, 1, 323, 912, 1023, 1495, 13]\n",
            "  Last 10 token strings:  ['\"', 'Ġor', 'Ġ\"', '2', '\"', 'Ġand', 'Ġno', 'Ġother', 'Ġtext', '.']\n",
            "\n"
          ]
        },
        {
          "name": "stderr",
          "output_type": "stream",
          "text": [
            "\r 46%|████▌     | 142/310 [00:38<00:46,  3.61it/s]"
          ]
        },
        {
          "name": "stdout",
          "output_type": "stream",
          "text": [
            "\n",
            "Index 142 (No), Layer‐Offset loop:\n",
            "  Last 10 token IDs:      [1, 477, 330, 17, 1, 323, 912, 1023, 1495, 13]\n",
            "  Last 10 token strings:  ['\"', 'Ġor', 'Ġ\"', '2', '\"', 'Ġand', 'Ġno', 'Ġother', 'Ġtext', '.']\n",
            "\n"
          ]
        },
        {
          "name": "stderr",
          "output_type": "stream",
          "text": [
            "\r 46%|████▌     | 143/310 [00:38<00:45,  3.68it/s]"
          ]
        },
        {
          "name": "stdout",
          "output_type": "stream",
          "text": [
            "\n",
            "Index 143 (No), Layer‐Offset loop:\n",
            "  Last 10 token IDs:      [1, 477, 330, 17, 1, 323, 912, 1023, 1495, 13]\n",
            "  Last 10 token strings:  ['\"', 'Ġor', 'Ġ\"', '2', '\"', 'Ġand', 'Ġno', 'Ġother', 'Ġtext', '.']\n",
            "\n"
          ]
        },
        {
          "name": "stderr",
          "output_type": "stream",
          "text": [
            "\r 46%|████▋     | 144/310 [00:39<00:46,  3.60it/s]"
          ]
        },
        {
          "name": "stdout",
          "output_type": "stream",
          "text": [
            "\n",
            "Index 144 (No), Layer‐Offset loop:\n",
            "  Last 10 token IDs:      [1, 477, 330, 17, 1, 323, 912, 1023, 1495, 13]\n",
            "  Last 10 token strings:  ['\"', 'Ġor', 'Ġ\"', '2', '\"', 'Ġand', 'Ġno', 'Ġother', 'Ġtext', '.']\n",
            "\n"
          ]
        },
        {
          "name": "stderr",
          "output_type": "stream",
          "text": [
            "\r 47%|████▋     | 145/310 [00:39<00:46,  3.56it/s]"
          ]
        },
        {
          "name": "stdout",
          "output_type": "stream",
          "text": [
            "\n",
            "Index 145 (No), Layer‐Offset loop:\n",
            "  Last 10 token IDs:      [1, 477, 330, 17, 1, 323, 912, 1023, 1495, 13]\n",
            "  Last 10 token strings:  ['\"', 'Ġor', 'Ġ\"', '2', '\"', 'Ġand', 'Ġno', 'Ġother', 'Ġtext', '.']\n",
            "\n"
          ]
        },
        {
          "name": "stderr",
          "output_type": "stream",
          "text": [
            "\r 47%|████▋     | 146/310 [00:39<00:48,  3.40it/s]"
          ]
        },
        {
          "name": "stdout",
          "output_type": "stream",
          "text": [
            "\n",
            "Index 146 (Yes), Layer‐Offset loop:\n",
            "  Last 10 token IDs:      [1, 477, 330, 17, 1, 323, 912, 1023, 1495, 13]\n",
            "  Last 10 token strings:  ['\"', 'Ġor', 'Ġ\"', '2', '\"', 'Ġand', 'Ġno', 'Ġother', 'Ġtext', '.']\n",
            "\n"
          ]
        },
        {
          "name": "stderr",
          "output_type": "stream",
          "text": [
            "\r 47%|████▋     | 147/310 [00:40<00:46,  3.52it/s]"
          ]
        },
        {
          "name": "stdout",
          "output_type": "stream",
          "text": [
            "\n",
            "Index 147 (Yes), Layer‐Offset loop:\n",
            "  Last 10 token IDs:      [1, 477, 330, 17, 1, 323, 912, 1023, 1495, 13]\n",
            "  Last 10 token strings:  ['\"', 'Ġor', 'Ġ\"', '2', '\"', 'Ġand', 'Ġno', 'Ġother', 'Ġtext', '.']\n",
            "\n"
          ]
        },
        {
          "name": "stderr",
          "output_type": "stream",
          "text": [
            "\r 48%|████▊     | 148/310 [00:40<00:46,  3.52it/s]"
          ]
        },
        {
          "name": "stdout",
          "output_type": "stream",
          "text": [
            "\n",
            "Index 148 (No), Layer‐Offset loop:\n",
            "  Last 10 token IDs:      [1, 477, 330, 17, 1, 323, 912, 1023, 1495, 13]\n",
            "  Last 10 token strings:  ['\"', 'Ġor', 'Ġ\"', '2', '\"', 'Ġand', 'Ġno', 'Ġother', 'Ġtext', '.']\n",
            "\n"
          ]
        },
        {
          "name": "stderr",
          "output_type": "stream",
          "text": [
            "\r 48%|████▊     | 149/310 [00:40<00:44,  3.59it/s]"
          ]
        },
        {
          "name": "stdout",
          "output_type": "stream",
          "text": [
            "\n",
            "Index 149 (No), Layer‐Offset loop:\n",
            "  Last 10 token IDs:      [1, 477, 330, 17, 1, 323, 912, 1023, 1495, 13]\n",
            "  Last 10 token strings:  ['\"', 'Ġor', 'Ġ\"', '2', '\"', 'Ġand', 'Ġno', 'Ġother', 'Ġtext', '.']\n",
            "\n"
          ]
        },
        {
          "name": "stderr",
          "output_type": "stream",
          "text": [
            "\r 48%|████▊     | 150/310 [00:40<00:45,  3.49it/s]"
          ]
        },
        {
          "name": "stdout",
          "output_type": "stream",
          "text": [
            "\n",
            "Index 150 (Yes), Layer‐Offset loop:\n",
            "  Last 10 token IDs:      [1, 477, 330, 17, 1, 323, 912, 1023, 1495, 13]\n",
            "  Last 10 token strings:  ['\"', 'Ġor', 'Ġ\"', '2', '\"', 'Ġand', 'Ġno', 'Ġother', 'Ġtext', '.']\n",
            "\n"
          ]
        },
        {
          "name": "stderr",
          "output_type": "stream",
          "text": [
            "\r 49%|████▊     | 151/310 [00:41<00:44,  3.56it/s]"
          ]
        },
        {
          "name": "stdout",
          "output_type": "stream",
          "text": [
            "\n",
            "Index 151 (No), Layer‐Offset loop:\n",
            "  Last 10 token IDs:      [1, 477, 330, 17, 1, 323, 912, 1023, 1495, 13]\n",
            "  Last 10 token strings:  ['\"', 'Ġor', 'Ġ\"', '2', '\"', 'Ġand', 'Ġno', 'Ġother', 'Ġtext', '.']\n",
            "\n"
          ]
        },
        {
          "name": "stderr",
          "output_type": "stream",
          "text": [
            "\r 49%|████▉     | 152/310 [00:41<00:44,  3.56it/s]"
          ]
        },
        {
          "name": "stdout",
          "output_type": "stream",
          "text": [
            "\n",
            "Index 152 (No), Layer‐Offset loop:\n",
            "  Last 10 token IDs:      [1, 477, 330, 17, 1, 323, 912, 1023, 1495, 13]\n",
            "  Last 10 token strings:  ['\"', 'Ġor', 'Ġ\"', '2', '\"', 'Ġand', 'Ġno', 'Ġother', 'Ġtext', '.']\n",
            "\n"
          ]
        },
        {
          "name": "stderr",
          "output_type": "stream",
          "text": [
            "\r 49%|████▉     | 153/310 [00:41<00:42,  3.67it/s]"
          ]
        },
        {
          "name": "stdout",
          "output_type": "stream",
          "text": [
            "\n",
            "Index 153 (Yes), Layer‐Offset loop:\n",
            "  Last 10 token IDs:      [1, 477, 330, 17, 1, 323, 912, 1023, 1495, 13]\n",
            "  Last 10 token strings:  ['\"', 'Ġor', 'Ġ\"', '2', '\"', 'Ġand', 'Ġno', 'Ġother', 'Ġtext', '.']\n",
            "\n"
          ]
        },
        {
          "name": "stderr",
          "output_type": "stream",
          "text": [
            "\r 50%|████▉     | 154/310 [00:42<00:42,  3.69it/s]"
          ]
        },
        {
          "name": "stdout",
          "output_type": "stream",
          "text": [
            "\n",
            "Index 154 (Yes), Layer‐Offset loop:\n",
            "  Last 10 token IDs:      [1, 477, 330, 17, 1, 323, 912, 1023, 1495, 13]\n",
            "  Last 10 token strings:  ['\"', 'Ġor', 'Ġ\"', '2', '\"', 'Ġand', 'Ġno', 'Ġother', 'Ġtext', '.']\n",
            "\n"
          ]
        },
        {
          "name": "stderr",
          "output_type": "stream",
          "text": [
            "\r 50%|█████     | 155/310 [00:42<00:44,  3.46it/s]"
          ]
        },
        {
          "name": "stdout",
          "output_type": "stream",
          "text": [
            "\n",
            "Index 155 (Yes), Layer‐Offset loop:\n",
            "  Last 10 token IDs:      [1, 477, 330, 17, 1, 323, 912, 1023, 1495, 13]\n",
            "  Last 10 token strings:  ['\"', 'Ġor', 'Ġ\"', '2', '\"', 'Ġand', 'Ġno', 'Ġother', 'Ġtext', '.']\n",
            "\n"
          ]
        },
        {
          "name": "stderr",
          "output_type": "stream",
          "text": [
            "\r 50%|█████     | 156/310 [00:42<00:42,  3.59it/s]"
          ]
        },
        {
          "name": "stdout",
          "output_type": "stream",
          "text": [
            "\n",
            "Index 156 (Yes), Layer‐Offset loop:\n",
            "  Last 10 token IDs:      [1, 477, 330, 17, 1, 323, 912, 1023, 1495, 13]\n",
            "  Last 10 token strings:  ['\"', 'Ġor', 'Ġ\"', '2', '\"', 'Ġand', 'Ġno', 'Ġother', 'Ġtext', '.']\n",
            "\n"
          ]
        },
        {
          "name": "stderr",
          "output_type": "stream",
          "text": [
            "\r 51%|█████     | 157/310 [00:42<00:43,  3.53it/s]"
          ]
        },
        {
          "name": "stdout",
          "output_type": "stream",
          "text": [
            "\n",
            "Index 157 (No), Layer‐Offset loop:\n",
            "  Last 10 token IDs:      [1, 477, 330, 17, 1, 323, 912, 1023, 1495, 13]\n",
            "  Last 10 token strings:  ['\"', 'Ġor', 'Ġ\"', '2', '\"', 'Ġand', 'Ġno', 'Ġother', 'Ġtext', '.']\n",
            "\n"
          ]
        },
        {
          "name": "stderr",
          "output_type": "stream",
          "text": [
            "\r 51%|█████     | 158/310 [00:43<00:41,  3.64it/s]"
          ]
        },
        {
          "name": "stdout",
          "output_type": "stream",
          "text": [
            "\n",
            "Index 158 (Yes), Layer‐Offset loop:\n",
            "  Last 10 token IDs:      [1, 477, 330, 17, 1, 323, 912, 1023, 1495, 13]\n",
            "  Last 10 token strings:  ['\"', 'Ġor', 'Ġ\"', '2', '\"', 'Ġand', 'Ġno', 'Ġother', 'Ġtext', '.']\n",
            "\n"
          ]
        },
        {
          "name": "stderr",
          "output_type": "stream",
          "text": [
            "\r 51%|█████▏    | 159/310 [00:43<00:40,  3.72it/s]"
          ]
        },
        {
          "name": "stdout",
          "output_type": "stream",
          "text": [
            "\n",
            "Index 159 (No), Layer‐Offset loop:\n",
            "  Last 10 token IDs:      [1, 477, 330, 17, 1, 323, 912, 1023, 1495, 13]\n",
            "  Last 10 token strings:  ['\"', 'Ġor', 'Ġ\"', '2', '\"', 'Ġand', 'Ġno', 'Ġother', 'Ġtext', '.']\n",
            "\n"
          ]
        },
        {
          "name": "stderr",
          "output_type": "stream",
          "text": [
            "\r 52%|█████▏    | 160/310 [00:43<00:39,  3.78it/s]"
          ]
        },
        {
          "name": "stdout",
          "output_type": "stream",
          "text": [
            "\n",
            "Index 160 (No), Layer‐Offset loop:\n",
            "  Last 10 token IDs:      [1, 477, 330, 17, 1, 323, 912, 1023, 1495, 13]\n",
            "  Last 10 token strings:  ['\"', 'Ġor', 'Ġ\"', '2', '\"', 'Ġand', 'Ġno', 'Ġother', 'Ġtext', '.']\n",
            "\n"
          ]
        },
        {
          "name": "stderr",
          "output_type": "stream",
          "text": [
            "\r 52%|█████▏    | 161/310 [00:43<00:39,  3.78it/s]"
          ]
        },
        {
          "name": "stdout",
          "output_type": "stream",
          "text": [
            "\n",
            "Index 161 (Yes), Layer‐Offset loop:\n",
            "  Last 10 token IDs:      [1, 477, 330, 17, 1, 323, 912, 1023, 1495, 13]\n",
            "  Last 10 token strings:  ['\"', 'Ġor', 'Ġ\"', '2', '\"', 'Ġand', 'Ġno', 'Ġother', 'Ġtext', '.']\n",
            "\n"
          ]
        },
        {
          "name": "stderr",
          "output_type": "stream",
          "text": [
            "\r 52%|█████▏    | 162/310 [00:44<00:39,  3.77it/s]"
          ]
        },
        {
          "name": "stdout",
          "output_type": "stream",
          "text": [
            "\n",
            "Index 162 (No), Layer‐Offset loop:\n",
            "  Last 10 token IDs:      [1, 477, 330, 17, 1, 323, 912, 1023, 1495, 13]\n",
            "  Last 10 token strings:  ['\"', 'Ġor', 'Ġ\"', '2', '\"', 'Ġand', 'Ġno', 'Ġother', 'Ġtext', '.']\n",
            "\n"
          ]
        },
        {
          "name": "stderr",
          "output_type": "stream",
          "text": [
            "\r 53%|█████▎    | 163/310 [00:44<00:39,  3.76it/s]"
          ]
        },
        {
          "name": "stdout",
          "output_type": "stream",
          "text": [
            "\n",
            "Index 163 (No), Layer‐Offset loop:\n",
            "  Last 10 token IDs:      [1, 477, 330, 17, 1, 323, 912, 1023, 1495, 13]\n",
            "  Last 10 token strings:  ['\"', 'Ġor', 'Ġ\"', '2', '\"', 'Ġand', 'Ġno', 'Ġother', 'Ġtext', '.']\n",
            "\n"
          ]
        },
        {
          "name": "stderr",
          "output_type": "stream",
          "text": [
            "\r 53%|█████▎    | 164/310 [00:44<00:41,  3.52it/s]"
          ]
        },
        {
          "name": "stdout",
          "output_type": "stream",
          "text": [
            "\n",
            "Index 164 (Yes), Layer‐Offset loop:\n",
            "  Last 10 token IDs:      [1, 477, 330, 17, 1, 323, 912, 1023, 1495, 13]\n",
            "  Last 10 token strings:  ['\"', 'Ġor', 'Ġ\"', '2', '\"', 'Ġand', 'Ġno', 'Ġother', 'Ġtext', '.']\n",
            "\n"
          ]
        },
        {
          "name": "stderr",
          "output_type": "stream",
          "text": [
            "\r 53%|█████▎    | 165/310 [00:45<00:40,  3.54it/s]"
          ]
        },
        {
          "name": "stdout",
          "output_type": "stream",
          "text": [
            "\n",
            "Index 165 (No), Layer‐Offset loop:\n",
            "  Last 10 token IDs:      [1, 477, 330, 17, 1, 323, 912, 1023, 1495, 13]\n",
            "  Last 10 token strings:  ['\"', 'Ġor', 'Ġ\"', '2', '\"', 'Ġand', 'Ġno', 'Ġother', 'Ġtext', '.']\n",
            "\n"
          ]
        },
        {
          "name": "stderr",
          "output_type": "stream",
          "text": [
            "\r 54%|█████▎    | 166/310 [00:45<00:40,  3.58it/s]"
          ]
        },
        {
          "name": "stdout",
          "output_type": "stream",
          "text": [
            "\n",
            "Index 166 (Yes), Layer‐Offset loop:\n",
            "  Last 10 token IDs:      [1, 477, 330, 17, 1, 323, 912, 1023, 1495, 13]\n",
            "  Last 10 token strings:  ['\"', 'Ġor', 'Ġ\"', '2', '\"', 'Ġand', 'Ġno', 'Ġother', 'Ġtext', '.']\n",
            "\n"
          ]
        },
        {
          "name": "stderr",
          "output_type": "stream",
          "text": [
            "\r 54%|█████▍    | 167/310 [00:45<00:38,  3.71it/s]"
          ]
        },
        {
          "name": "stdout",
          "output_type": "stream",
          "text": [
            "\n",
            "Index 167 (No), Layer‐Offset loop:\n",
            "  Last 10 token IDs:      [1, 477, 330, 17, 1, 323, 912, 1023, 1495, 13]\n",
            "  Last 10 token strings:  ['\"', 'Ġor', 'Ġ\"', '2', '\"', 'Ġand', 'Ġno', 'Ġother', 'Ġtext', '.']\n",
            "\n"
          ]
        },
        {
          "name": "stderr",
          "output_type": "stream",
          "text": [
            "\r 54%|█████▍    | 168/310 [00:45<00:37,  3.76it/s]"
          ]
        },
        {
          "name": "stdout",
          "output_type": "stream",
          "text": [
            "\n",
            "Index 168 (No), Layer‐Offset loop:\n",
            "  Last 10 token IDs:      [1, 477, 330, 17, 1, 323, 912, 1023, 1495, 13]\n",
            "  Last 10 token strings:  ['\"', 'Ġor', 'Ġ\"', '2', '\"', 'Ġand', 'Ġno', 'Ġother', 'Ġtext', '.']\n",
            "\n"
          ]
        },
        {
          "name": "stderr",
          "output_type": "stream",
          "text": [
            "\r 55%|█████▍    | 169/310 [00:46<00:38,  3.71it/s]"
          ]
        },
        {
          "name": "stdout",
          "output_type": "stream",
          "text": [
            "\n",
            "Index 169 (Yes), Layer‐Offset loop:\n",
            "  Last 10 token IDs:      [1, 477, 330, 17, 1, 323, 912, 1023, 1495, 13]\n",
            "  Last 10 token strings:  ['\"', 'Ġor', 'Ġ\"', '2', '\"', 'Ġand', 'Ġno', 'Ġother', 'Ġtext', '.']\n",
            "\n"
          ]
        },
        {
          "name": "stderr",
          "output_type": "stream",
          "text": [
            "\r 55%|█████▍    | 170/310 [00:46<00:37,  3.78it/s]"
          ]
        },
        {
          "name": "stdout",
          "output_type": "stream",
          "text": [
            "\n",
            "Index 170 (Yes), Layer‐Offset loop:\n",
            "  Last 10 token IDs:      [1, 477, 330, 17, 1, 323, 912, 1023, 1495, 13]\n",
            "  Last 10 token strings:  ['\"', 'Ġor', 'Ġ\"', '2', '\"', 'Ġand', 'Ġno', 'Ġother', 'Ġtext', '.']\n",
            "\n"
          ]
        },
        {
          "name": "stderr",
          "output_type": "stream",
          "text": [
            "\r 55%|█████▌    | 171/310 [00:46<00:36,  3.83it/s]"
          ]
        },
        {
          "name": "stdout",
          "output_type": "stream",
          "text": [
            "\n",
            "Index 171 (Yes), Layer‐Offset loop:\n",
            "  Last 10 token IDs:      [1, 477, 330, 17, 1, 323, 912, 1023, 1495, 13]\n",
            "  Last 10 token strings:  ['\"', 'Ġor', 'Ġ\"', '2', '\"', 'Ġand', 'Ġno', 'Ġother', 'Ġtext', '.']\n",
            "\n"
          ]
        },
        {
          "name": "stderr",
          "output_type": "stream",
          "text": [
            "\r 55%|█████▌    | 172/310 [00:46<00:36,  3.79it/s]"
          ]
        },
        {
          "name": "stdout",
          "output_type": "stream",
          "text": [
            "\n",
            "Index 172 (No), Layer‐Offset loop:\n",
            "  Last 10 token IDs:      [1, 477, 330, 17, 1, 323, 912, 1023, 1495, 13]\n",
            "  Last 10 token strings:  ['\"', 'Ġor', 'Ġ\"', '2', '\"', 'Ġand', 'Ġno', 'Ġother', 'Ġtext', '.']\n",
            "\n"
          ]
        },
        {
          "name": "stderr",
          "output_type": "stream",
          "text": [
            "\r 56%|█████▌    | 173/310 [00:47<00:37,  3.70it/s]"
          ]
        },
        {
          "name": "stdout",
          "output_type": "stream",
          "text": [
            "\n",
            "Index 173 (Yes), Layer‐Offset loop:\n",
            "  Last 10 token IDs:      [1, 477, 330, 17, 1, 323, 912, 1023, 1495, 13]\n",
            "  Last 10 token strings:  ['\"', 'Ġor', 'Ġ\"', '2', '\"', 'Ġand', 'Ġno', 'Ġother', 'Ġtext', '.']\n",
            "\n"
          ]
        },
        {
          "name": "stderr",
          "output_type": "stream",
          "text": [
            "\r 56%|█████▌    | 174/310 [00:47<00:36,  3.73it/s]"
          ]
        },
        {
          "name": "stdout",
          "output_type": "stream",
          "text": [
            "\n",
            "Index 174 (No), Layer‐Offset loop:\n",
            "  Last 10 token IDs:      [1, 477, 330, 17, 1, 323, 912, 1023, 1495, 13]\n",
            "  Last 10 token strings:  ['\"', 'Ġor', 'Ġ\"', '2', '\"', 'Ġand', 'Ġno', 'Ġother', 'Ġtext', '.']\n",
            "\n"
          ]
        },
        {
          "name": "stderr",
          "output_type": "stream",
          "text": [
            "\r 56%|█████▋    | 175/310 [00:47<00:37,  3.57it/s]"
          ]
        },
        {
          "name": "stdout",
          "output_type": "stream",
          "text": [
            "\n",
            "Index 175 (Yes), Layer‐Offset loop:\n",
            "  Last 10 token IDs:      [1, 477, 330, 17, 1, 323, 912, 1023, 1495, 13]\n",
            "  Last 10 token strings:  ['\"', 'Ġor', 'Ġ\"', '2', '\"', 'Ġand', 'Ġno', 'Ġother', 'Ġtext', '.']\n",
            "\n"
          ]
        },
        {
          "name": "stderr",
          "output_type": "stream",
          "text": [
            "\r 57%|█████▋    | 176/310 [00:48<00:36,  3.64it/s]"
          ]
        },
        {
          "name": "stdout",
          "output_type": "stream",
          "text": [
            "\n",
            "Index 176 (No), Layer‐Offset loop:\n",
            "  Last 10 token IDs:      [1, 477, 330, 17, 1, 323, 912, 1023, 1495, 13]\n",
            "  Last 10 token strings:  ['\"', 'Ġor', 'Ġ\"', '2', '\"', 'Ġand', 'Ġno', 'Ġother', 'Ġtext', '.']\n",
            "\n"
          ]
        },
        {
          "name": "stderr",
          "output_type": "stream",
          "text": [
            "\r 57%|█████▋    | 177/310 [00:48<00:36,  3.66it/s]"
          ]
        },
        {
          "name": "stdout",
          "output_type": "stream",
          "text": [
            "\n",
            "Index 177 (Yes), Layer‐Offset loop:\n",
            "  Last 10 token IDs:      [1, 477, 330, 17, 1, 323, 912, 1023, 1495, 13]\n",
            "  Last 10 token strings:  ['\"', 'Ġor', 'Ġ\"', '2', '\"', 'Ġand', 'Ġno', 'Ġother', 'Ġtext', '.']\n",
            "\n"
          ]
        },
        {
          "name": "stderr",
          "output_type": "stream",
          "text": [
            "\r 57%|█████▋    | 178/310 [00:48<00:36,  3.62it/s]"
          ]
        },
        {
          "name": "stdout",
          "output_type": "stream",
          "text": [
            "\n",
            "Index 178 (Yes), Layer‐Offset loop:\n",
            "  Last 10 token IDs:      [1, 477, 330, 17, 1, 323, 912, 1023, 1495, 13]\n",
            "  Last 10 token strings:  ['\"', 'Ġor', 'Ġ\"', '2', '\"', 'Ġand', 'Ġno', 'Ġother', 'Ġtext', '.']\n",
            "\n"
          ]
        },
        {
          "name": "stderr",
          "output_type": "stream",
          "text": [
            "\r 58%|█████▊    | 179/310 [00:48<00:36,  3.61it/s]"
          ]
        },
        {
          "name": "stdout",
          "output_type": "stream",
          "text": [
            "\n",
            "Index 179 (No), Layer‐Offset loop:\n",
            "  Last 10 token IDs:      [1, 477, 330, 17, 1, 323, 912, 1023, 1495, 13]\n",
            "  Last 10 token strings:  ['\"', 'Ġor', 'Ġ\"', '2', '\"', 'Ġand', 'Ġno', 'Ġother', 'Ġtext', '.']\n",
            "\n"
          ]
        },
        {
          "name": "stderr",
          "output_type": "stream",
          "text": [
            "\r 58%|█████▊    | 180/310 [00:49<00:34,  3.72it/s]"
          ]
        },
        {
          "name": "stdout",
          "output_type": "stream",
          "text": [
            "\n",
            "Index 180 (No), Layer‐Offset loop:\n",
            "  Last 10 token IDs:      [1, 477, 330, 17, 1, 323, 912, 1023, 1495, 13]\n",
            "  Last 10 token strings:  ['\"', 'Ġor', 'Ġ\"', '2', '\"', 'Ġand', 'Ġno', 'Ġother', 'Ġtext', '.']\n",
            "\n"
          ]
        },
        {
          "name": "stderr",
          "output_type": "stream",
          "text": [
            "\r 58%|█████▊    | 181/310 [00:49<00:33,  3.81it/s]"
          ]
        },
        {
          "name": "stdout",
          "output_type": "stream",
          "text": [
            "\n",
            "Index 181 (No), Layer‐Offset loop:\n",
            "  Last 10 token IDs:      [1, 477, 330, 17, 1, 323, 912, 1023, 1495, 13]\n",
            "  Last 10 token strings:  ['\"', 'Ġor', 'Ġ\"', '2', '\"', 'Ġand', 'Ġno', 'Ġother', 'Ġtext', '.']\n",
            "\n"
          ]
        },
        {
          "name": "stderr",
          "output_type": "stream",
          "text": [
            "\r 59%|█████▊    | 182/310 [00:49<00:33,  3.86it/s]"
          ]
        },
        {
          "name": "stdout",
          "output_type": "stream",
          "text": [
            "\n",
            "Index 182 (Yes), Layer‐Offset loop:\n",
            "  Last 10 token IDs:      [1, 477, 330, 17, 1, 323, 912, 1023, 1495, 13]\n",
            "  Last 10 token strings:  ['\"', 'Ġor', 'Ġ\"', '2', '\"', 'Ġand', 'Ġno', 'Ġother', 'Ġtext', '.']\n",
            "\n"
          ]
        },
        {
          "name": "stderr",
          "output_type": "stream",
          "text": [
            "\r 59%|█████▉    | 183/310 [00:49<00:34,  3.66it/s]"
          ]
        },
        {
          "name": "stdout",
          "output_type": "stream",
          "text": [
            "\n",
            "Index 183 (Yes), Layer‐Offset loop:\n",
            "  Last 10 token IDs:      [1, 477, 330, 17, 1, 323, 912, 1023, 1495, 13]\n",
            "  Last 10 token strings:  ['\"', 'Ġor', 'Ġ\"', '2', '\"', 'Ġand', 'Ġno', 'Ġother', 'Ġtext', '.']\n",
            "\n"
          ]
        },
        {
          "name": "stderr",
          "output_type": "stream",
          "text": [
            "\r 59%|█████▉    | 184/310 [00:50<00:34,  3.68it/s]"
          ]
        },
        {
          "name": "stdout",
          "output_type": "stream",
          "text": [
            "\n",
            "Index 184 (No), Layer‐Offset loop:\n",
            "  Last 10 token IDs:      [1, 477, 330, 17, 1, 323, 912, 1023, 1495, 13]\n",
            "  Last 10 token strings:  ['\"', 'Ġor', 'Ġ\"', '2', '\"', 'Ġand', 'Ġno', 'Ġother', 'Ġtext', '.']\n",
            "\n"
          ]
        },
        {
          "name": "stderr",
          "output_type": "stream",
          "text": [
            "\r 60%|█████▉    | 185/310 [00:50<00:35,  3.52it/s]"
          ]
        },
        {
          "name": "stdout",
          "output_type": "stream",
          "text": [
            "\n",
            "Index 185 (Yes), Layer‐Offset loop:\n",
            "  Last 10 token IDs:      [1, 477, 330, 17, 1, 323, 912, 1023, 1495, 13]\n",
            "  Last 10 token strings:  ['\"', 'Ġor', 'Ġ\"', '2', '\"', 'Ġand', 'Ġno', 'Ġother', 'Ġtext', '.']\n",
            "\n"
          ]
        },
        {
          "name": "stderr",
          "output_type": "stream",
          "text": [
            "\r 60%|██████    | 186/310 [00:50<00:34,  3.62it/s]"
          ]
        },
        {
          "name": "stdout",
          "output_type": "stream",
          "text": [
            "\n",
            "Index 186 (Yes), Layer‐Offset loop:\n",
            "  Last 10 token IDs:      [1, 477, 330, 17, 1, 323, 912, 1023, 1495, 13]\n",
            "  Last 10 token strings:  ['\"', 'Ġor', 'Ġ\"', '2', '\"', 'Ġand', 'Ġno', 'Ġother', 'Ġtext', '.']\n",
            "\n"
          ]
        },
        {
          "name": "stderr",
          "output_type": "stream",
          "text": [
            "\r 60%|██████    | 187/310 [00:51<00:33,  3.63it/s]"
          ]
        },
        {
          "name": "stdout",
          "output_type": "stream",
          "text": [
            "\n",
            "Index 187 (No), Layer‐Offset loop:\n",
            "  Last 10 token IDs:      [1, 477, 330, 17, 1, 323, 912, 1023, 1495, 13]\n",
            "  Last 10 token strings:  ['\"', 'Ġor', 'Ġ\"', '2', '\"', 'Ġand', 'Ġno', 'Ġother', 'Ġtext', '.']\n",
            "\n"
          ]
        },
        {
          "name": "stderr",
          "output_type": "stream",
          "text": [
            "\r 61%|██████    | 188/310 [00:51<00:33,  3.67it/s]"
          ]
        },
        {
          "name": "stdout",
          "output_type": "stream",
          "text": [
            "\n",
            "Index 188 (Yes), Layer‐Offset loop:\n",
            "  Last 10 token IDs:      [1, 477, 330, 17, 1, 323, 912, 1023, 1495, 13]\n",
            "  Last 10 token strings:  ['\"', 'Ġor', 'Ġ\"', '2', '\"', 'Ġand', 'Ġno', 'Ġother', 'Ġtext', '.']\n",
            "\n"
          ]
        },
        {
          "name": "stderr",
          "output_type": "stream",
          "text": [
            "\r 61%|██████    | 189/310 [00:51<00:32,  3.71it/s]"
          ]
        },
        {
          "name": "stdout",
          "output_type": "stream",
          "text": [
            "\n",
            "Index 189 (No), Layer‐Offset loop:\n",
            "  Last 10 token IDs:      [1, 477, 330, 17, 1, 323, 912, 1023, 1495, 13]\n",
            "  Last 10 token strings:  ['\"', 'Ġor', 'Ġ\"', '2', '\"', 'Ġand', 'Ġno', 'Ġother', 'Ġtext', '.']\n",
            "\n"
          ]
        },
        {
          "name": "stderr",
          "output_type": "stream",
          "text": [
            "\r 61%|██████▏   | 190/310 [00:51<00:32,  3.70it/s]"
          ]
        },
        {
          "name": "stdout",
          "output_type": "stream",
          "text": [
            "\n",
            "Index 190 (Yes), Layer‐Offset loop:\n",
            "  Last 10 token IDs:      [1, 477, 330, 17, 1, 323, 912, 1023, 1495, 13]\n",
            "  Last 10 token strings:  ['\"', 'Ġor', 'Ġ\"', '2', '\"', 'Ġand', 'Ġno', 'Ġother', 'Ġtext', '.']\n",
            "\n"
          ]
        },
        {
          "name": "stderr",
          "output_type": "stream",
          "text": [
            "\r 62%|██████▏   | 191/310 [00:52<00:31,  3.77it/s]"
          ]
        },
        {
          "name": "stdout",
          "output_type": "stream",
          "text": [
            "\n",
            "Index 191 (No), Layer‐Offset loop:\n",
            "  Last 10 token IDs:      [1, 477, 330, 17, 1, 323, 912, 1023, 1495, 13]\n",
            "  Last 10 token strings:  ['\"', 'Ġor', 'Ġ\"', '2', '\"', 'Ġand', 'Ġno', 'Ġother', 'Ġtext', '.']\n",
            "\n"
          ]
        },
        {
          "name": "stderr",
          "output_type": "stream",
          "text": [
            "\r 62%|██████▏   | 192/310 [00:52<00:31,  3.76it/s]"
          ]
        },
        {
          "name": "stdout",
          "output_type": "stream",
          "text": [
            "\n",
            "Index 192 (No), Layer‐Offset loop:\n",
            "  Last 10 token IDs:      [1, 477, 330, 17, 1, 323, 912, 1023, 1495, 13]\n",
            "  Last 10 token strings:  ['\"', 'Ġor', 'Ġ\"', '2', '\"', 'Ġand', 'Ġno', 'Ġother', 'Ġtext', '.']\n",
            "\n"
          ]
        },
        {
          "name": "stderr",
          "output_type": "stream",
          "text": [
            "\r 62%|██████▏   | 193/310 [00:52<00:31,  3.74it/s]"
          ]
        },
        {
          "name": "stdout",
          "output_type": "stream",
          "text": [
            "\n",
            "Index 193 (Yes), Layer‐Offset loop:\n",
            "  Last 10 token IDs:      [1, 477, 330, 17, 1, 323, 912, 1023, 1495, 13]\n",
            "  Last 10 token strings:  ['\"', 'Ġor', 'Ġ\"', '2', '\"', 'Ġand', 'Ġno', 'Ġother', 'Ġtext', '.']\n",
            "\n"
          ]
        },
        {
          "name": "stderr",
          "output_type": "stream",
          "text": [
            "\r 63%|██████▎   | 194/310 [00:52<00:31,  3.73it/s]"
          ]
        },
        {
          "name": "stdout",
          "output_type": "stream",
          "text": [
            "\n",
            "Index 194 (No), Layer‐Offset loop:\n",
            "  Last 10 token IDs:      [1, 477, 330, 17, 1, 323, 912, 1023, 1495, 13]\n",
            "  Last 10 token strings:  ['\"', 'Ġor', 'Ġ\"', '2', '\"', 'Ġand', 'Ġno', 'Ġother', 'Ġtext', '.']\n",
            "\n"
          ]
        },
        {
          "name": "stderr",
          "output_type": "stream",
          "text": [
            "\r 63%|██████▎   | 195/310 [00:53<00:30,  3.72it/s]"
          ]
        },
        {
          "name": "stdout",
          "output_type": "stream",
          "text": [
            "\n",
            "Index 195 (No), Layer‐Offset loop:\n",
            "  Last 10 token IDs:      [1, 477, 330, 17, 1, 323, 912, 1023, 1495, 13]\n",
            "  Last 10 token strings:  ['\"', 'Ġor', 'Ġ\"', '2', '\"', 'Ġand', 'Ġno', 'Ġother', 'Ġtext', '.']\n",
            "\n"
          ]
        },
        {
          "name": "stderr",
          "output_type": "stream",
          "text": [
            "\r 63%|██████▎   | 196/310 [00:53<00:31,  3.63it/s]"
          ]
        },
        {
          "name": "stdout",
          "output_type": "stream",
          "text": [
            "\n",
            "Index 196 (Yes), Layer‐Offset loop:\n",
            "  Last 10 token IDs:      [1, 477, 330, 17, 1, 323, 912, 1023, 1495, 13]\n",
            "  Last 10 token strings:  ['\"', 'Ġor', 'Ġ\"', '2', '\"', 'Ġand', 'Ġno', 'Ġother', 'Ġtext', '.']\n",
            "\n"
          ]
        },
        {
          "name": "stderr",
          "output_type": "stream",
          "text": [
            "\r 64%|██████▎   | 197/310 [00:53<00:30,  3.69it/s]"
          ]
        },
        {
          "name": "stdout",
          "output_type": "stream",
          "text": [
            "\n",
            "Index 197 (No), Layer‐Offset loop:\n",
            "  Last 10 token IDs:      [1, 477, 330, 17, 1, 323, 912, 1023, 1495, 13]\n",
            "  Last 10 token strings:  ['\"', 'Ġor', 'Ġ\"', '2', '\"', 'Ġand', 'Ġno', 'Ġother', 'Ġtext', '.']\n",
            "\n"
          ]
        },
        {
          "name": "stderr",
          "output_type": "stream",
          "text": [
            "\r 64%|██████▍   | 198/310 [00:53<00:30,  3.72it/s]"
          ]
        },
        {
          "name": "stdout",
          "output_type": "stream",
          "text": [
            "\n",
            "Index 198 (Yes), Layer‐Offset loop:\n",
            "  Last 10 token IDs:      [1, 477, 330, 17, 1, 323, 912, 1023, 1495, 13]\n",
            "  Last 10 token strings:  ['\"', 'Ġor', 'Ġ\"', '2', '\"', 'Ġand', 'Ġno', 'Ġother', 'Ġtext', '.']\n",
            "\n"
          ]
        },
        {
          "name": "stderr",
          "output_type": "stream",
          "text": [
            "\r 64%|██████▍   | 199/310 [00:54<00:29,  3.76it/s]"
          ]
        },
        {
          "name": "stdout",
          "output_type": "stream",
          "text": [
            "\n",
            "Index 199 (Yes), Layer‐Offset loop:\n",
            "  Last 10 token IDs:      [1, 477, 330, 17, 1, 323, 912, 1023, 1495, 13]\n",
            "  Last 10 token strings:  ['\"', 'Ġor', 'Ġ\"', '2', '\"', 'Ġand', 'Ġno', 'Ġother', 'Ġtext', '.']\n",
            "\n"
          ]
        },
        {
          "name": "stderr",
          "output_type": "stream",
          "text": [
            "\r 65%|██████▍   | 200/310 [00:54<00:29,  3.71it/s]"
          ]
        },
        {
          "name": "stdout",
          "output_type": "stream",
          "text": [
            "\n",
            "Index 200 (Yes), Layer‐Offset loop:\n",
            "  Last 10 token IDs:      [1, 477, 330, 17, 1, 323, 912, 1023, 1495, 13]\n",
            "  Last 10 token strings:  ['\"', 'Ġor', 'Ġ\"', '2', '\"', 'Ġand', 'Ġno', 'Ġother', 'Ġtext', '.']\n",
            "\n"
          ]
        },
        {
          "name": "stderr",
          "output_type": "stream",
          "text": [
            "\r 65%|██████▍   | 201/310 [00:54<00:29,  3.68it/s]"
          ]
        },
        {
          "name": "stdout",
          "output_type": "stream",
          "text": [
            "\n",
            "Index 201 (Yes), Layer‐Offset loop:\n",
            "  Last 10 token IDs:      [1, 477, 330, 17, 1, 323, 912, 1023, 1495, 13]\n",
            "  Last 10 token strings:  ['\"', 'Ġor', 'Ġ\"', '2', '\"', 'Ġand', 'Ġno', 'Ġother', 'Ġtext', '.']\n",
            "\n"
          ]
        },
        {
          "name": "stderr",
          "output_type": "stream",
          "text": [
            "\r 65%|██████▌   | 202/310 [00:55<00:30,  3.57it/s]"
          ]
        },
        {
          "name": "stdout",
          "output_type": "stream",
          "text": [
            "\n",
            "Index 202 (No), Layer‐Offset loop:\n",
            "  Last 10 token IDs:      [1, 477, 330, 17, 1, 323, 912, 1023, 1495, 13]\n",
            "  Last 10 token strings:  ['\"', 'Ġor', 'Ġ\"', '2', '\"', 'Ġand', 'Ġno', 'Ġother', 'Ġtext', '.']\n",
            "\n"
          ]
        },
        {
          "name": "stderr",
          "output_type": "stream",
          "text": [
            "\r 65%|██████▌   | 203/310 [00:55<00:29,  3.67it/s]"
          ]
        },
        {
          "name": "stdout",
          "output_type": "stream",
          "text": [
            "\n",
            "Index 203 (No), Layer‐Offset loop:\n",
            "  Last 10 token IDs:      [1, 477, 330, 17, 1, 323, 912, 1023, 1495, 13]\n",
            "  Last 10 token strings:  ['\"', 'Ġor', 'Ġ\"', '2', '\"', 'Ġand', 'Ġno', 'Ġother', 'Ġtext', '.']\n",
            "\n"
          ]
        },
        {
          "name": "stderr",
          "output_type": "stream",
          "text": [
            "\r 66%|██████▌   | 204/310 [00:55<00:29,  3.64it/s]"
          ]
        },
        {
          "name": "stdout",
          "output_type": "stream",
          "text": [
            "\n",
            "Index 204 (No), Layer‐Offset loop:\n",
            "  Last 10 token IDs:      [1, 477, 330, 17, 1, 323, 912, 1023, 1495, 13]\n",
            "  Last 10 token strings:  ['\"', 'Ġor', 'Ġ\"', '2', '\"', 'Ġand', 'Ġno', 'Ġother', 'Ġtext', '.']\n",
            "\n"
          ]
        },
        {
          "name": "stderr",
          "output_type": "stream",
          "text": [
            "\r 66%|██████▌   | 205/310 [00:55<00:29,  3.52it/s]"
          ]
        },
        {
          "name": "stdout",
          "output_type": "stream",
          "text": [
            "\n",
            "Index 205 (Yes), Layer‐Offset loop:\n",
            "  Last 10 token IDs:      [1, 477, 330, 17, 1, 323, 912, 1023, 1495, 13]\n",
            "  Last 10 token strings:  ['\"', 'Ġor', 'Ġ\"', '2', '\"', 'Ġand', 'Ġno', 'Ġother', 'Ġtext', '.']\n",
            "\n"
          ]
        },
        {
          "name": "stderr",
          "output_type": "stream",
          "text": [
            "\r 66%|██████▋   | 206/310 [00:56<00:28,  3.60it/s]"
          ]
        },
        {
          "name": "stdout",
          "output_type": "stream",
          "text": [
            "\n",
            "Index 206 (No), Layer‐Offset loop:\n",
            "  Last 10 token IDs:      [1, 477, 330, 17, 1, 323, 912, 1023, 1495, 13]\n",
            "  Last 10 token strings:  ['\"', 'Ġor', 'Ġ\"', '2', '\"', 'Ġand', 'Ġno', 'Ġother', 'Ġtext', '.']\n",
            "\n"
          ]
        },
        {
          "name": "stderr",
          "output_type": "stream",
          "text": [
            "\r 67%|██████▋   | 207/310 [00:56<00:27,  3.69it/s]"
          ]
        },
        {
          "name": "stdout",
          "output_type": "stream",
          "text": [
            "\n",
            "Index 207 (No), Layer‐Offset loop:\n",
            "  Last 10 token IDs:      [1, 477, 330, 17, 1, 323, 912, 1023, 1495, 13]\n",
            "  Last 10 token strings:  ['\"', 'Ġor', 'Ġ\"', '2', '\"', 'Ġand', 'Ġno', 'Ġother', 'Ġtext', '.']\n",
            "\n"
          ]
        },
        {
          "name": "stderr",
          "output_type": "stream",
          "text": [
            "\r 67%|██████▋   | 208/310 [00:56<00:27,  3.73it/s]"
          ]
        },
        {
          "name": "stdout",
          "output_type": "stream",
          "text": [
            "\n",
            "Index 208 (No), Layer‐Offset loop:\n",
            "  Last 10 token IDs:      [1, 477, 330, 17, 1, 323, 912, 1023, 1495, 13]\n",
            "  Last 10 token strings:  ['\"', 'Ġor', 'Ġ\"', '2', '\"', 'Ġand', 'Ġno', 'Ġother', 'Ġtext', '.']\n",
            "\n"
          ]
        },
        {
          "name": "stderr",
          "output_type": "stream",
          "text": [
            "\r 67%|██████▋   | 209/310 [00:57<00:27,  3.64it/s]"
          ]
        },
        {
          "name": "stdout",
          "output_type": "stream",
          "text": [
            "\n",
            "Index 209 (Yes), Layer‐Offset loop:\n",
            "  Last 10 token IDs:      [1, 477, 330, 17, 1, 323, 912, 1023, 1495, 13]\n",
            "  Last 10 token strings:  ['\"', 'Ġor', 'Ġ\"', '2', '\"', 'Ġand', 'Ġno', 'Ġother', 'Ġtext', '.']\n",
            "\n"
          ]
        },
        {
          "name": "stderr",
          "output_type": "stream",
          "text": [
            "\r 68%|██████▊   | 210/310 [00:57<00:27,  3.70it/s]"
          ]
        },
        {
          "name": "stdout",
          "output_type": "stream",
          "text": [
            "\n",
            "Index 210 (No), Layer‐Offset loop:\n",
            "  Last 10 token IDs:      [1, 477, 330, 17, 1, 323, 912, 1023, 1495, 13]\n",
            "  Last 10 token strings:  ['\"', 'Ġor', 'Ġ\"', '2', '\"', 'Ġand', 'Ġno', 'Ġother', 'Ġtext', '.']\n",
            "\n"
          ]
        },
        {
          "name": "stderr",
          "output_type": "stream",
          "text": [
            "\r 68%|██████▊   | 211/310 [00:57<00:28,  3.53it/s]"
          ]
        },
        {
          "name": "stdout",
          "output_type": "stream",
          "text": [
            "\n",
            "Index 211 (Yes), Layer‐Offset loop:\n",
            "  Last 10 token IDs:      [1, 477, 330, 17, 1, 323, 912, 1023, 1495, 13]\n",
            "  Last 10 token strings:  ['\"', 'Ġor', 'Ġ\"', '2', '\"', 'Ġand', 'Ġno', 'Ġother', 'Ġtext', '.']\n",
            "\n"
          ]
        },
        {
          "name": "stderr",
          "output_type": "stream",
          "text": [
            "\r 68%|██████▊   | 212/310 [00:57<00:27,  3.56it/s]"
          ]
        },
        {
          "name": "stdout",
          "output_type": "stream",
          "text": [
            "\n",
            "Index 212 (Yes), Layer‐Offset loop:\n",
            "  Last 10 token IDs:      [1, 477, 330, 17, 1, 323, 912, 1023, 1495, 13]\n",
            "  Last 10 token strings:  ['\"', 'Ġor', 'Ġ\"', '2', '\"', 'Ġand', 'Ġno', 'Ġother', 'Ġtext', '.']\n",
            "\n"
          ]
        },
        {
          "name": "stderr",
          "output_type": "stream",
          "text": [
            "\r 69%|██████▊   | 213/310 [00:58<00:26,  3.68it/s]"
          ]
        },
        {
          "name": "stdout",
          "output_type": "stream",
          "text": [
            "\n",
            "Index 213 (Yes), Layer‐Offset loop:\n",
            "  Last 10 token IDs:      [1, 477, 330, 17, 1, 323, 912, 1023, 1495, 13]\n",
            "  Last 10 token strings:  ['\"', 'Ġor', 'Ġ\"', '2', '\"', 'Ġand', 'Ġno', 'Ġother', 'Ġtext', '.']\n",
            "\n"
          ]
        },
        {
          "name": "stderr",
          "output_type": "stream",
          "text": [
            "\r 69%|██████▉   | 214/310 [00:58<00:26,  3.64it/s]"
          ]
        },
        {
          "name": "stdout",
          "output_type": "stream",
          "text": [
            "\n",
            "Index 214 (No), Layer‐Offset loop:\n",
            "  Last 10 token IDs:      [1, 477, 330, 17, 1, 323, 912, 1023, 1495, 13]\n",
            "  Last 10 token strings:  ['\"', 'Ġor', 'Ġ\"', '2', '\"', 'Ġand', 'Ġno', 'Ġother', 'Ġtext', '.']\n",
            "\n"
          ]
        },
        {
          "name": "stderr",
          "output_type": "stream",
          "text": [
            "\r 69%|██████▉   | 215/310 [00:58<00:25,  3.69it/s]"
          ]
        },
        {
          "name": "stdout",
          "output_type": "stream",
          "text": [
            "\n",
            "Index 215 (No), Layer‐Offset loop:\n",
            "  Last 10 token IDs:      [1, 477, 330, 17, 1, 323, 912, 1023, 1495, 13]\n",
            "  Last 10 token strings:  ['\"', 'Ġor', 'Ġ\"', '2', '\"', 'Ġand', 'Ġno', 'Ġother', 'Ġtext', '.']\n",
            "\n"
          ]
        },
        {
          "name": "stderr",
          "output_type": "stream",
          "text": [
            "\r 70%|██████▉   | 216/310 [00:58<00:25,  3.64it/s]"
          ]
        },
        {
          "name": "stdout",
          "output_type": "stream",
          "text": [
            "\n",
            "Index 216 (No), Layer‐Offset loop:\n",
            "  Last 10 token IDs:      [1, 477, 330, 17, 1, 323, 912, 1023, 1495, 13]\n",
            "  Last 10 token strings:  ['\"', 'Ġor', 'Ġ\"', '2', '\"', 'Ġand', 'Ġno', 'Ġother', 'Ġtext', '.']\n",
            "\n"
          ]
        },
        {
          "name": "stderr",
          "output_type": "stream",
          "text": [
            "\r 70%|███████   | 217/310 [00:59<00:25,  3.66it/s]"
          ]
        },
        {
          "name": "stdout",
          "output_type": "stream",
          "text": [
            "\n",
            "Index 217 (No), Layer‐Offset loop:\n",
            "  Last 10 token IDs:      [1, 477, 330, 17, 1, 323, 912, 1023, 1495, 13]\n",
            "  Last 10 token strings:  ['\"', 'Ġor', 'Ġ\"', '2', '\"', 'Ġand', 'Ġno', 'Ġother', 'Ġtext', '.']\n",
            "\n"
          ]
        },
        {
          "name": "stderr",
          "output_type": "stream",
          "text": [
            "\r 70%|███████   | 218/310 [00:59<00:27,  3.34it/s]"
          ]
        },
        {
          "name": "stdout",
          "output_type": "stream",
          "text": [
            "\n",
            "Index 218 (Yes), Layer‐Offset loop:\n",
            "  Last 10 token IDs:      [1, 477, 330, 17, 1, 323, 912, 1023, 1495, 13]\n",
            "  Last 10 token strings:  ['\"', 'Ġor', 'Ġ\"', '2', '\"', 'Ġand', 'Ġno', 'Ġother', 'Ġtext', '.']\n",
            "\n"
          ]
        },
        {
          "name": "stderr",
          "output_type": "stream",
          "text": [
            "\r 71%|███████   | 219/310 [00:59<00:26,  3.48it/s]"
          ]
        },
        {
          "name": "stdout",
          "output_type": "stream",
          "text": [
            "\n",
            "Index 219 (Yes), Layer‐Offset loop:\n",
            "  Last 10 token IDs:      [1, 477, 330, 17, 1, 323, 912, 1023, 1495, 13]\n",
            "  Last 10 token strings:  ['\"', 'Ġor', 'Ġ\"', '2', '\"', 'Ġand', 'Ġno', 'Ġother', 'Ġtext', '.']\n",
            "\n"
          ]
        },
        {
          "name": "stderr",
          "output_type": "stream",
          "text": [
            "\r 71%|███████   | 220/310 [01:00<00:26,  3.40it/s]"
          ]
        },
        {
          "name": "stdout",
          "output_type": "stream",
          "text": [
            "\n",
            "Index 220 (No), Layer‐Offset loop:\n",
            "  Last 10 token IDs:      [1, 477, 330, 17, 1, 323, 912, 1023, 1495, 13]\n",
            "  Last 10 token strings:  ['\"', 'Ġor', 'Ġ\"', '2', '\"', 'Ġand', 'Ġno', 'Ġother', 'Ġtext', '.']\n",
            "\n"
          ]
        },
        {
          "name": "stderr",
          "output_type": "stream",
          "text": [
            "\r 71%|███████▏  | 221/310 [01:00<00:25,  3.55it/s]"
          ]
        },
        {
          "name": "stdout",
          "output_type": "stream",
          "text": [
            "\n",
            "Index 221 (Yes), Layer‐Offset loop:\n",
            "  Last 10 token IDs:      [1, 477, 330, 17, 1, 323, 912, 1023, 1495, 13]\n",
            "  Last 10 token strings:  ['\"', 'Ġor', 'Ġ\"', '2', '\"', 'Ġand', 'Ġno', 'Ġother', 'Ġtext', '.']\n",
            "\n"
          ]
        },
        {
          "name": "stderr",
          "output_type": "stream",
          "text": [
            "\r 72%|███████▏  | 222/310 [01:00<00:24,  3.58it/s]"
          ]
        },
        {
          "name": "stdout",
          "output_type": "stream",
          "text": [
            "\n",
            "Index 222 (Yes), Layer‐Offset loop:\n",
            "  Last 10 token IDs:      [1, 477, 330, 17, 1, 323, 912, 1023, 1495, 13]\n",
            "  Last 10 token strings:  ['\"', 'Ġor', 'Ġ\"', '2', '\"', 'Ġand', 'Ġno', 'Ġother', 'Ġtext', '.']\n",
            "\n"
          ]
        },
        {
          "name": "stderr",
          "output_type": "stream",
          "text": [
            "\r 72%|███████▏  | 223/310 [01:00<00:23,  3.69it/s]"
          ]
        },
        {
          "name": "stdout",
          "output_type": "stream",
          "text": [
            "\n",
            "Index 223 (No), Layer‐Offset loop:\n",
            "  Last 10 token IDs:      [1, 477, 330, 17, 1, 323, 912, 1023, 1495, 13]\n",
            "  Last 10 token strings:  ['\"', 'Ġor', 'Ġ\"', '2', '\"', 'Ġand', 'Ġno', 'Ġother', 'Ġtext', '.']\n",
            "\n"
          ]
        },
        {
          "name": "stderr",
          "output_type": "stream",
          "text": [
            "\r 72%|███████▏  | 224/310 [01:01<00:24,  3.53it/s]"
          ]
        },
        {
          "name": "stdout",
          "output_type": "stream",
          "text": [
            "\n",
            "Index 224 (Yes), Layer‐Offset loop:\n",
            "  Last 10 token IDs:      [1, 477, 330, 17, 1, 323, 912, 1023, 1495, 13]\n",
            "  Last 10 token strings:  ['\"', 'Ġor', 'Ġ\"', '2', '\"', 'Ġand', 'Ġno', 'Ġother', 'Ġtext', '.']\n",
            "\n"
          ]
        },
        {
          "name": "stderr",
          "output_type": "stream",
          "text": [
            "\r 73%|███████▎  | 225/310 [01:01<00:23,  3.58it/s]"
          ]
        },
        {
          "name": "stdout",
          "output_type": "stream",
          "text": [
            "\n",
            "Index 225 (Yes), Layer‐Offset loop:\n",
            "  Last 10 token IDs:      [1, 477, 330, 17, 1, 323, 912, 1023, 1495, 13]\n",
            "  Last 10 token strings:  ['\"', 'Ġor', 'Ġ\"', '2', '\"', 'Ġand', 'Ġno', 'Ġother', 'Ġtext', '.']\n",
            "\n"
          ]
        },
        {
          "name": "stderr",
          "output_type": "stream",
          "text": [
            "\r 73%|███████▎  | 226/310 [01:01<00:22,  3.66it/s]"
          ]
        },
        {
          "name": "stdout",
          "output_type": "stream",
          "text": [
            "\n",
            "Index 226 (No), Layer‐Offset loop:\n",
            "  Last 10 token IDs:      [1, 477, 330, 17, 1, 323, 912, 1023, 1495, 13]\n",
            "  Last 10 token strings:  ['\"', 'Ġor', 'Ġ\"', '2', '\"', 'Ġand', 'Ġno', 'Ġother', 'Ġtext', '.']\n",
            "\n"
          ]
        },
        {
          "name": "stderr",
          "output_type": "stream",
          "text": [
            "\r 73%|███████▎  | 227/310 [01:02<00:23,  3.48it/s]"
          ]
        },
        {
          "name": "stdout",
          "output_type": "stream",
          "text": [
            "\n",
            "Index 227 (Yes), Layer‐Offset loop:\n",
            "  Last 10 token IDs:      [1, 477, 330, 17, 1, 323, 912, 1023, 1495, 13]\n",
            "  Last 10 token strings:  ['\"', 'Ġor', 'Ġ\"', '2', '\"', 'Ġand', 'Ġno', 'Ġother', 'Ġtext', '.']\n",
            "\n"
          ]
        },
        {
          "name": "stderr",
          "output_type": "stream",
          "text": [
            "\r 74%|███████▎  | 228/310 [01:02<00:23,  3.54it/s]"
          ]
        },
        {
          "name": "stdout",
          "output_type": "stream",
          "text": [
            "\n",
            "Index 228 (Yes), Layer‐Offset loop:\n",
            "  Last 10 token IDs:      [1, 477, 330, 17, 1, 323, 912, 1023, 1495, 13]\n",
            "  Last 10 token strings:  ['\"', 'Ġor', 'Ġ\"', '2', '\"', 'Ġand', 'Ġno', 'Ġother', 'Ġtext', '.']\n",
            "\n"
          ]
        },
        {
          "name": "stderr",
          "output_type": "stream",
          "text": [
            "\r 74%|███████▍  | 229/310 [01:02<00:22,  3.65it/s]"
          ]
        },
        {
          "name": "stdout",
          "output_type": "stream",
          "text": [
            "\n",
            "Index 229 (No), Layer‐Offset loop:\n",
            "  Last 10 token IDs:      [1, 477, 330, 17, 1, 323, 912, 1023, 1495, 13]\n",
            "  Last 10 token strings:  ['\"', 'Ġor', 'Ġ\"', '2', '\"', 'Ġand', 'Ġno', 'Ġother', 'Ġtext', '.']\n",
            "\n"
          ]
        },
        {
          "name": "stderr",
          "output_type": "stream",
          "text": [
            "\r 74%|███████▍  | 230/310 [01:02<00:22,  3.63it/s]"
          ]
        },
        {
          "name": "stdout",
          "output_type": "stream",
          "text": [
            "\n",
            "Index 230 (No), Layer‐Offset loop:\n",
            "  Last 10 token IDs:      [1, 477, 330, 17, 1, 323, 912, 1023, 1495, 13]\n",
            "  Last 10 token strings:  ['\"', 'Ġor', 'Ġ\"', '2', '\"', 'Ġand', 'Ġno', 'Ġother', 'Ġtext', '.']\n",
            "\n"
          ]
        },
        {
          "name": "stderr",
          "output_type": "stream",
          "text": [
            "\r 75%|███████▍  | 231/310 [01:03<00:22,  3.56it/s]"
          ]
        },
        {
          "name": "stdout",
          "output_type": "stream",
          "text": [
            "\n",
            "Index 231 (Yes), Layer‐Offset loop:\n",
            "  Last 10 token IDs:      [1, 477, 330, 17, 1, 323, 912, 1023, 1495, 13]\n",
            "  Last 10 token strings:  ['\"', 'Ġor', 'Ġ\"', '2', '\"', 'Ġand', 'Ġno', 'Ġother', 'Ġtext', '.']\n",
            "\n"
          ]
        },
        {
          "name": "stderr",
          "output_type": "stream",
          "text": [
            "\r 75%|███████▍  | 232/310 [01:03<00:21,  3.68it/s]"
          ]
        },
        {
          "name": "stdout",
          "output_type": "stream",
          "text": [
            "\n",
            "Index 232 (Yes), Layer‐Offset loop:\n",
            "  Last 10 token IDs:      [1, 477, 330, 17, 1, 323, 912, 1023, 1495, 13]\n",
            "  Last 10 token strings:  ['\"', 'Ġor', 'Ġ\"', '2', '\"', 'Ġand', 'Ġno', 'Ġother', 'Ġtext', '.']\n",
            "\n"
          ]
        },
        {
          "name": "stderr",
          "output_type": "stream",
          "text": [
            "\r 75%|███████▌  | 233/310 [01:03<00:20,  3.79it/s]"
          ]
        },
        {
          "name": "stdout",
          "output_type": "stream",
          "text": [
            "\n",
            "Index 233 (No), Layer‐Offset loop:\n",
            "  Last 10 token IDs:      [1, 477, 330, 17, 1, 323, 912, 1023, 1495, 13]\n",
            "  Last 10 token strings:  ['\"', 'Ġor', 'Ġ\"', '2', '\"', 'Ġand', 'Ġno', 'Ġother', 'Ġtext', '.']\n",
            "\n"
          ]
        },
        {
          "name": "stderr",
          "output_type": "stream",
          "text": [
            "\r 75%|███████▌  | 234/310 [01:03<00:20,  3.76it/s]"
          ]
        },
        {
          "name": "stdout",
          "output_type": "stream",
          "text": [
            "\n",
            "Index 234 (No), Layer‐Offset loop:\n",
            "  Last 10 token IDs:      [1, 477, 330, 17, 1, 323, 912, 1023, 1495, 13]\n",
            "  Last 10 token strings:  ['\"', 'Ġor', 'Ġ\"', '2', '\"', 'Ġand', 'Ġno', 'Ġother', 'Ġtext', '.']\n",
            "\n"
          ]
        },
        {
          "name": "stderr",
          "output_type": "stream",
          "text": [
            "\r 76%|███████▌  | 235/310 [01:04<00:19,  3.84it/s]"
          ]
        },
        {
          "name": "stdout",
          "output_type": "stream",
          "text": [
            "\n",
            "Index 235 (Yes), Layer‐Offset loop:\n",
            "  Last 10 token IDs:      [1, 477, 330, 17, 1, 323, 912, 1023, 1495, 13]\n",
            "  Last 10 token strings:  ['\"', 'Ġor', 'Ġ\"', '2', '\"', 'Ġand', 'Ġno', 'Ġother', 'Ġtext', '.']\n",
            "\n"
          ]
        },
        {
          "name": "stderr",
          "output_type": "stream",
          "text": [
            "\r 76%|███████▌  | 236/310 [01:04<00:19,  3.86it/s]"
          ]
        },
        {
          "name": "stdout",
          "output_type": "stream",
          "text": [
            "\n",
            "Index 236 (Yes), Layer‐Offset loop:\n",
            "  Last 10 token IDs:      [1, 477, 330, 17, 1, 323, 912, 1023, 1495, 13]\n",
            "  Last 10 token strings:  ['\"', 'Ġor', 'Ġ\"', '2', '\"', 'Ġand', 'Ġno', 'Ġother', 'Ġtext', '.']\n",
            "\n"
          ]
        },
        {
          "name": "stderr",
          "output_type": "stream",
          "text": [
            "\r 76%|███████▋  | 237/310 [01:04<00:19,  3.80it/s]"
          ]
        },
        {
          "name": "stdout",
          "output_type": "stream",
          "text": [
            "\n",
            "Index 237 (No), Layer‐Offset loop:\n",
            "  Last 10 token IDs:      [1, 477, 330, 17, 1, 323, 912, 1023, 1495, 13]\n",
            "  Last 10 token strings:  ['\"', 'Ġor', 'Ġ\"', '2', '\"', 'Ġand', 'Ġno', 'Ġother', 'Ġtext', '.']\n",
            "\n"
          ]
        },
        {
          "name": "stderr",
          "output_type": "stream",
          "text": [
            "\r 77%|███████▋  | 238/310 [01:05<00:19,  3.70it/s]"
          ]
        },
        {
          "name": "stdout",
          "output_type": "stream",
          "text": [
            "\n",
            "Index 238 (Yes), Layer‐Offset loop:\n",
            "  Last 10 token IDs:      [1, 477, 330, 17, 1, 323, 912, 1023, 1495, 13]\n",
            "  Last 10 token strings:  ['\"', 'Ġor', 'Ġ\"', '2', '\"', 'Ġand', 'Ġno', 'Ġother', 'Ġtext', '.']\n",
            "\n"
          ]
        },
        {
          "name": "stderr",
          "output_type": "stream",
          "text": [
            "\r 77%|███████▋  | 239/310 [01:05<00:19,  3.73it/s]"
          ]
        },
        {
          "name": "stdout",
          "output_type": "stream",
          "text": [
            "\n",
            "Index 239 (Yes), Layer‐Offset loop:\n",
            "  Last 10 token IDs:      [1, 477, 330, 17, 1, 323, 912, 1023, 1495, 13]\n",
            "  Last 10 token strings:  ['\"', 'Ġor', 'Ġ\"', '2', '\"', 'Ġand', 'Ġno', 'Ġother', 'Ġtext', '.']\n",
            "\n"
          ]
        },
        {
          "name": "stderr",
          "output_type": "stream",
          "text": [
            "\r 77%|███████▋  | 240/310 [01:05<00:18,  3.70it/s]"
          ]
        },
        {
          "name": "stdout",
          "output_type": "stream",
          "text": [
            "\n",
            "Index 240 (No), Layer‐Offset loop:\n",
            "  Last 10 token IDs:      [1, 477, 330, 17, 1, 323, 912, 1023, 1495, 13]\n",
            "  Last 10 token strings:  ['\"', 'Ġor', 'Ġ\"', '2', '\"', 'Ġand', 'Ġno', 'Ġother', 'Ġtext', '.']\n",
            "\n"
          ]
        },
        {
          "name": "stderr",
          "output_type": "stream",
          "text": [
            "\r 78%|███████▊  | 241/310 [01:05<00:18,  3.67it/s]"
          ]
        },
        {
          "name": "stdout",
          "output_type": "stream",
          "text": [
            "\n",
            "Index 241 (No), Layer‐Offset loop:\n",
            "  Last 10 token IDs:      [1, 477, 330, 17, 1, 323, 912, 1023, 1495, 13]\n",
            "  Last 10 token strings:  ['\"', 'Ġor', 'Ġ\"', '2', '\"', 'Ġand', 'Ġno', 'Ġother', 'Ġtext', '.']\n",
            "\n"
          ]
        },
        {
          "name": "stderr",
          "output_type": "stream",
          "text": [
            "\r 78%|███████▊  | 242/310 [01:06<00:18,  3.70it/s]"
          ]
        },
        {
          "name": "stdout",
          "output_type": "stream",
          "text": [
            "\n",
            "Index 242 (No), Layer‐Offset loop:\n",
            "  Last 10 token IDs:      [1, 477, 330, 17, 1, 323, 912, 1023, 1495, 13]\n",
            "  Last 10 token strings:  ['\"', 'Ġor', 'Ġ\"', '2', '\"', 'Ġand', 'Ġno', 'Ġother', 'Ġtext', '.']\n",
            "\n"
          ]
        },
        {
          "name": "stderr",
          "output_type": "stream",
          "text": [
            "\r 78%|███████▊  | 243/310 [01:06<00:18,  3.72it/s]"
          ]
        },
        {
          "name": "stdout",
          "output_type": "stream",
          "text": [
            "\n",
            "Index 243 (Yes), Layer‐Offset loop:\n",
            "  Last 10 token IDs:      [1, 477, 330, 17, 1, 323, 912, 1023, 1495, 13]\n",
            "  Last 10 token strings:  ['\"', 'Ġor', 'Ġ\"', '2', '\"', 'Ġand', 'Ġno', 'Ġother', 'Ġtext', '.']\n",
            "\n"
          ]
        },
        {
          "name": "stderr",
          "output_type": "stream",
          "text": [
            "\r 79%|███████▊  | 244/310 [01:06<00:17,  3.76it/s]"
          ]
        },
        {
          "name": "stdout",
          "output_type": "stream",
          "text": [
            "\n",
            "Index 244 (No), Layer‐Offset loop:\n",
            "  Last 10 token IDs:      [1, 477, 330, 17, 1, 323, 912, 1023, 1495, 13]\n",
            "  Last 10 token strings:  ['\"', 'Ġor', 'Ġ\"', '2', '\"', 'Ġand', 'Ġno', 'Ġother', 'Ġtext', '.']\n",
            "\n"
          ]
        },
        {
          "name": "stderr",
          "output_type": "stream",
          "text": [
            "\r 79%|███████▉  | 245/310 [01:06<00:17,  3.73it/s]"
          ]
        },
        {
          "name": "stdout",
          "output_type": "stream",
          "text": [
            "\n",
            "Index 245 (No), Layer‐Offset loop:\n",
            "  Last 10 token IDs:      [1, 477, 330, 17, 1, 323, 912, 1023, 1495, 13]\n",
            "  Last 10 token strings:  ['\"', 'Ġor', 'Ġ\"', '2', '\"', 'Ġand', 'Ġno', 'Ġother', 'Ġtext', '.']\n",
            "\n"
          ]
        },
        {
          "name": "stderr",
          "output_type": "stream",
          "text": [
            "\r 79%|███████▉  | 246/310 [01:07<00:17,  3.76it/s]"
          ]
        },
        {
          "name": "stdout",
          "output_type": "stream",
          "text": [
            "\n",
            "Index 246 (No), Layer‐Offset loop:\n",
            "  Last 10 token IDs:      [1, 477, 330, 17, 1, 323, 912, 1023, 1495, 13]\n",
            "  Last 10 token strings:  ['\"', 'Ġor', 'Ġ\"', '2', '\"', 'Ġand', 'Ġno', 'Ġother', 'Ġtext', '.']\n",
            "\n"
          ]
        },
        {
          "name": "stderr",
          "output_type": "stream",
          "text": [
            "\r 80%|███████▉  | 247/310 [01:07<00:17,  3.65it/s]"
          ]
        },
        {
          "name": "stdout",
          "output_type": "stream",
          "text": [
            "\n",
            "Index 247 (No), Layer‐Offset loop:\n",
            "  Last 10 token IDs:      [1, 477, 330, 17, 1, 323, 912, 1023, 1495, 13]\n",
            "  Last 10 token strings:  ['\"', 'Ġor', 'Ġ\"', '2', '\"', 'Ġand', 'Ġno', 'Ġother', 'Ġtext', '.']\n",
            "\n"
          ]
        },
        {
          "name": "stderr",
          "output_type": "stream",
          "text": [
            "\r 80%|████████  | 248/310 [01:07<00:17,  3.64it/s]"
          ]
        },
        {
          "name": "stdout",
          "output_type": "stream",
          "text": [
            "\n",
            "Index 248 (Yes), Layer‐Offset loop:\n",
            "  Last 10 token IDs:      [1, 477, 330, 17, 1, 323, 912, 1023, 1495, 13]\n",
            "  Last 10 token strings:  ['\"', 'Ġor', 'Ġ\"', '2', '\"', 'Ġand', 'Ġno', 'Ġother', 'Ġtext', '.']\n",
            "\n"
          ]
        },
        {
          "name": "stderr",
          "output_type": "stream",
          "text": [
            "\r 80%|████████  | 249/310 [01:07<00:16,  3.62it/s]"
          ]
        },
        {
          "name": "stdout",
          "output_type": "stream",
          "text": [
            "\n",
            "Index 249 (Yes), Layer‐Offset loop:\n",
            "  Last 10 token IDs:      [1, 477, 330, 17, 1, 323, 912, 1023, 1495, 13]\n",
            "  Last 10 token strings:  ['\"', 'Ġor', 'Ġ\"', '2', '\"', 'Ġand', 'Ġno', 'Ġother', 'Ġtext', '.']\n",
            "\n"
          ]
        },
        {
          "name": "stderr",
          "output_type": "stream",
          "text": [
            "\r 81%|████████  | 250/310 [01:08<00:16,  3.68it/s]"
          ]
        },
        {
          "name": "stdout",
          "output_type": "stream",
          "text": [
            "\n",
            "Index 250 (Yes), Layer‐Offset loop:\n",
            "  Last 10 token IDs:      [1, 477, 330, 17, 1, 323, 912, 1023, 1495, 13]\n",
            "  Last 10 token strings:  ['\"', 'Ġor', 'Ġ\"', '2', '\"', 'Ġand', 'Ġno', 'Ġother', 'Ġtext', '.']\n",
            "\n"
          ]
        },
        {
          "name": "stderr",
          "output_type": "stream",
          "text": [
            "\r 81%|████████  | 251/310 [01:08<00:16,  3.59it/s]"
          ]
        },
        {
          "name": "stdout",
          "output_type": "stream",
          "text": [
            "\n",
            "Index 251 (No), Layer‐Offset loop:\n",
            "  Last 10 token IDs:      [1, 477, 330, 17, 1, 323, 912, 1023, 1495, 13]\n",
            "  Last 10 token strings:  ['\"', 'Ġor', 'Ġ\"', '2', '\"', 'Ġand', 'Ġno', 'Ġother', 'Ġtext', '.']\n",
            "\n"
          ]
        },
        {
          "name": "stderr",
          "output_type": "stream",
          "text": [
            "\r 81%|████████▏ | 252/310 [01:08<00:16,  3.56it/s]"
          ]
        },
        {
          "name": "stdout",
          "output_type": "stream",
          "text": [
            "\n",
            "Index 252 (No), Layer‐Offset loop:\n",
            "  Last 10 token IDs:      [1, 477, 330, 17, 1, 323, 912, 1023, 1495, 13]\n",
            "  Last 10 token strings:  ['\"', 'Ġor', 'Ġ\"', '2', '\"', 'Ġand', 'Ġno', 'Ġother', 'Ġtext', '.']\n",
            "\n"
          ]
        },
        {
          "name": "stderr",
          "output_type": "stream",
          "text": [
            "\r 82%|████████▏ | 253/310 [01:09<00:15,  3.66it/s]"
          ]
        },
        {
          "name": "stdout",
          "output_type": "stream",
          "text": [
            "\n",
            "Index 253 (No), Layer‐Offset loop:\n",
            "  Last 10 token IDs:      [1, 477, 330, 17, 1, 323, 912, 1023, 1495, 13]\n",
            "  Last 10 token strings:  ['\"', 'Ġor', 'Ġ\"', '2', '\"', 'Ġand', 'Ġno', 'Ġother', 'Ġtext', '.']\n",
            "\n"
          ]
        },
        {
          "name": "stderr",
          "output_type": "stream",
          "text": [
            "\r 82%|████████▏ | 254/310 [01:09<00:15,  3.64it/s]"
          ]
        },
        {
          "name": "stdout",
          "output_type": "stream",
          "text": [
            "\n",
            "Index 254 (No), Layer‐Offset loop:\n",
            "  Last 10 token IDs:      [1, 477, 330, 17, 1, 323, 912, 1023, 1495, 13]\n",
            "  Last 10 token strings:  ['\"', 'Ġor', 'Ġ\"', '2', '\"', 'Ġand', 'Ġno', 'Ġother', 'Ġtext', '.']\n",
            "\n"
          ]
        },
        {
          "name": "stderr",
          "output_type": "stream",
          "text": [
            "\r 82%|████████▏ | 255/310 [01:09<00:14,  3.69it/s]"
          ]
        },
        {
          "name": "stdout",
          "output_type": "stream",
          "text": [
            "\n",
            "Index 255 (No), Layer‐Offset loop:\n",
            "  Last 10 token IDs:      [1, 477, 330, 17, 1, 323, 912, 1023, 1495, 13]\n",
            "  Last 10 token strings:  ['\"', 'Ġor', 'Ġ\"', '2', '\"', 'Ġand', 'Ġno', 'Ġother', 'Ġtext', '.']\n",
            "\n"
          ]
        },
        {
          "name": "stderr",
          "output_type": "stream",
          "text": [
            "\r 83%|████████▎ | 256/310 [01:09<00:15,  3.42it/s]"
          ]
        },
        {
          "name": "stdout",
          "output_type": "stream",
          "text": [
            "\n",
            "Index 256 (Yes), Layer‐Offset loop:\n",
            "  Last 10 token IDs:      [1, 477, 330, 17, 1, 323, 912, 1023, 1495, 13]\n",
            "  Last 10 token strings:  ['\"', 'Ġor', 'Ġ\"', '2', '\"', 'Ġand', 'Ġno', 'Ġother', 'Ġtext', '.']\n",
            "\n"
          ]
        },
        {
          "name": "stderr",
          "output_type": "stream",
          "text": [
            "\r 83%|████████▎ | 257/310 [01:10<00:16,  3.23it/s]"
          ]
        },
        {
          "name": "stdout",
          "output_type": "stream",
          "text": [
            "\n",
            "Index 257 (No), Layer‐Offset loop:\n",
            "  Last 10 token IDs:      [1, 477, 330, 17, 1, 323, 912, 1023, 1495, 13]\n",
            "  Last 10 token strings:  ['\"', 'Ġor', 'Ġ\"', '2', '\"', 'Ġand', 'Ġno', 'Ġother', 'Ġtext', '.']\n",
            "\n"
          ]
        },
        {
          "name": "stderr",
          "output_type": "stream",
          "text": [
            "\r 83%|████████▎ | 258/310 [01:10<00:15,  3.42it/s]"
          ]
        },
        {
          "name": "stdout",
          "output_type": "stream",
          "text": [
            "\n",
            "Index 258 (No), Layer‐Offset loop:\n",
            "  Last 10 token IDs:      [1, 477, 330, 17, 1, 323, 912, 1023, 1495, 13]\n",
            "  Last 10 token strings:  ['\"', 'Ġor', 'Ġ\"', '2', '\"', 'Ġand', 'Ġno', 'Ġother', 'Ġtext', '.']\n",
            "\n"
          ]
        },
        {
          "name": "stderr",
          "output_type": "stream",
          "text": [
            "\r 84%|████████▎ | 259/310 [01:10<00:14,  3.55it/s]"
          ]
        },
        {
          "name": "stdout",
          "output_type": "stream",
          "text": [
            "\n",
            "Index 259 (Yes), Layer‐Offset loop:\n",
            "  Last 10 token IDs:      [1, 477, 330, 17, 1, 323, 912, 1023, 1495, 13]\n",
            "  Last 10 token strings:  ['\"', 'Ġor', 'Ġ\"', '2', '\"', 'Ġand', 'Ġno', 'Ġother', 'Ġtext', '.']\n",
            "\n"
          ]
        },
        {
          "name": "stderr",
          "output_type": "stream",
          "text": [
            "\r 84%|████████▍ | 260/310 [01:11<00:13,  3.64it/s]"
          ]
        },
        {
          "name": "stdout",
          "output_type": "stream",
          "text": [
            "\n",
            "Index 260 (Yes), Layer‐Offset loop:\n",
            "  Last 10 token IDs:      [1, 477, 330, 17, 1, 323, 912, 1023, 1495, 13]\n",
            "  Last 10 token strings:  ['\"', 'Ġor', 'Ġ\"', '2', '\"', 'Ġand', 'Ġno', 'Ġother', 'Ġtext', '.']\n",
            "\n"
          ]
        },
        {
          "name": "stderr",
          "output_type": "stream",
          "text": [
            "\r 84%|████████▍ | 261/310 [01:11<00:13,  3.69it/s]"
          ]
        },
        {
          "name": "stdout",
          "output_type": "stream",
          "text": [
            "\n",
            "Index 261 (Yes), Layer‐Offset loop:\n",
            "  Last 10 token IDs:      [1, 477, 330, 17, 1, 323, 912, 1023, 1495, 13]\n",
            "  Last 10 token strings:  ['\"', 'Ġor', 'Ġ\"', '2', '\"', 'Ġand', 'Ġno', 'Ġother', 'Ġtext', '.']\n",
            "\n"
          ]
        },
        {
          "name": "stderr",
          "output_type": "stream",
          "text": [
            "\r 85%|████████▍ | 262/310 [01:11<00:12,  3.69it/s]"
          ]
        },
        {
          "name": "stdout",
          "output_type": "stream",
          "text": [
            "\n",
            "Index 262 (Yes), Layer‐Offset loop:\n",
            "  Last 10 token IDs:      [1, 477, 330, 17, 1, 323, 912, 1023, 1495, 13]\n",
            "  Last 10 token strings:  ['\"', 'Ġor', 'Ġ\"', '2', '\"', 'Ġand', 'Ġno', 'Ġother', 'Ġtext', '.']\n",
            "\n"
          ]
        },
        {
          "name": "stderr",
          "output_type": "stream",
          "text": [
            "\r 85%|████████▍ | 263/310 [01:11<00:12,  3.70it/s]"
          ]
        },
        {
          "name": "stdout",
          "output_type": "stream",
          "text": [
            "\n",
            "Index 263 (Yes), Layer‐Offset loop:\n",
            "  Last 10 token IDs:      [1, 477, 330, 17, 1, 323, 912, 1023, 1495, 13]\n",
            "  Last 10 token strings:  ['\"', 'Ġor', 'Ġ\"', '2', '\"', 'Ġand', 'Ġno', 'Ġother', 'Ġtext', '.']\n",
            "\n"
          ]
        },
        {
          "name": "stderr",
          "output_type": "stream",
          "text": [
            "\r 85%|████████▌ | 264/310 [01:12<00:12,  3.76it/s]"
          ]
        },
        {
          "name": "stdout",
          "output_type": "stream",
          "text": [
            "\n",
            "Index 264 (No), Layer‐Offset loop:\n",
            "  Last 10 token IDs:      [1, 477, 330, 17, 1, 323, 912, 1023, 1495, 13]\n",
            "  Last 10 token strings:  ['\"', 'Ġor', 'Ġ\"', '2', '\"', 'Ġand', 'Ġno', 'Ġother', 'Ġtext', '.']\n",
            "\n"
          ]
        },
        {
          "name": "stderr",
          "output_type": "stream",
          "text": [
            "\r 85%|████████▌ | 265/310 [01:12<00:12,  3.74it/s]"
          ]
        },
        {
          "name": "stdout",
          "output_type": "stream",
          "text": [
            "\n",
            "Index 265 (Yes), Layer‐Offset loop:\n",
            "  Last 10 token IDs:      [1, 477, 330, 17, 1, 323, 912, 1023, 1495, 13]\n",
            "  Last 10 token strings:  ['\"', 'Ġor', 'Ġ\"', '2', '\"', 'Ġand', 'Ġno', 'Ġother', 'Ġtext', '.']\n",
            "\n"
          ]
        },
        {
          "name": "stderr",
          "output_type": "stream",
          "text": [
            "\r 86%|████████▌ | 266/310 [01:12<00:11,  3.78it/s]"
          ]
        },
        {
          "name": "stdout",
          "output_type": "stream",
          "text": [
            "\n",
            "Index 266 (No), Layer‐Offset loop:\n",
            "  Last 10 token IDs:      [1, 477, 330, 17, 1, 323, 912, 1023, 1495, 13]\n",
            "  Last 10 token strings:  ['\"', 'Ġor', 'Ġ\"', '2', '\"', 'Ġand', 'Ġno', 'Ġother', 'Ġtext', '.']\n",
            "\n"
          ]
        },
        {
          "name": "stderr",
          "output_type": "stream",
          "text": [
            "\r 86%|████████▌ | 267/310 [01:12<00:11,  3.70it/s]"
          ]
        },
        {
          "name": "stdout",
          "output_type": "stream",
          "text": [
            "\n",
            "Index 267 (Yes), Layer‐Offset loop:\n",
            "  Last 10 token IDs:      [1, 477, 330, 17, 1, 323, 912, 1023, 1495, 13]\n",
            "  Last 10 token strings:  ['\"', 'Ġor', 'Ġ\"', '2', '\"', 'Ġand', 'Ġno', 'Ġother', 'Ġtext', '.']\n",
            "\n"
          ]
        },
        {
          "name": "stderr",
          "output_type": "stream",
          "text": [
            "\r 86%|████████▋ | 268/310 [01:13<00:11,  3.69it/s]"
          ]
        },
        {
          "name": "stdout",
          "output_type": "stream",
          "text": [
            "\n",
            "Index 268 (Yes), Layer‐Offset loop:\n",
            "  Last 10 token IDs:      [1, 477, 330, 17, 1, 323, 912, 1023, 1495, 13]\n",
            "  Last 10 token strings:  ['\"', 'Ġor', 'Ġ\"', '2', '\"', 'Ġand', 'Ġno', 'Ġother', 'Ġtext', '.']\n",
            "\n"
          ]
        },
        {
          "name": "stderr",
          "output_type": "stream",
          "text": [
            "\r 87%|████████▋ | 269/310 [01:13<00:10,  3.74it/s]"
          ]
        },
        {
          "name": "stdout",
          "output_type": "stream",
          "text": [
            "\n",
            "Index 269 (No), Layer‐Offset loop:\n",
            "  Last 10 token IDs:      [1, 477, 330, 17, 1, 323, 912, 1023, 1495, 13]\n",
            "  Last 10 token strings:  ['\"', 'Ġor', 'Ġ\"', '2', '\"', 'Ġand', 'Ġno', 'Ġother', 'Ġtext', '.']\n",
            "\n"
          ]
        },
        {
          "name": "stderr",
          "output_type": "stream",
          "text": [
            "\r 87%|████████▋ | 270/310 [01:13<00:10,  3.75it/s]"
          ]
        },
        {
          "name": "stdout",
          "output_type": "stream",
          "text": [
            "\n",
            "Index 270 (No), Layer‐Offset loop:\n",
            "  Last 10 token IDs:      [1, 477, 330, 17, 1, 323, 912, 1023, 1495, 13]\n",
            "  Last 10 token strings:  ['\"', 'Ġor', 'Ġ\"', '2', '\"', 'Ġand', 'Ġno', 'Ġother', 'Ġtext', '.']\n",
            "\n"
          ]
        },
        {
          "name": "stderr",
          "output_type": "stream",
          "text": [
            "\r 87%|████████▋ | 271/310 [01:14<00:10,  3.82it/s]"
          ]
        },
        {
          "name": "stdout",
          "output_type": "stream",
          "text": [
            "\n",
            "Index 271 (Yes), Layer‐Offset loop:\n",
            "  Last 10 token IDs:      [1, 477, 330, 17, 1, 323, 912, 1023, 1495, 13]\n",
            "  Last 10 token strings:  ['\"', 'Ġor', 'Ġ\"', '2', '\"', 'Ġand', 'Ġno', 'Ġother', 'Ġtext', '.']\n",
            "\n"
          ]
        },
        {
          "name": "stderr",
          "output_type": "stream",
          "text": [
            "\r 88%|████████▊ | 272/310 [01:14<00:09,  3.86it/s]"
          ]
        },
        {
          "name": "stdout",
          "output_type": "stream",
          "text": [
            "\n",
            "Index 272 (Yes), Layer‐Offset loop:\n",
            "  Last 10 token IDs:      [1, 477, 330, 17, 1, 323, 912, 1023, 1495, 13]\n",
            "  Last 10 token strings:  ['\"', 'Ġor', 'Ġ\"', '2', '\"', 'Ġand', 'Ġno', 'Ġother', 'Ġtext', '.']\n",
            "\n"
          ]
        },
        {
          "name": "stderr",
          "output_type": "stream",
          "text": [
            "\r 88%|████████▊ | 273/310 [01:14<00:09,  3.70it/s]"
          ]
        },
        {
          "name": "stdout",
          "output_type": "stream",
          "text": [
            "\n",
            "Index 273 (No), Layer‐Offset loop:\n",
            "  Last 10 token IDs:      [1, 477, 330, 17, 1, 323, 912, 1023, 1495, 13]\n",
            "  Last 10 token strings:  ['\"', 'Ġor', 'Ġ\"', '2', '\"', 'Ġand', 'Ġno', 'Ġother', 'Ġtext', '.']\n",
            "\n"
          ]
        },
        {
          "name": "stderr",
          "output_type": "stream",
          "text": [
            "\r 88%|████████▊ | 274/310 [01:14<00:09,  3.68it/s]"
          ]
        },
        {
          "name": "stdout",
          "output_type": "stream",
          "text": [
            "\n",
            "Index 274 (No), Layer‐Offset loop:\n",
            "  Last 10 token IDs:      [1, 477, 330, 17, 1, 323, 912, 1023, 1495, 13]\n",
            "  Last 10 token strings:  ['\"', 'Ġor', 'Ġ\"', '2', '\"', 'Ġand', 'Ġno', 'Ġother', 'Ġtext', '.']\n",
            "\n"
          ]
        },
        {
          "name": "stderr",
          "output_type": "stream",
          "text": [
            "\r 89%|████████▊ | 275/310 [01:15<00:09,  3.76it/s]"
          ]
        },
        {
          "name": "stdout",
          "output_type": "stream",
          "text": [
            "\n",
            "Index 275 (No), Layer‐Offset loop:\n",
            "  Last 10 token IDs:      [1, 477, 330, 17, 1, 323, 912, 1023, 1495, 13]\n",
            "  Last 10 token strings:  ['\"', 'Ġor', 'Ġ\"', '2', '\"', 'Ġand', 'Ġno', 'Ġother', 'Ġtext', '.']\n",
            "\n"
          ]
        },
        {
          "name": "stderr",
          "output_type": "stream",
          "text": [
            "\r 89%|████████▉ | 276/310 [01:15<00:08,  3.79it/s]"
          ]
        },
        {
          "name": "stdout",
          "output_type": "stream",
          "text": [
            "\n",
            "Index 276 (Yes), Layer‐Offset loop:\n",
            "  Last 10 token IDs:      [1, 477, 330, 17, 1, 323, 912, 1023, 1495, 13]\n",
            "  Last 10 token strings:  ['\"', 'Ġor', 'Ġ\"', '2', '\"', 'Ġand', 'Ġno', 'Ġother', 'Ġtext', '.']\n",
            "\n"
          ]
        },
        {
          "name": "stderr",
          "output_type": "stream",
          "text": [
            "\r 89%|████████▉ | 277/310 [01:15<00:08,  3.81it/s]"
          ]
        },
        {
          "name": "stdout",
          "output_type": "stream",
          "text": [
            "\n",
            "Index 277 (No), Layer‐Offset loop:\n",
            "  Last 10 token IDs:      [1, 477, 330, 17, 1, 323, 912, 1023, 1495, 13]\n",
            "  Last 10 token strings:  ['\"', 'Ġor', 'Ġ\"', '2', '\"', 'Ġand', 'Ġno', 'Ġother', 'Ġtext', '.']\n",
            "\n"
          ]
        },
        {
          "name": "stderr",
          "output_type": "stream",
          "text": [
            "\r 90%|████████▉ | 278/310 [01:15<00:08,  3.83it/s]"
          ]
        },
        {
          "name": "stdout",
          "output_type": "stream",
          "text": [
            "\n",
            "Index 278 (No), Layer‐Offset loop:\n",
            "  Last 10 token IDs:      [1, 477, 330, 17, 1, 323, 912, 1023, 1495, 13]\n",
            "  Last 10 token strings:  ['\"', 'Ġor', 'Ġ\"', '2', '\"', 'Ġand', 'Ġno', 'Ġother', 'Ġtext', '.']\n",
            "\n"
          ]
        },
        {
          "name": "stderr",
          "output_type": "stream",
          "text": [
            "\r 90%|█████████ | 279/310 [01:16<00:08,  3.72it/s]"
          ]
        },
        {
          "name": "stdout",
          "output_type": "stream",
          "text": [
            "\n",
            "Index 279 (Yes), Layer‐Offset loop:\n",
            "  Last 10 token IDs:      [1, 477, 330, 17, 1, 323, 912, 1023, 1495, 13]\n",
            "  Last 10 token strings:  ['\"', 'Ġor', 'Ġ\"', '2', '\"', 'Ġand', 'Ġno', 'Ġother', 'Ġtext', '.']\n",
            "\n"
          ]
        },
        {
          "name": "stderr",
          "output_type": "stream",
          "text": [
            "\r 90%|█████████ | 280/310 [01:16<00:08,  3.70it/s]"
          ]
        },
        {
          "name": "stdout",
          "output_type": "stream",
          "text": [
            "\n",
            "Index 280 (Yes), Layer‐Offset loop:\n",
            "  Last 10 token IDs:      [1, 477, 330, 17, 1, 323, 912, 1023, 1495, 13]\n",
            "  Last 10 token strings:  ['\"', 'Ġor', 'Ġ\"', '2', '\"', 'Ġand', 'Ġno', 'Ġother', 'Ġtext', '.']\n",
            "\n"
          ]
        },
        {
          "name": "stderr",
          "output_type": "stream",
          "text": [
            "\r 91%|█████████ | 281/310 [01:16<00:07,  3.74it/s]"
          ]
        },
        {
          "name": "stdout",
          "output_type": "stream",
          "text": [
            "\n",
            "Index 281 (No), Layer‐Offset loop:\n",
            "  Last 10 token IDs:      [1, 477, 330, 17, 1, 323, 912, 1023, 1495, 13]\n",
            "  Last 10 token strings:  ['\"', 'Ġor', 'Ġ\"', '2', '\"', 'Ġand', 'Ġno', 'Ġother', 'Ġtext', '.']\n",
            "\n"
          ]
        },
        {
          "name": "stderr",
          "output_type": "stream",
          "text": [
            "\r 91%|█████████ | 282/310 [01:16<00:07,  3.81it/s]"
          ]
        },
        {
          "name": "stdout",
          "output_type": "stream",
          "text": [
            "\n",
            "Index 282 (No), Layer‐Offset loop:\n",
            "  Last 10 token IDs:      [1, 477, 330, 17, 1, 323, 912, 1023, 1495, 13]\n",
            "  Last 10 token strings:  ['\"', 'Ġor', 'Ġ\"', '2', '\"', 'Ġand', 'Ġno', 'Ġother', 'Ġtext', '.']\n",
            "\n"
          ]
        },
        {
          "name": "stderr",
          "output_type": "stream",
          "text": [
            "\r 91%|█████████▏| 283/310 [01:17<00:07,  3.57it/s]"
          ]
        },
        {
          "name": "stdout",
          "output_type": "stream",
          "text": [
            "\n",
            "Index 283 (No), Layer‐Offset loop:\n",
            "  Last 10 token IDs:      [1, 477, 330, 17, 1, 323, 912, 1023, 1495, 13]\n",
            "  Last 10 token strings:  ['\"', 'Ġor', 'Ġ\"', '2', '\"', 'Ġand', 'Ġno', 'Ġother', 'Ġtext', '.']\n",
            "\n"
          ]
        },
        {
          "name": "stderr",
          "output_type": "stream",
          "text": [
            "\r 92%|█████████▏| 284/310 [01:17<00:07,  3.49it/s]"
          ]
        },
        {
          "name": "stdout",
          "output_type": "stream",
          "text": [
            "\n",
            "Index 284 (No), Layer‐Offset loop:\n",
            "  Last 10 token IDs:      [1, 477, 330, 17, 1, 323, 912, 1023, 1495, 13]\n",
            "  Last 10 token strings:  ['\"', 'Ġor', 'Ġ\"', '2', '\"', 'Ġand', 'Ġno', 'Ġother', 'Ġtext', '.']\n",
            "\n"
          ]
        },
        {
          "name": "stderr",
          "output_type": "stream",
          "text": [
            "\r 92%|█████████▏| 285/310 [01:17<00:07,  3.40it/s]"
          ]
        },
        {
          "name": "stdout",
          "output_type": "stream",
          "text": [
            "\n",
            "Index 285 (No), Layer‐Offset loop:\n",
            "  Last 10 token IDs:      [1, 477, 330, 17, 1, 323, 912, 1023, 1495, 13]\n",
            "  Last 10 token strings:  ['\"', 'Ġor', 'Ġ\"', '2', '\"', 'Ġand', 'Ġno', 'Ġother', 'Ġtext', '.']\n",
            "\n"
          ]
        },
        {
          "name": "stderr",
          "output_type": "stream",
          "text": [
            "\r 92%|█████████▏| 286/310 [01:18<00:06,  3.45it/s]"
          ]
        },
        {
          "name": "stdout",
          "output_type": "stream",
          "text": [
            "\n",
            "Index 286 (Yes), Layer‐Offset loop:\n",
            "  Last 10 token IDs:      [1, 477, 330, 17, 1, 323, 912, 1023, 1495, 13]\n",
            "  Last 10 token strings:  ['\"', 'Ġor', 'Ġ\"', '2', '\"', 'Ġand', 'Ġno', 'Ġother', 'Ġtext', '.']\n",
            "\n"
          ]
        },
        {
          "name": "stderr",
          "output_type": "stream",
          "text": [
            "\r 93%|█████████▎| 287/310 [01:18<00:06,  3.49it/s]"
          ]
        },
        {
          "name": "stdout",
          "output_type": "stream",
          "text": [
            "\n",
            "Index 287 (Yes), Layer‐Offset loop:\n",
            "  Last 10 token IDs:      [1, 477, 330, 17, 1, 323, 912, 1023, 1495, 13]\n",
            "  Last 10 token strings:  ['\"', 'Ġor', 'Ġ\"', '2', '\"', 'Ġand', 'Ġno', 'Ġother', 'Ġtext', '.']\n",
            "\n"
          ]
        },
        {
          "name": "stderr",
          "output_type": "stream",
          "text": [
            "\r 93%|█████████▎| 288/310 [01:18<00:06,  3.52it/s]"
          ]
        },
        {
          "name": "stdout",
          "output_type": "stream",
          "text": [
            "\n",
            "Index 288 (No), Layer‐Offset loop:\n",
            "  Last 10 token IDs:      [1, 477, 330, 17, 1, 323, 912, 1023, 1495, 13]\n",
            "  Last 10 token strings:  ['\"', 'Ġor', 'Ġ\"', '2', '\"', 'Ġand', 'Ġno', 'Ġother', 'Ġtext', '.']\n",
            "\n"
          ]
        },
        {
          "name": "stderr",
          "output_type": "stream",
          "text": [
            "\r 93%|█████████▎| 289/310 [01:18<00:05,  3.63it/s]"
          ]
        },
        {
          "name": "stdout",
          "output_type": "stream",
          "text": [
            "\n",
            "Index 289 (No), Layer‐Offset loop:\n",
            "  Last 10 token IDs:      [1, 477, 330, 17, 1, 323, 912, 1023, 1495, 13]\n",
            "  Last 10 token strings:  ['\"', 'Ġor', 'Ġ\"', '2', '\"', 'Ġand', 'Ġno', 'Ġother', 'Ġtext', '.']\n",
            "\n"
          ]
        },
        {
          "name": "stderr",
          "output_type": "stream",
          "text": [
            "\r 94%|█████████▎| 290/310 [01:19<00:05,  3.71it/s]"
          ]
        },
        {
          "name": "stdout",
          "output_type": "stream",
          "text": [
            "\n",
            "Index 290 (Yes), Layer‐Offset loop:\n",
            "  Last 10 token IDs:      [1, 477, 330, 17, 1, 323, 912, 1023, 1495, 13]\n",
            "  Last 10 token strings:  ['\"', 'Ġor', 'Ġ\"', '2', '\"', 'Ġand', 'Ġno', 'Ġother', 'Ġtext', '.']\n",
            "\n"
          ]
        },
        {
          "name": "stderr",
          "output_type": "stream",
          "text": [
            "\r 94%|█████████▍| 291/310 [01:19<00:05,  3.73it/s]"
          ]
        },
        {
          "name": "stdout",
          "output_type": "stream",
          "text": [
            "\n",
            "Index 291 (No), Layer‐Offset loop:\n",
            "  Last 10 token IDs:      [1, 477, 330, 17, 1, 323, 912, 1023, 1495, 13]\n",
            "  Last 10 token strings:  ['\"', 'Ġor', 'Ġ\"', '2', '\"', 'Ġand', 'Ġno', 'Ġother', 'Ġtext', '.']\n",
            "\n"
          ]
        },
        {
          "name": "stderr",
          "output_type": "stream",
          "text": [
            "\r 94%|█████████▍| 292/310 [01:19<00:04,  3.81it/s]"
          ]
        },
        {
          "name": "stdout",
          "output_type": "stream",
          "text": [
            "\n",
            "Index 292 (No), Layer‐Offset loop:\n",
            "  Last 10 token IDs:      [1, 477, 330, 17, 1, 323, 912, 1023, 1495, 13]\n",
            "  Last 10 token strings:  ['\"', 'Ġor', 'Ġ\"', '2', '\"', 'Ġand', 'Ġno', 'Ġother', 'Ġtext', '.']\n",
            "\n"
          ]
        },
        {
          "name": "stderr",
          "output_type": "stream",
          "text": [
            "\r 95%|█████████▍| 293/310 [01:19<00:04,  3.86it/s]"
          ]
        },
        {
          "name": "stdout",
          "output_type": "stream",
          "text": [
            "\n",
            "Index 293 (No), Layer‐Offset loop:\n",
            "  Last 10 token IDs:      [1, 477, 330, 17, 1, 323, 912, 1023, 1495, 13]\n",
            "  Last 10 token strings:  ['\"', 'Ġor', 'Ġ\"', '2', '\"', 'Ġand', 'Ġno', 'Ġother', 'Ġtext', '.']\n",
            "\n"
          ]
        },
        {
          "name": "stderr",
          "output_type": "stream",
          "text": [
            "\r 95%|█████████▍| 294/310 [01:20<00:04,  3.89it/s]"
          ]
        },
        {
          "name": "stdout",
          "output_type": "stream",
          "text": [
            "\n",
            "Index 294 (No), Layer‐Offset loop:\n",
            "  Last 10 token IDs:      [1, 477, 330, 17, 1, 323, 912, 1023, 1495, 13]\n",
            "  Last 10 token strings:  ['\"', 'Ġor', 'Ġ\"', '2', '\"', 'Ġand', 'Ġno', 'Ġother', 'Ġtext', '.']\n",
            "\n"
          ]
        },
        {
          "name": "stderr",
          "output_type": "stream",
          "text": [
            "\r 95%|█████████▌| 295/310 [01:20<00:03,  3.80it/s]"
          ]
        },
        {
          "name": "stdout",
          "output_type": "stream",
          "text": [
            "\n",
            "Index 295 (No), Layer‐Offset loop:\n",
            "  Last 10 token IDs:      [1, 477, 330, 17, 1, 323, 912, 1023, 1495, 13]\n",
            "  Last 10 token strings:  ['\"', 'Ġor', 'Ġ\"', '2', '\"', 'Ġand', 'Ġno', 'Ġother', 'Ġtext', '.']\n",
            "\n"
          ]
        },
        {
          "name": "stderr",
          "output_type": "stream",
          "text": [
            "\r 95%|█████████▌| 296/310 [01:20<00:03,  3.77it/s]"
          ]
        },
        {
          "name": "stdout",
          "output_type": "stream",
          "text": [
            "\n",
            "Index 296 (Yes), Layer‐Offset loop:\n",
            "  Last 10 token IDs:      [1, 477, 330, 17, 1, 323, 912, 1023, 1495, 13]\n",
            "  Last 10 token strings:  ['\"', 'Ġor', 'Ġ\"', '2', '\"', 'Ġand', 'Ġno', 'Ġother', 'Ġtext', '.']\n",
            "\n"
          ]
        },
        {
          "name": "stderr",
          "output_type": "stream",
          "text": [
            "\r 96%|█████████▌| 297/310 [01:21<00:03,  3.74it/s]"
          ]
        },
        {
          "name": "stdout",
          "output_type": "stream",
          "text": [
            "\n",
            "Index 297 (Yes), Layer‐Offset loop:\n",
            "  Last 10 token IDs:      [1, 477, 330, 17, 1, 323, 912, 1023, 1495, 13]\n",
            "  Last 10 token strings:  ['\"', 'Ġor', 'Ġ\"', '2', '\"', 'Ġand', 'Ġno', 'Ġother', 'Ġtext', '.']\n",
            "\n"
          ]
        },
        {
          "name": "stderr",
          "output_type": "stream",
          "text": [
            "\r 96%|█████████▌| 298/310 [01:21<00:03,  3.75it/s]"
          ]
        },
        {
          "name": "stdout",
          "output_type": "stream",
          "text": [
            "\n",
            "Index 298 (Yes), Layer‐Offset loop:\n",
            "  Last 10 token IDs:      [1, 477, 330, 17, 1, 323, 912, 1023, 1495, 13]\n",
            "  Last 10 token strings:  ['\"', 'Ġor', 'Ġ\"', '2', '\"', 'Ġand', 'Ġno', 'Ġother', 'Ġtext', '.']\n",
            "\n"
          ]
        },
        {
          "name": "stderr",
          "output_type": "stream",
          "text": [
            "\r 96%|█████████▋| 299/310 [01:21<00:02,  3.79it/s]"
          ]
        },
        {
          "name": "stdout",
          "output_type": "stream",
          "text": [
            "\n",
            "Index 299 (Yes), Layer‐Offset loop:\n",
            "  Last 10 token IDs:      [1, 477, 330, 17, 1, 323, 912, 1023, 1495, 13]\n",
            "  Last 10 token strings:  ['\"', 'Ġor', 'Ġ\"', '2', '\"', 'Ġand', 'Ġno', 'Ġother', 'Ġtext', '.']\n",
            "\n"
          ]
        },
        {
          "name": "stderr",
          "output_type": "stream",
          "text": [
            "\r 97%|█████████▋| 300/310 [01:21<00:02,  3.72it/s]"
          ]
        },
        {
          "name": "stdout",
          "output_type": "stream",
          "text": [
            "\n",
            "Index 300 (Yes), Layer‐Offset loop:\n",
            "  Last 10 token IDs:      [1, 477, 330, 17, 1, 323, 912, 1023, 1495, 13]\n",
            "  Last 10 token strings:  ['\"', 'Ġor', 'Ġ\"', '2', '\"', 'Ġand', 'Ġno', 'Ġother', 'Ġtext', '.']\n",
            "\n"
          ]
        },
        {
          "name": "stderr",
          "output_type": "stream",
          "text": [
            "\r 97%|█████████▋| 301/310 [01:22<00:02,  3.76it/s]"
          ]
        },
        {
          "name": "stdout",
          "output_type": "stream",
          "text": [
            "\n",
            "Index 301 (No), Layer‐Offset loop:\n",
            "  Last 10 token IDs:      [1, 477, 330, 17, 1, 323, 912, 1023, 1495, 13]\n",
            "  Last 10 token strings:  ['\"', 'Ġor', 'Ġ\"', '2', '\"', 'Ġand', 'Ġno', 'Ġother', 'Ġtext', '.']\n",
            "\n"
          ]
        },
        {
          "name": "stderr",
          "output_type": "stream",
          "text": [
            "\r 97%|█████████▋| 302/310 [01:22<00:02,  3.70it/s]"
          ]
        },
        {
          "name": "stdout",
          "output_type": "stream",
          "text": [
            "\n",
            "Index 302 (Yes), Layer‐Offset loop:\n",
            "  Last 10 token IDs:      [1, 477, 330, 17, 1, 323, 912, 1023, 1495, 13]\n",
            "  Last 10 token strings:  ['\"', 'Ġor', 'Ġ\"', '2', '\"', 'Ġand', 'Ġno', 'Ġother', 'Ġtext', '.']\n",
            "\n"
          ]
        },
        {
          "name": "stderr",
          "output_type": "stream",
          "text": [
            "\r 98%|█████████▊| 303/310 [01:22<00:01,  3.70it/s]"
          ]
        },
        {
          "name": "stdout",
          "output_type": "stream",
          "text": [
            "\n",
            "Index 303 (No), Layer‐Offset loop:\n",
            "  Last 10 token IDs:      [1, 477, 330, 17, 1, 323, 912, 1023, 1495, 13]\n",
            "  Last 10 token strings:  ['\"', 'Ġor', 'Ġ\"', '2', '\"', 'Ġand', 'Ġno', 'Ġother', 'Ġtext', '.']\n",
            "\n"
          ]
        },
        {
          "name": "stderr",
          "output_type": "stream",
          "text": [
            "\r 98%|█████████▊| 304/310 [01:22<00:01,  3.76it/s]"
          ]
        },
        {
          "name": "stdout",
          "output_type": "stream",
          "text": [
            "\n",
            "Index 304 (Yes), Layer‐Offset loop:\n",
            "  Last 10 token IDs:      [1, 477, 330, 17, 1, 323, 912, 1023, 1495, 13]\n",
            "  Last 10 token strings:  ['\"', 'Ġor', 'Ġ\"', '2', '\"', 'Ġand', 'Ġno', 'Ġother', 'Ġtext', '.']\n",
            "\n"
          ]
        },
        {
          "name": "stderr",
          "output_type": "stream",
          "text": [
            "\r 98%|█████████▊| 305/310 [01:23<00:01,  3.75it/s]"
          ]
        },
        {
          "name": "stdout",
          "output_type": "stream",
          "text": [
            "\n",
            "Index 305 (No), Layer‐Offset loop:\n",
            "  Last 10 token IDs:      [1, 477, 330, 17, 1, 323, 912, 1023, 1495, 13]\n",
            "  Last 10 token strings:  ['\"', 'Ġor', 'Ġ\"', '2', '\"', 'Ġand', 'Ġno', 'Ġother', 'Ġtext', '.']\n",
            "\n"
          ]
        },
        {
          "name": "stderr",
          "output_type": "stream",
          "text": [
            "\r 99%|█████████▊| 306/310 [01:23<00:01,  3.74it/s]"
          ]
        },
        {
          "name": "stdout",
          "output_type": "stream",
          "text": [
            "\n",
            "Index 306 (Yes), Layer‐Offset loop:\n",
            "  Last 10 token IDs:      [1, 477, 330, 17, 1, 323, 912, 1023, 1495, 13]\n",
            "  Last 10 token strings:  ['\"', 'Ġor', 'Ġ\"', '2', '\"', 'Ġand', 'Ġno', 'Ġother', 'Ġtext', '.']\n",
            "\n"
          ]
        },
        {
          "name": "stderr",
          "output_type": "stream",
          "text": [
            "\r 99%|█████████▉| 307/310 [01:23<00:00,  3.78it/s]"
          ]
        },
        {
          "name": "stdout",
          "output_type": "stream",
          "text": [
            "\n",
            "Index 307 (Yes), Layer‐Offset loop:\n",
            "  Last 10 token IDs:      [1, 477, 330, 17, 1, 323, 912, 1023, 1495, 13]\n",
            "  Last 10 token strings:  ['\"', 'Ġor', 'Ġ\"', '2', '\"', 'Ġand', 'Ġno', 'Ġother', 'Ġtext', '.']\n",
            "\n"
          ]
        },
        {
          "name": "stderr",
          "output_type": "stream",
          "text": [
            "\r 99%|█████████▉| 308/310 [01:24<00:00,  3.59it/s]"
          ]
        },
        {
          "name": "stdout",
          "output_type": "stream",
          "text": [
            "\n",
            "Index 308 (No), Layer‐Offset loop:\n",
            "  Last 10 token IDs:      [1, 477, 330, 17, 1, 323, 912, 1023, 1495, 13]\n",
            "  Last 10 token strings:  ['\"', 'Ġor', 'Ġ\"', '2', '\"', 'Ġand', 'Ġno', 'Ġother', 'Ġtext', '.']\n",
            "\n"
          ]
        },
        {
          "name": "stderr",
          "output_type": "stream",
          "text": [
            "\r100%|█████████▉| 309/310 [01:24<00:00,  3.67it/s]"
          ]
        },
        {
          "name": "stdout",
          "output_type": "stream",
          "text": [
            "\n",
            "Index 309 (Yes), Layer‐Offset loop:\n",
            "  Last 10 token IDs:      [1, 477, 330, 17, 1, 323, 912, 1023, 1495, 13]\n",
            "  Last 10 token strings:  ['\"', 'Ġor', 'Ġ\"', '2', '\"', 'Ġand', 'Ġno', 'Ġother', 'Ġtext', '.']\n",
            "\n"
          ]
        },
        {
          "name": "stderr",
          "output_type": "stream",
          "text": [
            "100%|██████████| 310/310 [01:24<00:00,  3.67it/s]"
          ]
        },
        {
          "name": "stdout",
          "output_type": "stream",
          "text": [
            "✓ Created 320 steering vectors (32 layers × up to 10 offsets each)\n"
          ]
        },
        {
          "name": "stderr",
          "output_type": "stream",
          "text": [
            "\n"
          ]
        }
      ],
      "source": [
        "# ─── PARAMETERS ─────────────────────────────────────────────────────────────────\n",
        "L      = model.config.num_hidden_layers   # e.g. 32\n",
        "K      = 10                                # last‐K token positions\n",
        "hidden = model.config.hidden_size\n",
        "\n",
        "# ─── (A) VALIDATE BALANCED DATASET ───────────────────────────────────────────────\n",
        "counts = balanced[\"label\"].value_counts()\n",
        "assert counts[\"Yes\"] == counts[\"No\"], \"Balanced must have equal Yes/No\"\n",
        "n_yes = int(counts[\"Yes\"])\n",
        "n_no  = int(counts[\"No\"])\n",
        "\n",
        "# ─── (B) SHUFFLE AND SPLIT INDICES FOR 25/25/25/25 ───────────────────────────────\n",
        "# Gather indices for each label\n",
        "yes_idxs = balanced[ balanced[\"label\"] == \"Yes\" ].index.to_list()\n",
        "no_idxs  = balanced[ balanced[\"label\"] == \"No\"  ].index.to_list()\n",
        "\n",
        "# Shuffle in place\n",
        "np.random.shuffle(yes_idxs)\n",
        "np.random.shuffle(no_idxs)\n",
        "\n",
        "# Split each label half for A vs. B\n",
        "half_yes = n_yes // 2   # e.g. 155//2 = 77\n",
        "half_no  = n_no  // 2   # e.g. 155//2 = 77\n",
        "\n",
        "yes_A = set(yes_idxs[:half_yes])\n",
        "yes_B = set(yes_idxs[half_yes:])\n",
        "no_A  = set(no_idxs[:half_no])\n",
        "no_B  = set(no_idxs[half_no:])\n",
        "\n",
        "# ─── (C) INITIALIZE ACCUMULATORS ─────────────────────────────────────────────────\n",
        "sums_yes = {l: [torch.zeros(hidden) for _ in range(K)] for l in range(L)}\n",
        "sums_no  = {l: [torch.zeros(hidden) for _ in range(K)] for l in range(L)}\n",
        "\n",
        "# ─── (D) COLLECT HIDDEN ACTIVATIONS ───────────────────────────────────────────────\n",
        "for idx, row in tqdm(balanced.iterrows(), total=len(balanced)):\n",
        "    # Determine forward/backward based on group membership\n",
        "    if   idx in yes_A:\n",
        "        prompt = row[\"forward_prompt\"]\n",
        "    elif idx in yes_B:\n",
        "        prompt = row[\"backward_prompt\"]\n",
        "    elif idx in no_A:\n",
        "        prompt = row[\"forward_prompt\"]\n",
        "    else:  # idx in no_B\n",
        "        prompt = row[\"backward_prompt\"]\n",
        "\n",
        "    # Tokenize (without returning tensors just yet)\n",
        "    enc       = tok(prompt, add_special_tokens=True, return_tensors=None)\n",
        "    token_ids = enc[\"input_ids\"]\n",
        "\n",
        "    # ─── PRINT LAST TEN TOKENS ────────────────────────────────────────────────────\n",
        "    last_ten_ids     = token_ids[-10:]\n",
        "    last_ten_strings = tok.convert_ids_to_tokens(last_ten_ids)\n",
        "    print(f\"\\nIndex {idx} ({'Yes' if row['label']=='Yes' else 'No'}), Layer‐Offset loop:\")\n",
        "    print(f\"  Last 10 token IDs:      {last_ten_ids}\")\n",
        "    print(f\"  Last 10 token strings:  {last_ten_strings}\\n\")\n",
        "\n",
        "    n_tok = min(K, len(token_ids))\n",
        "\n",
        "    with torch.no_grad():\n",
        "        out = model(\n",
        "            **tok(prompt, return_tensors=\"pt\").to(model.device),\n",
        "            output_hidden_states=True\n",
        "        )\n",
        "        hs = out.hidden_states  # hs[1]..hs[L] are layer activations\n",
        "\n",
        "    for offset in range(n_tok):  # offset=0 is last token\n",
        "        vecs = [hs[l + 1][0, -(offset + 1), :].cpu() for l in range(L)]\n",
        "        if row[\"label\"] == \"Yes\":\n",
        "            for l, v in enumerate(vecs):\n",
        "                sums_yes[l][offset] += v\n",
        "        else:  # \"No\"\n",
        "            for l, v in enumerate(vecs):\n",
        "                sums_no[l][offset] += v\n",
        "\n",
        "# ─── (E) COMPUTE NORMALIZED MEAN‐DIFF VECTORS ───────────────────────────────────\n",
        "layer_diffs = defaultdict(list)\n",
        "\n",
        "for l in range(L):\n",
        "    for offset in range(K):\n",
        "        # Mean of all \"Yes\" activations at (layer l, offset)\n",
        "        mean_yes = sums_yes[l][offset] / n_yes\n",
        "        # Mean of all \"No\"  activations at (layer l, offset)\n",
        "        mean_no  = sums_no[l][offset]  / n_no\n",
        "\n",
        "        diff = mean_yes - mean_no\n",
        "        norm = diff.norm()\n",
        "        diff = diff / norm\n",
        "        layer_diffs[l].append(diff)\n",
        "\n",
        "total = sum(len(v) for v in layer_diffs.values())\n",
        "print(f\"✓ Created {total} steering vectors ({L} layers × up to {K} offsets each)\")\n"
      ]
    },
    {
      "cell_type": "code",
      "execution_count": 95,
      "metadata": {
        "id": "YDJoxNvVhfoI"
=======
      "execution_count": 8,
      "metadata": {
        "id": "HXSiU8QBUQm0"
>>>>>>> refactor-vector-creation
      },
      "outputs": [],
      "source": [
        "# MEAN DIFF VECTOR VARIABLES\n",
        "num_positive = len(positive_forward) + len(positive_backward)\n",
        "num_negative = len(negative_forward) + len(negative_backward)\n",
        "\n",
        "positive_sums_by_layer = {\n",
        "    layer: [torch.zeros(hidden_size) for _ in range(10)]\n",
        "    for layer in range(num_layers)\n",
        "}\n",
        "negative_sums_by_layer = {\n",
        "    layer: [torch.zeros(hidden_size) for _ in range(10)]\n",
        "    for layer in range(num_layers)\n",
        "}\n",
        "\n",
        "# NUISANCE VECTOR VARIABLES\n",
        "positive_nuisance_prompts = [pos for pos, _ in nuisance_pairs]\n",
        "negative_nuisance_prompts = [neg for _, neg in nuisance_pairs]\n",
        "num_nuisance_pairs = len(nuisance_pairs)\n",
        "\n",
        "nuisance_positive_sums = {\n",
        "    layer: [torch.zeros(hidden_size)]\n",
        "    for layer in range(num_layers)\n",
        "}\n",
        "nuisance_negative_sums = {\n",
        "    layer: [torch.zeros(hidden_size)]\n",
        "    for layer in range(num_layers)\n",
        "}"
      ]
    },
    {
      "cell_type": "markdown",
      "metadata": {},
      "source": [
        "### Explanation of `accumulate_activations` Function\n",
        "\n",
        "This function takes a list of text prompts and, for each prompt, runs it through the LLaMA model to extract the hidden‐state activations for the last few tokens in every layer. Specifically:\n",
        "1. We iterate over each prompt (with a progress bar to show how many prompts have been processed).\n",
        "2. We tokenize the prompt once (`tok(prompt, add_special_tokens=True)`) to find out how many tokens it contains. This lets us decide how many of the final token positions (`max_tokens`) we should process.\n",
        "3. Inside a `torch.no_grad()` block (because we only need inference), we run the same prompt through the model to obtain `hidden_states` from every layer.\n",
        "4. We then loop over the last `tokens_to_process` positions (up to `max_tokens`). For each position and for each layer, we grab that layer’s hidden‐state vector for the corresponding token, move it to CPU, and add it into our pre‐allocated `sum_accumulators[layer][offset]` tensor.\n",
        "\n",
        "By the end, `sum_accumulators` holds—for each layer and each of the last `max_tokens` token positions—the sum of all hidden‐state vectors seen so far. Those sums will later be divided by the number of prompts to compute mean activations.\n"
      ]
    },
    {
      "cell_type": "code",
      "execution_count": 9,
      "metadata": {
        "id": "_CyZgZ6vUQm0"
      },
      "outputs": [],
      "source": [
        "def accumulate_activations(prompts, sum_accumulators, num_layers, max_tokens):\n",
        "    for prompt in tqdm(prompts, desc=\"Accumulating activations\"):\n",
        "        token_ids = tok(prompt, add_special_tokens=True)[\"input_ids\"]\n",
        "        tokens_to_process = min(max_tokens, len(token_ids))\n",
        "        with torch.no_grad():\n",
        "            outputs = model(\n",
        "                **tok(prompt, return_tensors=\"pt\").to(model.device),\n",
        "                output_hidden_states=True\n",
        "            )\n",
        "            hidden_states = outputs.hidden_states\n",
        "        for offset in range(tokens_to_process):\n",
        "            for layer_idx in range(num_layers):\n",
        "                vec = hidden_states[layer_idx + 1][0, -(offset + 1), :].cpu()\n",
        "                sum_accumulators[layer_idx][offset] += vec"
      ]
    },
    {
      "cell_type": "markdown",
      "metadata": {},
      "source": [
        "### Conceptual Overview of Mean‐Difference and Nuisance Vectors\n",
        "\n",
        "In the next three blocks, we create our steering vector.\n",
        "\n",
        "At a high level, our goal is to identify directions in the transformer’s hidden‐state space that distinguish “positive” examples from “negative” examples, while also removing any unwanted or generic variation (the “nuisance” components). We do this in two stages:\n",
        "\n",
        "1. **Mean‐Difference Vectors**  \n",
        "   For each layer of the LLaMA model and for each of the last few token positions, we collect hidden‐state activations from two sets of prompts (positive vs. negative). By averaging all positive activations and subtracting the averaged negative activations, we obtain a “mean‐difference” vector that points in the direction most characteristic of positive examples at that layer and position. Intuitively, this captures the semantic or stylistic features that consistently separate positive samples from negative ones.\n",
        "\n",
        "2. **Nuisance Vectors**  \n",
        "   Many variations in hidden activations are not relevant to our positive/negative distinction—they may reflect token‐position biases, generic stylistic choices, or other confounds. To isolate those, we define small pairs of prompts that are semantically neutral (e.g., “Say Yes” vs. “Say No”, “Say I” vs. “Say Someone”), and compute their layer‐wise hidden‐state differences at the final token. By averaging across these nuisance pairs, we obtain one “nuisance” vector per layer that represents language, or position‐specific variation we want to remove.\n",
        "\n",
        "Finally, by projecting each mean‐difference vector onto the subspace orthogonal to its corresponding nuisance vector, we remove these generic confounds. The result is a set of steering vectors, one for each layer and token offset, that focus purely on the positive/negative distinction, free from nuisance variation. This two‐stage approach (mean‐difference first, nuisance subtraction second) ensures that our final steering directions capture only the task‐relevant signal.  \n"
      ]
    },
    {
      "cell_type": "code",
      "execution_count": 10,
      "metadata": {
        "colab": {
          "base_uri": "https://localhost:8080/"
        },
        "id": "NoM4IQp_UQm1",
        "outputId": "d0b1a8a4-b97e-4628-bbb0-cfe8828bda17"
      },
      "outputs": [
        {
          "name": "stderr",
          "output_type": "stream",
          "text": [
            "Accumulating activations: 100%|██████████| 155/155 [00:40<00:00,  3.80it/s]\n",
            "Accumulating activations: 100%|██████████| 155/155 [00:39<00:00,  3.89it/s]\n",
            "Accumulating activations: 100%|██████████| 155/155 [00:40<00:00,  3.81it/s]\n",
            "Accumulating activations: 100%|██████████| 155/155 [00:40<00:00,  3.82it/s]\n"
          ]
        }
      ],
      "source": [
        "# ─── COMPUTE LAYER‐MEAN‐DIFFERENCE VECTORS ─────────────────────────────────────────\n",
        "# Accumulate positive vs. negative hidden states for up to last 10 token positions\n",
        "accumulate_activations(positive_forward,   positive_sums_by_layer, num_layers, 10)\n",
        "accumulate_activations(positive_backward,  positive_sums_by_layer, num_layers, 10)\n",
        "accumulate_activations(negative_forward,   negative_sums_by_layer, num_layers, 10)\n",
        "accumulate_activations(negative_backward,  negative_sums_by_layer, num_layers, 10)\n",
        "\n",
        "layer_mean_diff_vectors = defaultdict(list)\n",
        "for layer_idx in range(num_layers):\n",
        "    for offset in range(10):\n",
        "        avg_pos = positive_sums_by_layer[layer_idx][offset] / num_positive\n",
        "        avg_neg = negative_sums_by_layer[layer_idx][offset] / num_negative\n",
        "        diff    = avg_pos - avg_neg\n",
        "        normalized = diff / diff.norm()\n",
        "        #layer_mean_diff_vectors[layer_idx].append(normalized)\n",
        "        layer_mean_diff_vectors[layer_idx].append(diff)"
      ]
    },
    {
      "cell_type": "code",
      "execution_count": 11,
      "metadata": {
        "colab": {
          "base_uri": "https://localhost:8080/"
        },
        "id": "PvTaCMj1UQm1",
        "outputId": "603dd29f-f659-47c9-ca64-a2e8375b22f4"
      },
      "outputs": [
        {
          "name": "stderr",
          "output_type": "stream",
          "text": [
            "Accumulating activations: 100%|██████████| 19/19 [00:03<00:00,  4.83it/s]\n",
            "Accumulating activations: 100%|██████████| 19/19 [00:03<00:00,  4.83it/s]\n"
          ]
        }
      ],
      "source": [
        "# ─── COMPUTE ONE “NUISANCE” VECTOR PER LAYER ───────────────────────────────────────\n",
        "# Use the same accumulate_activations but only for the last token (max_tokens=1)\n",
        "accumulate_activations(positive_nuisance_prompts, nuisance_positive_sums, num_layers, max_tokens=1)\n",
        "accumulate_activations(negative_nuisance_prompts, nuisance_negative_sums, num_layers, max_tokens=1)\n",
        "\n",
        "# Average & normalize per layer\n",
        "pairwise_nuisance = {}\n",
        "for layer_idx in range(num_layers):\n",
        "    mean_pos = nuisance_positive_sums[layer_idx][0] / num_nuisance_pairs\n",
        "    mean_neg = nuisance_negative_sums[layer_idx][0] / num_nuisance_pairs\n",
        "    diff     = mean_pos - mean_neg\n",
        "    pairwise_nuisance[layer_idx] = diff / diff.norm()"
      ]
    },
    {
      "cell_type": "code",
      "execution_count": 12,
      "metadata": {
        "colab": {
          "base_uri": "https://localhost:8080/"
        },
        "id": "JHYHySPlUQm1",
        "outputId": "5ca1ed14-46d4-4c95-af2c-3b1dfa0121a6"
      },
      "outputs": [
        {
          "name": "stdout",
          "output_type": "stream",
          "text": [
            "Projected 320 vectors out of 320 mean-diff vectors\n"
          ]
        }
      ],
      "source": [
        "projected_vectors_by_layer = defaultdict(list)\n",
        "\n",
        "for layer_idx, mean_diff_list in layer_mean_diff_vectors.items():\n",
        "    nuisance_vec = pairwise_nuisance[layer_idx]\n",
        "    nuisance_unit = nuisance_vec / nuisance_vec.norm()\n",
        "\n",
        "    for mean_diff in mean_diff_list:\n",
        "        residual = mean_diff.clone()\n",
        "        proj_coef = (residual @ nuisance_unit) / (nuisance_unit.norm() ** 2)\n",
        "        residual = residual - proj_coef * nuisance_unit\n",
        "        residual = residual / residual.norm()\n",
        "        projected_vectors_by_layer[layer_idx].append(residual)\n",
        "\n",
        "total_projected = sum(len(v) for v in projected_vectors_by_layer.values())\n",
        "total_original  = sum(len(v) for v in layer_mean_diff_vectors.values())\n",
        "\n",
        "print(f\"Projected {total_projected} vectors out of {total_original} mean-diff vectors\")"
      ]
    },
    {
      "cell_type": "code",
      "execution_count": null,
      "metadata": {
        "colab": {
          "base_uri": "https://localhost:8080/"
        },
        "id": "F4tzdRyX7R01",
        "outputId": "295ec8bf-95ba-40b0-c9a5-a4a56adddea6"
      },
      "outputs": [
        {
          "name": "stdout",
          "output_type": "stream",
          "text": [
            "Created vector\n"
          ]
        }
      ],
      "source": [
        "with open(\"steering_vector_final\", \"wb\") as f:\n",
        "    pickle.dump(projected_vectors_by_layer, f)\n",
        "\n",
        "print(\"Created vector\")\n",
        "print(\":)\")"
      ]
    }
  ],
  "metadata": {
    "accelerator": "GPU",
    "colab": {
      "gpuType": "A100",
      "machine_shape": "hm",
      "provenance": []
    },
    "kernelspec": {
      "display_name": "Python 3",
      "name": "python3"
    },
    "language_info": {
      "codemirror_mode": {
        "name": "ipython",
        "version": 3
      },
      "file_extension": ".py",
      "mimetype": "text/x-python",
      "name": "python",
      "nbconvert_exporter": "python",
      "pygments_lexer": "ipython3",
      "version": "3.12.5"
    },
    "widgets": {
      "application/vnd.jupyter.widget-state+json": {
        "038ad0026e8c424e8ca29f384d5b770b": {
          "model_module": "@jupyter-widgets/base",
          "model_module_version": "1.2.0",
          "model_name": "LayoutModel",
          "state": {
            "_model_module": "@jupyter-widgets/base",
            "_model_module_version": "1.2.0",
            "_model_name": "LayoutModel",
            "_view_count": null,
            "_view_module": "@jupyter-widgets/base",
            "_view_module_version": "1.2.0",
            "_view_name": "LayoutView",
            "align_content": null,
            "align_items": null,
            "align_self": null,
            "border": null,
            "bottom": null,
            "display": null,
            "flex": null,
            "flex_flow": null,
            "grid_area": null,
            "grid_auto_columns": null,
            "grid_auto_flow": null,
            "grid_auto_rows": null,
            "grid_column": null,
            "grid_gap": null,
            "grid_row": null,
            "grid_template_areas": null,
            "grid_template_columns": null,
            "grid_template_rows": null,
            "height": null,
            "justify_content": null,
            "justify_items": null,
            "left": null,
            "margin": null,
            "max_height": null,
            "max_width": null,
            "min_height": null,
            "min_width": null,
            "object_fit": null,
            "object_position": null,
            "order": null,
            "overflow": null,
            "overflow_x": null,
            "overflow_y": null,
            "padding": null,
            "right": null,
            "top": null,
            "visibility": null,
            "width": null
          }
        },
        "0bc61ab4f952436a939dd88d6d807d67": {
          "model_module": "@jupyter-widgets/controls",
          "model_module_version": "1.5.0",
          "model_name": "HBoxModel",
          "state": {
            "_dom_classes": [],
            "_model_module": "@jupyter-widgets/controls",
            "_model_module_version": "1.5.0",
            "_model_name": "HBoxModel",
            "_view_count": null,
            "_view_module": "@jupyter-widgets/controls",
            "_view_module_version": "1.5.0",
            "_view_name": "HBoxView",
            "box_style": "",
            "children": [
              "IPY_MODEL_1e6789972dfc4a7c86c534c798af2c53",
              "IPY_MODEL_f65593664a2045368b4222a9c7a6179c",
              "IPY_MODEL_90bba208638d49dbb333f25974e90ee8"
            ],
            "layout": "IPY_MODEL_c9f50348c6f94090bed18d2ed47fbd8e"
          }
        },
        "1e6789972dfc4a7c86c534c798af2c53": {
          "model_module": "@jupyter-widgets/controls",
          "model_module_version": "1.5.0",
          "model_name": "HTMLModel",
          "state": {
            "_dom_classes": [],
            "_model_module": "@jupyter-widgets/controls",
            "_model_module_version": "1.5.0",
            "_model_name": "HTMLModel",
            "_view_count": null,
            "_view_module": "@jupyter-widgets/controls",
            "_view_module_version": "1.5.0",
            "_view_name": "HTMLView",
            "description": "",
            "description_tooltip": null,
            "layout": "IPY_MODEL_7be4cccb457b4a1ab23153dd76f16ee8",
            "placeholder": "​",
            "style": "IPY_MODEL_a2db30416a3a4ccea1c80434922d50ed",
            "value": "Loading checkpoint shards: 100%"
          }
        },
        "37d1462b47534c969f730bd3c4c1e884": {
          "model_module": "@jupyter-widgets/controls",
          "model_module_version": "1.5.0",
          "model_name": "DescriptionStyleModel",
          "state": {
            "_model_module": "@jupyter-widgets/controls",
            "_model_module_version": "1.5.0",
            "_model_name": "DescriptionStyleModel",
            "_view_count": null,
            "_view_module": "@jupyter-widgets/base",
            "_view_module_version": "1.2.0",
            "_view_name": "StyleView",
            "description_width": ""
          }
        },
        "7be4cccb457b4a1ab23153dd76f16ee8": {
          "model_module": "@jupyter-widgets/base",
          "model_module_version": "1.2.0",
          "model_name": "LayoutModel",
          "state": {
            "_model_module": "@jupyter-widgets/base",
            "_model_module_version": "1.2.0",
            "_model_name": "LayoutModel",
            "_view_count": null,
            "_view_module": "@jupyter-widgets/base",
            "_view_module_version": "1.2.0",
            "_view_name": "LayoutView",
            "align_content": null,
            "align_items": null,
            "align_self": null,
            "border": null,
            "bottom": null,
            "display": null,
            "flex": null,
            "flex_flow": null,
            "grid_area": null,
            "grid_auto_columns": null,
            "grid_auto_flow": null,
            "grid_auto_rows": null,
            "grid_column": null,
            "grid_gap": null,
            "grid_row": null,
            "grid_template_areas": null,
            "grid_template_columns": null,
            "grid_template_rows": null,
            "height": null,
            "justify_content": null,
            "justify_items": null,
            "left": null,
            "margin": null,
            "max_height": null,
            "max_width": null,
            "min_height": null,
            "min_width": null,
            "object_fit": null,
            "object_position": null,
            "order": null,
            "overflow": null,
            "overflow_x": null,
            "overflow_y": null,
            "padding": null,
            "right": null,
            "top": null,
            "visibility": null,
            "width": null
          }
        },
        "90bba208638d49dbb333f25974e90ee8": {
          "model_module": "@jupyter-widgets/controls",
          "model_module_version": "1.5.0",
          "model_name": "HTMLModel",
          "state": {
            "_dom_classes": [],
            "_model_module": "@jupyter-widgets/controls",
            "_model_module_version": "1.5.0",
            "_model_name": "HTMLModel",
            "_view_count": null,
            "_view_module": "@jupyter-widgets/controls",
            "_view_module_version": "1.5.0",
            "_view_name": "HTMLView",
            "description": "",
            "description_tooltip": null,
            "layout": "IPY_MODEL_038ad0026e8c424e8ca29f384d5b770b",
            "placeholder": "​",
            "style": "IPY_MODEL_37d1462b47534c969f730bd3c4c1e884",
            "value": " 4/4 [00:18&lt;00:00,  3.79s/it]"
          }
        },
        "a2db30416a3a4ccea1c80434922d50ed": {
          "model_module": "@jupyter-widgets/controls",
          "model_module_version": "1.5.0",
          "model_name": "DescriptionStyleModel",
          "state": {
            "_model_module": "@jupyter-widgets/controls",
            "_model_module_version": "1.5.0",
            "_model_name": "DescriptionStyleModel",
            "_view_count": null,
            "_view_module": "@jupyter-widgets/base",
            "_view_module_version": "1.2.0",
            "_view_name": "StyleView",
            "description_width": ""
          }
        },
        "bc3395916738413b85bb8b2c33f848a2": {
          "model_module": "@jupyter-widgets/base",
          "model_module_version": "1.2.0",
          "model_name": "LayoutModel",
          "state": {
            "_model_module": "@jupyter-widgets/base",
            "_model_module_version": "1.2.0",
            "_model_name": "LayoutModel",
            "_view_count": null,
            "_view_module": "@jupyter-widgets/base",
            "_view_module_version": "1.2.0",
            "_view_name": "LayoutView",
            "align_content": null,
            "align_items": null,
            "align_self": null,
            "border": null,
            "bottom": null,
            "display": null,
            "flex": null,
            "flex_flow": null,
            "grid_area": null,
            "grid_auto_columns": null,
            "grid_auto_flow": null,
            "grid_auto_rows": null,
            "grid_column": null,
            "grid_gap": null,
            "grid_row": null,
            "grid_template_areas": null,
            "grid_template_columns": null,
            "grid_template_rows": null,
            "height": null,
            "justify_content": null,
            "justify_items": null,
            "left": null,
            "margin": null,
            "max_height": null,
            "max_width": null,
            "min_height": null,
            "min_width": null,
            "object_fit": null,
            "object_position": null,
            "order": null,
            "overflow": null,
            "overflow_x": null,
            "overflow_y": null,
            "padding": null,
            "right": null,
            "top": null,
            "visibility": null,
            "width": null
          }
        },
        "c9f50348c6f94090bed18d2ed47fbd8e": {
          "model_module": "@jupyter-widgets/base",
          "model_module_version": "1.2.0",
          "model_name": "LayoutModel",
          "state": {
            "_model_module": "@jupyter-widgets/base",
            "_model_module_version": "1.2.0",
            "_model_name": "LayoutModel",
            "_view_count": null,
            "_view_module": "@jupyter-widgets/base",
            "_view_module_version": "1.2.0",
            "_view_name": "LayoutView",
            "align_content": null,
            "align_items": null,
            "align_self": null,
            "border": null,
            "bottom": null,
            "display": null,
            "flex": null,
            "flex_flow": null,
            "grid_area": null,
            "grid_auto_columns": null,
            "grid_auto_flow": null,
            "grid_auto_rows": null,
            "grid_column": null,
            "grid_gap": null,
            "grid_row": null,
            "grid_template_areas": null,
            "grid_template_columns": null,
            "grid_template_rows": null,
            "height": null,
            "justify_content": null,
            "justify_items": null,
            "left": null,
            "margin": null,
            "max_height": null,
            "max_width": null,
            "min_height": null,
            "min_width": null,
            "object_fit": null,
            "object_position": null,
            "order": null,
            "overflow": null,
            "overflow_x": null,
            "overflow_y": null,
            "padding": null,
            "right": null,
            "top": null,
            "visibility": null,
            "width": null
          }
        },
        "de13cd11430b488bbd1507957d87a0b0": {
          "model_module": "@jupyter-widgets/controls",
          "model_module_version": "1.5.0",
          "model_name": "ProgressStyleModel",
          "state": {
            "_model_module": "@jupyter-widgets/controls",
            "_model_module_version": "1.5.0",
            "_model_name": "ProgressStyleModel",
            "_view_count": null,
            "_view_module": "@jupyter-widgets/base",
            "_view_module_version": "1.2.0",
            "_view_name": "StyleView",
            "bar_color": null,
            "description_width": ""
          }
        },
        "f65593664a2045368b4222a9c7a6179c": {
          "model_module": "@jupyter-widgets/controls",
          "model_module_version": "1.5.0",
          "model_name": "FloatProgressModel",
          "state": {
            "_dom_classes": [],
            "_model_module": "@jupyter-widgets/controls",
            "_model_module_version": "1.5.0",
            "_model_name": "FloatProgressModel",
            "_view_count": null,
            "_view_module": "@jupyter-widgets/controls",
            "_view_module_version": "1.5.0",
            "_view_name": "ProgressView",
            "bar_style": "success",
            "description": "",
            "description_tooltip": null,
            "layout": "IPY_MODEL_bc3395916738413b85bb8b2c33f848a2",
            "max": 4,
            "min": 0,
            "orientation": "horizontal",
            "style": "IPY_MODEL_de13cd11430b488bbd1507957d87a0b0",
            "value": 4
          }
        }
      }
    }
  },
  "nbformat": 4,
  "nbformat_minor": 0
}
